{
 "cells": [
  {
   "cell_type": "code",
   "execution_count": 12,
   "metadata": {},
   "outputs": [
    {
     "data": {
      "text/plain": [
       "False"
      ]
     },
     "execution_count": 12,
     "metadata": {},
     "output_type": "execute_result"
    }
   ],
   "source": [
    "from config import DATA\n",
    "\n",
    "import sys\n",
    "import time\n",
    "import pickle\n",
    "import warnings\n",
    "import numpy as np\n",
    "\n",
    "import matplotlib.pyplot as plt\n",
    "import seaborn as sns\n",
    "\n",
    "import torch\n",
    "from torch import nn, optim\n",
    "from torch.utils.data import DataLoader\n",
    "\n",
    "from pgm.data import SequenceStructureData\n",
    "from pgm.layers import GaussianLayer, OneHotLayer\n",
    "from pgm.edge import Edge\n",
    "from pgm.model import MRF\n",
    "\n",
    "from structure.model import ConvNet\n",
    "\n",
    "from meg.loss import PatternMatchingLoss\n",
    "from meg.meg import MaximumEntropyGenerator\n",
    "from meg.model import Energy, Entropy, Generator\n",
    "\n",
    "ROOT = \"/home/malbranke/\"\n",
    "sys.path.append(f\"{ROOT}\")\n",
    "\n",
    "device = torch.device('cpu')\n",
    "warnings.filterwarnings(\"ignore\")\n",
    "torch.cuda.is_available()"
   ]
  },
  {
   "cell_type": "code",
   "execution_count": 2,
   "metadata": {},
   "outputs": [],
   "source": [
    "AMINO_ACIDS = 'ACDEFGHIKLMNPQRSTVWY'\n",
    "DATASET = \"PF00397\"\n",
    "q = 21"
   ]
  },
  {
   "cell_type": "markdown",
   "metadata": {},
   "source": [
    "## Data"
   ]
  },
  {
   "cell_type": "code",
   "execution_count": 3,
   "metadata": {},
   "outputs": [],
   "source": [
    "train_dataset = SequenceStructureData(f\"{DATA}/{DATASET}\", dataset=\"train\")\n",
    "train_loader = DataLoader(train_dataset, batch_size = 100, \n",
    "                          shuffle = True, drop_last = True)\n",
    "\n",
    "val_dataset = SequenceStructureData(f\"{DATA}/{DATASET}\", dataset=\"val\")\n",
    "val_loader = DataLoader(val_dataset, batch_size = 100, drop_last = True)\n",
    "\n",
    "N, qv = train_dataset.raw_sequences.shape[1], train_dataset.raw_sequences.shape[2]\n",
    "qs = train_dataset.ss_sequences.shape[2]\n",
    "Nt, qt = train_dataset.ss_transitions.shape[1], train_dataset.ss_transitions.shape[2]"
   ]
  },
  {
   "cell_type": "code",
   "execution_count": 4,
   "metadata": {},
   "outputs": [],
   "source": [
    "pots = np.zeros((train_dataset.raw_sequences.shape[1], train_dataset.raw_sequences.shape[2]))\n",
    "for w, v in zip(train_dataset.weights,train_dataset.raw_sequences):\n",
    "    pots += w*v\n",
    "pots /= np.sum(train_dataset.weights)\n",
    "pots = pots.T\n",
    "pots = torch.FloatTensor((pots.T-np.mean(pots, 1)).T).view(-1).to(device)"
   ]
  },
  {
   "cell_type": "code",
   "execution_count": 5,
   "metadata": {},
   "outputs": [],
   "source": [
    "HMM = torch.load(f\"{DATA}/{DATASET}/hmm.pt\")"
   ]
  },
  {
   "cell_type": "code",
   "execution_count": 6,
   "metadata": {
    "scrolled": true
   },
   "outputs": [
    {
     "data": {
      "text/plain": [
       "ConvNet(\n",
       "  (conv1): ResBlock(\n",
       "    (conv_1): ConvBlock(\n",
       "      (conv): Conv1d(40, 100, kernel_size=(11,), stride=(1,), padding=(5,))\n",
       "      (activation): LeakyReLU(negative_slope=0.2)\n",
       "      (normalization): BatchNorm1d(100, eps=1e-05, momentum=0.1, affine=True, track_running_stats=True)\n",
       "    )\n",
       "    (conv2): ConvBlock(\n",
       "      (conv): Conv1d(40, 100, kernel_size=(1,), stride=(1,))\n",
       "      (normalization): BatchNorm1d(100, eps=1e-05, momentum=0.1, affine=True, track_running_stats=True)\n",
       "    )\n",
       "  )\n",
       "  (conv2): ResBlock(\n",
       "    (conv_1): ConvBlock(\n",
       "      (conv): Conv1d(100, 100, kernel_size=(11,), stride=(1,), padding=(5,))\n",
       "      (activation): LeakyReLU(negative_slope=0.2)\n",
       "      (normalization): BatchNorm1d(100, eps=1e-05, momentum=0.1, affine=True, track_running_stats=True)\n",
       "    )\n",
       "    (conv2): ConvBlock(\n",
       "      (conv): Conv1d(100, 100, kernel_size=(1,), stride=(1,))\n",
       "      (normalization): BatchNorm1d(100, eps=1e-05, momentum=0.1, affine=True, track_running_stats=True)\n",
       "    )\n",
       "  )\n",
       "  (conv3): ResBlock(\n",
       "    (conv_1): ConvBlock(\n",
       "      (conv): Conv1d(200, 100, kernel_size=(11,), stride=(1,), padding=(5,))\n",
       "      (activation): LeakyReLU(negative_slope=0.2)\n",
       "      (normalization): BatchNorm1d(100, eps=1e-05, momentum=0.1, affine=True, track_running_stats=True)\n",
       "    )\n",
       "    (conv2): ConvBlock(\n",
       "      (conv): Conv1d(200, 100, kernel_size=(1,), stride=(1,))\n",
       "      (normalization): BatchNorm1d(100, eps=1e-05, momentum=0.1, affine=True, track_running_stats=True)\n",
       "    )\n",
       "  )\n",
       "  (conv4): ResBlock(\n",
       "    (conv_1): ConvBlock(\n",
       "      (conv): Conv1d(300, 200, kernel_size=(11,), stride=(1,), padding=(5,))\n",
       "      (activation): LeakyReLU(negative_slope=0.2)\n",
       "      (normalization): BatchNorm1d(200, eps=1e-05, momentum=0.1, affine=True, track_running_stats=True)\n",
       "    )\n",
       "    (conv2): ConvBlock(\n",
       "      (conv): Conv1d(300, 200, kernel_size=(1,), stride=(1,))\n",
       "      (normalization): BatchNorm1d(200, eps=1e-05, momentum=0.1, affine=True, track_running_stats=True)\n",
       "    )\n",
       "  )\n",
       "  (conv_other): ConvBlock(\n",
       "    (conv): Conv1d(200, 9, kernel_size=(1,), stride=(1,))\n",
       "  )\n",
       "  (conv_ss8): ConvBlock(\n",
       "    (conv): Conv1d(200, 8, kernel_size=(1,), stride=(1,))\n",
       "  )\n",
       "  (conv_ss3): ConvBlock(\n",
       "    (conv): Conv1d(200, 3, kernel_size=(1,), stride=(1,))\n",
       "  )\n",
       ")"
      ]
     },
     "execution_count": 6,
     "metadata": {},
     "output_type": "execute_result"
    }
   ],
   "source": [
    "qx, qs = 40, 3\n",
    "model_ss3 = ConvNet(qx, qs)\n",
    "model_ss3 = model_ss3.to(device)\n",
    "model_ss3.load_state_dict(torch.load(f\"{DATA}/secondary_structure/model_40feats.h5\"))\n",
    "model_ss3.eval()"
   ]
  },
  {
   "cell_type": "code",
   "execution_count": 7,
   "metadata": {},
   "outputs": [],
   "source": [
    "n_patterns, c_patterns, _ =  pickle.load(open(f\"{DATA}/{DATASET}/patterns.pkl\",\"rb\"))\n",
    "regexes = []\n",
    "for x in n_patterns:\n",
    "    if len(x):\n",
    "        regexes.append([(i,None,None) for i in x])\n",
    "Q,T,pi = pickle.load(open(f\"{DATA}/secondary_structure/statistics.pkl\", \"rb\"))\n",
    "T = torch.zeros(*T.shape)\n",
    "inf = float(\"Inf\")\n",
    "x, y, z, t = np.where(Q > -inf)\n",
    "Q[x,y,z,t] = 0"
   ]
  },
  {
   "cell_type": "code",
   "execution_count": 8,
   "metadata": {},
   "outputs": [],
   "source": [
    "matcher = PatternMatchingLoss(model_ss3, \n",
    "                              pattern = regexes[0], \n",
    "                              Q = Q, hmm = HMM)"
   ]
  },
  {
   "cell_type": "markdown",
   "metadata": {},
   "source": [
    "## Model"
   ]
  },
  {
   "cell_type": "code",
   "execution_count": 9,
   "metadata": {},
   "outputs": [
    {
     "data": {
      "image/png": "[encoded data removed]",
      "text/plain": [
       "<Figure size 432x288 with 1 Axes>"
      ]
     },
     "metadata": {},
     "output_type": "display_data"
    },
    {
     "data": {
      "text/plain": [
       "12.781778335571289"
      ]
     },
     "execution_count": 9,
     "metadata": {},
     "output_type": "execute_result"
    }
   ],
   "source": [
    "visible_layers = [\"sequence\"]\n",
    "hidden_layers = [\"hidden\"]\n",
    "\n",
    "v = OneHotLayer(pots, N=N, q=qv, name=\"sequence\")\n",
    "h = GaussianLayer(N=200, name=\"hidden\")\n",
    "\n",
    "E = [(v.name, h.name)]\n",
    "\n",
    "ebm = MRF(layers={v.name: v,\n",
    "                    h.name: h},\n",
    "            edges=E).to(device)\n",
    "\n",
    "for visible in visible_layers:\n",
    "    edge = ebm.get_edge(visible, \"hidden\")\n",
    "    edge.gauge = edge.gauge.to(device)\n",
    "    \n",
    "ebm.load(f\"{DATA}/{DATASET}/weights/seq-reg-200_1290.h5\")\n",
    "ebm.ais()"
   ]
  },
  {
   "cell_type": "code",
   "execution_count": 10,
   "metadata": {},
   "outputs": [],
   "source": [
    "import torch\n",
    "from torch import nn, optim\n",
    "from torch.nn import functional as F\n",
    "\n",
    "from structure.model import leaky_relu, ConvBlock\n",
    "\n",
    "class Entropy(nn.Module):\n",
    "    def __init__(self, q, N, h):\n",
    "        super(Entropy, self).__init__()\n",
    "        self.q, self.N = q, N\n",
    "        self.bilinear = nn.Bilinear(q*N, h, 1)\n",
    "\n",
    "\n",
    "    def forward(self, x, h):\n",
    "        return self.bilinear(x,h)\n",
    "\n",
    "class Generator(nn.Module):\n",
    "    def __init__(self, q, N, z_dim):\n",
    "        super(Generator, self).__init__()\n",
    "        self.q, self.N = q, N\n",
    "        self.z_dim = z_dim\n",
    "        self.linear = nn.Linear(z_dim, q*16*4)\n",
    "        self.conv1 = ConvBlock(nn.ConvTranspose1d, leaky_relu, nn.BatchNorm1d,\n",
    "                               4*q, 2*q, kernel_size = 11, stride = 2, padding = 5, output_padding = 1)\n",
    "        self.conv2 = ConvBlock(nn.ConvTranspose1d, leaky_relu, nn.BatchNorm1d,\n",
    "                               2*q, q, kernel_size = 11, stride = 2, padding = 3, output_padding = 1)\n",
    "        \n",
    "    def forward(self, h):\n",
    "        h = self.linear(h).view(-1, 4*self.q, 16)\n",
    "        h = self.conv1(h)\n",
    "        h = self.conv2(h)\n",
    "        return F.softmax(h, 1).view(-1, self.q * self.N)\n",
    "    \n",
    "class Energy(nn.Module):\n",
    "    def __init__(self, ebm, q, N, matcher = None):\n",
    "        super(Energy, self).__init__()\n",
    "        self.ebm = ebm\n",
    "        self.q, self.N = q, N\n",
    "        self.matcher = matcher\n",
    "        self.use_ssqa = False\n",
    "        \n",
    "    def forward(self, x):\n",
    "        d =  {\"sequence\":x}\n",
    "        seq = -(self.ebm.integrate_likelihood(d, \"hidden\")/self.N - self.ebm.Z) \n",
    "        if self.matcher and self.use_ssqa:\n",
    "            struct = -self.matcher(x)\n",
    "        else:\n",
    "            struct = torch.tensor(0.)\n",
    "        return seq + 10 * struct, seq.mean(), struct.mean()"
   ]
  },
  {
   "cell_type": "code",
   "execution_count": 13,
   "metadata": {},
   "outputs": [],
   "source": [
    "class Energy(nn.Module):\n",
    "    def __init__(self, ebm, q, N, matcher = None):\n",
    "        super(Energy, self).__init__()\n",
    "        self.ebm = ebm\n",
    "        self.q, self.N = q, N\n",
    "        self.matcher = matcher\n",
    "        self.use_ssqa = False\n",
    "        \n",
    "    def forward(self, x):\n",
    "        d =  {\"sequence\":x}\n",
    "        seq = -(self.ebm.integrate_likelihood(d, \"hidden\")/self.N - self.ebm.Z) \n",
    "        if self.matcher and self.use_ssqa:\n",
    "            struct = -self.matcher(x)\n",
    "        else:\n",
    "            struct = torch.tensor(0.)\n",
    "        return seq + 10 * struct, seq.mean(), struct.mean()"
   ]
  },
  {
   "cell_type": "code",
   "execution_count": 14,
   "metadata": {},
   "outputs": [],
   "source": [
    "name = \"meg_ssqa_Dense\"\n",
    "G = Generator(q, N, 200)\n",
    "H = Entropy(q, N, 200)\n",
    "E = Energy(ebm, q, N, matcher)\n",
    "meg = MaximumEntropyGenerator(E, G, H, f\"{DATA}/{DATASET}/meg/logs/{name}\")\n",
    "#meg.load(f\"{DATA}/{DATASET}/meg/weights.h5\")"
   ]
  },
  {
   "cell_type": "code",
   "execution_count": 15,
   "metadata": {},
   "outputs": [],
   "source": [
    "E.use_ssqa = True"
   ]
  },
  {
   "cell_type": "code",
   "execution_count": null,
   "metadata": {},
   "outputs": [
    {
     "name": "stdout",
     "output_type": "stream",
     "text": [
      "It 267719 || D = 4.623 || E_seq = 1.775 || E_ssqa = 0.285 || I(JSD) = 0.591\r"
     ]
    }
   ],
   "source": [
    "for _ in range(0, 1000000):\n",
    "    logs = meg.train_generator(batch_size = 16)\n",
    "    print(f\"It {logs[-1]} || D = {logs[0]:.3f} || E_seq = {logs[2]:.3f} || E_ssqa = {logs[3]:.3f} || I(JSD) = {logs[1]:.3f}\", end=\"\\r\")"
   ]
  },
  {
   "cell_type": "code",
   "execution_count": 18,
   "metadata": {},
   "outputs": [
    {
     "data": {
      "text/plain": [
       "[]"
      ]
     },
     "execution_count": 18,
     "metadata": {},
     "output_type": "execute_result"
    }
   ],
   "source": [
    "meg.g_hist"
   ]
  },
  {
   "cell_type": "code",
   "execution_count": 18,
   "metadata": {},
   "outputs": [
    {
     "data": {
      "image/png": "[encoded data removed]",
      "text/plain": [
       "<Figure size 432x288 with 1 Axes>"
      ]
     },
     "metadata": {
      "needs_background": "light"
     },
     "output_type": "display_data"
    }
   ],
   "source": [
    "g_costs = torch.tensor(g_costs)\n",
    "plt.plot([g_costs[i:i+100,2].mean() for i in range(len(g_costs)-100)]) \n",
    "plt.show()"
   ]
  },
  {
   "cell_type": "code",
   "execution_count": 27,
   "metadata": {},
   "outputs": [],
   "source": [
    "E.use_ssqa = True\n",
    "#E.matcher = matcher\n",
    "meg.save(f\"{DATA}/{DATASET}/meg/weights.h5\")"
   ]
  },
  {
   "cell_type": "code",
   "execution_count": 28,
   "metadata": {},
   "outputs": [],
   "source": [
    "x = meg.generate(2000).detach().view(2000, q, -1)"
   ]
  },
  {
   "cell_type": "code",
   "execution_count": 29,
   "metadata": {},
   "outputs": [],
   "source": [
    "hard_x = torch.zeros(*x.size())\n",
    "for i,x_ in enumerate(x):\n",
    "    hard_x[i, x_.argmax(0), torch.arange(x.size(-1))] = 1"
   ]
  },
  {
   "cell_type": "code",
   "execution_count": 31,
   "metadata": {},
   "outputs": [],
   "source": [
    "torch.save(hard_x, f\"{DATA}/{DATASET}/gen_data/meg_with_matching_better.pt\")"
   ]
  },
  {
   "cell_type": "code",
   "execution_count": 33,
   "metadata": {},
   "outputs": [
    {
     "data": {
      "image/png": "[encoded data removed]",
      "text/plain": [
       "<Figure size 432x288 with 1 Axes>"
      ]
     },
     "metadata": {
      "needs_background": "light"
     },
     "output_type": "display_data"
    }
   ],
   "source": [
    "plt.hist(-matcher(hard_x).detach(), bins = 100)\n",
    "plt.show()"
   ]
  },
  {
   "cell_type": "code",
   "execution_count": 34,
   "metadata": {},
   "outputs": [
    {
     "data": {
      "text/plain": [
       "<matplotlib.axes._subplots.AxesSubplot at 0x7f7c08d60b50>"
      ]
     },
     "execution_count": 34,
     "metadata": {},
     "output_type": "execute_result"
    },
    {
     "data": {
      "image/png": "[encoded data removed]",
      "text/plain": [
       "<Figure size 432x288 with 2 Axes>"
      ]
     },
     "metadata": {
      "needs_background": "light"
     },
     "output_type": "display_data"
    }
   ],
   "source": [
    "import seaborn as sns\n",
    "sns.heatmap(hard_x.mean(0).T)"
   ]
  }
 ],
 "metadata": {
  "kernelspec": {
   "display_name": "Python 3",
   "language": "python",
   "name": "python3"
  },
  "language_info": {
   "codemirror_mode": {
    "name": "ipython",
    "version": 3
   },
   "file_extension": ".py",
   "mimetype": "text/x-python",
   "name": "python",
   "nbconvert_exporter": "python",
   "pygments_lexer": "ipython3",
   "version": "3.7.6"
  }
 },
 "nbformat": 4,
 "nbformat_minor": 4
}
