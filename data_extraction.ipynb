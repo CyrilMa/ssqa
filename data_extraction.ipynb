{
 "cells": [
  {
   "cell_type": "code",
   "execution_count": 21,
   "metadata": {
    "ExecuteTime": {
     "end_time": "2020-02-27T13:51:50.714825Z",
     "start_time": "2020-02-27T13:51:49.859930Z"
    }
   },
   "outputs": [],
   "source": [
    "import numpy as np\n",
    "import pandas as pd\n",
    "import random\n",
    "import pickle\n",
    "from tqdm.notebook import tqdm\n",
    "\n",
    "import netsurfp2 as nsp2\n",
    "\n",
    "from structure.utils import AA, to_onehot"
   ]
  },
  {
   "cell_type": "code",
   "execution_count": 22,
   "metadata": {},
   "outputs": [],
   "source": [
    "AMINO_ACIDS = AA = 'ACDEFGHIKLMNPQRSTVWY'\n",
    "AA_INDEX = {k:i for i,k in enumerate(AA)}"
   ]
  },
  {
   "cell_type": "code",
   "execution_count": 24,
   "metadata": {
    "ExecuteTime": {
     "end_time": "2020-02-27T13:51:50.728591Z",
     "start_time": "2020-02-27T13:51:50.726717Z"
    }
   },
   "outputs": [],
   "source": [
    "DATASET = \"PF00296\"\n",
    "DATA = \"/home/cyril/Documents/These/data\""
   ]
  },
  {
   "cell_type": "markdown",
   "metadata": {},
   "source": [
    "## PFAM sequence extraction"
   ]
  },
  {
   "cell_type": "code",
   "execution_count": 25,
   "metadata": {
    "ExecuteTime": {
     "end_time": "2020-02-27T13:15:54.833083Z",
     "start_time": "2020-02-27T13:15:53.181922Z"
    }
   },
   "outputs": [],
   "source": [
    "from structure.data_extraction import from_fasta_to_df, from_df_to_fasta"
   ]
  },
  {
   "cell_type": "code",
   "execution_count": 29,
   "metadata": {
    "ExecuteTime": {
     "end_time": "2020-02-26T16:09:33.142114Z",
     "start_time": "2020-02-26T16:09:32.519417Z"
    }
   },
   "outputs": [],
   "source": [
    "filename = 'val.fasta'\n",
    "proteins_df = from_fasta_to_df(f\"{DATA}/{DATASET}/{filename}\")\n",
    "proteins_df = proteins_df.drop_duplicates(subset = [\"seq\"])\n",
    "proteins_df.seq = proteins_df.aligned_seq.apply(lambda s : \"\".join([c for c in s if c in AA]))\n",
    "proteins_df[\"length\"] = proteins_df.seq.apply(lambda seq : len(seq))\n",
    "# from_df_to_fasta(proteins_df, f\"{DATA}/{DATASET}\")"
   ]
  },
  {
   "cell_type": "code",
   "execution_count": 19,
   "metadata": {
    "scrolled": true
   },
   "outputs": [
    {
     "data": {
      "text/plain": [
       "E9PLS8_HUMAN/58-87           LPGEWKPCQDITGDIYYFNFANGQSMWDHP\n",
       "A0A183TN47_SCHSO/124-154    LAFPWIELKSSKTGQFYYFNRNSNVSTYTLP\n",
       "A0A061IVY0_TRYRA/71-100      LPEHWKACRSEKGELYYFNFKTGESNWDHP\n",
       "PR40A_ARATH/187-215           ASDWQEHTSADGRKYYYNKRTKQSNWEKP\n",
       "A0A087VL44_BALRE/190-219     LPKNWEMAYTDTGMIYFIDHNTKTTTWLDP\n",
       "                                         ...               \n",
       "E2RA27_CANLF/24-53           LPPGWEIKIDPQTGWPFFVDHNSRTTTWND\n",
       "H0VJT2_CAVPO/8-37            LPESWEEARDFDGKVYYIDHTNRTTSWIDP\n",
       "A0A1S3WD67_ERIEU/164-191       NVWVEGLSEDGHTYYYNTETGESRWEKP\n",
       "A0A0D0CA27_9AGAR/599-628     LPASWEHCTTPLSRTYYINFNTKTTTWNRP\n",
       "A0A067PJI1_9HOMO/384-413     LPAGWEMRLTSTGKIYFVDHNTRTTTFDDP\n",
       "Name: seq, Length: 9904, dtype: object"
      ]
     },
     "execution_count": 19,
     "metadata": {},
     "output_type": "execute_result"
    }
   ],
   "source": [
    "proteins_df.seq"
   ]
  },
  {
   "cell_type": "code",
   "execution_count": 30,
   "metadata": {},
   "outputs": [],
   "source": [
    "pickle.dump(np.array([[AA_INDEX.get(x,20) for x in seq] for seq in list(proteins_df.aligned_seq)]), open(f\"{DATA}/{DATASET}/val.pkl\", \"wb\"))\n",
    "# pickle.dump([np.array([AA_INDEX[x] for x in seq]) for seq in list(proteins_df.seq)], open(f\"{DATA}/{DATASET}/raw.pkl\", \"wb\"))"
   ]
  },
  {
   "cell_type": "code",
   "execution_count": 41,
   "metadata": {},
   "outputs": [],
   "source": [
    "pickle.dump(list(proteins_df.index), open(f\"{DATA}/{DATASET}/keys.pkl\", \"wb\"))"
   ]
  },
  {
   "cell_type": "markdown",
   "metadata": {},
   "source": [
    "## Build HMM profile"
   ]
  },
  {
   "cell_type": "code",
   "execution_count": 9,
   "metadata": {
    "ExecuteTime": {
     "end_time": "2020-02-27T13:51:56.657350Z",
     "start_time": "2020-02-27T13:51:53.922541Z"
    }
   },
   "outputs": [],
   "source": [
    "from structure.data_extraction import process_msa"
   ]
  },
  {
   "cell_type": "code",
   "execution_count": 7,
   "metadata": {
    "ExecuteTime": {
     "end_time": "2020-02-25T14:17:28.531419Z",
     "start_time": "2020-02-25T14:17:28.096977Z"
    }
   },
   "outputs": [
    {
     "name": "stdout",
     "output_type": "stream",
     "text": [
      "- 16:50:34.460 INFO: /home/cyril/Documents/These/data/PF00397/aligned.fasta is in A2M, A3M or FASTA format\r\n",
      "\r\n",
      "- 16:50:34.487 INFO: NOTE: Use the '-add_cons' option to calculate a consensus sequence as first sequence of the alignment with hhconsensus or hhmake.\r\n",
      "\r\n"
     ]
    }
   ],
   "source": [
    "!hhmake -i \"{DATA}/{DATASET}/aligned.fasta\" -M 100"
   ]
  },
  {
   "cell_type": "code",
   "execution_count": 11,
   "metadata": {
    "ExecuteTime": {
     "end_time": "2020-02-27T13:52:06.931606Z",
     "start_time": "2020-02-27T13:52:06.907500Z"
    }
   },
   "outputs": [],
   "source": [
    "with open(f\"{DATA}/{DATASET}/aligned.fasta\") as f:\n",
    "    protlist = nsp2.parse_fasta(f)\n",
    "new_protlist = dict()\n",
    "for k,v in protlist.items():\n",
    "    if k.split(\"_\")[1] == \"P42212\":\n",
    "        new_protlist[k]= v\n",
    "protlist = new_protlist\n",
    "uni_idx = [x.split(\"_\")[1] for x in protlist.keys()]"
   ]
  },
  {
   "cell_type": "code",
   "execution_count": 12,
   "metadata": {
    "ExecuteTime": {
     "end_time": "2020-02-27T13:26:02.101191Z",
     "start_time": "2020-02-27T13:26:02.050572Z"
    }
   },
   "outputs": [
    {
     "data": {
      "application/vnd.jupyter.widget-view+json": {
       "model_id": "8394c128f7ac4d28b0d4e4bc6c3722a4",
       "version_major": 2,
       "version_minor": 0
      },
      "text/plain": [
       "A Jupyter Widget"
      ]
     },
     "metadata": {},
     "output_type": "display_data"
    },
    {
     "name": "stdout",
     "output_type": "stream",
     "text": [
      "\n"
     ]
    }
   ],
   "source": [
    "hhm_name = f\"{DATA}/{DATASET}/aligned.hhm\"\n",
    "dataset = dict()\n",
    "# protlist = {k:v for k,v in random.sample(protlist.items(), 2000)}\n",
    "for k,(_,v) in tqdm(protlist.items()):\n",
    "    prof = process_msa(v, hhm_name)[\"profile\"]\n",
    "    idx = np.where(prof[:,:20].sum(1))\n",
    "    dataset[k] = prof[idx]"
   ]
  },
  {
   "cell_type": "code",
   "execution_count": 35,
   "metadata": {},
   "outputs": [],
   "source": [
    "pickle.dump(dataset, open(f\"{DATA}/{DATASET}/hmm.pkl\", \"wb\"))"
   ]
  },
  {
   "cell_type": "code",
   "execution_count": 14,
   "metadata": {
    "ExecuteTime": {
     "end_time": "2020-02-27T13:26:06.787972Z",
     "start_time": "2020-02-27T13:26:06.779944Z"
    }
   },
   "outputs": [],
   "source": [
    "AMINO_ACIDS = AA = 'ACDEFGHIKLMNPQRSTVWY*'\n",
    "AA_INDEX = {k:i for i,k in enumerate(AA)}"
   ]
  },
  {
   "cell_type": "markdown",
   "metadata": {},
   "source": [
    "### GFP"
   ]
  },
  {
   "cell_type": "code",
   "execution_count": 4,
   "metadata": {
    "ExecuteTime": {
     "end_time": "2020-02-27T13:26:04.475489Z",
     "start_time": "2020-02-27T13:26:04.065758Z"
    }
   },
   "outputs": [],
   "source": [
    "S = \"MSKGEELFTGVVPILVELDGDVNGHKFSVSGEGEGDATYGKLTLKFICTTGKLPVPWPTLVTTFSYGVQCFSRYPDHMKQHDFFKSAMPEGYVQERTIFFKDDGNYKTRAEVKFEGDTLVNRIELKGIDFKEDGNILGHKLEYNYNSHNVYIMADKQKNGIKVNFKIRHNIEDGSVQLADHYQQNTPIGDGPVLLPDNHYLSTQSALSKDPNEKRDHMVLLEFVTAAGITHGMDELYK\"\n",
    "S = [c for c in S]\n",
    "\n",
    "df = pd.read_csv(f\"{DATA}/{DATASET}/amino_acid_genotypes_to_brightness.tsv\", sep = \"\\t\")\n",
    "nodes = [\"\".join(S)]\n",
    "for x in df.aaMutations.values:\n",
    "    seq = S.copy()\n",
    "    if type(x) is not str:\n",
    "        continue\n",
    "    for mut in x.split(\":\"):\n",
    "        aa, pos = mut[-1], int(mut[2:-1])+1\n",
    "        seq[pos] = aa\n",
    "    nodes.append(\"\".join(seq))\n",
    "df[\"seq\"] = nodes\n",
    "df.seq = df.seq.apply(lambda s : s[5:-11])"
   ]
  },
  {
   "cell_type": "code",
   "execution_count": 33,
   "metadata": {},
   "outputs": [
    {
     "data": {
      "text/html": [
       "<div>\n",
       "<style scoped>\n",
       "    .dataframe tbody tr th:only-of-type {\n",
       "        vertical-align: middle;\n",
       "    }\n",
       "\n",
       "    .dataframe tbody tr th {\n",
       "        vertical-align: top;\n",
       "    }\n",
       "\n",
       "    .dataframe thead th {\n",
       "        text-align: right;\n",
       "    }\n",
       "</style>\n",
       "<table border=\"1\" class=\"dataframe\">\n",
       "  <thead>\n",
       "    <tr style=\"text-align: right;\">\n",
       "      <th></th>\n",
       "      <th>aaMutations</th>\n",
       "      <th>uniqueBarcodes</th>\n",
       "      <th>medianBrightness</th>\n",
       "      <th>std</th>\n",
       "      <th>seq</th>\n",
       "    </tr>\n",
       "  </thead>\n",
       "  <tbody>\n",
       "    <tr>\n",
       "      <th>0</th>\n",
       "      <td>NaN</td>\n",
       "      <td>3645</td>\n",
       "      <td>3.719212</td>\n",
       "      <td>0.106992</td>\n",
       "      <td>ELFTGVVPILVELDGDVNGHKFSVSGEGEGDATYGKLTLKFICTTG...</td>\n",
       "    </tr>\n",
       "    <tr>\n",
       "      <th>1</th>\n",
       "      <td>SA108D</td>\n",
       "      <td>1</td>\n",
       "      <td>1.301030</td>\n",
       "      <td>NaN</td>\n",
       "      <td>ELFTGVVPILVELDGDVNGHKFSVSGEGEGDATYGKLTLKFICTTG...</td>\n",
       "    </tr>\n",
       "    <tr>\n",
       "      <th>2</th>\n",
       "      <td>SA108D:SN144D:SI186V:SM231T:SL234P</td>\n",
       "      <td>1</td>\n",
       "      <td>1.301031</td>\n",
       "      <td>NaN</td>\n",
       "      <td>ELFTGVVPILVELDGDVNGHKFSVSGEGEGDATYGKLTLKFICTTG...</td>\n",
       "    </tr>\n",
       "    <tr>\n",
       "      <th>3</th>\n",
       "      <td>SA108D:SY141N:SH146L:SE220G</td>\n",
       "      <td>1</td>\n",
       "      <td>1.301189</td>\n",
       "      <td>NaN</td>\n",
       "      <td>ELFTGVVPILVELDGDVNGHKFSVSGEGEGDATYGKLTLKFICTTG...</td>\n",
       "    </tr>\n",
       "    <tr>\n",
       "      <th>4</th>\n",
       "      <td>SA108G</td>\n",
       "      <td>2</td>\n",
       "      <td>3.708478</td>\n",
       "      <td>0.020613</td>\n",
       "      <td>ELFTGVVPILVELDGDVNGHKFSVSGEGEGDATYGKLTLKFICTTG...</td>\n",
       "    </tr>\n",
       "    <tr>\n",
       "      <th>...</th>\n",
       "      <td>...</td>\n",
       "      <td>...</td>\n",
       "      <td>...</td>\n",
       "      <td>...</td>\n",
       "      <td>...</td>\n",
       "    </tr>\n",
       "    <tr>\n",
       "      <th>54020</th>\n",
       "      <td>SY90N:SN103S:SI169F</td>\n",
       "      <td>1</td>\n",
       "      <td>1.552090</td>\n",
       "      <td>NaN</td>\n",
       "      <td>ELFTGVVPILVELDGDVNGHKFSVSGEGEGDATYGKLTLKFICTTG...</td>\n",
       "    </tr>\n",
       "    <tr>\n",
       "      <th>54021</th>\n",
       "      <td>SY90N:SQ175L:SL205Q:ST228A:SM231V</td>\n",
       "      <td>1</td>\n",
       "      <td>1.301030</td>\n",
       "      <td>NaN</td>\n",
       "      <td>ELFTGVVPILVELDGDVNGHKFSVSGEGEGDATYGKLTLKFICTTG...</td>\n",
       "    </tr>\n",
       "    <tr>\n",
       "      <th>54022</th>\n",
       "      <td>SY90R:SI150N:SN196S</td>\n",
       "      <td>1</td>\n",
       "      <td>1.301030</td>\n",
       "      <td>NaN</td>\n",
       "      <td>ELFTGVVPILVELDGDVNGHKFSVSGEGEGDATYGKLTLKFICTTG...</td>\n",
       "    </tr>\n",
       "    <tr>\n",
       "      <th>54023</th>\n",
       "      <td>SY90R:SI165T:SL234P</td>\n",
       "      <td>1</td>\n",
       "      <td>1.301517</td>\n",
       "      <td>NaN</td>\n",
       "      <td>ELFTGVVPILVELDGDVNGHKFSVSGEGEGDATYGKLTLKFICTTG...</td>\n",
       "    </tr>\n",
       "    <tr>\n",
       "      <th>54024</th>\n",
       "      <td>SY90S:SN103D:SK105E:SF128L:SI150V</td>\n",
       "      <td>1</td>\n",
       "      <td>1.302130</td>\n",
       "      <td>NaN</td>\n",
       "      <td>ELFTGVVPILVELDGDVNGHKFSVSGEGEGDATYGKLTLKFICTTG...</td>\n",
       "    </tr>\n",
       "  </tbody>\n",
       "</table>\n",
       "<p>54025 rows × 5 columns</p>\n",
       "</div>"
      ],
      "text/plain": [
       "                              aaMutations  uniqueBarcodes  medianBrightness  \\\n",
       "0                                     NaN            3645          3.719212   \n",
       "1                                  SA108D               1          1.301030   \n",
       "2      SA108D:SN144D:SI186V:SM231T:SL234P               1          1.301031   \n",
       "3             SA108D:SY141N:SH146L:SE220G               1          1.301189   \n",
       "4                                  SA108G               2          3.708478   \n",
       "...                                   ...             ...               ...   \n",
       "54020                 SY90N:SN103S:SI169F               1          1.552090   \n",
       "54021   SY90N:SQ175L:SL205Q:ST228A:SM231V               1          1.301030   \n",
       "54022                 SY90R:SI150N:SN196S               1          1.301030   \n",
       "54023                 SY90R:SI165T:SL234P               1          1.301517   \n",
       "54024   SY90S:SN103D:SK105E:SF128L:SI150V               1          1.302130   \n",
       "\n",
       "            std                                                seq  \n",
       "0      0.106992  ELFTGVVPILVELDGDVNGHKFSVSGEGEGDATYGKLTLKFICTTG...  \n",
       "1           NaN  ELFTGVVPILVELDGDVNGHKFSVSGEGEGDATYGKLTLKFICTTG...  \n",
       "2           NaN  ELFTGVVPILVELDGDVNGHKFSVSGEGEGDATYGKLTLKFICTTG...  \n",
       "3           NaN  ELFTGVVPILVELDGDVNGHKFSVSGEGEGDATYGKLTLKFICTTG...  \n",
       "4      0.020613  ELFTGVVPILVELDGDVNGHKFSVSGEGEGDATYGKLTLKFICTTG...  \n",
       "...         ...                                                ...  \n",
       "54020       NaN  ELFTGVVPILVELDGDVNGHKFSVSGEGEGDATYGKLTLKFICTTG...  \n",
       "54021       NaN  ELFTGVVPILVELDGDVNGHKFSVSGEGEGDATYGKLTLKFICTTG...  \n",
       "54022       NaN  ELFTGVVPILVELDGDVNGHKFSVSGEGEGDATYGKLTLKFICTTG...  \n",
       "54023       NaN  ELFTGVVPILVELDGDVNGHKFSVSGEGEGDATYGKLTLKFICTTG...  \n",
       "54024       NaN  ELFTGVVPILVELDGDVNGHKFSVSGEGEGDATYGKLTLKFICTTG...  \n",
       "\n",
       "[54025 rows x 5 columns]"
      ]
     },
     "execution_count": 33,
     "metadata": {},
     "output_type": "execute_result"
    }
   ],
   "source": [
    "df"
   ]
  },
  {
   "cell_type": "code",
   "execution_count": 15,
   "metadata": {
    "ExecuteTime": {
     "end_time": "2020-02-27T13:26:12.512583Z",
     "start_time": "2020-02-27T13:26:07.497010Z"
    }
   },
   "outputs": [],
   "source": [
    "HMM = dataset['0012_P42212_6-227']\n",
    "hmms = []\n",
    "for i, s in enumerate(df.seq.values):\n",
    "    seq = to_onehot([AA_INDEX[x] for x in s], (None,21))\n",
    "    idx = np.where(np.argmax(seq,1) != 20)[0]\n",
    "    hmm = np.copy(HMM)\n",
    "    hmm[:,:20] = seq[:,:20]\n",
    "    hmm = hmm[idx]\n",
    "    hmms.append(hmm)"
   ]
  },
  {
   "cell_type": "code",
   "execution_count": 16,
   "metadata": {},
   "outputs": [],
   "source": [
    "hmms = np.array([[AA_INDEX[x] for x in s] for s in df.seq.values])"
   ]
  },
  {
   "cell_type": "code",
   "execution_count": 36,
   "metadata": {},
   "outputs": [],
   "source": [
    "from sklearn.neighbors import kneighbors_graph\n",
    "g = kneighbors_graph(hmms, 5, mode = \"distance\", metric = \"hamming\")"
   ]
  },
  {
   "cell_type": "code",
   "execution_count": 37,
   "metadata": {},
   "outputs": [],
   "source": [
    "import networkx as nx\n",
    "G = nx.Graph(g)"
   ]
  },
  {
   "cell_type": "code",
   "execution_count": 11,
   "metadata": {
    "ExecuteTime": {
     "end_time": "2020-02-27T13:28:27.818043Z",
     "start_time": "2020-02-27T13:26:45.870096Z"
    }
   },
   "outputs": [],
   "source": [
    "pickle.dump({f\"{i}_bright_{k}\":v for i,(k,v) in enumerate(zip(df.medianBrightness, hmms))}, \n",
    "            open(f\"{DATA}/{DATASET}/hmm_spec.pkl\", \"wb\"))"
   ]
  },
  {
   "cell_type": "markdown",
   "metadata": {},
   "source": [
    "## Secondary Structure Extraction"
   ]
  },
  {
   "cell_type": "code",
   "execution_count": 10,
   "metadata": {
    "ExecuteTime": {
     "end_time": "2020-02-27T13:52:15.682666Z",
     "start_time": "2020-02-27T13:52:14.108999Z"
    }
   },
   "outputs": [],
   "source": [
    "pdb_to_uniprot = pd.read_csv(f\"{DATA}/cross/uniprot_pdb.csv\", skiprows = 2, names = [\"uni\",\"pdb\"])\n",
    "uni = []\n",
    "pdb = []\n",
    "i = 0\n",
    "for x in pdb_to_uniprot.itertuples():\n",
    "    for pdbid in x.pdb.split(\";\"):\n",
    "        pdb.append(str.upper(pdbid))\n",
    "        uni.append(x.uni)\n",
    "        \n",
    "pdb_uniprot = pd.DataFrame(columns = [\"uni\", \"pdb\"])\n",
    "pdb_uniprot[\"uni\"] = uni\n",
    "pdb_uniprot[\"pdb\"] = pdb\n",
    "pdb_uniprot = pdb_uniprot.drop_duplicates(\"pdb\")\n",
    "pdb_uniprot.index = pdb_uniprot.pdb \n",
    "del pdb_to_uniprot"
   ]
  },
  {
   "cell_type": "code",
   "execution_count": 11,
   "metadata": {
    "ExecuteTime": {
     "end_time": "2020-02-27T13:52:25.117832Z",
     "start_time": "2020-02-27T13:52:23.690123Z"
    }
   },
   "outputs": [
    {
     "name": "stdout",
     "output_type": "stream",
     "text": [
      "Pandas(Index=86021, PDB_ID='2NC6', CHAIN_ID='A', PdbResNumStart='2', PdbResNumEnd='31', PFAM_ACC='PF00397.25', PFAM_Name='WW', PFAM_desc='WW domain', eValue=3.6e-11, PFAM_ID='PF00397')\n",
      "Pandas(Index=90862, PDB_ID='1E0M', CHAIN_ID='A', PdbResNumStart='4', PdbResNumEnd='33', PFAM_ACC='PF00397.25', PFAM_Name='WW', PFAM_desc='WW domain', eValue=8.4e-13, PFAM_ID='PF00397')\n",
      "Pandas(Index=137466, PDB_ID='2NC3', CHAIN_ID='A', PdbResNumStart='2', PdbResNumEnd='31', PFAM_ACC='PF00397.25', PFAM_Name='WW', PFAM_desc='WW domain', eValue=3.6e-11, PFAM_ID='PF00397')\n",
      "Pandas(Index=171206, PDB_ID='2NC5', CHAIN_ID='A', PdbResNumStart='2', PdbResNumEnd='31', PFAM_ACC='PF00397.25', PFAM_Name='WW', PFAM_desc='WW domain', eValue=3.6e-11, PFAM_ID='PF00397')\n",
      "Pandas(Index=186450, PDB_ID='2NC4', CHAIN_ID='A', PdbResNumStart='2', PdbResNumEnd='31', PFAM_ACC='PF00397.25', PFAM_Name='WW', PFAM_desc='WW domain', eValue=3.6e-11, PFAM_ID='PF00397')\n",
      "Pandas(Index=226508, PDB_ID='1YMZ', CHAIN_ID='A', PdbResNumStart='3', PdbResNumEnd='33', PFAM_ACC='PF00397.25', PFAM_Name='WW', PFAM_desc='WW domain', eValue=7.499999999999999e-13, PFAM_ID='PF00397')\n"
     ]
    }
   ],
   "source": [
    "mapping = pd.read_table(f\"{DATA}/cross/pdb_to_pfam.txt\")\n",
    "mapping[\"PFAM_ID\"] = mapping.PFAM_ACC.apply(lambda x : x.split(\".\")[0])\n",
    "fam = mapping[mapping.PFAM_ID == DATASET]\n",
    "structfam = dict()\n",
    "for x in fam.itertuples():\n",
    "    try:\n",
    "        structfam[pdb_uniprot.loc[x.PDB_ID].uni]= (x.PDB_ID, \n",
    "                          pdb_uniprot.loc[x.PDB_ID].uni, \n",
    "                          x.CHAIN_ID, \n",
    "                          int(x.PdbResNumStart), \n",
    "                          int(x.PdbResNumEnd))\n",
    "    except:\n",
    "        print(x)"
   ]
  },
  {
   "cell_type": "code",
   "execution_count": 12,
   "metadata": {},
   "outputs": [
    {
     "data": {
      "text/plain": [
       "{'Q8C863': ('1YIU', 'Q8C863', 'A', 6, 35),\n",
       " 'Q96PU5': ('2MPT', 'Q96PU5', 'A', 479, 508),\n",
       " 'Q13526': ('5VTJ', 'Q13526', 'A', 7, 37),\n",
       " 'O15105': ('2LTV', 'O15105', 'A', 232, 261),\n",
       " 'P08050': ('2N8T', 'P08050', 'A', 6, 35),\n",
       " 'Q96QZ7': ('2YSE', 'Q96QZ7', 'A', 14, 43),\n",
       " 'O00308': ('6RSS', 'O00308', 'A', 75, 104),\n",
       " 'Q96J02': ('5CQ2', 'Q96J02', 'A', 480, 509),\n",
       " 'P46937': ('5YDX', 'P46937', 'A', 16, 45),\n",
       " 'O14776': ('2MWF', 'O14776', 'A', 434, 460),\n",
       " 'P84022': ('2LB2', 'P84022', 'A', 367, 396),\n",
       " 'Q8CFI0': ('1WR7', 'Q8CFI0', 'A', 9, 38),\n",
       " 'O00213': ('2OEI', 'O00213', 'A', 255, 283),\n",
       " 'O75400': ('1YWI', 'O75400', 'A', 17, 42),\n",
       " 'Q15797': ('2LB0', 'Q15797', 'A', 236, 265),\n",
       " 'Q9BYW2': ('2MDI', 'Q9BYW2', 'A', 17, 46),\n",
       " 'P46934': ('4N7F', 'P46934', 'A', 423, 452),\n",
       " 'Q9NZC7': ('1WMV', 'Q9NZC7', 'A', 12, 41),\n",
       " 'O75554': ('2DK1', 'O75554', 'A', 9, 34),\n",
       " 'P11532': ('1EG4', 'P11532', 'A', 59, 86),\n",
       " 'Q9H4Z3': ('2JX8', 'Q9H4Z3', 'A', 7, 36),\n",
       " 'Q05860': ('2RLY', 'Q05860', 'W', 6, 33),\n",
       " 'Q9H0M0': ('6J1X', 'Q9H0M0', 'B', 506, 535),\n",
       " 'P0CG63': ('3OLM', 'P0CG63', 'A', 389, 418),\n",
       " 'Q24139': ('2EZ5', 'Q24139', 'W', 531, 560),\n",
       " 'Q5AZY5': ('2JV4', 'Q5AZY5', 'A', 7, 37),\n",
       " 'E7FH70': ('2L4J', 'E7FH70', 'A', 188, 217),\n",
       " 'Q8VEB2': ('2YSB', 'Q8VEB2', 'A', 12, 41),\n",
       " 'Q62940': ('2N8S', 'Q62940', 'A', 6, 35),\n",
       " 'P30311': ('1I8G', 'P30311', 'B', 2, 32),\n",
       " 'O95704': ('2YSC', 'O95704', 'A', 9, 37),\n",
       " 'P37088': ('2M3O', 'P37088', 'W', 423, 452),\n",
       " 'Q59KZ2': ('1YW5', 'Q59KZ2', 'A', 8, 38),\n",
       " 'P13285': ('2JO9', 'P13285', 'A', 6, 35),\n",
       " 'P0CG48': ('4LCD', 'P0CG48', 'A', 389, 418),\n",
       " 'Q8CGF7': ('1E0L', 'Q8CGF7', 'A', 6, 33),\n",
       " 'P0AEX9': ('5B3Z', 'P0AEX9', 'A', 4, 34),\n",
       " 'Q32UW5': ('2JMF', 'Q32UW5', 'A', 523, 552),\n",
       " 'Q76N89': ('3L4H', 'Q76N89', 'A', 1020, 1049),\n",
       " 'P37090': ('1I5H', 'P37090', 'W', 461, 490),\n",
       " 'P10636': ('1I8H', 'P10636', 'B', 2, 32),\n",
       " 'Q6ZWJ1': ('2YSG', 'Q6ZWJ1', 'A', 8, 37),\n",
       " 'P0C210': ('2KPZ', 'P0C210', 'A', 13, 42),\n",
       " 'P33203': ('1O6W', 'P33203', 'A', 43, 70),\n",
       " 'O60861': ('2YSH', 'O60861', 'A', 8, 37),\n",
       " 'Q9Y0H4': ('1TK7', 'Q9Y0H4', 'A', 57, 86),\n",
       " 'Q5SXA9': ('6J68', 'Q5SXA9', 'A', 61, 90),\n",
       " 'P32605': ('6N7P', 'P32605', 'J', 397, 424),\n",
       " 'Q15678': ('6JJW', 'Q15678', 'A', 62, 91),\n",
       " 'Q14118': ('6JJY', 'Q14118', 'A', 60, 89),\n",
       " 'P46938': ('6JK1', 'P46938', 'A', 219, 248),\n",
       " 'Q4VCS5': ('6JJX', 'Q4VCS5', 'A', 60, 89),\n",
       " 'Q80TS7': ('6JJZ', 'Q80TS7', 'A', 360, 389)}"
      ]
     },
     "execution_count": 12,
     "metadata": {},
     "output_type": "execute_result"
    }
   ],
   "source": [
    "structfam"
   ]
  },
  {
   "cell_type": "code",
   "execution_count": 13,
   "metadata": {},
   "outputs": [
    {
     "data": {
      "text/plain": [
       "4669      False\n",
       "4670      False\n",
       "4671      False\n",
       "6360      False\n",
       "10948     False\n",
       "          ...  \n",
       "321649    False\n",
       "321650    False\n",
       "321942    False\n",
       "321943    False\n",
       "323399    False\n",
       "Name: PDB_ID, Length: 204, dtype: bool"
      ]
     },
     "execution_count": 13,
     "metadata": {},
     "output_type": "execute_result"
    }
   ],
   "source": [
    "mapping[mapping.PFAM_ID == DATASET].PDB_ID == \"1EMA\""
   ]
  },
  {
   "cell_type": "markdown",
   "metadata": {},
   "source": [
    "## Pattern Builds"
   ]
  },
  {
   "cell_type": "code",
   "execution_count": 15,
   "metadata": {
    "ExecuteTime": {
     "end_time": "2020-02-27T13:52:38.245329Z",
     "start_time": "2020-02-27T13:52:38.243166Z"
    }
   },
   "outputs": [],
   "source": [
    "from structure.data_extraction import fetch_PDB"
   ]
  },
  {
   "cell_type": "code",
   "execution_count": 17,
   "metadata": {
    "ExecuteTime": {
     "end_time": "2020-02-27T13:52:41.195154Z",
     "start_time": "2020-02-27T13:52:39.137184Z"
    }
   },
   "outputs": [
    {
     "name": "stdout",
     "output_type": "stream",
     "text": [
      "5CQ2 Q96J02 A 480 509\n",
      "6J1X Q9H0M0 B 506 535\n"
     ]
    }
   ],
   "source": [
    "from structure.utils import *\n",
    "\n",
    "patterns = dict()\n",
    "for pdb, pfam, c, start, end in structfam.values():\n",
    "    try:\n",
    "        sse, tk_mono = fetch_PDB(pdb, c, start, end+1)\n",
    "        ss = to_onehot([abc_codes[x] for x in sse], (None,3))\n",
    "        ss = np.pad(ss, ((1,1),(0,0)), \"constant\")\n",
    "        dss = (ss[1:] - ss[:-1])\n",
    "        cls = to_onehot(np.where(dss == -1)[1], (None, 3)).T\n",
    "        bbox = np.array([np.where(dss == 1)[0], np.where(dss == -1)[0], *cls]).T\n",
    "        patterns[pfam] = np.argmax(bbox[:,2:],1)\n",
    "    except:\n",
    "        print(pdb, pfam, c, start, end)"
   ]
  },
  {
   "cell_type": "code",
   "execution_count": 18,
   "metadata": {},
   "outputs": [
    {
     "data": {
      "text/plain": [
       "(220,)"
      ]
     },
     "execution_count": 18,
     "metadata": {},
     "output_type": "execute_result"
    }
   ],
   "source": [
    "fetch_PDB(\"1EMA\", \"A\", 5, 1000)[0].shape"
   ]
  },
  {
   "cell_type": "code",
   "execution_count": 19,
   "metadata": {
    "ExecuteTime": {
     "end_time": "2020-02-27T13:52:47.357626Z",
     "start_time": "2020-02-27T13:52:47.340513Z"
    }
   },
   "outputs": [],
   "source": [
    "structfam[\"P42212\"] = pdb, pfam, c, start, end\n",
    "sse, tk_mono = fetch_PDB(pdb, c, start, end+1)\n",
    "ss = to_onehot([abc_codes[x] for x in sse], (None,3))\n",
    "ss = np.pad(ss, ((1,1),(0,0)), \"constant\")\n",
    "dss = (ss[1:] - ss[:-1])\n",
    "cls = to_onehot(np.where(dss == -1)[1], (None, 3)).T\n",
    "bbox = np.array([np.where(dss == 1)[0], np.where(dss == -1)[0], *cls]).T\n",
    "patterns[pfam] = np.argmax(bbox[:,2:],1)"
   ]
  },
  {
   "cell_type": "code",
   "execution_count": 20,
   "metadata": {},
   "outputs": [
    {
     "data": {
      "text/plain": [
       "'6JJZ'"
      ]
     },
     "execution_count": 20,
     "metadata": {},
     "output_type": "execute_result"
    }
   ],
   "source": [
    "pdb"
   ]
  },
  {
   "cell_type": "code",
   "execution_count": 24,
   "metadata": {
    "ExecuteTime": {
     "end_time": "2020-02-26T14:09:41.401932Z",
     "start_time": "2020-02-26T14:09:41.392892Z"
    },
    "scrolled": true
   },
   "outputs": [
    {
     "name": "stdout",
     "output_type": "stream",
     "text": [
      "('1YIU', 'Q8C863', 'A', 6, 35) :\n",
      "('2MPT', 'Q96PU5', 'A', 479, 508) :\n",
      "('5VTJ', 'Q13526', 'A', 7, 37) :\n",
      "('2LTV', 'O15105', 'A', 232, 261) :\n",
      "('2N8T', 'P08050', 'A', 6, 35) :\n",
      "('2YSE', 'Q96QZ7', 'A', 14, 43) :\n",
      "('6RSS', 'O00308', 'A', 75, 104) :\n",
      "('5YDX', 'P46937', 'A', 16, 45) :\n",
      "('2MWF', 'O14776', 'A', 434, 460) :\n",
      "('2LB2', 'P84022', 'A', 367, 396) :\n",
      "('1WR7', 'Q8CFI0', 'A', 9, 38) :\n",
      "('2OEI', 'O00213', 'A', 255, 283) :\n",
      "('1YWI', 'O75400', 'A', 17, 42) :\n",
      "('2LB0', 'Q15797', 'A', 236, 265) :\n",
      "('2MDI', 'Q9BYW2', 'A', 17, 46) :\n",
      "('4N7F', 'P46934', 'A', 423, 452) :\n",
      "('1WMV', 'Q9NZC7', 'A', 12, 41) :\n",
      "('2DK1', 'O75554', 'A', 9, 34) :\n",
      "('1EG4', 'P11532', 'A', 59, 86) :\n",
      "('2JX8', 'Q9H4Z3', 'A', 7, 36) :\n",
      "('2RLY', 'Q05860', 'W', 6, 33) :\n",
      "('3OLM', 'P0CG63', 'A', 389, 418) :\n",
      "('2EZ5', 'Q24139', 'W', 531, 560) :\n",
      "('2JV4', 'Q5AZY5', 'A', 7, 37) :\n",
      "('2L4J', 'E7FH70', 'A', 188, 217) :\n",
      "('2YSB', 'Q8VEB2', 'A', 12, 41) :\n",
      "('2N8S', 'Q62940', 'A', 6, 35) :\n",
      "('1I8G', 'P30311', 'B', 2, 32) :\n",
      "('2YSC', 'O95704', 'A', 9, 37) :\n",
      "('2M3O', 'P37088', 'W', 423, 452) :\n",
      "('1YW5', 'Q59KZ2', 'A', 8, 38) :\n",
      "('2JO9', 'P13285', 'A', 6, 35) :\n",
      "('4LCD', 'P0CG48', 'A', 389, 418) :\n",
      "('1E0L', 'Q8CGF7', 'A', 6, 33) :\n",
      "('5B3Z', 'P0AEX9', 'A', 4, 34) :\n",
      "('2JMF', 'Q32UW5', 'A', 523, 552) :\n",
      "('3L4H', 'Q76N89', 'A', 1020, 1049) :\n",
      "('1I5H', 'P37090', 'W', 461, 490) :\n",
      "('1I8H', 'P10636', 'B', 2, 32) :\n",
      "('2YSG', 'Q6ZWJ1', 'A', 8, 37) :\n",
      "('2KPZ', 'P0C210', 'A', 13, 42) :\n",
      "('1O6W', 'P33203', 'A', 43, 70) :\n",
      "('2YSH', 'O60861', 'A', 8, 37) :\n",
      "('1TK7', 'Q9Y0H4', 'A', 57, 86) :\n",
      "('6J68', 'Q5SXA9', 'A', 61, 90) :\n",
      "('6N7P', 'P32605', 'J', 397, 424) :\n",
      "('6JJW', 'Q15678', 'A', 62, 91) :\n",
      "('6JJY', 'Q14118', 'A', 60, 89) :\n",
      "('6JK1', 'P46938', 'A', 219, 248) :\n",
      "('6JJX', 'Q4VCS5', 'A', 60, 89) :\n",
      "('6JJZ', 'Q80TS7', 'A', 360, 389) :\n"
     ]
    }
   ],
   "source": [
    "n_patterns = []\n",
    "c_patterns = []\n",
    "for k,pat in patterns.items():\n",
    "#     if k not in uni_idx:\n",
    "#         continue\n",
    "    print(str(structfam[k])+\" :\")\n",
    "    char_pat= \"\".join([\"abc\"[x] for x in pat])\n",
    "    if len(char_pat) and char_pat not in c_patterns:\n",
    "        c_patterns.append(char_pat)\n",
    "        n_patterns.append(list(pat))"
   ]
  },
  {
   "cell_type": "code",
   "execution_count": 26,
   "metadata": {
    "ExecuteTime": {
     "end_time": "2020-02-26T14:09:57.577393Z",
     "start_time": "2020-02-26T14:09:57.574639Z"
    }
   },
   "outputs": [],
   "source": [
    "pickle.dump((n_patterns, c_patterns, list(patterns.keys())), open(f\"{DATA}/{DATASET}/patterns.pkl\", \"wb\"))"
   ]
  },
  {
   "cell_type": "markdown",
   "metadata": {},
   "source": [
    "## Vizualization"
   ]
  },
  {
   "cell_type": "code",
   "execution_count": 5,
   "metadata": {
    "ExecuteTime": {
     "end_time": "2020-02-20T10:38:50.415951Z",
     "start_time": "2020-02-20T10:38:49.352338Z"
    }
   },
   "outputs": [],
   "source": [
    "from structure.graphics import visualize_secondary_structure\n",
    "from structure.data_extraction import fetch_PDB\n",
    "import matplotlib.pyplot as plt"
   ]
  },
  {
   "cell_type": "code",
   "execution_count": 29,
   "metadata": {
    "ExecuteTime": {
     "end_time": "2020-02-20T10:38:55.612243Z",
     "start_time": "2020-02-20T10:38:51.441136Z"
    }
   },
   "outputs": [
    {
     "name": "stdout",
     "output_type": "stream",
     "text": [
      "1YIU\n"
     ]
    },
    {
     "data": {
      "image/png": "[encoded data removed]",
      "text/plain": [
       "<Figure size 576x216 with 1 Axes>"
      ]
     },
     "metadata": {
      "needs_background": "light"
     },
     "output_type": "display_data"
    },
    {
     "name": "stdout",
     "output_type": "stream",
     "text": [
      "2MPT\n",
      "2MPT Q96PU5 A 479 509\n",
      "5VTJ\n"
     ]
    },
    {
     "data": {
      "image/png": "[encoded data removed]",
      "text/plain": [
       "<Figure size 576x216 with 1 Axes>"
      ]
     },
     "metadata": {
      "needs_background": "light"
     },
     "output_type": "display_data"
    },
    {
     "name": "stdout",
     "output_type": "stream",
     "text": [
      "2LTV\n",
      "2LTV O15105 A 232 262\n",
      "2N8T\n"
     ]
    },
    {
     "data": {
      "image/png": "[encoded data removed]",
      "text/plain": [
       "<Figure size 576x216 with 1 Axes>"
      ]
     },
     "metadata": {
      "needs_background": "light"
     },
     "output_type": "display_data"
    },
    {
     "name": "stdout",
     "output_type": "stream",
     "text": [
      "2YSE\n"
     ]
    },
    {
     "data": {
      "image/png": "[encoded data removed]",
      "text/plain": [
       "<Figure size 576x216 with 1 Axes>"
      ]
     },
     "metadata": {
      "needs_background": "light"
     },
     "output_type": "display_data"
    },
    {
     "name": "stdout",
     "output_type": "stream",
     "text": [
      "6RSS\n"
     ]
    },
    {
     "data": {
      "image/png": "[encoded data removed]",
      "text/plain": [
       "<Figure size 576x216 with 1 Axes>"
      ]
     },
     "metadata": {
      "needs_background": "light"
     },
     "output_type": "display_data"
    },
    {
     "name": "stdout",
     "output_type": "stream",
     "text": [
      "5CQ2\n",
      "5CQ2 Q96J02 A 480 510\n",
      "5YDX\n"
     ]
    },
    {
     "data": {
      "image/png": "[encoded data removed]",
      "text/plain": [
       "<Figure size 576x216 with 1 Axes>"
      ]
     },
     "metadata": {
      "needs_background": "light"
     },
     "output_type": "display_data"
    },
    {
     "name": "stdout",
     "output_type": "stream",
     "text": [
      "2MWF\n",
      "2MWF O14776 A 434 461\n",
      "2LB2\n",
      "2LB2 P84022 A 367 397\n",
      "1WR7\n"
     ]
    },
    {
     "data": {
      "image/png": "[encoded data removed]",
      "text/plain": [
       "<Figure size 576x216 with 1 Axes>"
      ]
     },
     "metadata": {
      "needs_background": "light"
     },
     "output_type": "display_data"
    },
    {
     "name": "stdout",
     "output_type": "stream",
     "text": [
      "2OEI\n",
      "2OEI O00213 A 255 284\n",
      "1YWI\n"
     ]
    },
    {
     "data": {
      "image/png": "[encoded data removed]",
      "text/plain": [
       "<Figure size 576x216 with 1 Axes>"
      ]
     },
     "metadata": {
      "needs_background": "light"
     },
     "output_type": "display_data"
    },
    {
     "name": "stdout",
     "output_type": "stream",
     "text": [
      "2LB0\n",
      "2LB0 Q15797 A 236 266\n",
      "2MDI\n"
     ]
    },
    {
     "data": {
      "image/png": "[encoded data removed]",
      "text/plain": [
       "<Figure size 576x216 with 1 Axes>"
      ]
     },
     "metadata": {
      "needs_background": "light"
     },
     "output_type": "display_data"
    },
    {
     "name": "stdout",
     "output_type": "stream",
     "text": [
      "4N7F\n",
      "4N7F P46934 A 423 453\n",
      "1WMV\n"
     ]
    },
    {
     "data": {
      "image/png": "[encoded data removed]",
      "text/plain": [
       "<Figure size 576x216 with 1 Axes>"
      ]
     },
     "metadata": {
      "needs_background": "light"
     },
     "output_type": "display_data"
    },
    {
     "name": "stdout",
     "output_type": "stream",
     "text": [
      "2DK1\n"
     ]
    },
    {
     "data": {
      "image/png": "[encoded data removed]",
      "text/plain": [
       "<Figure size 576x216 with 1 Axes>"
      ]
     },
     "metadata": {
      "needs_background": "light"
     },
     "output_type": "display_data"
    },
    {
     "name": "stdout",
     "output_type": "stream",
     "text": [
      "1EG4\n"
     ]
    },
    {
     "data": {
      "image/png": "[encoded data removed]",
      "text/plain": [
       "<Figure size 576x216 with 1 Axes>"
      ]
     },
     "metadata": {
      "needs_background": "light"
     },
     "output_type": "display_data"
    },
    {
     "name": "stdout",
     "output_type": "stream",
     "text": [
      "2JX8\n"
     ]
    },
    {
     "data": {
      "image/png": "[encoded data removed]",
      "text/plain": [
       "<Figure size 576x216 with 1 Axes>"
      ]
     },
     "metadata": {
      "needs_background": "light"
     },
     "output_type": "display_data"
    },
    {
     "name": "stdout",
     "output_type": "stream",
     "text": [
      "2RLY\n"
     ]
    },
    {
     "data": {
      "image/png": "[encoded data removed]",
      "text/plain": [
       "<Figure size 576x216 with 1 Axes>"
      ]
     },
     "metadata": {
      "needs_background": "light"
     },
     "output_type": "display_data"
    },
    {
     "name": "stdout",
     "output_type": "stream",
     "text": [
      "6J1X\n",
      "6J1X Q9H0M0 B 506 536\n",
      "3OLM\n"
     ]
    },
    {
     "data": {
      "image/png": "[encoded data removed]",
      "text/plain": [
       "<Figure size 576x216 with 1 Axes>"
      ]
     },
     "metadata": {
      "needs_background": "light"
     },
     "output_type": "display_data"
    },
    {
     "name": "stdout",
     "output_type": "stream",
     "text": [
      "2EZ5\n",
      "2EZ5 Q24139 W 531 561\n",
      "2JV4\n"
     ]
    },
    {
     "data": {
      "image/png": "[encoded data removed]",
      "text/plain": [
       "<Figure size 576x216 with 1 Axes>"
      ]
     },
     "metadata": {
      "needs_background": "light"
     },
     "output_type": "display_data"
    },
    {
     "name": "stdout",
     "output_type": "stream",
     "text": [
      "2L4J\n",
      "2L4J E7FH70 A 188 218\n",
      "2YSB\n"
     ]
    },
    {
     "data": {
      "image/png": "[encoded data removed]",
      "text/plain": [
       "<Figure size 576x216 with 1 Axes>"
      ]
     },
     "metadata": {
      "needs_background": "light"
     },
     "output_type": "display_data"
    },
    {
     "name": "stdout",
     "output_type": "stream",
     "text": [
      "2N8S\n"
     ]
    },
    {
     "data": {
      "image/png": "[encoded data removed]",
      "text/plain": [
       "<Figure size 576x216 with 1 Axes>"
      ]
     },
     "metadata": {
      "needs_background": "light"
     },
     "output_type": "display_data"
    },
    {
     "name": "stdout",
     "output_type": "stream",
     "text": [
      "1I8G\n"
     ]
    },
    {
     "data": {
      "image/png": "[encoded data removed]",
      "text/plain": [
       "<Figure size 576x216 with 1 Axes>"
      ]
     },
     "metadata": {
      "needs_background": "light"
     },
     "output_type": "display_data"
    },
    {
     "name": "stdout",
     "output_type": "stream",
     "text": [
      "2YSC\n"
     ]
    },
    {
     "data": {
      "image/png": "[encoded data removed]",
      "text/plain": [
       "<Figure size 576x216 with 1 Axes>"
      ]
     },
     "metadata": {
      "needs_background": "light"
     },
     "output_type": "display_data"
    },
    {
     "name": "stdout",
     "output_type": "stream",
     "text": [
      "2M3O\n",
      "2M3O P37088 W 423 453\n",
      "1YW5\n"
     ]
    },
    {
     "data": {
      "image/png": "[encoded data removed]",
      "text/plain": [
       "<Figure size 576x216 with 1 Axes>"
      ]
     },
     "metadata": {
      "needs_background": "light"
     },
     "output_type": "display_data"
    },
    {
     "name": "stdout",
     "output_type": "stream",
     "text": [
      "2JO9\n"
     ]
    },
    {
     "data": {
      "image/png": "[encoded data removed]",
      "text/plain": [
       "<Figure size 576x216 with 1 Axes>"
      ]
     },
     "metadata": {
      "needs_background": "light"
     },
     "output_type": "display_data"
    },
    {
     "name": "stdout",
     "output_type": "stream",
     "text": [
      "4LCD\n"
     ]
    },
    {
     "data": {
      "image/png": "[encoded data removed]",
      "text/plain": [
       "<Figure size 576x216 with 1 Axes>"
      ]
     },
     "metadata": {
      "needs_background": "light"
     },
     "output_type": "display_data"
    },
    {
     "name": "stdout",
     "output_type": "stream",
     "text": [
      "1E0L\n"
     ]
    },
    {
     "data": {
      "image/png": "[encoded data removed]",
      "text/plain": [
       "<Figure size 576x216 with 1 Axes>"
      ]
     },
     "metadata": {
      "needs_background": "light"
     },
     "output_type": "display_data"
    },
    {
     "name": "stdout",
     "output_type": "stream",
     "text": [
      "5B3Z\n"
     ]
    },
    {
     "data": {
      "image/png": "[encoded data removed]",
      "text/plain": [
       "<Figure size 576x216 with 1 Axes>"
      ]
     },
     "metadata": {
      "needs_background": "light"
     },
     "output_type": "display_data"
    },
    {
     "name": "stdout",
     "output_type": "stream",
     "text": [
      "2JMF\n",
      "2JMF Q32UW5 A 523 553\n",
      "3L4H\n",
      "3L4H Q76N89 A 1020 1050\n",
      "1I5H\n",
      "1I5H P37090 W 461 491\n",
      "1I8H\n"
     ]
    },
    {
     "data": {
      "image/png": "[encoded data removed]",
      "text/plain": [
       "<Figure size 576x216 with 1 Axes>"
      ]
     },
     "metadata": {
      "needs_background": "light"
     },
     "output_type": "display_data"
    },
    {
     "name": "stdout",
     "output_type": "stream",
     "text": [
      "2YSG\n"
     ]
    },
    {
     "data": {
      "image/png": "[encoded data removed]",
      "text/plain": [
       "<Figure size 576x216 with 1 Axes>"
      ]
     },
     "metadata": {
      "needs_background": "light"
     },
     "output_type": "display_data"
    },
    {
     "name": "stdout",
     "output_type": "stream",
     "text": [
      "2KPZ\n"
     ]
    },
    {
     "data": {
      "image/png": "[encoded data removed]",
      "text/plain": [
       "<Figure size 576x216 with 1 Axes>"
      ]
     },
     "metadata": {
      "needs_background": "light"
     },
     "output_type": "display_data"
    },
    {
     "name": "stdout",
     "output_type": "stream",
     "text": [
      "1O6W\n"
     ]
    },
    {
     "data": {
      "image/png": "[encoded data removed]",
      "text/plain": [
       "<Figure size 576x216 with 1 Axes>"
      ]
     },
     "metadata": {
      "needs_background": "light"
     },
     "output_type": "display_data"
    },
    {
     "name": "stdout",
     "output_type": "stream",
     "text": [
      "2YSH\n"
     ]
    },
    {
     "data": {
      "image/png": "[encoded data removed]",
      "text/plain": [
       "<Figure size 576x216 with 1 Axes>"
      ]
     },
     "metadata": {
      "needs_background": "light"
     },
     "output_type": "display_data"
    },
    {
     "name": "stdout",
     "output_type": "stream",
     "text": [
      "1TK7\n"
     ]
    },
    {
     "data": {
      "image/png": "[encoded data removed]",
      "text/plain": [
       "<Figure size 576x216 with 1 Axes>"
      ]
     },
     "metadata": {
      "needs_background": "light"
     },
     "output_type": "display_data"
    },
    {
     "name": "stdout",
     "output_type": "stream",
     "text": [
      "6J68\n"
     ]
    },
    {
     "data": {
      "image/png": "[encoded data removed]",
      "text/plain": [
       "<Figure size 576x216 with 1 Axes>"
      ]
     },
     "metadata": {
      "needs_background": "light"
     },
     "output_type": "display_data"
    },
    {
     "name": "stdout",
     "output_type": "stream",
     "text": [
      "6N7P\n",
      "6N7P P32605 J 397 425\n",
      "6JJW\n"
     ]
    },
    {
     "data": {
      "image/png": "[encoded data removed]",
      "text/plain": [
       "<Figure size 576x216 with 1 Axes>"
      ]
     },
     "metadata": {
      "needs_background": "light"
     },
     "output_type": "display_data"
    },
    {
     "name": "stdout",
     "output_type": "stream",
     "text": [
      "6JJY\n"
     ]
    },
    {
     "data": {
      "image/png": "[encoded data removed]",
      "text/plain": [
       "<Figure size 576x216 with 1 Axes>"
      ]
     },
     "metadata": {
      "needs_background": "light"
     },
     "output_type": "display_data"
    },
    {
     "name": "stdout",
     "output_type": "stream",
     "text": [
      "6JK1\n",
      "6JK1 P46938 A 219 249\n",
      "6JJX\n"
     ]
    },
    {
     "data": {
      "image/png": "[encoded data removed]",
      "text/plain": [
       "<Figure size 576x216 with 1 Axes>"
      ]
     },
     "metadata": {
      "needs_background": "light"
     },
     "output_type": "display_data"
    },
    {
     "name": "stdout",
     "output_type": "stream",
     "text": [
      "6JJZ\n",
      "6JJZ Q80TS7 A 360 390\n",
      "6JJZ\n",
      "6JJZ Q80TS7 A 360 390\n"
     ]
    }
   ],
   "source": [
    "for pdb, pfam, c, start, end in structfam.values():\n",
    "    try:\n",
    "        print(pdb)\n",
    "        sse, tk_mono = fetch_PDB(pdb, c, start, end+1)\n",
    "        visualize_secondary_structure(sse, 0, 150)\n",
    "        plt.show()\n",
    "    except:\n",
    "        print(pdb, pfam, c, start, end+1)"
   ]
  },
  {
   "cell_type": "code",
   "execution_count": 6,
   "metadata": {},
   "outputs": [
    {
     "data": {
      "text/plain": [
       "(array(['c', 'c', 'c', 'c', 'c', 'b', 'b', 'b', 'c', 'c', 'c', 'c', 'c',\n",
       "        'b', 'b', 'b', 'b', 'b', 'c', 'c', 'c', 'c', 'b', 'b', 'b', 'c',\n",
       "        'c', 'c', 'c'], dtype='<U1'),\n",
       " <biotite.structure.AtomArray at 0x7f2e04c0a310>)"
      ]
     },
     "execution_count": 6,
     "metadata": {},
     "output_type": "execute_result"
    }
   ],
   "source": [
    "fetch_PDB('1YIU', 'A', 6, 35)"
   ]
  },
  {
   "cell_type": "code",
   "execution_count": 1,
   "metadata": {},
   "outputs": [],
   "source": [
    "from biotite.structure.io.pdb import get_structure"
   ]
  },
  {
   "cell_type": "code",
   "execution_count": 2,
   "metadata": {},
   "outputs": [
    {
     "ename": "AttributeError",
     "evalue": "'str' object has no attribute 'get_structure'",
     "output_type": "error",
     "traceback": [
      "\u001b[0;31m---------------------------------------------------------------------------\u001b[0m",
      "\u001b[0;31mAttributeError\u001b[0m                            Traceback (most recent call last)",
      "\u001b[0;32m<ipython-input-2-16975acdb88e>\u001b[0m in \u001b[0;36m<module>\u001b[0;34m\u001b[0m\n\u001b[0;32m----> 1\u001b[0;31m \u001b[0mget_structure\u001b[0m\u001b[0;34m(\u001b[0m\u001b[0;34m\"6RSS\"\u001b[0m\u001b[0;34m)\u001b[0m\u001b[0;34m\u001b[0m\u001b[0;34m\u001b[0m\u001b[0m\n\u001b[0m",
      "\u001b[0;32m~/anaconda3/lib/python3.7/site-packages/biotite/structure/io/pdb/convert.py\u001b[0m in \u001b[0;36mget_structure\u001b[0;34m(pdb_file, model, altloc, extra_fields)\u001b[0m\n\u001b[1;32m     57\u001b[0m \u001b[0;34m\u001b[0m\u001b[0m\n\u001b[1;32m     58\u001b[0m     \"\"\"\n\u001b[0;32m---> 59\u001b[0;31m     \u001b[0;32mreturn\u001b[0m \u001b[0mpdb_file\u001b[0m\u001b[0;34m.\u001b[0m\u001b[0mget_structure\u001b[0m\u001b[0;34m(\u001b[0m\u001b[0mmodel\u001b[0m\u001b[0;34m,\u001b[0m \u001b[0maltloc\u001b[0m\u001b[0;34m,\u001b[0m \u001b[0mextra_fields\u001b[0m\u001b[0;34m)\u001b[0m\u001b[0;34m\u001b[0m\u001b[0;34m\u001b[0m\u001b[0m\n\u001b[0m\u001b[1;32m     60\u001b[0m \u001b[0;34m\u001b[0m\u001b[0m\n\u001b[1;32m     61\u001b[0m \u001b[0;34m\u001b[0m\u001b[0m\n",
      "\u001b[0;31mAttributeError\u001b[0m: 'str' object has no attribute 'get_structure'"
     ]
    }
   ],
   "source": [
    "get_structure('1YIU', 'A', 6, 35)"
   ]
  }
 ],
 "metadata": {
  "kernelspec": {
   "display_name": "Python 3",
   "language": "python",
   "name": "python3"
  },
  "language_info": {
   "codemirror_mode": {
    "name": "ipython",
    "version": 3
   },
   "file_extension": ".py",
   "mimetype": "text/x-python",
   "name": "python",
   "nbconvert_exporter": "python",
   "pygments_lexer": "ipython3",
   "version": "3.7.4"
  },
  "latex_envs": {
   "LaTeX_envs_menu_present": true,
   "autoclose": false,
   "autocomplete": true,
   "bibliofile": "biblio.bib",
   "cite_by": "apalike",
   "current_citInitial": 1,
   "eqLabelWithNumbers": true,
   "eqNumInitial": 1,
   "hotkeys": {
    "equation": "Ctrl-E",
    "itemize": "Ctrl-I"
   },
   "labels_anchors": false,
   "latex_user_defs": false,
   "report_style_numbering": false,
   "user_envs_cfg": false
  },
  "toc": {
   "base_numbering": 1,
   "nav_menu": {},
   "number_sections": true,
   "sideBar": true,
   "skip_h1_title": false,
   "title_cell": "Table of Contents",
   "title_sidebar": "Contents",
   "toc_cell": false,
   "toc_position": {},
   "toc_section_display": true,
   "toc_window_display": false
  },
  "varInspector": {
   "cols": {
    "lenName": 16,
    "lenType": 16,
    "lenVar": 40
   },
   "kernels_config": {
    "python": {
     "delete_cmd_postfix": "",
     "delete_cmd_prefix": "del ",
     "library": "var_list.py",
     "varRefreshCmd": "print(var_dic_list())"
    },
    "r": {
     "delete_cmd_postfix": ") ",
     "delete_cmd_prefix": "rm(",
     "library": "var_list.r",
     "varRefreshCmd": "cat(var_dic_list()) "
    }
   },
   "types_to_exclude": [
    "module",
    "function",
    "builtin_function_or_method",
    "instance",
    "_Feature"
   ],
   "window_display": false
  }
 },
 "nbformat": 4,
 "nbformat_minor": 2
}
