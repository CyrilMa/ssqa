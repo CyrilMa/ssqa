{
 "cells": [
  {
   "cell_type": "code",
   "execution_count": 1,
   "metadata": {
    "ExecuteTime": {
     "end_time": "2020-02-27T13:51:50.714825Z",
     "start_time": "2020-02-27T13:51:49.859930Z"
    }
   },
   "outputs": [],
   "source": [
    "import numpy as np\n",
    "import pandas as pd\n",
    "import random\n",
    "import pickle\n",
    "from tqdm.notebook import tqdm\n",
    "\n",
    "import netsurfp2 as nsp2\n",
    "\n",
    "from structure.utils import AA, to_onehot"
   ]
  },
  {
   "cell_type": "code",
   "execution_count": 2,
   "metadata": {},
   "outputs": [],
   "source": [
    "AMINO_ACIDS = AA = 'ACDEFGHIKLMNPQRSTVWY'\n",
    "AA_INDEX = {k:i for i,k in enumerate(AA)}"
   ]
  },
  {
   "cell_type": "code",
   "execution_count": 3,
   "metadata": {
    "ExecuteTime": {
     "end_time": "2020-02-27T13:51:50.728591Z",
     "start_time": "2020-02-27T13:51:50.726717Z"
    }
   },
   "outputs": [],
   "source": [
    "DATASET = \"PF00397\"\n",
    "DATA = \"/home/cyril/Documents/These/data\""
   ]
  },
  {
   "cell_type": "markdown",
   "metadata": {},
   "source": [
    "## PFAM sequence extraction"
   ]
  },
  {
   "cell_type": "code",
   "execution_count": 4,
   "metadata": {
    "ExecuteTime": {
     "end_time": "2020-02-27T13:15:54.833083Z",
     "start_time": "2020-02-27T13:15:53.181922Z"
    }
   },
   "outputs": [],
   "source": [
    "from structure.data_extraction import from_fasta_to_df, from_df_to_fasta"
   ]
  },
  {
   "cell_type": "code",
   "execution_count": 5,
   "metadata": {
    "ExecuteTime": {
     "end_time": "2020-02-26T16:09:33.142114Z",
     "start_time": "2020-02-26T16:09:32.519417Z"
    }
   },
   "outputs": [],
   "source": [
    "filename = 'aligned.fasta'\n",
    "proteins_df = from_fasta_to_df(f\"{DATA}/{DATASET}/{filename}\")\n",
    "proteins_df = proteins_df.drop_duplicates(subset = [\"seq\"])\n",
    "proteins_df.seq = proteins_df.aligned_seq.apply(lambda s : \"\".join([c for c in s if c in AA]))\n",
    "proteins_df[\"length\"] = proteins_df.seq.apply(lambda seq : len(seq))\n",
    "# from_df_to_fasta(proteins_df, f\"{DATA}/{DATASET}\")"
   ]
  },
  {
   "cell_type": "markdown",
   "metadata": {},
   "source": [
    "### Cluster"
   ]
  },
  {
   "cell_type": "code",
   "execution_count": 6,
   "metadata": {},
   "outputs": [
    {
     "name": "stdout",
     "output_type": "stream",
     "text": [
      "easy-cluster /home/cyril/Documents/These/data/PF00397/unaligned.fasta /home/cyril/Documents/These/data/PF00397/temp/clusters.tsv /home/cyril/Documents/These/data/PF00397/tmp --min-seq-id 0.7 \n",
      "\n",
      "MMseqs Version:                     \tbbd3c2bb77492f1a852251aaa1ea8624d72bffed\n",
      "Substitution matrix                 \tnucl:nucleotide.out,aa:blosum62.out\n",
      "Seed substitution matrix            \tnucl:nucleotide.out,aa:VTML80.out\n",
      "Sensitivity                         \t4\n",
      "K-mer size                          \t0\n",
      "K-score                             \t2147483647\n",
      "Alphabet size                       \t21\n",
      "Max sequence length                 \t65535\n",
      "Max results per query               \t20\n",
      "Split database                      \t0\n",
      "Split mode                          \t2\n",
      "Split memory limit                  \t0\n",
      "Coverage threshold                  \t0.8\n",
      "Coverage mode                       \t0\n",
      "Compositional bias                  \t1\n",
      "Diagonal scoring                    \ttrue\n",
      "Exact k-mer matching                \t0\n",
      "Mask residues                       \t1\n",
      "Mask lower case residues            \t0\n",
      "Minimum diagonal score              \t15\n",
      "Include identical seq. id.          \tfalse\n",
      "Spaced k-mers                       \t1\n",
      "Preload mode                        \t0\n",
      "Pseudo count a                      \t1\n",
      "Pseudo count b                      \t1.5\n",
      "Spaced k-mer pattern                \t\n",
      "Local temporary path                \t\n",
      "Threads                             \t12\n",
      "Compressed                          \t0\n",
      "Verbosity                           \t3\n",
      "Add backtrace                       \tfalse\n",
      "Alignment mode                      \t3\n",
      "Allow wrapped scoring               \tfalse\n",
      "E-value threshold                   \t0.001\n",
      "Seq. id. threshold                  \t0.7\n",
      "Min. alignment length               \t0\n",
      "Seq. id. mode                       \t0\n",
      "Alternative alignments              \t0\n",
      "Realign hits                        \tfalse\n",
      "Max reject                          \t2147483647\n",
      "Max accept                          \t2147483647\n",
      "Score bias                          \t0\n",
      "Gap open cost                       \t11\n",
      "Gap extension cost                  \t1\n",
      "Rescore mode                        \t0\n",
      "Remove hits by seq. id. and coverage\tfalse\n",
      "Sort results                        \t0\n",
      "Cluster mode                        \t0\n",
      "Max depth connected component       \t1000\n",
      "Similarity type                     \t2\n",
      "Single step clustering              \ttrue\n",
      "Cascaded clustering steps           \t3\n",
      "Cluster reassign                    \t0\n",
      "Remove temporary files              \ttrue\n",
      "Force restart with latest tmp       \tfalse\n",
      "MPI runner                          \t\n",
      "K-mers per sequence                 \t21\n",
      "scale k-mers per sequence           \t0\n",
      "Adjust k-mer length                 \tfalse\n",
      "Shift hash                          \t67\n",
      "Include only extendable             \tfalse\n",
      "Skip repeating k-mers               \tfalse\n",
      "Database type                       \t0\n",
      "Shuffle input database              \ttrue\n",
      "Createdb mode                       \t1\n",
      "Offset of numeric ids               \t0\n",
      "\n",
      "\u001b[33mShuffle database can not be combined with --createdb-mode 0.\n",
      "\u001b[39m\u001b[33mWe recompute with --shuffle 0.\n",
      "\u001b[39mConverting sequences\n",
      "[9899] 0s 44ms\n",
      "Time for merging to input_h: 0h 0m 0s 0ms\n",
      "Time for merging to input: 0h 0m 0s 0ms\n",
      "Database type: Aminoacid\n",
      "Time for merging to input.lookup: 0h 0m 0s 0ms\n",
      "Time for processing: 0h 0m 0s 61ms\n",
      "\u001b[33mTmp /home/cyril/Documents/These/data/PF00397/tmp/2750728949833174504/clu_tmp folder does not exist or is not a directory.\n",
      "\u001b[39mCreate dir /home/cyril/Documents/These/data/PF00397/tmp/2750728949833174504/clu_tmp\n",
      "cluster /home/cyril/Documents/These/data/PF00397/tmp/2750728949833174504/input /home/cyril/Documents/These/data/PF00397/tmp/2750728949833174504/clu /home/cyril/Documents/These/data/PF00397/tmp/2750728949833174504/clu_tmp --max-seqs 20 -c 0.8 --spaced-kmer-mode 1 --alignment-mode 3 -e 0.001 --min-seq-id 0.7 --remove-tmp-files 1 \n",
      "\n",
      "Set cluster sensitivity to -s 1.000000\n",
      "Set cluster mode SET COVER.\n",
      "Set cluster iterations to 1\n",
      "linclust /home/cyril/Documents/These/data/PF00397/tmp/2750728949833174504/input /home/cyril/Documents/These/data/PF00397/tmp/2750728949833174504/clu_tmp/11756354771537127490/clu_redundancy /home/cyril/Documents/These/data/PF00397/tmp/2750728949833174504/clu_tmp/11756354771537127490/linclust --cluster-mode 0 --max-iterations 1000 --similarity-type 2 --threads 12 --compressed 0 -v 3 --sub-mat nucl:nucleotide.out,aa:blosum62.out -a 0 --alignment-mode 3 --wrapped-scoring 0 -e 0.001 --min-seq-id 0.7 --min-aln-len 0 --seq-id-mode 0 --alt-ali 0 -c 0.8 --cov-mode 0 --max-seq-len 65535 --comp-bias-corr 1 --realign 0 --max-rejected 2147483647 --max-accept 2147483647 --add-self-matches 0 --db-load-mode 0 --pca 1 --pcb 1.5 --score-bias 0 --gap-open 11 --gap-extend 1 --alph-size 13 --kmer-per-seq 21 --spaced-kmer-mode 1 --kmer-per-seq-scale 0 --adjust-kmer-len 0 --mask 0 --mask-lower-case 0 -k 0 --hash-shift 67 --split-memory-limit 0 --include-only-extendable 0 --ignore-multi-kmer 0 --rescore-mode 0 --filter-hits 0 --sort-results 0 --remove-tmp-files 1 --force-reuse 0 \n",
      "\n",
      "kmermatcher /home/cyril/Documents/These/data/PF00397/tmp/2750728949833174504/input /home/cyril/Documents/These/data/PF00397/tmp/2750728949833174504/clu_tmp/11756354771537127490/linclust/3771597180686387089/pref --sub-mat nucl:nucleotide.out,aa:blosum62.out --alph-size 13 --min-seq-id 0.7 --kmer-per-seq 21 --spaced-kmer-mode 1 --kmer-per-seq-scale 0 --adjust-kmer-len 0 --mask 0 --mask-lower-case 0 --cov-mode 0 -k 0 -c 0.8 --max-seq-len 65535 --hash-shift 67 --split-memory-limit 0 --include-only-extendable 0 --ignore-multi-kmer 0 --threads 12 --compressed 0 -v 3 \n",
      "\n",
      "kmermatcher /home/cyril/Documents/These/data/PF00397/tmp/2750728949833174504/input /home/cyril/Documents/These/data/PF00397/tmp/2750728949833174504/clu_tmp/11756354771537127490/linclust/3771597180686387089/pref --sub-mat nucl:nucleotide.out,aa:blosum62.out --alph-size 13 --min-seq-id 0.7 --kmer-per-seq 21 --spaced-kmer-mode 1 --kmer-per-seq-scale 0 --adjust-kmer-len 0 --mask 0 --mask-lower-case 0 --cov-mode 0 -k 0 -c 0.8 --max-seq-len 65535 --hash-shift 67 --split-memory-limit 0 --include-only-extendable 0 --ignore-multi-kmer 0 --threads 12 --compressed 0 -v 3 \n",
      "\n",
      "Database size: 9904 type: Aminoacid\n",
      "Reduced amino acid alphabet: (A S T) (C) (D B N) (E Q Z) (F Y) (G) (H) (I V) (K R) (L J M) (P) (W) (X) \n",
      "\n",
      "Generate k-mers list for 1 split\n",
      "[=================================================================] 100.00% 9.90K 0s 29ms        \n",
      "Sort kmer 0h 0m 0s 97ms\n",
      "Sort by rep. sequence 0h 0m 0s 76ms\n",
      "Time for fill: 0h 0m 0s 2ms\n",
      "Time for merging to pref: 0h 0m 0s 6ms\n",
      "Time for processing: 0h 0m 0s 291ms\n",
      "rescorediagonal /home/cyril/Documents/These/data/PF00397/tmp/2750728949833174504/input /home/cyril/Documents/These/data/PF00397/tmp/2750728949833174504/input /home/cyril/Documents/These/data/PF00397/tmp/2750728949833174504/clu_tmp/11756354771537127490/linclust/3771597180686387089/pref /home/cyril/Documents/These/data/PF00397/tmp/2750728949833174504/clu_tmp/11756354771537127490/linclust/3771597180686387089/pref_rescore1 --sub-mat nucl:nucleotide.out,aa:blosum62.out --rescore-mode 0 --wrapped-scoring 0 --filter-hits 0 -e 0.001 -c 0.8 -a 0 --cov-mode 0 --min-seq-id 0.7 --min-aln-len 0 --seq-id-mode 0 --add-self-matches 0 --sort-results 0 --db-load-mode 0 --threads 12 --compressed 0 -v 3 \n",
      "\n",
      "[=================================================================] 100.00% 9.90K 0s 12ms     \n",
      "Time for merging to pref_rescore1: 0h 0m 0s 131ms================>] 99.44% 9.85K eta 0s       \n",
      "Time for processing: 0h 0m 0s 217ms\n",
      "clust /home/cyril/Documents/These/data/PF00397/tmp/2750728949833174504/input /home/cyril/Documents/These/data/PF00397/tmp/2750728949833174504/clu_tmp/11756354771537127490/linclust/3771597180686387089/pref_rescore1 /home/cyril/Documents/These/data/PF00397/tmp/2750728949833174504/clu_tmp/11756354771537127490/linclust/3771597180686387089/pre_clust --cluster-mode 0 --max-iterations 1000 --similarity-type 2 --threads 12 --compressed 0 -v 3 \n",
      "\n",
      "Clustering mode: Set Cover\n",
      "[=================================================================] 100.00% 9.90K 0s 14ms     \n",
      "Sort entries\n",
      "Find missing connections\n",
      "Found 18997 new connections.\n",
      "Reconstruct initial order\n",
      "[=================================================================] 100.00% 9.90K 0s 39ms     \n",
      "Add missing connections\n"
     ]
    },
    {
     "name": "stdout",
     "output_type": "stream",
     "text": [
      "[=================================================================] 100.00% 9.90K 0s 1ms      \n",
      "\n",
      "Time for read in: 0h 0m 0s 178ms\n",
      "Total time: 0h 0m 0s 220ms\n",
      "\n",
      "Size of the sequence database: 9904\n",
      "Size of the alignment database: 9904\n",
      "Number of clusters: 3367\n",
      "\n",
      "Writing results 0h 0m 0s 12ms\n",
      "Time for merging to pre_clust: 0h 0m 0s 107ms\n",
      "Time for processing: 0h 0m 0s 489ms\n",
      "createsubdb /home/cyril/Documents/These/data/PF00397/tmp/2750728949833174504/clu_tmp/11756354771537127490/linclust/3771597180686387089/order_redundancy /home/cyril/Documents/These/data/PF00397/tmp/2750728949833174504/input /home/cyril/Documents/These/data/PF00397/tmp/2750728949833174504/clu_tmp/11756354771537127490/linclust/3771597180686387089/input_step_redundancy -v 3 --subdb-mode 1 \n",
      "\n",
      "Time for merging to input_step_redundancy: 0h 0m 0s 0ms\n",
      "Time for processing: 0h 0m 0s 2ms\n",
      "createsubdb /home/cyril/Documents/These/data/PF00397/tmp/2750728949833174504/clu_tmp/11756354771537127490/linclust/3771597180686387089/order_redundancy /home/cyril/Documents/These/data/PF00397/tmp/2750728949833174504/clu_tmp/11756354771537127490/linclust/3771597180686387089/pref /home/cyril/Documents/These/data/PF00397/tmp/2750728949833174504/clu_tmp/11756354771537127490/linclust/3771597180686387089/pref_filter1 -v 3 --subdb-mode 1 \n",
      "\n",
      "Time for merging to pref_filter1: 0h 0m 0s 0ms\n",
      "Time for processing: 0h 0m 0s 1ms\n",
      "filterdb /home/cyril/Documents/These/data/PF00397/tmp/2750728949833174504/clu_tmp/11756354771537127490/linclust/3771597180686387089/pref_filter1 /home/cyril/Documents/These/data/PF00397/tmp/2750728949833174504/clu_tmp/11756354771537127490/linclust/3771597180686387089/pref_filter2 --filter-file /home/cyril/Documents/These/data/PF00397/tmp/2750728949833174504/clu_tmp/11756354771537127490/linclust/3771597180686387089/order_redundancy \n",
      "\n",
      "Filtering using file(s)\n",
      "[=================================================================] 100.00% 3.37K 0s 25ms     \n",
      "Time for merging to pref_filter2: 0h 0m 0s 124ms\n",
      "Time for processing: 0h 0m 0s 419ms\n",
      "rescorediagonal /home/cyril/Documents/These/data/PF00397/tmp/2750728949833174504/clu_tmp/11756354771537127490/linclust/3771597180686387089/input_step_redundancy /home/cyril/Documents/These/data/PF00397/tmp/2750728949833174504/clu_tmp/11756354771537127490/linclust/3771597180686387089/input_step_redundancy /home/cyril/Documents/These/data/PF00397/tmp/2750728949833174504/clu_tmp/11756354771537127490/linclust/3771597180686387089/pref_filter2 /home/cyril/Documents/These/data/PF00397/tmp/2750728949833174504/clu_tmp/11756354771537127490/linclust/3771597180686387089/pref_rescore2 --sub-mat nucl:nucleotide.out,aa:blosum62.out --rescore-mode 1 --wrapped-scoring 0 --filter-hits 1 -e 0.001 -c 0.8 -a 0 --cov-mode 0 --min-seq-id 0.7 --min-aln-len 0 --seq-id-mode 0 --add-self-matches 0 --sort-results 0 --db-load-mode 0 --threads 12 --compressed 0 -v 3 \n",
      "\n",
      "[=================================================================] 100.00% 3.37K 0s 21ms     =>                                   ] 45.37% 1.53K eta 0s       \n",
      "Time for merging to pref_rescore2: 0h 0m 0s 122ms================>] 99.88% 3.36K eta 0s       \n",
      "Time for processing: 0h 0m 0s 321ms\n",
      "align /home/cyril/Documents/These/data/PF00397/tmp/2750728949833174504/clu_tmp/11756354771537127490/linclust/3771597180686387089/input_step_redundancy /home/cyril/Documents/These/data/PF00397/tmp/2750728949833174504/clu_tmp/11756354771537127490/linclust/3771597180686387089/input_step_redundancy /home/cyril/Documents/These/data/PF00397/tmp/2750728949833174504/clu_tmp/11756354771537127490/linclust/3771597180686387089/pref_rescore2 /home/cyril/Documents/These/data/PF00397/tmp/2750728949833174504/clu_tmp/11756354771537127490/linclust/3771597180686387089/aln --sub-mat nucl:nucleotide.out,aa:blosum62.out -a 0 --alignment-mode 3 --wrapped-scoring 0 -e 0.001 --min-seq-id 0.7 --min-aln-len 0 --seq-id-mode 0 --alt-ali 0 -c 0.8 --cov-mode 0 --max-seq-len 65535 --comp-bias-corr 1 --realign 0 --max-rejected 2147483647 --max-accept 2147483647 --add-self-matches 0 --db-load-mode 0 --pca 1 --pcb 1.5 --score-bias 0 --gap-open 11 --gap-extend 1 --threads 12 --compressed 0 -v 3 \n",
      "\n",
      "Compute score, coverage and sequence identity\n",
      "Query database size: 3367 type: Aminoacid\n",
      "Target database size: 3367 type: Aminoacid\n",
      "Calculation of alignments\n",
      "[=================================================================] 100.00% 3.37K 0s 43ms     \n",
      "Time for merging to aln: 0h 0m 0s 133ms\n",
      "\n",
      "8556 alignments calculated.\n",
      "3541 sequence pairs passed the thresholds (0.413862 of overall calculated).\n",
      "1.051678 hits per query sequence.\n",
      "Time for processing: 0h 0m 0s 362ms\n",
      "clust /home/cyril/Documents/These/data/PF00397/tmp/2750728949833174504/clu_tmp/11756354771537127490/linclust/3771597180686387089/input_step_redundancy /home/cyril/Documents/These/data/PF00397/tmp/2750728949833174504/clu_tmp/11756354771537127490/linclust/3771597180686387089/aln /home/cyril/Documents/These/data/PF00397/tmp/2750728949833174504/clu_tmp/11756354771537127490/linclust/3771597180686387089/clust --cluster-mode 0 --max-iterations 1000 --similarity-type 2 --threads 12 --compressed 0 -v 3 \n",
      "\n",
      "Clustering mode: Set Cover\n",
      "[=================================================================] 100.00% 3.37K 0s 14ms     \n",
      "Sort entries\n",
      "Find missing connections\n",
      "Found 174 new connections.\n",
      "Reconstruct initial order\n",
      "[=================================================================] 100.00% 3.37K 0s 20ms     \n",
      "Add missing connections\n",
      "[=================================================================] 100.00% 3.37K 0s 0ms      \n",
      "\n",
      "Time for read in: 0h 0m 0s 142ms\n",
      "Total time: 0h 0m 0s 198ms\n",
      "\n",
      "Size of the sequence database: 3367\n",
      "Size of the alignment database: 3367\n",
      "Number of clusters: 3206\n",
      "\n",
      "Writing results 0h 0m 0s 0ms\n",
      "Time for merging to clust: 0h 0m 0s 96ms\n",
      "Time for processing: 0h 0m 0s 442ms\n",
      "mergeclusters /home/cyril/Documents/These/data/PF00397/tmp/2750728949833174504/input /home/cyril/Documents/These/data/PF00397/tmp/2750728949833174504/clu_tmp/11756354771537127490/clu_redundancy /home/cyril/Documents/These/data/PF00397/tmp/2750728949833174504/clu_tmp/11756354771537127490/linclust/3771597180686387089/pre_clust /home/cyril/Documents/These/data/PF00397/tmp/2750728949833174504/clu_tmp/11756354771537127490/linclust/3771597180686387089/clust --threads 12 --compressed 0 -v 3 \n",
      "\n",
      "Clustering step 1\n",
      "[=================================================================] 100.00% 3.37K 0s 23ms     \n",
      "Clustering step 2\n",
      "[=================================================================] 100.00% 3.21K 0s 192ms    \n",
      "Write merged clustering\n",
      "[=================================================================] 100.00% 9.90K 0s 242ms    4.31% 428 eta 4s       \n",
      "Time for merging to clu_redundancy: 0h 0m 0s 135ms\n",
      "Time for processing: 0h 0m 0s 526ms\n",
      "Remove temporary files\n",
      "rmdb /home/cyril/Documents/These/data/PF00397/tmp/2750728949833174504/clu_tmp/11756354771537127490/linclust/3771597180686387089/pref \n",
      "\n",
      "Time for processing: 0h 0m 0s 0ms\n",
      "rmdb /home/cyril/Documents/These/data/PF00397/tmp/2750728949833174504/clu_tmp/11756354771537127490/linclust/3771597180686387089/pref_rescore1 \n",
      "\n",
      "Time for processing: 0h 0m 0s 0ms\n",
      "rmdb /home/cyril/Documents/These/data/PF00397/tmp/2750728949833174504/clu_tmp/11756354771537127490/linclust/3771597180686387089/pre_clust \n",
      "\n",
      "Time for processing: 0h 0m 0s 0ms\n",
      "rmdb /home/cyril/Documents/These/data/PF00397/tmp/2750728949833174504/clu_tmp/11756354771537127490/linclust/3771597180686387089/input_step_redundancy \n",
      "\n",
      "Time for processing: 0h 0m 0s 0ms\n",
      "rmdb /home/cyril/Documents/These/data/PF00397/tmp/2750728949833174504/clu_tmp/11756354771537127490/linclust/3771597180686387089/pref_filter1 \n",
      "\n",
      "Time for processing: 0h 0m 0s 0ms\n",
      "rmdb /home/cyril/Documents/These/data/PF00397/tmp/2750728949833174504/clu_tmp/11756354771537127490/linclust/3771597180686387089/pref_filter2 \n",
      "\n",
      "Time for processing: 0h 0m 0s 0ms\n",
      "rmdb /home/cyril/Documents/These/data/PF00397/tmp/2750728949833174504/clu_tmp/11756354771537127490/linclust/3771597180686387089/clust \n",
      "\n",
      "Time for processing: 0h 0m 0s 0ms\n",
      "createsubdb /home/cyril/Documents/These/data/PF00397/tmp/2750728949833174504/clu_tmp/11756354771537127490/clu_redundancy /home/cyril/Documents/These/data/PF00397/tmp/2750728949833174504/input /home/cyril/Documents/These/data/PF00397/tmp/2750728949833174504/clu_tmp/11756354771537127490/input_step_redundancy -v 3 --subdb-mode 1 \n",
      "\n",
      "Time for merging to input_step_redundancy: 0h 0m 0s 0ms\n",
      "Time for processing: 0h 0m 0s 1ms\n",
      "prefilter /home/cyril/Documents/These/data/PF00397/tmp/2750728949833174504/clu_tmp/11756354771537127490/input_step_redundancy /home/cyril/Documents/These/data/PF00397/tmp/2750728949833174504/clu_tmp/11756354771537127490/input_step_redundancy /home/cyril/Documents/These/data/PF00397/tmp/2750728949833174504/clu_tmp/11756354771537127490/pref_step0 --sub-mat nucl:nucleotide.out,aa:blosum62.out --seed-sub-mat nucl:nucleotide.out,aa:VTML80.out -s 1 -k 0 --k-score 2147483647 --alph-size 21 --max-seq-len 65535 --max-seqs 20 --split 0 --split-mode 2 --split-memory-limit 0 -c 0.8 --cov-mode 0 --comp-bias-corr 0 --diag-score 0 --exact-kmer-matching 0 --mask 1 --mask-lower-case 0 --min-ungapped-score 0 --add-self-matches 0 --spaced-kmer-mode 1 --db-load-mode 0 --pca 1 --pcb 1.5 --threads 12 --compressed 0 -v 3 \n",
      "\n",
      "Query database size: 3206 type: Aminoacid\n",
      "Estimated memory consumption: 980M\n",
      "Target database size: 3206 type: Aminoacid\n"
     ]
    },
    {
     "name": "stdout",
     "output_type": "stream",
     "text": [
      "Index table k-mer threshold: 154 at k-mer size 6 \r\n",
      "Index table: counting k-mers\r\n",
      "[>                                                                ] 0.00% 1 eta -\r",
      "[>                                                                ] 1.03% 34 eta 0s       \r",
      "[>                                                                ] 1.12% 37 eta 0s       \r",
      "[>                                                                ] 1.22% 40 eta 0s       \r",
      "[>                                                                ] 1.09% 36 eta 0s       \r",
      "[>                                                                ] 1.15% 38 eta 0s       \r",
      "[=>                                                               ] 2.18% 71 eta 0s       \r",
      "[=>                                                               ] 2.25% 73 eta 0s       \r",
      "[=>                                                               ] 2.22% 72 eta 0s       \r",
      "[=>                                                               ] 2.28% 74 eta 0s       \r",
      "[>                                                                ] 1.06% 35 eta 0s       \r",
      "[=>                                                               ] 2.40% 78 eta 0s       \r",
      "[>                                                                ] 1.28% 42 eta 0s       \r",
      "[=>                                                               ] 2.37% 77 eta 0s       \r",
      "[>                                                                ] 1.25% 41 eta 0s       \r",
      "[=>                                                               ] 2.84% 92 eta 0s       \r",
      "[=>                                                               ] 2.93% 95 eta 0s       \r",
      "[=>                                                               ] 2.31% 75 eta 0s       \r",
      "[=>                                                               ] 2.90% 94 eta 0s       \r",
      "[=>                                                               ] 3.03% 98 eta 0s       \r",
      "[=>                                                               ] 2.34% 76 eta 0s       \r",
      "[=>                                                               ] 2.87% 93 eta 0s       \r",
      "[==>                                                              ] 3.46% 112 eta 0s       \r",
      "[==>                                                              ] 3.43% 111 eta 0s       \r",
      "[==>                                                              ] 3.53% 114 eta 0s       \r",
      "[==>                                                              ] 3.59% 116 eta 0s       \r",
      "[==>                                                              ] 3.62% 117 eta 0s       \r",
      "[>                                                                ] 1.19% 39 eta 0s       \r",
      "[=>                                                               ] 2.96% 96 eta 0s       \r",
      "[==>                                                              ] 3.56% 115 eta 0s       \r",
      "[==>                                                              ] 3.49% 113 eta 0s       \r",
      "[=>                                                               ] 3.00% 97 eta 0s       \r",
      "[==>                                                              ] 4.18% 135 eta 0s       \r",
      "[==>                                                              ] 4.24% 137 eta 0s       \r",
      "[==>                                                              ] 4.27% 138 eta 0s       \r",
      "[==>                                                              ] 4.21% 136 eta 0s       \r",
      "[===>                                                             ] 5.24% 169 eta 0s       \r",
      "[===>                                                             ] 5.27% 170 eta 0s       \r",
      "[===>                                                             ] 5.34% 172 eta 0s       \r",
      "[===>                                                             ] 5.40% 174 eta 0s       \r",
      "[===>                                                             ] 5.37% 173 eta 0s       \r",
      "[===>                                                             ] 5.62% 181 eta 0s       \r",
      "[===>                                                             ] 5.65% 182 eta 0s       \r",
      "[===>                                                             ] 5.52% 178 eta 0s       \r",
      "[=>                                                               ] 3.06% 99 eta 0s       \r",
      "[====>                                                            ] 6.21% 200 eta 0s       \r",
      "[====>                                                            ] 6.27% 202 eta 0s       \r",
      "[===>                                                             ] 5.43% 175 eta 0s       \r",
      "[===>                                                             ] 5.49% 177 eta 0s       \r",
      "[====>                                                            ] 6.49% 209 eta 0s       \r",
      "[====>                                                            ] 6.46% 208 eta 0s       \r",
      "[===>                                                             ] 5.30% 171 eta 0s       \r",
      "[====>                                                            ] 6.24% 201 eta 0s       \r",
      "[====>                                                            ] 6.55% 211 eta 0s       \r",
      "[====>                                                            ] 6.61% 213 eta 0s       \r",
      "[====>                                                            ] 6.52% 210 eta 0s       \r",
      "[====>                                                            ] 6.58% 212 eta 0s       \r",
      "[====>                                                            ] 6.74% 217 eta 0s       \r",
      "[====>                                                            ] 6.80% 219 eta 0s       \r",
      "[===>                                                             ] 5.68% 183 eta 0s       \r",
      "[====>                                                            ] 6.83% 220 eta 0s       \r",
      "[====>                                                            ] 6.65% 214 eta 0s       \r",
      "[====>                                                            ] 6.77% 218 eta 0s       \r",
      "[===>                                                             ] 5.46% 176 eta 0s       \r",
      "[====>                                                            ] 7.36% 237 eta 0s       \r",
      "[====>                                                            ] 7.43% 239 eta 0s       \r",
      "[====>                                                            ] 7.33% 236 eta 0s       \r",
      "[====>                                                            ] 7.39% 238 eta 0s       \r",
      "[====>                                                            ] 7.46% 240 eta 0s       \r",
      "[====>                                                            ] 7.64% 246 eta 0s       \r",
      "[====>                                                            ] 7.49% 241 eta 0s       \r",
      "[=====>                                                           ] 7.77% 250 eta 0s       \r",
      "[=====>                                                           ] 7.71% 248 eta 0s       \r",
      "[=====>                                                           ] 7.80% 251 eta 0s       \r",
      "[====>                                                            ] 7.52% 242 eta 0s       \r",
      "[=====>                                                           ] 8.55% 275 eta 0s       \r",
      "[====>                                                            ] 7.68% 247 eta 0s       \r",
      "[=====>                                                           ] 8.80% 283 eta 0s       \r",
      "[=====>                                                           ] 7.74% 249 eta 0s       \r",
      "[=====>                                                           ] 8.67% 279 eta 0s       \r",
      "[=====>                                                           ] 8.71% 280 eta 0s       \r",
      "[=====>                                                           ] 8.74% 281 eta 0s       \r",
      "[=====>                                                           ] 8.58% 276 eta 0s       \r",
      "[=====>                                                           ] 8.99% 289 eta 0s       \r",
      "[=====>                                                           ] 8.61% 277 eta 0s       \r",
      "[=====>                                                           ] 8.86% 285 eta 0s       \r",
      "[=====>                                                           ] 8.77% 282 eta 0s       \r",
      "[=====>                                                           ] 8.64% 278 eta 0s       \r",
      "[=====>                                                           ] 9.02% 290 eta 0s       \r",
      "[======>                                                          ] 10.08% 324 eta 0s       \r",
      "[======>                                                          ] 10.11% 325 eta 0s       \r",
      "[======>                                                          ] 10.14% 326 eta 0s       \r",
      "[======>                                                          ] 10.20% 328 eta 0s       \r",
      "[=====>                                                           ] 8.95% 288 eta 0s       \r",
      "[======>                                                          ] 10.23% 329 eta 0s       \r",
      "[======>                                                          ] 10.05% 323 eta 0s       \r",
      "[======>                                                          ] 10.17% 327 eta 0s       \r",
      "[======>                                                          ] 10.27% 330 eta 0s       \r",
      "[======>                                                          ] 10.30% 331 eta 0s       \r",
      "[=====>                                                           ] 8.83% 284 eta 0s       \r",
      "[=======>                                                         ] 11.29% 363 eta 0s       \r",
      "[=======>                                                         ] 11.54% 371 eta 0s       \r",
      "[=======>                                                         ] 11.51% 370 eta 0s       \r",
      "[=======>                                                         ] 11.48% 369 eta 0s       \r",
      "[=======>                                                         ] 11.33% 364 eta 0s       \r",
      "[=======>                                                         ] 11.39% 366 eta 0s       \r",
      "[=======>                                                         ] 11.61% 373 eta 0s       \r",
      "[=======>                                                         ] 11.36% 365 eta 0s       \r",
      "[========>                                                        ] 12.45% 400 eta 0s       \r",
      "[========>                                                        ] 12.51% 402 eta 0s       \r",
      "[========>                                                        ] 12.48% 401 eta 0s       \r",
      "[========>                                                        ] 12.57% 404 eta 0s       \r",
      "[========>                                                        ] 12.61% 405 eta 0s       \r",
      "[========>                                                        ] 12.54% 403 eta 0s       \r",
      "[========>                                                        ] 13.57% 436 eta 0s       \r",
      "[========>                                                        ] 13.60% 437 eta 0s       \r",
      "[========>                                                        ] 13.67% 439 eta 0s       \r",
      "[=======>                                                         ] 11.42% 367 eta 0s       \r",
      "[========>                                                        ] 13.63% 438 eta 0s       \r",
      "[=========>                                                       ] 13.95% 448 eta 0s       \r",
      "[=========>                                                       ] 14.01% 450 eta 0s       \r",
      "[========>                                                        ] 13.70% 440 eta 0s       \r",
      "[=======>                                                         ] 11.45% 368 eta 0s       \r",
      "[=========>                                                       ] 13.92% 447 eta 0s       \r",
      "[=========>                                                       ] 14.20% 456 eta 0s       \r",
      "[=========>                                                       ] 14.26% 458 eta 0s       \r",
      "[=========>                                                       ] 14.29% 459 eta 0s       \r",
      "[=========>                                                       ] 14.04% 451 eta 0s       \r",
      "[========>                                                        ] 13.73% 441 eta 0s       \r",
      "[=========>                                                       ] 13.98% 449 eta 0s       \r",
      "[=========>                                                       ] 15.01% 482 eta 0s       \r",
      "[=========>                                                       ] 15.07% 484 eta 0s       \r",
      "[=========>                                                       ] 15.13% 486 eta 0s       \r",
      "[=========>                                                       ] 14.23% 457 eta 0s       \r",
      "[=======>                                                         ] 11.58% 372 eta 0s       \r",
      "[=========>                                                       ] 15.23% 489 eta 0s       \r",
      "[=========>                                                       ] 15.04% 483 eta 0s       \r",
      "[========>                                                        ] 13.76% 442 eta 0s       \r",
      "[=========>                                                       ] 15.29% 491 eta 0s       \r",
      "[=========>                                                       ] 15.32% 492 eta 0s       \r",
      "[=========>                                                       ] 15.26% 490 eta 0s       \r",
      "[=========>                                                       ] 15.10% 485 eta 0s       \r",
      "[==========>                                                      ] 15.51% 498 eta 0s       \r",
      "[==========>                                                      ] 15.57% 500 eta 0s       \r",
      "[==========>                                                      ] 15.69% 504 eta 0s       \r",
      "[==========>                                                      ] 15.60% 501 eta 0s       \r",
      "[==========>                                                      ] 15.54% 499 eta 0s       \r",
      "[==========>                                                      ] 15.63% 502 eta 0s       \r",
      "[=========>                                                       ] 15.16% 487 eta 0s       \r",
      "[==========>                                                      ] 16.29% 523 eta 0s       \r",
      "[==========>                                                      ] 16.41% 527 eta 0s       \r",
      "[==========>                                                      ] 16.38% 526 eta 0s       \r",
      "[==========>                                                      ] 16.44% 528 eta 0s       \r",
      "[==========>                                                      ] 16.32% 524 eta 0s       \r",
      "[==========>                                                      ] 16.35% 525 eta 0s       \r",
      "[===========>                                                     ] 17.38% 558 eta 0s       \r",
      "[===========>                                                     ] 17.54% 563 eta 0s       \r",
      "[===========>                                                     ] 17.57% 564 eta 0s       \r",
      "[===========>                                                     ] 17.63% 566 eta 0s       \r",
      "[===========>                                                     ] 17.50% 562 eta 0s       \r",
      "[===========>                                                     ] 17.41% 559 eta 0s       \r",
      "[===========>                                                     ] 17.66% 567 eta 0s       \r",
      "[============>                                                    ] 18.75% 602 eta 0s       \r",
      "[============>                                                    ] 18.72% 601 eta 0s       \r",
      "[============>                                                    ] 18.69% 600 eta 0s       \r",
      "[============>                                                    ] 18.85% 605 eta 0s       \r",
      "[===========>                                                     ] 17.60% 565 eta 0s       \r",
      "[============>                                                    ] 18.91% 607 eta 0s       \r",
      "[===========>                                                     ] 17.44% 560 eta 0s       \r",
      "[============>                                                    ] 18.88% 606 eta 0s       \r",
      "[============>                                                    ] 19.00% 610 eta 0s       \r",
      "[============>                                                    ] 18.94% 608 eta 0s       \r",
      "[============>                                                    ] 18.78% 603 eta 0s       \r",
      "[============>                                                    ] 19.03% 611 eta 0s       \r",
      "[============>                                                    ] 18.81% 604 eta 0s       \r",
      "[=============>                                                   ] 20.03% 643 eta 0s       \r",
      "[=============>                                                   ] 20.12% 646 eta 0s       \r",
      "[=============>                                                   ] 20.09% 645 eta 0s       \r",
      "[=============>                                                   ] 20.16% 647 eta 0s       \r",
      "[=============>                                                   ] 20.25% 650 eta 0s       \r",
      "[=============>                                                   ] 20.22% 649 eta 0s       \r",
      "[=============>                                                   ] 21.25% 682 eta 0s       \r",
      "[=============>                                                   ] 21.44% 688 eta 0s       \r",
      "[=============>                                                   ] 21.28% 683 eta 0s       \r",
      "[=============>                                                   ] 21.53% 691 eta 0s       \r",
      "[=============>                                                   ] 21.37% 686 eta 0s       \r",
      "[=============>                                                   ] 21.40% 687 eta 0s       \r",
      "[=============>                                                   ] 20.19% 648 eta 0s       \r",
      "[=============>                                                   ] 21.31% 684 eta 0s       \r",
      "[==============>                                                  ] 21.84% 701 eta 0s       \r",
      "[==============>                                                  ] 21.90% 703 eta 0s       \r",
      "[=============>                                                   ] 21.34% 685 eta 0s       \r",
      "[=============>                                                   ] 21.47% 689 eta 0s       \r",
      "[==============>                                                  ] 21.87% 702 eta 0s       \r",
      "[==============>                                                  ] 21.93% 704 eta 0s       \r",
      "[===========>                                                     ] 17.47% 561 eta 0s       \r",
      "[==============>                                                  ] 22.81% 732 eta 0s       \r",
      "[==============>                                                  ] 22.84% 733 eta 0s       \r",
      "[==============>                                                  ] 22.96% 737 eta 0s       \r",
      "[==============>                                                  ] 23.00% 738 eta 0s       \r",
      "[==============>                                                  ] 22.87% 734 eta 0s       \r",
      "[=============>                                                   ] 21.50% 690 eta 0s       \r",
      "[==============>                                                  ] 23.03% 739 eta 0s       \r",
      "[===============>                                                 ] 23.62% 758 eta 0s       \r",
      "[===============>                                                 ] 23.71% 761 eta 0s       \r",
      "[===============>                                                 ] 23.68% 760 eta 0s       \r",
      "[==============>                                                  ] 22.90% 735 eta 0s       \r",
      "[===============>                                                 ] 23.74% 762 eta 0s       \r",
      "[===============>                                                 ] 23.65% 759 eta 0s       \r",
      "[===============>                                                 ] 23.87% 766 eta 0s       \r",
      "[===============>                                                 ] 23.90% 767 eta 0s       \r",
      "[===============>                                                 ] 24.02% 771 eta 0s       \r",
      "[===============>                                                 ] 24.09% 773 eta 0s       \r",
      "[=============>                                                   ] 20.06% 644 eta 0s       \r",
      "[===============>                                                 ] 24.06% 772 eta 0s       \r",
      "[===============>                                                 ] 24.27% 779 eta 0s       \r",
      "[===============>                                                 ] 24.31% 780 eta 0s       \r",
      "[===============>                                                 ] 24.15% 775 eta 0s       \r",
      "[==============>                                                  ] 22.93% 736 eta 0s       \r",
      "[===============>                                                 ] 24.56% 788 eta 0s       \r",
      "[===============>                                                 ] 24.12% 774 eta 0s       \r",
      "[================>                                                ] 25.15% 807 eta 0s       \r",
      "[================>                                                ] 25.21% 809 eta 0s       \r",
      "[================>                                                ] 25.18% 808 eta 0s       \r",
      "[================>                                                ] 25.30% 812 eta 0s       \r",
      "[===============>                                                 ] 24.59% 789 eta 0s       \r",
      "[================>                                                ] 25.34% 813 eta 0s       \r",
      "[================>                                                ] 25.24% 810 eta 0s       \r",
      "[===============>                                                 ] 24.34% 781 eta 0s       \r",
      "[================>                                                ] 25.83% 829 eta 0s       \r",
      "[================>                                                ] 25.93% 832 eta 0s       \r",
      "[===============>                                                 ] 23.84% 765 eta 0s       \r",
      "[================>                                                ] 25.96% 833 eta 0s       \r",
      "[================>                                                ] 25.90% 831 eta 0s       \r",
      "[=================>                                               ] 26.96% 865 eta 0s       \r",
      "[================>                                                ] 25.27% 811 eta 0s       \r",
      "[=================>                                               ] 27.05% 868 eta 0s       \r",
      "[=================>                                               ] 26.99% 866 eta 0s       \r",
      "[=================>                                               ] 27.08% 869 eta 0s       \r",
      "[=================>                                               ] 27.27% 875 eta 0s       \r",
      "[================>                                                ] 25.87% 830 eta 0s       \r",
      "[=================>                                               ] 27.11% 870 eta 0s       \r",
      "[=================>                                               ] 27.43% 880 eta 0s       \r",
      "[=================>                                               ] 27.02% 867 eta 0s       \r",
      "[=================>                                               ] 27.55% 884 eta 0s       \r",
      "[=================>                                               ] 27.49% 882 eta 0s       \r",
      "[=================>                                               ] 27.30% 876 eta 0s       \r",
      "[================>                                                ] 25.99% 834 eta 0s       \r",
      "[==================>                                              ] 28.05% 900 eta 0s       \r",
      "[==================>                                              ] 28.11% 902 eta 0s       \r",
      "[==================>                                              ] 28.17% 904 eta 0s       \r",
      "[=================>                                               ] 27.46% 881 eta 0s       \r",
      "[==================>                                              ] 28.14% 903 eta 0s       \r",
      "[==================>                                              ] 28.42% 912 eta 0s       \r",
      "[==================>                                              ] 28.49% 914 eta 0s       \r",
      "[==================>                                              ] 28.08% 901 eta 0s       \r",
      "[==================>                                              ] 28.52% 915 eta 0s       \r",
      "[==================>                                              ] 28.55% 916 eta 0s       \r",
      "[==================>                                              ] 28.46% 913 eta 0s       \r",
      "[==================>                                              ] 28.83% 925 eta 0s       \r",
      "[==================>                                              ] 28.89% 927 eta 0s       \r",
      "[==================>                                              ] 28.21% 905 eta 0s       \r",
      "[=================>                                               ] 27.52% 883 eta 0s       \r",
      "[==================>                                              ] 29.20% 937 eta 0s       \r",
      "[===================>                                             ] 29.33% 941 eta 0s       \r",
      "[==================>                                              ] 28.92% 928 eta 0s       \r",
      "[==================>                                              ] 28.95% 929 eta 0s       \r",
      "[===================>                                             ] 29.27% 939 eta 0s       \r",
      "[===================>                                             ] 29.30% 940 eta 0s       \r",
      "[==================>                                              ] 28.86% 926 eta 0s       \r",
      "[==================>                                              ] 28.58% 917 eta 0s       \r",
      "[===================>                                             ] 29.36% 942 eta 0s       \r",
      "[===================>                                             ] 29.89% 959 eta 0s       \r",
      "[===================>                                             ] 30.05% 964 eta 0s       \r",
      "[===================>                                             ] 29.24% 938 eta 0s       \r",
      "[===================>                                             ] 29.95% 961 eta 0s       \r",
      "[===================>                                             ] 30.20% 969 eta 0s       \r",
      "[===================>                                             ] 30.23% 970 eta 0s       \r",
      "[===================>                                             ] 30.08% 965 eta 0s       \r",
      "[===================>                                             ] 30.36% 974 eta 0s       \r",
      "[===================>                                             ] 30.45% 977 eta 0s       \r",
      "[===================>                                             ] 29.98% 962 eta 0s       \r",
      "[===================>                                             ] 30.27% 971 eta 0s       \r",
      "[===================>                                             ] 30.39% 975 eta 0s       \r",
      "[===================>                                             ] 29.92% 960 eta 0s       \r",
      "[====================>                                            ] 30.95% 993 eta 0s       \r",
      "[====================>                                            ] 31.05% 996 eta 0s       \r",
      "[===================>                                             ] 30.42% 976 eta 0s       \r",
      "[====================>                                            ] 31.01% 995 eta 0s       \r",
      "[====================>                                            ] 31.08% 997 eta 0s       \r",
      "[====================>                                            ] 31.45% 1.01K eta 0s       \r",
      "[====================>                                            ] 31.58% 1.01K eta 0s       \r",
      "[====================>                                            ] 31.61% 1.01K eta 0s       \r",
      "[====================>                                            ] 30.98% 994 eta 0s       \r",
      "[====================>                                            ] 31.92% 1.02K eta 0s       \r",
      "[====================>                                            ] 31.89% 1.02K eta 0s       \r",
      "[====================>                                            ] 31.86% 1.02K eta 0s       \r",
      "[====================>                                            ] 32.01% 1.03K eta 0s       \r",
      "[====================>                                            ] 31.83% 1.02K eta 0s       \r",
      "[====================>                                            ] 32.04% 1.03K eta 0s       \r",
      "[=====================>                                           ] 32.89% 1.05K eta 0s       \r",
      "[=====================>                                           ] 32.92% 1.06K eta 0s       \r",
      "[=====================>                                           ] 32.98% 1.06K eta 0s       \r",
      "[=====================>                                           ] 32.95% 1.06K eta 0s       \r",
      "[======================>                                          ] 34.13% 1.10K eta 0s       \r",
      "[======================>                                          ] 33.95% 1.09K eta 0s       \r",
      "[======================>                                          ] 34.04% 1.09K eta 0s       \r",
      "[======================>                                          ] 34.10% 1.09K eta 0s       \r",
      "[======================>                                          ] 34.20% 1.10K eta 0s       \r",
      "[======================>                                          ] 34.01% 1.09K eta 0s       \r",
      "[======================>                                          ] 34.07% 1.09K eta 0s       \r",
      "[======================>                                          ] 34.17% 1.10K eta 0s       \r",
      "[======================>                                          ] 33.98% 1.09K eta 0s       \r",
      "[======================>                                          ] 35.13% 1.13K eta 0s       \r",
      "[======================>                                          ] 35.20% 1.13K eta 0s       \r",
      "[======================>                                          ] 35.16% 1.13K eta 0s       \r",
      "[======================>                                          ] 35.26% 1.13K eta 0s       \r",
      "[======================>                                          ] 35.29% 1.13K eta 0s       \r",
      "[======================>                                          ] 35.35% 1.13K eta 0s       \r",
      "[======================>                                          ] 35.10% 1.13K eta 0s       \r",
      "[=======================>                                         ] 36.13% 1.16K eta 0s       \r",
      "[=======================>                                         ] 36.22% 1.16K eta 0s       \r",
      "[=======================>                                         ] 36.19% 1.16K eta 0s       \r",
      "[=======================>                                         ] 36.26% 1.16K eta 0s       \r",
      "[=======================>                                         ] 36.29% 1.16K eta 0s       \r",
      "[=======================>                                         ] 36.16% 1.16K eta 0s       \r",
      "[======================>                                          ] 35.23% 1.13K eta 0s       \r",
      "[======================>                                          ] 35.32% 1.13K eta 0s       \r",
      "[=======================>                                         ] 36.88% 1.18K eta 0s       \r",
      "[=======================>                                         ] 36.91% 1.18K eta 0s       \r",
      "[========================>                                        ] 36.94% 1.18K eta 0s       \r",
      "[=======================>                                         ] 36.82% 1.18K eta 0s       \r",
      "[=======================>                                         ] 36.85% 1.18K eta 0s       \r",
      "[=======================>                                         ] 36.72% 1.18K eta 0s       \r",
      "[=======================>                                         ] 36.79% 1.18K eta 0s       \r",
      "[========================>                                        ] 37.82% 1.21K eta 0s       \r",
      "[========================>                                        ] 37.85% 1.21K eta 0s       \r",
      "[========================>                                        ] 37.88% 1.22K eta 0s       \r",
      "[========================>                                        ] 37.97% 1.22K eta 0s       \r",
      "[========================>                                        ] 37.91% 1.22K eta 0s       \r",
      "[========================>                                        ] 36.97% 1.19K eta 0s       \r",
      "[========================>                                        ] 38.22% 1.23K eta 0s       \r",
      "[========================>                                        ] 37.94% 1.22K eta 0s       \r",
      "[========================>                                        ] 38.25% 1.23K eta 0s       \r",
      "[========================>                                        ] 38.32% 1.23K eta 0s       \r",
      "[========================>                                        ] 38.38% 1.23K eta 0s       \r",
      "[========================>                                        ] 38.03% 1.22K eta 0s       \r",
      "[========================>                                        ] 38.00% 1.22K eta 0s       \r",
      "[=========================>                                       ] 39.03% 1.25K eta 0s       \r",
      "[=========================>                                       ] 39.06% 1.25K eta 0s       \r",
      "[========================>                                        ] 38.41% 1.23K eta 0s       \r",
      "[=========================>                                       ] 39.28% 1.26K eta 0s       \r",
      "[=========================>                                       ] 39.10% 1.25K eta 0s       \r",
      "[=========================>                                       ] 39.44% 1.26K eta 0s       \r",
      "[===================>                                             ] 30.02% 963 eta 0s       \r",
      "[=========================>                                       ] 39.34% 1.26K eta 0s       \r",
      "[=========================>                                       ] 39.22% 1.26K eta 0s       \r",
      "[=========================>                                       ] 39.25% 1.26K eta 0s       \r",
      "[=========================>                                       ] 39.56% 1.27K eta 0s       \r",
      "[=========================>                                       ] 39.63% 1.27K eta 0s       \r",
      "[=========================>                                       ] 39.41% 1.26K eta 0s       \r",
      "[==========================>                                      ] 40.44% 1.30K eta 0s       \r",
      "[==========================>                                      ] 40.47% 1.30K eta 0s       \r",
      "[=========================>                                       ] 39.31% 1.26K eta 0s       \r",
      "[=======================>                                         ] 36.76% 1.18K eta 0s       \r",
      "[=========================>                                       ] 39.59% 1.27K eta 0s       \r",
      "[========================>                                        ] 38.28% 1.23K eta 0s       \r",
      "[==========================>                                      ] 40.87% 1.31K eta 0s       \r",
      "[==========================>                                      ] 40.90% 1.31K eta 0s       \r",
      "[==========================>                                      ] 40.94% 1.31K eta 0s       \r",
      "[==========================>                                      ] 40.53% 1.30K eta 0s       \r",
      "[==========================>                                      ] 41.09% 1.32K eta 0s       \r",
      "[==========================>                                      ] 40.50% 1.30K eta 0s       \r",
      "[==========================>                                      ] 41.00% 1.32K eta 0s       \r",
      "[==========================>                                      ] 41.06% 1.32K eta 0s       \r",
      "[===========================>                                     ] 42.09% 1.35K eta 0s       \r",
      "[===========================>                                     ] 42.18% 1.35K eta 0s       \r",
      "[==========================>                                      ] 41.12% 1.32K eta 0s       \r",
      "[===========================>                                     ] 42.22% 1.35K eta 0s       \r",
      "[===========================>                                     ] 42.28% 1.36K eta 0s       \r",
      "[===========================>                                     ] 42.12% 1.35K eta 0s       \r",
      "[===========================>                                     ] 42.34% 1.36K eta 0s       \r",
      "[===========================>                                     ] 42.43% 1.36K eta 0s       \r",
      "[===========================>                                     ] 42.50% 1.36K eta 0s       \r",
      "[===========================>                                     ] 42.31% 1.36K eta 0s       \r",
      "[==========================>                                      ] 41.03% 1.32K eta 0s       \r",
      "[===========================>                                     ] 42.75% 1.37K eta 0s       \r",
      "[===========================>                                     ] 42.68% 1.37K eta 0s       \r",
      "[===========================>                                     ] 42.78% 1.37K eta 0s       \r",
      "[===========================>                                     ] 42.56% 1.37K eta 0s       \r",
      "[===========================>                                     ] 42.46% 1.36K eta 0s       \r",
      "[==========================>                                      ] 40.97% 1.31K eta 0s       \r",
      "[===========================>                                     ] 42.53% 1.36K eta 0s       \r",
      "[============================>                                    ] 43.43% 1.39K eta 0s       \r",
      "[============================>                                    ] 43.49% 1.39K eta 0s       \r",
      "[===========================>                                     ] 42.81% 1.37K eta 0s       \r",
      "[============================>                                    ] 43.46% 1.39K eta 0s       \r",
      "[============================>                                    ] 43.78% 1.40K eta 0s       \r",
      "[============================>                                    ] 43.59% 1.40K eta 0s       \r",
      "[===========================>                                     ] 42.71% 1.37K eta 0s       \r",
      "[============================>                                    ] 43.90% 1.41K eta 0s       \r",
      "[============================>                                    ] 43.71% 1.40K eta 0s       \r",
      "[============================>                                    ] 43.96% 1.41K eta 0s       \r",
      "[============================>                                    ] 43.99% 1.41K eta 0s       \r",
      "[============================>                                    ] 43.53% 1.40K eta 0s       \r",
      "[============================>                                    ] 43.93% 1.41K eta 0s       \r",
      "[===========================>                                     ] 42.15% 1.35K eta 0s       \r",
      "[============================>                                    ] 43.74% 1.40K eta 0s       \r",
      "[=============================>                                   ] 44.84% 1.44K eta 0s       \r",
      "[=============================>                                   ] 44.87% 1.44K eta 0s       \r",
      "[=============================>                                   ] 45.05% 1.45K eta 0s       \r",
      "[=============================>                                   ] 45.02% 1.44K eta 0s       \r",
      "[=============================>                                   ] 45.09% 1.45K eta 0s       \r",
      "[=============================>                                   ] 44.93% 1.44K eta 0s       \r",
      "[=============================>                                   ] 44.99% 1.44K eta 0s       \r",
      "[============================>                                    ] 43.68% 1.40K eta 0s       \r",
      "[=============================>                                   ] 44.90% 1.44K eta 0s       \r",
      "[=============================>                                   ] 44.96% 1.44K eta 0s       \r",
      "[=============================>                                   ] 45.40% 1.46K eta 0s       \r",
      "[=============================>                                   ] 45.59% 1.46K eta 0s       \r",
      "[============================>                                    ] 43.56% 1.40K eta 0s       \r",
      "[=============================>                                   ] 45.43% 1.46K eta 0s       \r",
      "[=============================>                                   ] 45.52% 1.46K eta 0s       \r",
      "[=============================>                                   ] 45.55% 1.46K eta 0s       \r",
      "[==============================>                                  ] 46.58% 1.49K eta 0s       \r",
      "[==============================>                                  ] 46.68% 1.50K eta 0s       \r",
      "[=============================>                                   ] 45.46% 1.46K eta 0s       \r",
      "[==============================>                                  ] 46.65% 1.50K eta 0s       \r",
      "[==============================>                                  ] 46.99% 1.51K eta 0s       \r",
      "[==============================>                                  ] 47.02% 1.51K eta 0s       \r",
      "[==============================>                                  ] 47.24% 1.51K eta 0s       \r",
      "[==============================>                                  ] 47.21% 1.51K eta 0s       \r",
      "[=============================>                                   ] 45.49% 1.46K eta 0s       \r",
      "[==============================>                                  ] 46.61% 1.50K eta 0s       \r",
      "[==============================>                                  ] 47.58% 1.53K eta 0s       \r",
      "[==============================>                                  ] 47.68% 1.53K eta 0s       \r",
      "[===============================>                                 ] 47.71% 1.53K eta 0s       \r",
      "[==============================>                                  ] 47.64% 1.53K eta 0s       \r",
      "[==============================>                                  ] 47.61% 1.53K eta 0s       \r",
      "[==============================>                                  ] 47.05% 1.51K eta 0s       \r",
      "[==============================>                                  ] 47.27% 1.52K eta 0s       \r",
      "[===============================>                                 ] 47.99% 1.54K eta 0s       \r",
      "[===============================>                                 ] 47.96% 1.54K eta 0s       \r",
      "[===============================>                                 ] 48.99% 1.57K eta 0s       \r",
      "[===============================>                                 ] 49.02% 1.57K eta 0s       \r",
      "[===============================>                                 ] 49.08% 1.57K eta 0s       \r",
      "[===============================>                                 ] 49.11% 1.58K eta 0s       \r",
      "[==============================>                                  ] 47.08% 1.51K eta 0s       \r",
      "[==============================>                                  ] 47.55% 1.52K eta 0s       \r",
      "[===============================>                                 ] 49.05% 1.57K eta 0s       \r",
      "[===============================>                                 ] 49.20% 1.58K eta 0s       \r",
      "[================================>                                ] 49.58% 1.59K eta 0s       \r",
      "[================================>                                ] 49.61% 1.59K eta 0s       \r",
      "[================================>                                ] 49.67% 1.59K eta 0s       \r",
      "[================================>                                ] 49.70% 1.59K eta 0s       \r",
      "[================================>                                ] 49.64% 1.59K eta 0s       \r",
      "[================================>                                ] 49.73% 1.60K eta 0s       \r",
      "[================================>                                ] 50.64% 1.62K eta 0s       \r",
      "[================================>                                ] 50.76% 1.63K eta 0s       \r",
      "[================================>                                ] 50.67% 1.62K eta 0s       \r",
      "[================================>                                ] 50.73% 1.63K eta 0s       \r",
      "[=================================>                               ] 50.92% 1.63K eta 0s       \r",
      "[=================================>                               ] 50.89% 1.63K eta 0s       \r",
      "[=================================>                               ] 50.83% 1.63K eta 0s       \r",
      "[=================================>                               ] 50.86% 1.63K eta 0s       \r",
      "[================================>                                ] 50.70% 1.63K eta 0s       \r",
      "[===============================>                                 ] 49.14% 1.58K eta 0s       \r",
      "[=================================>                               ] 51.64% 1.66K eta 0s       \r",
      "[=================================>                               ] 51.70% 1.66K eta 0s       \r",
      "[=================================>                               ] 50.80% 1.63K eta 0s       \r",
      "[=================================>                               ] 51.89% 1.66K eta 0s       \r",
      "[=================================>                               ] 51.98% 1.67K eta 0s       \r",
      "[=================================>                               ] 51.76% 1.66K eta 0s       \r",
      "[=================================>                               ] 51.61% 1.65K eta 0s       \r",
      "[=================================>                               ] 51.95% 1.67K eta 0s       \r",
      "[==================================>                              ] 52.98% 1.70K eta 0s       \r",
      "[==================================>                              ] 53.01% 1.70K eta 0s       \r",
      "[==================================>                              ] 53.07% 1.70K eta 0s       \r",
      "[=================================>                               ] 51.67% 1.66K eta 0s       \r",
      "[==================================>                              ] 53.04% 1.70K eta 0s       \r",
      "[==================================>                              ] 53.26% 1.71K eta 0s       \r",
      "[==================================>                              ] 53.32% 1.71K eta 0s       \r",
      "[=================================>                               ] 52.01% 1.67K eta 0s       \r",
      "[=================================>                               ] 51.92% 1.66K eta 0s       \r",
      "[==================================>                              ] 53.48% 1.72K eta 0s       \r",
      "[==================================>                              ] 53.54% 1.72K eta 0s       \r",
      "[==================================>                              ] 53.57% 1.72K eta 0s       \r",
      "[==================================>                              ] 53.10% 1.70K eta 0s       \r",
      "[==================================>                              ] 53.51% 1.72K eta 0s       \r",
      "[==================================>                              ] 53.29% 1.71K eta 0s       \r",
      "[==================================>                              ] 53.60% 1.72K eta 0s       \r",
      "[==================================>                              ] 53.14% 1.70K eta 0s       \r",
      "[=================================>                               ] 51.73% 1.66K eta 0s       \r",
      "[===================================>                             ] 54.20% 1.74K eta 0s       \r",
      "[===================================>                             ] 54.26% 1.74K eta 0s       \r",
      "[===================================>                             ] 54.17% 1.74K eta 0s       \r",
      "[===================================>                             ] 54.29% 1.74K eta 0s       \r",
      "[===================================>                             ] 54.45% 1.75K eta 0s       \r",
      "[==================================>                              ] 53.35% 1.71K eta 0s       \r",
      "[===================================>                             ] 54.73% 1.75K eta 0s       \r",
      "[===================================>                             ] 54.32% 1.74K eta 0s       \r",
      "[===================================>                             ] 54.41% 1.75K eta 0s       \r",
      "[===================================>                             ] 55.35% 1.77K eta 0s       \r",
      "[====================================>                            ] 55.44% 1.78K eta 0s       \r",
      "[====================================>                            ] 55.51% 1.78K eta 0s       \r",
      "[====================================>                            ] 55.48% 1.78K eta 0s       \r",
      "[====================================>                            ] 55.54% 1.78K eta 0s       \r",
      "[====================================>                            ] 56.51% 1.81K eta 0s       \r",
      "[====================================>                            ] 56.54% 1.81K eta 0s       \r",
      "[===================================>                             ] 54.13% 1.74K eta 0s       \r",
      "[====================================>                            ] 56.69% 1.82K eta 0s       \r",
      "[====================================>                            ] 56.76% 1.82K eta 0s       \r",
      "[====================================>                            ] 56.63% 1.82K eta 0s       \r",
      "[====================================>                            ] 56.79% 1.82K eta 0s       \r",
      "[====================================>                            ] 56.82% 1.82K eta 0s       \r",
      "[====================================>                            ] 56.57% 1.81K eta 0s       \r",
      "[====================================>                            ] 56.47% 1.81K eta 0s       \r",
      "[===================================>                             ] 54.23% 1.74K eta 0s       \r",
      "[====================================>                            ] 56.66% 1.82K eta 0s       \r",
      "[=====================================>                           ] 57.00% 1.83K eta 0s       \r",
      "[=====================================>                           ] 57.04% 1.83K eta 0s       \r",
      "[=====================================>                           ] 57.07% 1.83K eta 0s       \r",
      "[=====================================>                           ] 57.10% 1.83K eta 0s       \r",
      "[=====================================>                           ] 56.97% 1.83K eta 0s       \r",
      "[====================================>                            ] 56.72% 1.82K eta 0s       \r",
      "[=====================================>                           ] 57.75% 1.85K eta 0s       \r",
      "[=====================================>                           ] 57.91% 1.86K eta 0s       \r",
      "[=====================================>                           ] 57.78% 1.85K eta 0s       \r",
      "[=====================================>                           ] 57.88% 1.86K eta 0s       \r",
      "[=====================================>                           ] 58.35% 1.87K eta 0s       \r",
      "[======================================>                          ] 58.47% 1.88K eta 0s       \r",
      "[====================================>                            ] 56.60% 1.82K eta 0s       \r",
      "[=====================================>                           ] 57.82% 1.85K eta 0s       \r",
      "[======================================>                          ] 58.50% 1.88K eta 0s       \r",
      "[======================================>                          ] 58.72% 1.88K eta 0s       \r",
      "[======================================>                          ] 58.75% 1.88K eta 0s       \r",
      "[=====================================>                           ] 58.38% 1.87K eta 0s       \r",
      "[=====================================>                           ] 57.94% 1.86K eta 0s       \r",
      "[======================================>                          ] 59.10% 1.89K eta 0s       \r",
      "[======================================>                          ] 59.13% 1.90K eta 0s       \r",
      "[======================================>                          ] 59.16% 1.90K eta 0s       \r",
      "[=====================================>                           ] 57.85% 1.86K eta 0s       \r",
      "[======================================>                          ] 59.31% 1.90K eta 0s       \r",
      "[=====================================>                           ] 58.44% 1.87K eta 0s       \r",
      "[======================================>                          ] 59.28% 1.90K eta 0s       \r",
      "[=====================================>                           ] 58.41% 1.87K eta 0s       \r",
      "[======================================>                          ] 59.41% 1.90K eta 0s       \r",
      "[======================================>                          ] 59.56% 1.91K eta 0s       \r",
      "[======================================>                          ] 59.25% 1.90K eta 0s       \r",
      "[======================================>                          ] 59.59% 1.91K eta 0s       \r",
      "[======================================>                          ] 59.47% 1.91K eta 0s       \r",
      "[======================================>                          ] 59.22% 1.90K eta 0s       \r",
      "[======================================>                          ] 59.19% 1.90K eta 0s       \r",
      "[======================================>                          ] 59.44% 1.91K eta 0s       \r",
      "[=======================================>                         ] 60.47% 1.94K eta 0s       \r",
      "[=======================================>                         ] 60.53% 1.94K eta 0s       \r",
      "[======================================>                          ] 59.53% 1.91K eta 0s       \r",
      "[=======================================>                         ] 60.62% 1.94K eta 0s       \r",
      "[=======================================>                         ] 60.66% 1.95K eta 0s       \r",
      "[=======================================>                         ] 60.59% 1.94K eta 0s       \r",
      "[=======================================>                         ] 60.50% 1.94K eta 0s       \r",
      "[=======================================>                         ] 60.78% 1.95K eta 0s       \r",
      "[=======================================>                         ] 60.81% 1.95K eta 0s       \r",
      "[======================================>                          ] 59.50% 1.91K eta 0s       \r",
      "[=======================================>                         ] 60.75% 1.95K eta 0s       \r",
      "[=======================================>                         ] 61.00% 1.96K eta 0s       \r",
      "[=======================================>                         ] 61.03% 1.96K eta 0s       \r",
      "[=======================================>                         ] 61.06% 1.96K eta 0s       \r",
      "[=======================================>                         ] 61.12% 1.96K eta 0s       \r",
      "[=======================================>                         ] 60.56% 1.94K eta 0s       \r",
      "[=======================================>                         ] 60.72% 1.95K eta 0s       \r",
      "[=======================================>                         ] 61.09% 1.96K eta 0s       \r",
      "[========================================>                        ] 62.12% 1.99K eta 0s       \r",
      "[========================================>                        ] 62.15% 1.99K eta 0s       \r",
      "[========================================>                        ] 62.18% 1.99K eta 0s       \r",
      "[========================================>                        ] 62.22% 2.00K eta 0s       \r",
      "[========================================>                        ] 62.25% 2.00K eta 0s       \r",
      "[=======================================>                         ] 61.15% 1.96K eta 0s       \r",
      "[========================================>                        ] 62.31% 2.00K eta 0s       \r",
      "[========================================>                        ] 62.34% 2.00K eta 0s       \r",
      "[========================================>                        ] 62.59% 2.01K eta 0s       \r",
      "[========================================>                        ] 62.62% 2.01K eta 0s       \r",
      "[========================================>                        ] 62.28% 2.00K eta 0s       \r",
      "[========================================>                        ] 62.87% 2.02K eta 0s       \r",
      "[========================================>                        ] 62.65% 2.01K eta 0s       \r",
      "[========================================>                        ] 62.90% 2.02K eta 0s       \r",
      "[=========================================>                       ] 63.09% 2.02K eta 0s       \r",
      "[=========================================>                       ] 63.18% 2.03K eta 0s       \r",
      "[========================================>                        ] 63.06% 2.02K eta 0s       \r",
      "[=========================================>                       ] 63.15% 2.03K eta 0s       \r",
      "[=======================================>                         ] 61.19% 1.96K eta 0s       \r",
      "[=========================================>                       ] 63.74% 2.04K eta 0s       \r",
      "[=========================================>                       ] 63.78% 2.05K eta 0s       \r",
      "[========================================>                        ] 62.93% 2.02K eta 0s       \r",
      "[=========================================>                       ] 64.12% 2.06K eta 0s       \r",
      "[=========================================>                       ] 64.18% 2.06K eta 0s       \r",
      "[=========================================>                       ] 64.24% 2.06K eta 0s       \r",
      "[=========================================>                       ] 64.21% 2.06K eta 0s       \r",
      "[=========================================>                       ] 64.27% 2.06K eta 0s       \r",
      "[==========================================>                      ] 65.30% 2.09K eta 0s       \r",
      "[==========================================>                      ] 65.37% 2.10K eta 0s       \r",
      "[==========================================>                      ] 65.40% 2.10K eta 0s       \r",
      "[=========================================>                       ] 64.37% 2.06K eta 0s       \r",
      "[=========================================>                       ] 64.31% 2.06K eta 0s       \r",
      "[==========================================>                      ] 65.59% 2.10K eta 0s       \r",
      "[==========================================>                      ] 65.46% 2.10K eta 0s       \r",
      "[=========================================>                       ] 64.15% 2.06K eta 0s       \r",
      "[=========================================>                       ] 64.40% 2.07K eta 0s       \r",
      "[==========================================>                      ] 65.74% 2.11K eta 0s       \r",
      "[==========================================>                      ] 65.83% 2.11K eta 0s       \r",
      "[==========================================>                      ] 65.52% 2.10K eta 0s       \r",
      "[==========================================>                      ] 65.55% 2.10K eta 0s       \r",
      "[=========================================>                       ] 63.12% 2.02K eta 0s       \r",
      "[==========================================>                      ] 66.05% 2.12K eta 0s       \r",
      "[==========================================>                      ] 66.08% 2.12K eta 0s       \r",
      "[===========================================>                     ] 66.18% 2.12K eta 0s       \r",
      "[=========================================>                       ] 64.34% 2.06K eta 0s       \r",
      "[==========================================>                      ] 65.34% 2.10K eta 0s       \r",
      "[==========================================>                      ] 65.43% 2.10K eta 0s       \r",
      "[===========================================>                     ] 66.33% 2.13K eta 0s       \r",
      "[===========================================>                     ] 66.37% 2.13K eta 0s       \r",
      "[===========================================>                     ] 66.40% 2.13K eta 0s       \r",
      "[==========================================>                      ] 65.80% 2.11K eta 0s       \r",
      "[===========================================>                     ] 66.30% 2.13K eta 0s       \r",
      "[===========================================>                     ] 66.46% 2.13K eta 0s       \r",
      "[==========================================>                      ] 65.77% 2.11K eta 0s       \r",
      "[===========================================>                     ] 66.80% 2.14K eta 0s       \r",
      "[===========================================>                     ] 66.93% 2.15K eta 0s       \r",
      "[===========================================>                     ] 66.43% 2.13K eta 0s       \r",
      "[===========================================>                     ] 66.83% 2.14K eta 0s       \r",
      "[===========================================>                     ] 67.33% 2.16K eta 0s       \r",
      "[===========================================>                     ] 66.96% 2.15K eta 0s       \r",
      "[===========================================>                     ] 66.90% 2.14K eta 0s       \r",
      "[==========================================>                      ] 66.12% 2.12K eta 0s       \r",
      "[===========================================>                     ] 66.86% 2.14K eta 0s       \r",
      "[============================================>                    ] 67.96% 2.18K eta 0s       \r",
      "[============================================>                    ] 67.99% 2.18K eta 0s       \r",
      "[============================================>                    ] 67.89% 2.18K eta 0s       \r",
      "[============================================>                    ] 67.93% 2.18K eta 0s       \r",
      "[============================================>                    ] 68.17% 2.19K eta 0s       \r",
      "[============================================>                    ] 68.21% 2.19K eta 0s       \r",
      "[============================================>                    ] 68.27% 2.19K eta 0s       \r",
      "[============================================>                    ] 68.30% 2.19K eta 0s       \r",
      "[============================================>                    ] 67.80% 2.17K eta 0s       \r",
      "[==========================================>                      ] 66.15% 2.12K eta 0s       \r",
      "[============================================>                    ] 68.52% 2.20K eta 0s       \r",
      "[============================================>                    ] 68.55% 2.20K eta 0s       \r",
      "[============================================>                    ] 68.61% 2.20K eta 0s       \r",
      "[============================================>                    ] 68.64% 2.20K eta 0s       \r",
      "[============================================>                    ] 67.77% 2.17K eta 0s       \r",
      "[============================================>                    ] 68.24% 2.19K eta 0s       \r",
      "[============================================>                    ] 67.83% 2.17K eta 0s       \r",
      "[============================================>                    ] 68.02% 2.18K eta 0s       \r",
      "[============================================>                    ] 67.86% 2.18K eta 0s       \r",
      "[============================================>                    ] 68.83% 2.21K eta 0s       \r",
      "[============================================>                    ] 68.67% 2.20K eta 0s       \r",
      "[============================================>                    ] 68.92% 2.21K eta 0s       \r",
      "[============================================>                    ] 68.89% 2.21K eta 0s       \r",
      "[============================================>                    ] 68.86% 2.21K eta 0s       \r",
      "[============================================>                    ] 68.95% 2.21K eta 0s       \r",
      "[============================================>                    ] 68.99% 2.21K eta 0s       \r",
      "[=============================================>                   ] 69.39% 2.22K eta 0s       \r",
      "[=============================================>                   ] 69.45% 2.23K eta 0s       \r",
      "[=============================================>                   ] 69.49% 2.23K eta 0s       \r",
      "[=============================================>                   ] 69.42% 2.23K eta 0s       \r",
      "[=============================================>                   ] 69.86% 2.24K eta 0s       \r",
      "[=============================================>                   ] 69.95% 2.24K eta 0s       \r",
      "[=============================================>                   ] 69.92% 2.24K eta 0s       \r",
      "[=============================================>                   ] 69.83% 2.24K eta 0s       \r",
      "[=============================================>                   ] 70.02% 2.24K eta 0s       \r",
      "[=============================================>                   ] 69.98% 2.24K eta 0s       \r",
      "[=============================================>                   ] 70.17% 2.25K eta 0s       \r",
      "[=============================================>                   ] 70.05% 2.25K eta 0s       \r",
      "[=============================================>                   ] 70.08% 2.25K eta 0s       \r",
      "[============================================>                    ] 68.58% 2.20K eta 0s       \r",
      "[=============================================>                   ] 69.89% 2.24K eta 0s       \r",
      "[==============================================>                  ] 70.80% 2.27K eta 0s       \r",
      "[==============================================>                  ] 70.98% 2.28K eta 0s       \r",
      "[==============================================>                  ] 70.83% 2.27K eta 0s       \r",
      "[==============================================>                  ] 70.86% 2.27K eta 0s       \r",
      "[=============================================>                   ] 70.11% 2.25K eta 0s       \r",
      "[==============================================>                  ] 70.95% 2.28K eta 0s       \r",
      "[==============================================>                  ] 71.45% 2.29K eta 0s       \r",
      "[==============================================>                  ] 70.89% 2.27K eta 0s       \r",
      "[==============================================>                  ] 71.54% 2.29K eta 0s       \r",
      "[==============================================>                  ] 71.33% 2.29K eta 0s       \r",
      "[==============================================>                  ] 71.42% 2.29K eta 0s       \r",
      "[==============================================>                  ] 71.51% 2.29K eta 0s       \r",
      "[==============================================>                  ] 71.89% 2.31K eta 0s       \r",
      "[==============================================>                  ] 70.92% 2.27K eta 0s       \r",
      "[==============================================>                  ] 71.01% 2.28K eta 0s       \r",
      "[==============================================>                  ] 72.11% 2.31K eta 0s       \r",
      "[==============================================>                  ] 72.20% 2.32K eta 0s       \r",
      "[==============================================>                  ] 72.17% 2.31K eta 0s       \r",
      "[==============================================>                  ] 71.92% 2.31K eta 0s       \r",
      "[==============================================>                  ] 72.14% 2.31K eta 0s       \r",
      "[==============================================>                  ] 71.39% 2.29K eta 0s       \r",
      "[==============================================>                  ] 71.98% 2.31K eta 0s       \r",
      "[==============================================>                  ] 71.36% 2.29K eta 0s       \r",
      "[==============================================>                  ] 72.29% 2.32K eta 0s       \r",
      "[==============================================>                  ] 72.26% 2.32K eta 0s       \r",
      "[===============================================>                 ] 72.51% 2.33K eta 0s       \r",
      "[===============================================>                 ] 72.42% 2.32K eta 0s       \r",
      "[==============================================>                  ] 71.95% 2.31K eta 0s       \r",
      "[===============================================>                 ] 72.45% 2.32K eta 0s       \r",
      "[===============================================>                 ] 72.48% 2.32K eta 0s       \r",
      "[===============================================>                 ] 72.32% 2.32K eta 0s       \r",
      "[===============================================>                 ] 73.29% 2.35K eta 0s       \r",
      "[===============================================>                 ] 73.35% 2.35K eta 0s       \r",
      "[===============================================>                 ] 73.54% 2.36K eta 0s       \r",
      "[===============================================>                 ] 73.48% 2.36K eta 0s       \r",
      "[===============================================>                 ] 73.32% 2.35K eta 0s       \r",
      "[===============================================>                 ] 73.39% 2.35K eta 0s       \r",
      "[===============================================>                 ] 73.45% 2.36K eta 0s       \r",
      "[===============================================>                 ] 73.51% 2.36K eta 0s       \r",
      "[===============================================>                 ] 73.42% 2.35K eta 0s       \r",
      "[================================================>                ] 74.35% 2.38K eta 0s       \r",
      "[================================================>                ] 74.38% 2.38K eta 0s       \r",
      "[================================================>                ] 74.57% 2.39K eta 0s       \r",
      "[================================================>                ] 74.45% 2.39K eta 0s       \r",
      "[================================================>                ] 74.48% 2.39K eta 0s       \r",
      "[================================================>                ] 74.60% 2.39K eta 0s       \r",
      "[================================================>                ] 74.51% 2.39K eta 0s       \r",
      "[=================================================>               ] 75.54% 2.42K eta 0s       \r",
      "[=================================================>               ] 75.57% 2.42K eta 0s       \r",
      "[=================================================>               ] 75.63% 2.42K eta 0s       \r",
      "[=================================================>               ] 75.66% 2.43K eta 0s       \r",
      "[=================================================>               ] 75.69% 2.43K eta 0s       \r",
      "[=================================================>               ] 75.60% 2.42K eta 0s       \r",
      "[=================================================>               ] 75.76% 2.43K eta 0s       \r",
      "[=================================================>               ] 76.63% 2.46K eta 0s       \r",
      "[=================================================>               ] 76.66% 2.46K eta 0s       \r",
      "[=================================================>               ] 76.72% 2.46K eta 0s       \r",
      "[=================================================>               ] 76.69% 2.46K eta 0s       \r",
      "[=================================================>               ] 75.79% 2.43K eta 0s       \r",
      "[==================================================>              ] 77.19% 2.47K eta 0s       \r",
      "[==================================================>              ] 77.29% 2.48K eta 0s       \r",
      "[==================================================>              ] 77.22% 2.48K eta 0s       \r",
      "[==================================================>              ] 77.38% 2.48K eta 0s       \r",
      "[==================================================>              ] 77.50% 2.48K eta 0s       \r",
      "[==================================================>              ] 77.47% 2.48K eta 0s       \r",
      "[==================================================>              ] 77.41% 2.48K eta 0s       \r",
      "[==================================================>              ] 77.44% 2.48K eta 0s       \r",
      "[================================================>                ] 74.54% 2.39K eta 0s       \r",
      "[==================================================>              ] 77.25% 2.48K eta 0s       \r",
      "[==================================================>              ] 77.69% 2.49K eta 0s       \r",
      "[=================================================>               ] 75.73% 2.43K eta 0s       \r",
      "[==================================================>              ] 77.78% 2.49K eta 0s       \r",
      "[==================================================>              ] 77.72% 2.49K eta 0s       \r",
      "[==================================================>              ] 77.82% 2.49K eta 0s       \r",
      "[==================================================>              ] 77.97% 2.50K eta 0s       \r",
      "[==================================================>              ] 78.07% 2.50K eta 0s       \r",
      "[==================================================>              ] 78.10% 2.50K eta 0s       \r",
      "[==================================================>              ] 77.75% 2.49K eta 0s       \r",
      "[==================================================>              ] 78.03% 2.50K eta 0s       \r",
      "[===================================================>             ] 79.06% 2.54K eta 0s       \r",
      "[===================================================>             ] 79.10% 2.54K eta 0s       \r",
      "[==================================================>              ] 78.00% 2.50K eta 0s       \r",
      "[===================================================>             ] 79.25% 2.54K eta 0s       \r",
      "[===================================================>             ] 79.31% 2.54K eta 0s       \r",
      "[===================================================>             ] 79.13% 2.54K eta 0s       \r",
      "[===================================================>             ] 79.44% 2.55K eta 0s       \r",
      "[===================================================>             ] 79.28% 2.54K eta 0s       \r",
      "[===================================================>             ] 79.50% 2.55K eta 0s       \r",
      "[==================================================>              ] 77.32% 2.48K eta 0s       \r",
      "[===================================================>             ] 79.72% 2.56K eta 0s       \r",
      "[===================================================>             ] 79.75% 2.56K eta 0s       \r",
      "[===================================================>             ] 79.53% 2.55K eta 0s       \r",
      "[====================================================>            ] 80.56% 2.58K eta 0s       \r",
      "[====================================================>            ] 80.62% 2.59K eta 0s       \r",
      "[====================================================>            ] 80.59% 2.58K eta 0s       \r",
      "[====================================================>            ] 80.69% 2.59K eta 0s       \r",
      "[===================================================>             ] 79.34% 2.54K eta 0s       \r",
      "[====================================================>            ] 80.72% 2.59K eta 0s       \r",
      "[===================================================>             ] 79.47% 2.55K eta 0s       \r",
      "[====================================================>            ] 80.66% 2.59K eta 0s       \r",
      "[====================================================>            ] 81.15% 2.60K eta 0s       \r",
      "[====================================================>            ] 81.22% 2.60K eta 0s       \r",
      "[====================================================>            ] 81.25% 2.61K eta 0s       \r",
      "[====================================================>            ] 81.12% 2.60K eta 0s       \r",
      "[=====================================================>           ] 82.15% 2.63K eta 0s       \r",
      "[====================================================>            ] 81.19% 2.60K eta 0s       \r",
      "[=====================================================>           ] 82.25% 2.64K eta 0s       \r",
      "[=====================================================>           ] 82.28% 2.64K eta 0s       \r",
      "[=====================================================>           ] 82.22% 2.64K eta 0s       \r",
      "[=====================================================>           ] 82.46% 2.64K eta 0s       \r",
      "[=====================================================>           ] 82.31% 2.64K eta 0s       \r",
      "[=====================================================>           ] 82.18% 2.63K eta 0s       \r",
      "[=====================================================>           ] 82.53% 2.65K eta 0s       \r",
      "[=====================================================>           ] 82.43% 2.64K eta 0s       \r",
      "[=====================================================>           ] 82.40% 2.64K eta 0s       \r",
      "[=====================================================>           ] 82.50% 2.64K eta 0s       \r",
      "[======================================================>          ] 83.53% 2.68K eta 0s       \r",
      "[======================================================>          ] 83.62% 2.68K eta 0s       \r",
      "[======================================================>          ] 83.59% 2.68K eta 0s       \r",
      "[======================================================>          ] 83.56% 2.68K eta 0s       \r",
      "[======================================================>          ] 83.65% 2.68K eta 0s       \r",
      "[=======================================================>         ] 84.68% 2.71K eta 0s       \r",
      "[=======================================================>         ] 84.71% 2.72K eta 0s       \r",
      "[=======================================================>         ] 84.74% 2.72K eta 0s       \r",
      "[=======================================================>         ] 84.80% 2.72K eta 0s       \r",
      "[=======================================================>         ] 84.77% 2.72K eta 0s       \r",
      "[=======================================================>         ] 85.80% 2.75K eta 0s       \r",
      "[=======================================================>         ] 85.83% 2.75K eta 0s       \r",
      "[=======================================================>         ] 85.90% 2.75K eta 0s       \r",
      "[========================================================>        ] 86.93% 2.79K eta 0s       \r",
      "[========================================================>        ] 86.96% 2.79K eta 0s       \r",
      "[=========================================================>       ] 87.99% 2.82K eta 0s       \r",
      "[=========================================================>       ] 88.02% 2.82K eta 0s       \r",
      "[=========================================================>       ] 89.05% 2.86K eta 0s       \r",
      "[=========================================================>       ] 89.08% 2.86K eta 0s       \r",
      "[==========================================================>      ] 90.11% 2.89K eta 0s       \r",
      "[===========================================================>     ] 91.14% 2.92K eta 0s       \r",
      "[===========================================================>     ] 92.17% 2.95K eta 0s       \r",
      "[===========================================================>     ] 92.23% 2.96K eta 0s       \r",
      "[=======================================================>         ] 85.93% 2.76K eta 0s       \r",
      "[=======================================================>         ] 85.87% 2.75K eta 0s       \r",
      "[===========================================================>     ] 92.29% 2.96K eta 0s       \r",
      "[===========================================================>     ] 92.26% 2.96K eta 0s       \r",
      "[============================================================>    ] 93.29% 2.99K eta 0s       \r",
      "[============================================================>    ] 93.35% 2.99K eta 0s       \r",
      "[============================================================>    ] 93.32% 2.99K eta 0s       \r",
      "[=============================================================>   ] 94.35% 3.03K eta 0s       \r",
      "[=============================================================>   ] 95.38% 3.06K eta 0s       \r",
      "[==============================================================>  ] 95.41% 3.06K eta 0s       \r",
      "[==============================================================>  ] 95.98% 3.08K eta 0s       \r",
      "[===============================================================> ] 97.00% 3.11K eta 0s       \r",
      "[===============================================================> ] 98.03% 3.14K eta 0s       \r",
      "[=======================================================>         ] 85.96% 2.76K eta 0s       \r",
      "[===============================================================> ] 98.25% 3.15K eta 0s       \r",
      "[================================================================>] 99.28% 3.18K eta 0s       \r",
      "[===========================================================>     ] 92.20% 2.96K eta 0s       \r",
      "[================================================================>] 99.72% 3.20K eta 0s       \r",
      "[=================================================================] 100.00% 3.21K 0s 19ms\r\n",
      "Index table: Masked residues: 17\r\n"
     ]
    },
    {
     "name": "stdout",
     "output_type": "stream",
     "text": [
      "Index table: fill\r\n",
      "[>                                                                ] 0.00% 1 eta -\r",
      "[>                                                                ] 1.15% 38 eta 0s       \r",
      "[>                                                                ] 1.19% 39 eta 0s       \r",
      "[>                                                                ] 1.34% 44 eta 0s       \r",
      "[>                                                                ] 1.12% 37 eta 0s       \r",
      "[>                                                                ] 1.06% 35 eta 0s       \r",
      "[>                                                                ] 1.22% 40 eta 0s       \r",
      "[>                                                                ] 1.28% 42 eta 0s       \r",
      "[=>                                                               ] 2.25% 73 eta 0s       \r",
      "[>                                                                ] 1.09% 36 eta 0s       \r",
      "[=>                                                               ] 2.28% 74 eta 0s       \r",
      "[>                                                                ] 1.31% 43 eta 0s       \r",
      "[=>                                                               ] 2.53% 82 eta 0s       \r",
      "[=>                                                               ] 2.37% 77 eta 0s       \r",
      "[=>                                                               ] 2.71% 88 eta 0s       \r",
      "[=>                                                               ] 2.75% 89 eta 0s       \r",
      "[=>                                                               ] 2.43% 79 eta 0s       \r",
      "[==>                                                              ] 3.53% 114 eta 0s       \r",
      "[==>                                                              ] 3.59% 116 eta 0s       \r",
      "[>                                                                ] 1.03% 34 eta 0s       \r",
      "[=>                                                               ] 2.34% 76 eta 0s       \r",
      "[==>                                                              ] 3.93% 127 eta 0s       \r",
      "[==>                                                              ] 4.02% 130 eta 0s       \r",
      "[==>                                                              ] 4.06% 131 eta 0s       \r",
      "[==>                                                              ] 3.49% 113 eta 0s       \r",
      "[=>                                                               ] 2.50% 81 eta 0s       \r",
      "[===>                                                             ] 4.71% 152 eta 0s       \r",
      "[==>                                                              ] 3.96% 128 eta 0s       \r",
      "[==>                                                              ] 3.99% 129 eta 0s       \r",
      "[===>                                                             ] 4.96% 160 eta 0s       \r",
      "[=>                                                               ] 2.46% 80 eta 0s       \r",
      "[===>                                                             ] 4.68% 151 eta 0s       \r",
      "[===>                                                             ] 5.27% 170 eta 0s       \r",
      "[=>                                                               ] 2.31% 75 eta 0s       \r",
      "[===>                                                             ] 5.02% 162 eta 0s       \r",
      "[===>                                                             ] 5.49% 177 eta 0s       \r",
      "[===>                                                             ] 5.05% 163 eta 0s       \r",
      "[>                                                                ] 1.25% 41 eta 0s       \r",
      "[=>                                                               ] 2.40% 78 eta 0s       \r",
      "[===>                                                             ] 5.80% 187 eta 0s       \r",
      "[===>                                                             ] 5.40% 174 eta 0s       \r",
      "[===>                                                             ] 5.90% 190 eta 0s       \r",
      "[===>                                                             ] 5.87% 189 eta 0s       \r",
      "[===>                                                             ] 5.83% 188 eta 0s       \r",
      "[==>                                                              ] 3.56% 115 eta 0s       \r",
      "[===>                                                             ] 4.65% 150 eta 0s       \r",
      "[===>                                                             ] 5.46% 176 eta 0s       \r",
      "[===>                                                             ] 5.24% 169 eta 0s       \r",
      "[===>                                                             ] 6.08% 196 eta 0s       \r",
      "[===>                                                             ] 5.43% 175 eta 0s       \r",
      "[====>                                                            ] 6.74% 217 eta 0s       \r",
      "[====>                                                            ] 6.80% 219 eta 0s       \r",
      "[====>                                                            ] 6.71% 216 eta 0s       \r",
      "[====>                                                            ] 6.77% 218 eta 0s       \r",
      "[====>                                                            ] 6.68% 215 eta 0s       \r",
      "[====>                                                            ] 6.86% 221 eta 0s       \r",
      "[====>                                                            ] 6.90% 222 eta 0s       \r",
      "[====>                                                            ] 6.65% 214 eta 0s       \r",
      "[====>                                                            ] 7.61% 245 eta 0s       \r",
      "[=====>                                                           ] 7.80% 251 eta 0s       \r",
      "[====>                                                            ] 6.83% 220 eta 0s       \r",
      "[=====>                                                           ] 7.99% 257 eta 0s       \r",
      "[====>                                                            ] 7.68% 247 eta 0s       \r",
      "[=====>                                                           ] 7.71% 248 eta 0s       \r",
      "[=====>                                                           ] 7.77% 250 eta 0s       \r",
      "[===>                                                             ] 4.99% 161 eta 0s       \r",
      "[=====>                                                           ] 8.86% 285 eta 0s       \r",
      "[=====>                                                           ] 8.80% 283 eta 0s       \r",
      "[=====>                                                           ] 7.74% 249 eta 0s       \r",
      "[=====>                                                           ] 8.05% 259 eta 0s       \r",
      "[====>                                                            ] 7.64% 246 eta 0s       \r",
      "[=====>                                                           ] 8.83% 284 eta 0s       \r",
      "[=====>                                                           ] 9.20% 296 eta 0s       \r",
      "[======>                                                          ] 9.27% 298 eta 0s       \r",
      "[=====>                                                           ] 8.95% 288 eta 0s       \r",
      "[======>                                                          ] 9.52% 306 eta 0s       \r",
      "[=====>                                                           ] 8.02% 258 eta 0s       \r",
      "[=====>                                                           ] 8.92% 287 eta 0s       \r",
      "[======>                                                          ] 9.55% 307 eta 0s       \r",
      "[======>                                                          ] 9.95% 320 eta 0s       \r",
      "[=====>                                                           ] 8.89% 286 eta 0s       \r",
      "[======>                                                          ] 9.61% 309 eta 0s       \r",
      "[======>                                                          ] 9.77% 314 eta 0s       \r",
      "[======>                                                          ] 9.83% 316 eta 0s       \r",
      "[======>                                                          ] 10.30% 331 eta 0s       \r",
      "[======>                                                          ] 9.58% 308 eta 0s       \r",
      "[======>                                                          ] 9.98% 321 eta 0s       \r",
      "[======>                                                          ] 10.27% 330 eta 0s       \r",
      "[======>                                                          ] 10.23% 329 eta 0s       \r",
      "[=======>                                                         ] 10.83% 348 eta 0s       \r",
      "[=======>                                                         ] 10.80% 347 eta 0s       \r",
      "[======>                                                          ] 9.92% 319 eta 0s       \r",
      "[=======>                                                         ] 11.14% 358 eta 0s       \r",
      "[=======>                                                         ] 11.26% 362 eta 0s       \r",
      "[======>                                                          ] 9.24% 297 eta 0s       \r",
      "[=======>                                                         ] 11.17% 359 eta 0s       \r",
      "[=======>                                                         ] 11.36% 365 eta 0s       \r",
      "[=======>                                                         ] 11.11% 357 eta 0s       \r",
      "[=======>                                                         ] 11.20% 360 eta 0s       \r",
      "[=======>                                                         ] 11.61% 373 eta 0s       \r",
      "[======>                                                          ] 9.80% 315 eta 0s       \r",
      "[=======>                                                         ] 11.86% 381 eta 0s       \r",
      "[=======>                                                         ] 11.89% 382 eta 0s       \r",
      "[=======>                                                         ] 11.92% 383 eta 0s       \r",
      "[=======>                                                         ] 11.95% 384 eta 0s       \r",
      "[=======>                                                         ] 11.23% 361 eta 0s       \r",
      "[=======>                                                         ] 11.58% 372 eta 0s       \r",
      "[=======>                                                         ] 12.26% 394 eta 0s       \r",
      "[========>                                                        ] 12.39% 398 eta 0s       \r",
      "[========>                                                        ] 12.42% 399 eta 0s       \r",
      "[========>                                                        ] 12.45% 400 eta 0s       \r",
      "[=======>                                                         ] 12.29% 395 eta 0s       \r",
      "[========>                                                        ] 12.76% 410 eta 0s       \r",
      "[=======>                                                         ] 11.39% 366 eta 0s       \r",
      "[=======>                                                         ] 11.54% 371 eta 0s       \r",
      "[========>                                                        ] 13.01% 418 eta 0s       \r",
      "[========>                                                        ] 12.32% 396 eta 0s       \r",
      "[========>                                                        ] 12.67% 407 eta 0s       \r",
      "[========>                                                        ] 13.17% 423 eta 0s       \r",
      "[========>                                                        ] 12.79% 411 eta 0s       \r",
      "[========>                                                        ] 13.39% 430 eta 0s       \r",
      "[========>                                                        ] 13.45% 432 eta 0s       \r",
      "[========>                                                        ] 13.60% 437 eta 0s       \r",
      "[========>                                                        ] 12.70% 408 eta 0s       \r",
      "[========>                                                        ] 13.63% 438 eta 0s       \r",
      "[========>                                                        ] 13.20% 424 eta 0s       \r",
      "[========>                                                        ] 13.04% 419 eta 0s       \r",
      "[========>                                                        ] 13.48% 433 eta 0s       \r",
      "[=========>                                                       ] 14.07% 452 eta 0s       \r",
      "[=========>                                                       ] 14.17% 455 eta 0s       \r",
      "[=========>                                                       ] 14.10% 453 eta 0s       \r",
      "[========>                                                        ] 13.07% 420 eta 0s       \r",
      "[=========>                                                       ] 14.13% 454 eta 0s       \r",
      "[========>                                                        ] 13.42% 431 eta 0s       \r",
      "[=========>                                                       ] 14.35% 461 eta 0s       \r",
      "[========>                                                        ] 13.67% 439 eta 0s       \r",
      "[=========>                                                       ] 14.26% 458 eta 0s       \r",
      "[=========>                                                       ] 14.66% 471 eta 0s       \r",
      "[=========>                                                       ] 14.29% 459 eta 0s       \r",
      "[=========>                                                       ] 14.38% 462 eta 0s       \r",
      "[========>                                                        ] 12.73% 409 eta 0s       \r",
      "[=========>                                                       ] 15.23% 489 eta 0s       \r",
      "[=========>                                                       ] 14.73% 473 eta 0s       \r",
      "[=========>                                                       ] 14.70% 472 eta 0s       \r",
      "[=========>                                                       ] 14.41% 463 eta 0s       \r",
      "[=========>                                                       ] 15.29% 491 eta 0s       \r",
      "[==========>                                                      ] 15.60% 501 eta 0s       \r",
      "[==========>                                                      ] 15.66% 503 eta 0s       \r",
      "[=========>                                                       ] 15.26% 490 eta 0s       \r",
      "[=========>                                                       ] 14.76% 474 eta 0s       \r",
      "[==========>                                                      ] 15.85% 509 eta 0s       \r",
      "[==========>                                                      ] 15.91% 511 eta 0s       \r",
      "[==========>                                                      ] 16.04% 515 eta 0s       \r",
      "[==========>                                                      ] 15.63% 502 eta 0s       \r",
      "[=========>                                                       ] 15.32% 492 eta 0s       \r",
      "[==========>                                                      ] 15.88% 510 eta 0s       \r",
      "[=========>                                                       ] 15.35% 493 eta 0s       \r",
      "[==========>                                                      ] 16.01% 514 eta 0s       \r",
      "[==========>                                                      ] 16.66% 535 eta 0s       \r",
      "[==========>                                                      ] 16.76% 538 eta 0s       \r",
      "[==========>                                                      ] 16.79% 539 eta 0s       \r",
      "[==========>                                                      ] 16.85% 541 eta 0s       \r",
      "[=========>                                                       ] 14.32% 460 eta 0s       \r",
      "[===========>                                                     ] 16.94% 544 eta 0s       \r",
      "[===========>                                                     ] 16.97% 545 eta 0s       \r",
      "[===========>                                                     ] 17.00% 546 eta 0s       \r",
      "[==========>                                                      ] 16.63% 534 eta 0s       \r",
      "[==========>                                                      ] 16.07% 516 eta 0s       \r",
      "[==========>                                                      ] 16.82% 540 eta 0s       \r",
      "[===========>                                                     ] 17.32% 556 eta 0s       \r",
      "[===========>                                                     ] 17.35% 557 eta 0s       \r",
      "[==========>                                                      ] 16.72% 537 eta 0s       \r",
      "[===========>                                                     ] 17.47% 561 eta 0s       \r",
      "[===========>                                                     ] 17.38% 558 eta 0s       \r",
      "[===========>                                                     ] 17.66% 567 eta 0s       \r",
      "[===========>                                                     ] 17.41% 559 eta 0s       \r",
      "[===========>                                                     ] 17.69% 568 eta 0s       \r",
      "[===========>                                                     ] 17.44% 560 eta 0s       \r",
      "[==========>                                                      ] 16.69% 536 eta 0s       \r",
      "[===========>                                                     ] 17.94% 576 eta 0s       \r",
      "[===========>                                                     ] 18.00% 578 eta 0s       \r",
      "[===========>                                                     ] 17.63% 566 eta 0s       \r",
      "[===========>                                                     ] 18.10% 581 eta 0s       \r",
      "[===========>                                                     ] 17.97% 577 eta 0s       \r",
      "[===========>                                                     ] 17.50% 562 eta 0s       \r",
      "[============>                                                    ] 18.66% 599 eta 0s       \r",
      "[============>                                                    ] 19.00% 610 eta 0s       \r",
      "[============>                                                    ] 19.25% 618 eta 0s       \r",
      "[============>                                                    ] 19.31% 620 eta 0s       \r",
      "[============>                                                    ] 19.28% 619 eta 0s       \r",
      "[===========>                                                     ] 18.03% 579 eta 0s       \r",
      "[============>                                                    ] 19.47% 625 eta 0s       \r",
      "[============>                                                    ] 19.50% 626 eta 0s       \r",
      "[============>                                                    ] 19.72% 633 eta 0s       \r",
      "[============>                                                    ] 19.69% 632 eta 0s       \r",
      "[============>                                                    ] 19.44% 624 eta 0s       \r",
      "[============>                                                    ] 19.19% 616 eta 0s       \r",
      "[============>                                                    ] 19.91% 639 eta 0s       \r",
      "[============>                                                    ] 19.88% 638 eta 0s       \r",
      "[============>                                                    ] 19.41% 623 eta 0s       \r",
      "[============>                                                    ] 19.84% 637 eta 0s       \r",
      "[============>                                                    ] 19.22% 617 eta 0s       \r",
      "[=============>                                                   ] 20.44% 656 eta 0s       \r",
      "[============>                                                    ] 19.78% 635 eta 0s       \r",
      "[============>                                                    ] 19.94% 640 eta 0s       \r",
      "[=============>                                                   ] 20.94% 672 eta 0s       \r",
      "[=============>                                                   ] 20.97% 673 eta 0s       \r",
      "[=============>                                                   ] 20.47% 657 eta 0s       \r",
      "[============>                                                    ] 19.75% 634 eta 0s       \r",
      "[=============>                                                   ] 21.12% 678 eta 0s       \r",
      "[=============>                                                   ] 21.37% 686 eta 0s       \r",
      "[=============>                                                   ] 21.09% 677 eta 0s       \r",
      "[==============>                                                  ] 21.62% 694 eta 0s       \r",
      "[=============>                                                   ] 21.00% 674 eta 0s       \r",
      "[=============>                                                   ] 21.06% 676 eta 0s       \r",
      "[=============>                                                   ] 21.40% 687 eta 0s       \r",
      "[==============>                                                  ] 22.09% 709 eta 0s       \r",
      "[==============>                                                  ] 21.68% 696 eta 0s       \r",
      "[==============>                                                  ] 21.72% 697 eta 0s       \r",
      "[=============>                                                   ] 21.44% 688 eta 0s       \r",
      "[==============>                                                  ] 22.53% 723 eta 0s       \r",
      "[==============>                                                  ] 22.28% 715 eta 0s       \r",
      "[==============>                                                  ] 21.65% 695 eta 0s       \r",
      "[==============>                                                  ] 22.31% 716 eta 0s       \r",
      "[==============>                                                  ] 22.37% 718 eta 0s       \r",
      "[==============>                                                  ] 22.96% 737 eta 0s       \r",
      "[==============>                                                  ] 22.12% 710 eta 0s       \r",
      "[===============>                                                 ] 23.28% 747 eta 0s       \r",
      "[=============>                                                   ] 21.03% 675 eta 0s       \r",
      "[===============>                                                 ] 23.49% 754 eta 0s       \r",
      "[===============>                                                 ] 23.56% 756 eta 0s       \r",
      "[===============>                                                 ] 23.21% 745 eta 0s       \r",
      "[===============>                                                 ] 23.71% 761 eta 0s       \r",
      "[===============>                                                 ] 23.31% 748 eta 0s       \r",
      "[===============>                                                 ] 23.34% 749 eta 0s       \r",
      "[==============>                                                  ] 22.40% 719 eta 0s       \r",
      "[===============>                                                 ] 23.24% 746 eta 0s       \r",
      "[===============>                                                 ] 24.24% 778 eta 0s       \r",
      "[===============>                                                 ] 24.34% 781 eta 0s       \r",
      "[===============>                                                 ] 24.31% 780 eta 0s       \r",
      "[===============>                                                 ] 23.37% 750 eta 0s       \r",
      "[===============>                                                 ] 24.37% 782 eta 0s       \r",
      "[===============>                                                 ] 23.53% 755 eta 0s       \r",
      "[================>                                                ] 24.74% 794 eta 0s       \r",
      "[===============>                                                 ] 23.78% 763 eta 0s       \r",
      "[================>                                                ] 24.93% 800 eta 0s       \r",
      "[================>                                                ] 24.96% 801 eta 0s       \r",
      "[================>                                                ] 24.99% 802 eta 0s       \r",
      "[================>                                                ] 24.84% 797 eta 0s       \r",
      "[===============>                                                 ] 23.74% 762 eta 0s       \r",
      "[================>                                                ] 25.52% 819 eta 0s       \r",
      "[===============>                                                 ] 24.27% 779 eta 0s       \r",
      "[================>                                                ] 24.77% 795 eta 0s       \r",
      "[================>                                                ] 25.74% 826 eta 0s       \r",
      "[================>                                                ] 24.80% 796 eta 0s       \r",
      "[================>                                                ] 25.87% 830 eta 0s       \r",
      "[================>                                                ] 25.55% 820 eta 0s       \r",
      "[================>                                                ] 25.59% 821 eta 0s       \r",
      "[==============>                                                  ] 22.93% 736 eta 0s       \r",
      "[================>                                                ] 25.77% 827 eta 0s       \r",
      "[=================>                                               ] 26.65% 855 eta 0s       \r",
      "[=================>                                               ] 26.71% 857 eta 0s       \r",
      "[================>                                                ] 24.87% 798 eta 0s       \r",
      "[================>                                                ] 25.62% 822 eta 0s       \r",
      "[=================>                                               ] 26.80% 860 eta 0s       \r",
      "[=================>                                               ] 26.83% 861 eta 0s       \r",
      "[=================>                                               ] 26.86% 862 eta 0s       \r",
      "[=================>                                               ] 26.74% 858 eta 0s       \r",
      "[================>                                                ] 25.49% 818 eta 0s       \r",
      "[==============>                                                  ] 22.25% 714 eta 0s       \r",
      "[=================>                                               ] 26.61% 854 eta 0s       \r",
      "[=================>                                               ] 26.90% 863 eta 0s       \r",
      "[================>                                                ] 25.90% 831 eta 0s       \r",
      "[=================>                                               ] 27.58% 885 eta 0s       \r",
      "[=================>                                               ] 27.36% 878 eta 0s       \r",
      "[=================>                                               ] 27.61% 886 eta 0s       \r",
      "[=================>                                               ] 27.39% 879 eta 0s       \r",
      "[=================>                                               ] 27.43% 880 eta 0s       \r",
      "[=================>                                               ] 27.55% 884 eta 0s       \r",
      "[=================>                                               ] 27.30% 876 eta 0s       \r",
      "[==================>                                              ] 28.58% 917 eta 0s       \r",
      "[==================>                                              ] 28.77% 923 eta 0s       \r",
      "[==================>                                              ] 28.92% 928 eta 0s       \r",
      "[==================>                                              ] 28.95% 929 eta 0s       \r",
      "[==================>                                              ] 29.02% 931 eta 0s       \r",
      "[==================>                                              ] 28.71% 921 eta 0s       \r",
      "[=================>                                               ] 26.68% 856 eta 0s       \r",
      "[==================>                                              ] 28.89% 927 eta 0s       \r",
      "[===================>                                             ] 29.49% 946 eta 0s       \r",
      "[==================>                                              ] 28.67% 920 eta 0s       \r",
      "[===================>                                             ] 29.52% 947 eta 0s       \r",
      "[===================>                                             ] 29.55% 948 eta 0s       \r",
      "[===================>                                             ] 29.58% 949 eta 0s       \r",
      "[==================>                                              ] 28.64% 919 eta 0s       \r",
      "[==================>                                              ] 28.74% 922 eta 0s       \r",
      "[===================>                                             ] 29.77% 955 eta 0s       \r",
      "[==================>                                              ] 28.99% 930 eta 0s       \r",
      "[===================>                                             ] 30.02% 963 eta 0s       \r",
      "[===================>                                             ] 29.80% 956 eta 0s       \r",
      "[===================>                                             ] 30.55% 980 eta 0s       \r",
      "[===================>                                             ] 30.58% 981 eta 0s       \r",
      "[=================>                                               ] 27.33% 877 eta 0s       \r",
      "[===================>                                             ] 30.61% 982 eta 0s       \r",
      "[===================>                                             ] 29.83% 957 eta 0s       \r",
      "[===================>                                             ] 30.70% 985 eta 0s       \r",
      "[====================>                                            ] 30.95% 993 eta 0s       \r",
      "[====================>                                            ] 31.14% 999 eta 0s       \r",
      "[====================>                                            ] 30.83% 989 eta 0s       \r",
      "[====================>                                            ] 31.17% 1.00K eta 0s       \r",
      "[====================>                                            ] 30.86% 990 eta 0s       \r",
      "[===================>                                             ] 30.73% 986 eta 0s       \r",
      "[====================>                                            ] 30.98% 994 eta 0s       \r",
      "[====================>                                            ] 31.76% 1.02K eta 0s       \r",
      "[====================>                                            ] 31.89% 1.02K eta 0s       \r",
      "[====================>                                            ] 32.07% 1.03K eta 0s       \r",
      "[====================>                                            ] 32.17% 1.03K eta 0s       \r",
      "[====================>                                            ] 32.20% 1.03K eta 0s       \r",
      "[====================>                                            ] 31.86% 1.02K eta 0s       \r",
      "[===================>                                             ] 30.64% 983 eta 0s       \r",
      "[====================>                                            ] 32.14% 1.03K eta 0s       \r",
      "[=====================>                                           ] 33.04% 1.06K eta 0s       \r",
      "[====================>                                            ] 31.83% 1.02K eta 0s       \r",
      "[====================>                                            ] 32.11% 1.03K eta 0s       \r",
      "[=====================>                                           ] 33.29% 1.07K eta 0s       \r",
      "[=====================>                                           ] 32.98% 1.06K eta 0s       \r",
      "[=====================>                                           ] 32.92% 1.06K eta 0s       \r",
      "[===================>                                             ] 30.67% 984 eta 0s       \r",
      "[====================>                                            ] 31.11% 998 eta 0s       \r",
      "[======================>                                          ] 33.85% 1.09K eta 0s       \r",
      "[======================>                                          ] 33.88% 1.09K eta 0s       \r",
      "[=====================>                                           ] 32.89% 1.05K eta 0s       \r",
      "[======================>                                          ] 33.98% 1.09K eta 0s       \r",
      "[======================>                                          ] 34.01% 1.09K eta 0s       \r",
      "[====================>                                            ] 31.79% 1.02K eta 0s       \r",
      "[======================>                                          ] 34.23% 1.10K eta 0s       \r",
      "[======================>                                          ] 34.26% 1.10K eta 0s       \r",
      "[======================>                                          ] 34.32% 1.10K eta 0s       \r",
      "[=====================>                                           ] 33.35% 1.07K eta 0s       \r",
      "[=====================>                                           ] 32.95% 1.06K eta 0s       \r",
      "[=====================>                                           ] 33.82% 1.09K eta 0s       \r",
      "[=======================>                                         ] 35.48% 1.14K eta 0s       \r",
      "[======================>                                          ] 33.92% 1.09K eta 0s       \r",
      "[=======================>                                         ] 35.51% 1.14K eta 0s       \r",
      "[=====================>                                           ] 33.32% 1.07K eta 0s       \r",
      "[======================>                                          ] 33.95% 1.09K eta 0s       \r",
      "[=======================>                                         ] 35.41% 1.14K eta 0s       \r",
      "[=======================>                                         ] 35.76% 1.15K eta 0s       \r",
      "[=======================>                                         ] 35.82% 1.15K eta 0s       \r",
      "[======================>                                          ] 34.29% 1.10K eta 0s       \r",
      "[=======================>                                         ] 35.94% 1.15K eta 0s       \r",
      "[=======================>                                         ] 35.98% 1.15K eta 0s       \r",
      "[======================>                                          ] 35.35% 1.13K eta 0s       \r",
      "[=======================>                                         ] 35.79% 1.15K eta 0s       \r",
      "[=======================>                                         ] 36.41% 1.17K eta 0s       \r",
      "[=======================>                                         ] 36.44% 1.17K eta 0s       \r",
      "[=======================>                                         ] 35.44% 1.14K eta 0s       \r",
      "[=======================>                                         ] 36.01% 1.15K eta 0s       \r",
      "[======================>                                          ] 35.38% 1.13K eta 0s       \r",
      "[=======================>                                         ] 36.54% 1.17K eta 0s       \r",
      "[=======================>                                         ] 36.38% 1.17K eta 0s       \r",
      "[=====================>                                           ] 33.01% 1.06K eta 0s       \r",
      "[========================>                                        ] 37.04% 1.19K eta 0s       \r",
      "[========================>                                        ] 37.07% 1.19K eta 0s       \r",
      "[=======================>                                         ] 36.91% 1.18K eta 0s       \r",
      "[========================>                                        ] 37.44% 1.20K eta 0s       \r",
      "[========================>                                        ] 36.97% 1.19K eta 0s       \r",
      "[========================>                                        ] 37.00% 1.19K eta 0s       \r",
      "[========================>                                        ] 38.00% 1.22K eta 0s       \r",
      "[========================>                                        ] 38.10% 1.22K eta 0s       \r",
      "[========================>                                        ] 37.41% 1.20K eta 0s       \r",
      "[========================>                                        ] 37.50% 1.20K eta 0s       \r",
      "[========================>                                        ] 38.44% 1.23K eta 0s       \r",
      "[=========================>                                       ] 38.50% 1.24K eta 0s       \r",
      "[=======================>                                         ] 36.57% 1.17K eta 0s       \r",
      "[=========================>                                       ] 38.56% 1.24K eta 0s       \r",
      "[=========================>                                       ] 38.63% 1.24K eta 0s       \r",
      "[========================>                                        ] 36.94% 1.18K eta 0s       \r",
      "[=========================>                                       ] 38.85% 1.25K eta 0s       \r",
      "[=========================>                                       ] 38.91% 1.25K eta 0s       \r",
      "[=========================>                                       ] 38.60% 1.24K eta 0s       \r",
      "[========================>                                        ] 38.03% 1.22K eta 0s       \r",
      "[========================>                                        ] 38.07% 1.22K eta 0s       \r",
      "[=========================>                                       ] 39.56% 1.27K eta 0s       \r",
      "[=========================>                                       ] 38.88% 1.25K eta 0s       \r",
      "[=========================>                                       ] 39.69% 1.27K eta 0s       \r",
      "[=========================>                                       ] 38.47% 1.23K eta 0s       \r",
      "[=========================>                                       ] 39.59% 1.27K eta 0s       \r",
      "[=========================>                                       ] 39.81% 1.28K eta 0s       \r",
      "[========================>                                        ] 37.47% 1.20K eta 0s       \r",
      "[=========================>                                       ] 39.66% 1.27K eta 0s       \r",
      "[==========================>                                      ] 40.00% 1.28K eta 0s       \r",
      "[=======================>                                         ] 36.60% 1.17K eta 0s       \r",
      "[==========================>                                      ] 40.16% 1.29K eta 0s       \r",
      "[=========================>                                       ] 39.72% 1.27K eta 0s       \r",
      "[==========================>                                      ] 40.19% 1.29K eta 0s       \r",
      "[=========================>                                       ] 39.63% 1.27K eta 0s       \r",
      "[==========================>                                      ] 40.62% 1.30K eta 0s       \r",
      "[==========================>                                      ] 40.75% 1.31K eta 0s       \r",
      "[==========================>                                      ] 40.87% 1.31K eta 0s       \r",
      "[==========================>                                      ] 40.90% 1.31K eta 0s       \r",
      "[=========================>                                       ] 39.84% 1.28K eta 0s       \r",
      "[==========================>                                      ] 40.94% 1.31K eta 0s       \r",
      "[==========================>                                      ] 40.69% 1.30K eta 0s       \r",
      "[==========================>                                      ] 40.72% 1.31K eta 0s       \r",
      "[==========================>                                      ] 41.12% 1.32K eta 0s       \r",
      "[==========================>                                      ] 40.66% 1.30K eta 0s       \r",
      "[==========================>                                      ] 41.31% 1.33K eta 0s       \r",
      "[==========================>                                      ] 41.15% 1.32K eta 0s       \r",
      "[==========================>                                      ] 40.12% 1.29K eta 0s       \r",
      "[==========================>                                      ] 41.22% 1.32K eta 0s       \r",
      "[===========================>                                     ] 41.81% 1.34K eta 0s       \r",
      "[===========================>                                     ] 41.87% 1.34K eta 0s       \r",
      "[==========================>                                      ] 41.28% 1.32K eta 0s       \r",
      "[==========================>                                      ] 41.34% 1.33K eta 0s       \r",
      "[===========================>                                     ] 42.31% 1.36K eta 0s       \r",
      "[===========================>                                     ] 42.37% 1.36K eta 0s       \r",
      "[===========================>                                     ] 42.53% 1.36K eta 0s       \r",
      "[===========================>                                     ] 42.62% 1.37K eta 0s       \r",
      "[===========================>                                     ] 42.78% 1.37K eta 0s       \r",
      "[===========================>                                     ] 42.34% 1.36K eta 0s       \r",
      "[===========================>                                     ] 42.84% 1.37K eta 0s       \r",
      "[==========================>                                      ] 41.19% 1.32K eta 0s       \r",
      "[===========================>                                     ] 42.59% 1.37K eta 0s       \r",
      "[============================>                                    ] 43.09% 1.38K eta 0s       \r",
      "[===========================>                                     ] 43.06% 1.38K eta 0s       \r",
      "[===========================>                                     ] 41.84% 1.34K eta 0s       \r",
      "[============================>                                    ] 43.12% 1.38K eta 0s       \r",
      "[============================>                                    ] 43.40% 1.39K eta 0s       \r",
      "[============================>                                    ] 43.37% 1.39K eta 0s       \r",
      "[============================>                                    ] 43.43% 1.39K eta 0s       \r",
      "[============================>                                    ] 43.46% 1.39K eta 0s       \r",
      "[===========================>                                     ] 42.81% 1.37K eta 0s       \r",
      "[===========================>                                     ] 42.56% 1.37K eta 0s       \r",
      "[============================>                                    ] 43.84% 1.41K eta 0s       \r",
      "[============================>                                    ] 43.99% 1.41K eta 0s       \r",
      "[===========================>                                     ] 41.90% 1.34K eta 0s       \r",
      "[============================>                                    ] 44.37% 1.42K eta 0s       \r",
      "[============================>                                    ] 44.43% 1.42K eta 0s       \r",
      "[============================>                                    ] 43.90% 1.41K eta 0s       \r",
      "[============================>                                    ] 44.40% 1.42K eta 0s       \r",
      "[=============================>                                   ] 44.62% 1.43K eta 0s       \r",
      "[============================>                                    ] 44.56% 1.43K eta 0s       \r",
      "[=============================>                                   ] 44.74% 1.43K eta 0s       \r",
      "[=============================>                                   ] 44.77% 1.44K eta 0s       \r",
      "[============================>                                    ] 43.87% 1.41K eta 0s       \r",
      "[============================>                                    ] 44.52% 1.43K eta 0s       \r",
      "[============================>                                    ] 43.15% 1.38K eta 0s       \r",
      "[=============================>                                   ] 45.55% 1.46K eta 0s       \r",
      "[=============================>                                   ] 45.74% 1.47K eta 0s       \r",
      "[============================>                                    ] 44.59% 1.43K eta 0s       \r",
      "[============================>                                    ] 44.49% 1.43K eta 0s       \r",
      "[=============================>                                   ] 45.62% 1.46K eta 0s       \r",
      "[=============================>                                   ] 45.87% 1.47K eta 0s       \r",
      "[============================>                                    ] 44.46% 1.43K eta 0s       \r",
      "[=============================>                                   ] 45.71% 1.47K eta 0s       \r",
      "[=============================>                                   ] 46.12% 1.48K eta 0s       \r",
      "[=============================>                                   ] 45.77% 1.47K eta 0s       \r",
      "[=============================>                                   ] 45.83% 1.47K eta 0s       \r",
      "[=============================>                                   ] 45.59% 1.46K eta 0s       \r",
      "[=============================>                                   ] 46.02% 1.48K eta 0s       \r",
      "[=============================>                                   ] 46.08% 1.48K eta 0s       \r",
      "[=============================>                                   ] 46.15% 1.48K eta 0s       \r",
      "[==============================>                                  ] 47.24% 1.51K eta 0s       \r",
      "[==============================>                                  ] 47.33% 1.52K eta 0s       \r",
      "[=============================>                                   ] 46.05% 1.48K eta 0s       \r",
      "[==============================>                                  ] 47.55% 1.52K eta 0s       \r",
      "[==============================>                                  ] 47.27% 1.52K eta 0s       \r",
      "[==============================>                                  ] 47.58% 1.53K eta 0s       \r",
      "[=============================>                                   ] 45.65% 1.46K eta 0s       \r",
      "[==============================>                                  ] 47.30% 1.52K eta 0s       \r",
      "[==============================>                                  ] 47.36% 1.52K eta 0s       \r",
      "[=============================>                                   ] 45.68% 1.47K eta 0s       \r",
      "[===============================>                                 ] 48.42% 1.55K eta 0s       \r",
      "[===============================>                                 ] 48.39% 1.55K eta 0s       \r",
      "[===============================>                                 ] 48.30% 1.55K eta 0s       \r",
      "[===============================>                                 ] 48.46% 1.55K eta 0s       \r",
      "[===============================>                                 ] 48.49% 1.55K eta 0s       \r",
      "[===============================>                                 ] 48.33% 1.55K eta 0s       \r",
      "[===============================>                                 ] 48.36% 1.55K eta 0s       \r",
      "[==============================>                                  ] 47.21% 1.51K eta 0s       \r",
      "[===============================>                                 ] 49.02% 1.57K eta 0s       \r",
      "[===============================>                                 ] 49.05% 1.57K eta 0s       \r",
      "[=============================>                                   ] 45.80% 1.47K eta 0s       \r",
      "[===============================>                                 ] 49.11% 1.58K eta 0s       \r",
      "[===============================>                                 ] 49.08% 1.57K eta 0s       \r",
      "[===============================>                                 ] 49.14% 1.58K eta 0s       \r",
      "[================================>                                ] 49.45% 1.59K eta 0s       \r",
      "[================================>                                ] 49.49% 1.59K eta 0s       \r",
      "[================================>                                ] 49.52% 1.59K eta 0s       \r",
      "[================================>                                ] 49.36% 1.58K eta 0s       \r",
      "[================================>                                ] 49.61% 1.59K eta 0s       \r",
      "[================================>                                ] 49.39% 1.58K eta 0s       \r",
      "[================================>                                ] 50.51% 1.62K eta 0s       \r",
      "[================================>                                ] 50.70% 1.63K eta 0s       \r",
      "[================================>                                ] 49.42% 1.59K eta 0s       \r",
      "[==============================>                                  ] 47.18% 1.51K eta 0s       \r",
      "[================================>                                ] 50.64% 1.62K eta 0s       \r",
      "[=================================>                               ] 50.86% 1.63K eta 0s       \r",
      "[================================>                                ] 50.73% 1.63K eta 0s       \r",
      "[================================>                                ] 50.58% 1.62K eta 0s       \r",
      "[=================================>                               ] 51.23% 1.64K eta 0s       \r",
      "[=================================>                               ] 51.26% 1.64K eta 0s       \r",
      "[=================================>                               ] 51.29% 1.64K eta 0s       \r",
      "[================================>                                ] 50.67% 1.62K eta 0s       \r",
      "[================================>                                ] 50.76% 1.63K eta 0s       \r",
      "[================================>                                ] 50.55% 1.62K eta 0s       \r",
      "[=================================>                               ] 51.89% 1.66K eta 0s       \r",
      "[=================================>                               ] 51.83% 1.66K eta 0s       \r",
      "[=================================>                               ] 51.86% 1.66K eta 0s       \r",
      "[=================================>                               ] 50.83% 1.63K eta 0s       \r",
      "[=================================>                               ] 51.92% 1.66K eta 0s       \r",
      "[=================================>                               ] 50.80% 1.63K eta 0s       \r",
      "[=================================>                               ] 51.33% 1.65K eta 0s       \r",
      "[==================================>                              ] 52.32% 1.68K eta 0s       \r",
      "[==================================>                              ] 52.36% 1.68K eta 0s       \r",
      "[================================>                                ] 50.61% 1.62K eta 0s       \r",
      "[==================================>                              ] 52.73% 1.69K eta 0s       \r",
      "[==================================>                              ] 52.79% 1.69K eta 0s       \r",
      "[=================================>                               ] 51.79% 1.66K eta 0s       \r",
      "[=================================>                               ] 52.29% 1.68K eta 0s       \r",
      "[==================================>                              ] 53.26% 1.71K eta 0s       \r",
      "[==================================>                              ] 52.70% 1.69K eta 0s       \r",
      "[==================================>                              ] 53.67% 1.72K eta 0s       \r",
      "[==================================>                              ] 53.70% 1.72K eta 0s       \r",
      "[==================================>                              ] 53.79% 1.73K eta 0s       \r",
      "[==================================>                              ] 53.23% 1.71K eta 0s       \r",
      "[==================================>                              ] 52.76% 1.69K eta 0s       \r",
      "[===================================>                             ] 53.98% 1.73K eta 0s       \r",
      "[==================================>                              ] 53.73% 1.72K eta 0s       \r",
      "[==================================>                              ] 53.20% 1.71K eta 0s       \r",
      "[==================================>                              ] 53.29% 1.71K eta 0s       \r",
      "[===================================>                             ] 54.48% 1.75K eta 0s       \r",
      "[===================================>                             ] 54.01% 1.73K eta 0s       \r",
      "[===================================>                             ] 54.07% 1.73K eta 0s       \r",
      "[===================================>                             ] 54.91% 1.76K eta 0s       \r",
      "[===================================>                             ] 54.88% 1.76K eta 0s       \r",
      "[===================================>                             ] 54.95% 1.76K eta 0s       \r",
      "[===================================>                             ] 54.54% 1.75K eta 0s       \r",
      "[===================================>                             ] 55.01% 1.76K eta 0s       \r",
      "[===================================>                             ] 54.51% 1.75K eta 0s       \r",
      "[===================================>                             ] 54.04% 1.73K eta 0s       \r",
      "[===================================>                             ] 55.16% 1.77K eta 0s       \r",
      "[===================================>                             ] 55.20% 1.77K eta 0s       \r",
      "[===================================>                             ] 54.57% 1.75K eta 0s       \r",
      "[==================================>                              ] 53.76% 1.72K eta 0s       \r",
      "[===================================>                             ] 54.98% 1.76K eta 0s       \r",
      "[====================================>                            ] 56.10% 1.80K eta 0s       \r",
      "[====================================>                            ] 56.19% 1.80K eta 0s       \r",
      "[===================================>                             ] 55.10% 1.77K eta 0s       \r",
      "[====================================>                            ] 56.41% 1.81K eta 0s       \r",
      "[====================================>                            ] 56.47% 1.81K eta 0s       \r",
      "[====================================>                            ] 56.07% 1.80K eta 0s       \r",
      "[====================================>                            ] 56.04% 1.80K eta 0s       \r",
      "[===================================>                             ] 55.13% 1.77K eta 0s       \r",
      "[=====================================>                           ] 57.07% 1.83K eta 0s       \r",
      "[=====================================>                           ] 57.16% 1.83K eta 0s       \r",
      "[====================================>                            ] 56.44% 1.81K eta 0s       \r",
      "[====================================>                            ] 56.16% 1.80K eta 0s       \r",
      "[=====================================>                           ] 57.35% 1.84K eta 0s       \r",
      "[=====================================>                           ] 57.38% 1.84K eta 0s       \r",
      "[=====================================>                           ] 57.41% 1.84K eta 0s       \r",
      "[=====================================>                           ] 57.44% 1.84K eta 0s       \r",
      "[=====================================>                           ] 57.19% 1.83K eta 0s       \r",
      "[=====================================>                           ] 57.54% 1.85K eta 0s       \r",
      "[=====================================>                           ] 57.10% 1.83K eta 0s       \r",
      "[=====================================>                           ] 57.63% 1.85K eta 0s       \r",
      "[=====================================>                           ] 57.13% 1.83K eta 0s       \r",
      "[=====================================>                           ] 57.50% 1.84K eta 0s       \r",
      "[=====================================>                           ] 57.88% 1.86K eta 0s       \r",
      "[=====================================>                           ] 57.97% 1.86K eta 0s       \r",
      "[=====================================>                           ] 57.94% 1.86K eta 0s       \r",
      "[=====================================>                           ] 57.66% 1.85K eta 0s       \r",
      "[=====================================>                           ] 57.69% 1.85K eta 0s       \r",
      "[=====================================>                           ] 58.13% 1.86K eta 0s       \r",
      "[====================================>                            ] 56.13% 1.80K eta 0s       \r",
      "[======================================>                          ] 58.53% 1.88K eta 0s       \r",
      "[======================================>                          ] 58.56% 1.88K eta 0s       \r",
      "[=====================================>                           ] 58.10% 1.86K eta 0s       \r",
      "[=====================================>                           ] 57.91% 1.86K eta 0s       \r",
      "[======================================>                          ] 58.60% 1.88K eta 0s       \r",
      "[======================================>                          ] 58.88% 1.89K eta 0s       \r",
      "[======================================>                          ] 58.78% 1.88K eta 0s       \r",
      "[======================================>                          ] 58.81% 1.89K eta 0s       \r",
      "[======================================>                          ] 59.44% 1.91K eta 0s       \r",
      "[======================================>                          ] 59.56% 1.91K eta 0s       \r",
      "[=====================================>                           ] 57.32% 1.84K eta 0s       \r",
      "[======================================>                          ] 59.84% 1.92K eta 0s       \r",
      "[======================================>                          ] 59.41% 1.90K eta 0s       \r",
      "[======================================>                          ] 59.91% 1.92K eta 0s       \r",
      "[======================================>                          ] 59.50% 1.91K eta 0s       \r",
      "[======================================>                          ] 59.53% 1.91K eta 0s       \r",
      "[=======================================>                         ] 60.56% 1.94K eta 0s       \r",
      "[=======================================>                         ] 60.66% 1.95K eta 0s       \r",
      "[======================================>                          ] 58.85% 1.89K eta 0s       \r",
      "[======================================>                          ] 58.91% 1.89K eta 0s       \r",
      "[=======================================>                         ] 60.72% 1.95K eta 0s       \r",
      "[=======================================>                         ] 60.78% 1.95K eta 0s       \r",
      "[=======================================>                         ] 60.87% 1.95K eta 0s       \r",
      "[=======================================>                         ] 60.62% 1.94K eta 0s       \r",
      "[======================================>                          ] 59.88% 1.92K eta 0s       \r",
      "[======================================>                          ] 59.47% 1.91K eta 0s       \r",
      "[=======================================>                         ] 60.75% 1.95K eta 0s       \r",
      "[=======================================>                         ] 60.59% 1.94K eta 0s       \r",
      "[=======================================>                         ] 61.37% 1.97K eta 0s       \r",
      "[=======================================>                         ] 60.90% 1.95K eta 0s       \r",
      "[=======================================>                         ] 61.47% 1.97K eta 0s       \r",
      "[=======================================>                         ] 60.81% 1.95K eta 0s       \r",
      "[========================================>                        ] 61.56% 1.97K eta 0s       \r",
      "[========================================>                        ] 61.59% 1.98K eta 0s       \r",
      "[=======================================>                         ] 61.40% 1.97K eta 0s       \r",
      "[========================================>                        ] 61.65% 1.98K eta 0s       \r",
      "[======================================>                          ] 59.81% 1.92K eta 0s       \r",
      "[========================================>                        ] 62.03% 1.99K eta 0s       \r",
      "[========================================>                        ] 62.15% 1.99K eta 0s       \r",
      "[=======================================>                         ] 60.94% 1.95K eta 0s       \r",
      "[========================================>                        ] 62.46% 2.00K eta 0s       \r",
      "[========================================>                        ] 62.09% 1.99K eta 0s       \r",
      "[========================================>                        ] 62.56% 2.01K eta 0s       \r",
      "[========================================>                        ] 61.62% 1.98K eta 0s       \r",
      "[=======================================>                         ] 61.44% 1.97K eta 0s       \r",
      "[========================================>                        ] 62.96% 2.02K eta 0s       \r",
      "[========================================>                        ] 63.00% 2.02K eta 0s       \r",
      "[========================================>                        ] 62.50% 2.00K eta 0s       \r",
      "[========================================>                        ] 62.12% 1.99K eta 0s       \r",
      "[=========================================>                       ] 63.43% 2.03K eta 0s       \r",
      "[=========================================>                       ] 63.49% 2.04K eta 0s       \r",
      "[========================================>                        ] 62.53% 2.01K eta 0s       \r",
      "[=========================================>                       ] 63.81% 2.05K eta 0s       \r",
      "[=========================================>                       ] 63.87% 2.05K eta 0s       \r",
      "[=========================================>                       ] 63.46% 2.04K eta 0s       \r",
      "[=========================================>                       ] 63.99% 2.05K eta 0s       \r",
      "[=========================================>                       ] 64.06% 2.05K eta 0s       \r",
      "[========================================>                        ] 62.93% 2.02K eta 0s       \r",
      "[=========================================>                       ] 63.84% 2.05K eta 0s       \r",
      "[=========================================>                       ] 64.24% 2.06K eta 0s       \r",
      "[=========================================>                       ] 64.37% 2.06K eta 0s       \r",
      "[=========================================>                       ] 64.40% 2.07K eta 0s       \r",
      "[=========================================>                       ] 64.02% 2.05K eta 0s       \r",
      "[=========================================>                       ] 63.78% 2.05K eta 0s       \r",
      "[==========================================>                      ] 65.05% 2.09K eta 0s       \r",
      "[==========================================>                      ] 65.15% 2.09K eta 0s       \r",
      "[=========================================>                       ] 64.34% 2.06K eta 0s       \r",
      "[========================================>                        ] 62.90% 2.02K eta 0s       \r",
      "[==========================================>                      ] 65.55% 2.10K eta 0s       \r",
      "[=========================================>                       ] 64.31% 2.06K eta 0s       \r",
      "[==========================================>                      ] 65.09% 2.09K eta 0s       \r",
      "[==========================================>                      ] 65.65% 2.11K eta 0s       \r",
      "[==========================================>                      ] 65.68% 2.11K eta 0s       \r",
      "[========================================>                        ] 62.06% 1.99K eta 0s       \r",
      "[==========================================>                      ] 65.59% 2.10K eta 0s       \r",
      "[==========================================>                      ] 65.87% 2.11K eta 0s       \r",
      "[=========================================>                       ] 63.53% 2.04K eta 0s       \r",
      "[==========================================>                      ] 65.93% 2.11K eta 0s       \r",
      "[==========================================>                      ] 65.12% 2.09K eta 0s       \r",
      "[=========================================>                       ] 64.27% 2.06K eta 0s       \r",
      "[==========================================>                      ] 66.15% 2.12K eta 0s       \r",
      "[===========================================>                     ] 66.18% 2.12K eta 0s       \r",
      "[===========================================>                     ] 66.21% 2.12K eta 0s       \r",
      "[===========================================>                     ] 66.52% 2.13K eta 0s       \r",
      "[===========================================>                     ] 66.58% 2.13K eta 0s       \r",
      "[==========================================>                      ] 65.62% 2.10K eta 0s       \r",
      "[==========================================>                      ] 65.90% 2.11K eta 0s       \r",
      "[===========================================>                     ] 66.96% 2.15K eta 0s       \r",
      "[===========================================>                     ] 66.49% 2.13K eta 0s       \r",
      "[===========================================>                     ] 66.55% 2.13K eta 0s       \r",
      "[===========================================>                     ] 67.36% 2.16K eta 0s       \r",
      "[===========================================>                     ] 67.39% 2.16K eta 0s       \r",
      "[===========================================>                     ] 67.05% 2.15K eta 0s       \r",
      "[===========================================>                     ] 67.64% 2.17K eta 0s       \r",
      "[===========================================>                     ] 67.08% 2.15K eta 0s       \r",
      "[==========================================>                      ] 66.12% 2.12K eta 0s       \r",
      "[===========================================>                     ] 66.99% 2.15K eta 0s       \r",
      "[============================================>                    ] 67.86% 2.18K eta 0s       \r",
      "[===========================================>                     ] 67.02% 2.15K eta 0s       \r",
      "[===========================================>                     ] 67.61% 2.17K eta 0s       \r",
      "[============================================>                    ] 68.05% 2.18K eta 0s       \r",
      "[============================================>                    ] 68.08% 2.18K eta 0s       \r",
      "[==========================================>                      ] 65.52% 2.10K eta 0s       \r",
      "[============================================>                    ] 67.93% 2.18K eta 0s       \r",
      "[============================================>                    ] 68.27% 2.19K eta 0s       \r",
      "[===========================================>                     ] 67.68% 2.17K eta 0s       \r",
      "[============================================>                    ] 68.33% 2.19K eta 0s       \r",
      "[============================================>                    ] 68.36% 2.19K eta 0s       \r",
      "[===========================================>                     ] 67.33% 2.16K eta 0s       \r",
      "[============================================>                    ] 68.49% 2.20K eta 0s       \r",
      "[============================================>                    ] 67.89% 2.18K eta 0s       \r",
      "[============================================>                    ] 68.52% 2.20K eta 0s       \r",
      "[============================================>                    ] 67.71% 2.17K eta 0s       \r",
      "[===========================================>                     ] 67.11% 2.15K eta 0s       \r",
      "[============================================>                    ] 68.77% 2.20K eta 0s       \r",
      "[============================================>                    ] 68.92% 2.21K eta 0s       \r",
      "[============================================>                    ] 68.83% 2.21K eta 0s       \r",
      "[============================================>                    ] 69.14% 2.22K eta 0s       \r",
      "[============================================>                    ] 69.11% 2.22K eta 0s       \r",
      "[============================================>                    ] 69.08% 2.21K eta 0s       \r",
      "[============================================>                    ] 68.86% 2.21K eta 0s       \r",
      "[============================================>                    ] 68.30% 2.19K eta 0s       \r",
      "[=============================================>                   ] 69.42% 2.23K eta 0s       \r",
      "[=============================================>                   ] 69.49% 2.23K eta 0s       \r",
      "[============================================>                    ] 69.17% 2.22K eta 0s       \r",
      "[============================================>                    ] 68.89% 2.21K eta 0s       \r",
      "[=============================================>                   ] 69.70% 2.23K eta 0s       \r",
      "[=============================================>                   ] 69.77% 2.24K eta 0s       \r",
      "[=============================================>                   ] 69.45% 2.23K eta 0s       \r",
      "[=============================================>                   ] 69.55% 2.23K eta 0s       \r",
      "[============================================>                    ] 68.80% 2.21K eta 0s       \r",
      "[=============================================>                   ] 69.73% 2.24K eta 0s       \r",
      "[=============================================>                   ] 70.48% 2.26K eta 0s       \r",
      "[=============================================>                   ] 70.61% 2.26K eta 0s       \r",
      "[=============================================>                   ] 69.52% 2.23K eta 0s       \r",
      "[=============================================>                   ] 70.67% 2.27K eta 0s       \r",
      "[=============================================>                   ] 70.76% 2.27K eta 0s       \r",
      "[==============================================>                  ] 70.80% 2.27K eta 0s       \r",
      "[=============================================>                   ] 70.55% 2.26K eta 0s       \r",
      "[=============================================>                   ] 70.73% 2.27K eta 0s       \r",
      "[==============================================>                  ] 71.01% 2.28K eta 0s       \r",
      "[=============================================>                   ] 70.70% 2.27K eta 0s       \r",
      "[==============================================>                  ] 71.05% 2.28K eta 0s       \r",
      "[=============================================>                   ] 69.80% 2.24K eta 0s       \r",
      "[============================================>                    ] 68.46% 2.19K eta 0s       \r",
      "[==============================================>                  ] 71.23% 2.28K eta 0s       \r",
      "[==============================================>                  ] 71.26% 2.29K eta 0s       \r",
      "[==============================================>                  ] 71.08% 2.28K eta 0s       \r",
      "[==============================================>                  ] 70.83% 2.27K eta 0s       \r",
      "[==============================================>                  ] 71.95% 2.31K eta 0s       \r",
      "[==============================================>                  ] 71.98% 2.31K eta 0s       \r",
      "[==============================================>                  ] 72.01% 2.31K eta 0s       \r",
      "[==============================================>                  ] 72.07% 2.31K eta 0s       \r",
      "[==============================================>                  ] 72.26% 2.32K eta 0s       \r",
      "[===============================================>                 ] 72.36% 2.32K eta 0s       \r",
      "[=============================================>                   ] 70.51% 2.26K eta 0s       \r",
      "[==============================================>                  ] 72.29% 2.32K eta 0s       \r",
      "[===============================================>                 ] 72.32% 2.32K eta 0s       \r",
      "[==============================================>                  ] 72.04% 2.31K eta 0s       \r",
      "[===============================================>                 ] 73.35% 2.35K eta 0s       \r",
      "[===============================================>                 ] 73.51% 2.36K eta 0s       \r",
      "[===============================================>                 ] 73.48% 2.36K eta 0s       \r",
      "[===============================================>                 ] 73.54% 2.36K eta 0s       \r",
      "[===============================================>                 ] 73.67% 2.36K eta 0s       \r",
      "[===============================================>                 ] 73.70% 2.36K eta 0s       \r",
      "[===============================================>                 ] 73.42% 2.35K eta 0s       \r",
      "[=============================================>                   ] 70.58% 2.26K eta 0s       \r",
      "[================================================>                ] 74.45% 2.39K eta 0s       \r",
      "[================================================>                ] 74.41% 2.39K eta 0s       \r",
      "[================================================>                ] 74.48% 2.39K eta 0s       \r",
      "[===============================================>                 ] 73.63% 2.36K eta 0s       \r",
      "[===============================================>                 ] 72.39% 2.32K eta 0s       \r",
      "[===============================================>                 ] 73.39% 2.35K eta 0s       \r",
      "[================================================>                ] 74.66% 2.39K eta 0s       \r",
      "[================================================>                ] 74.57% 2.39K eta 0s       \r",
      "[================================================>                ] 74.70% 2.39K eta 0s       \r",
      "[================================================>                ] 74.60% 2.39K eta 0s       \r",
      "[===============================================>                 ] 73.45% 2.36K eta 0s       \r",
      "[================================================>                ] 75.01% 2.40K eta 0s       \r",
      "[================================================>                ] 74.82% 2.40K eta 0s       \r",
      "[================================================>                ] 74.51% 2.39K eta 0s       \r",
      "[================================================>                ] 75.04% 2.41K eta 0s       \r",
      "[=================================================>               ] 75.79% 2.43K eta 0s       \r",
      "[=================================================>               ] 75.82% 2.43K eta 0s       \r",
      "[=================================================>               ] 75.85% 2.43K eta 0s       \r",
      "[================================================>                ] 74.85% 2.40K eta 0s       \r",
      "[=================================================>               ] 76.19% 2.44K eta 0s       \r",
      "[=================================================>               ] 76.01% 2.44K eta 0s       \r",
      "[=================================================>               ] 75.98% 2.44K eta 0s       \r",
      "[================================================>                ] 74.54% 2.39K eta 0s       \r",
      "[==================================================>              ] 77.00% 2.47K eta 0s       \r",
      "[==================================================>              ] 77.07% 2.47K eta 0s       \r",
      "[=================================================>               ] 76.22% 2.44K eta 0s       \r",
      "[=================================================>               ] 75.91% 2.43K eta 0s       \r",
      "[==================================================>              ] 77.32% 2.48K eta 0s       \r",
      "[==================================================>              ] 77.38% 2.48K eta 0s       \r",
      "[=================================================>               ] 75.88% 2.43K eta 0s       \r",
      "[==================================================>              ] 77.10% 2.47K eta 0s       \r",
      "[==================================================>              ] 77.50% 2.48K eta 0s       \r",
      "[==================================================>              ] 77.57% 2.49K eta 0s       \r",
      "[=================================================>               ] 75.94% 2.43K eta 0s       \r",
      "[==================================================>              ] 77.35% 2.48K eta 0s       \r",
      "[==================================================>              ] 77.04% 2.47K eta 0s       \r",
      "[==================================================>              ] 77.54% 2.49K eta 0s       \r",
      "[==================================================>              ] 78.07% 2.50K eta 0s       \r",
      "[==================================================>              ] 78.22% 2.51K eta 0s       \r",
      "[==================================================>              ] 78.28% 2.51K eta 0s       \r",
      "[==================================================>              ] 77.13% 2.47K eta 0s       \r",
      "[==================================================>              ] 78.10% 2.50K eta 0s       \r",
      "[==================================================>              ] 78.13% 2.51K eta 0s       \r",
      "[==================================================>              ] 78.35% 2.51K eta 0s       \r",
      "[==================================================>              ] 78.32% 2.51K eta 0s       \r",
      "[===================================================>             ] 78.88% 2.53K eta 0s       \r",
      "[===================================================>             ] 78.91% 2.53K eta 0s       \r",
      "[==================================================>              ] 77.16% 2.47K eta 0s       \r",
      "[==================================================>              ] 78.25% 2.51K eta 0s       \r",
      "[===================================================>             ] 79.19% 2.54K eta 0s       \r",
      "[===================================================>             ] 78.85% 2.53K eta 0s       \r",
      "[==================================================>              ] 78.38% 2.51K eta 0s       \r",
      "[===================================================>             ] 79.56% 2.55K eta 0s       \r",
      "[===================================================>             ] 79.59% 2.55K eta 0s       \r",
      "[===================================================>             ] 79.63% 2.55K eta 0s       \r",
      "[===================================================>             ] 79.66% 2.55K eta 0s       \r",
      "[===================================================>             ] 78.94% 2.53K eta 0s       \r",
      "[===================================================>             ] 78.97% 2.53K eta 0s       \r",
      "[====================================================>            ] 80.75% 2.59K eta 0s       \r",
      "[====================================================>            ] 80.84% 2.59K eta 0s       \r",
      "[====================================================>            ] 80.87% 2.59K eta 0s       \r",
      "[====================================================>            ] 81.19% 2.60K eta 0s       \r",
      "[====================================================>            ] 81.25% 2.61K eta 0s       \r",
      "[===================================================>             ] 79.16% 2.54K eta 0s       \r",
      "[====================================================>            ] 80.72% 2.59K eta 0s       \r",
      "[===================================================>             ] 79.22% 2.54K eta 0s       \r",
      "[====================================================>            ] 81.53% 2.61K eta 0s       \r",
      "[====================================================>            ] 81.50% 2.61K eta 0s       \r",
      "[=====================================================>           ] 81.56% 2.62K eta 0s       \r",
      "[====================================================>            ] 81.28% 2.61K eta 0s       \r",
      "[==================================================>              ] 78.16% 2.51K eta 0s       \r",
      "[====================================================>            ] 80.90% 2.59K eta 0s       \r",
      "[=====================================================>           ] 82.09% 2.63K eta 0s       \r",
      "[=====================================================>           ] 82.12% 2.63K eta 0s       \r",
      "[=====================================================>           ] 82.22% 2.64K eta 0s       \r",
      "[====================================================>            ] 81.22% 2.60K eta 0s       \r",
      "[=====================================================>           ] 82.25% 2.64K eta 0s       \r",
      "[=====================================================>           ] 82.28% 2.64K eta 0s       \r",
      "[=====================================================>           ] 82.31% 2.64K eta 0s       \r",
      "[=====================================================>           ] 82.06% 2.63K eta 0s       \r",
      "[=====================================================>           ] 82.75% 2.65K eta 0s       \r",
      "[===================================================>             ] 79.69% 2.56K eta 0s       \r",
      "[=====================================================>           ] 83.03% 2.66K eta 0s       \r",
      "[======================================================>          ] 83.09% 2.66K eta 0s       \r",
      "[=====================================================>           ] 82.71% 2.65K eta 0s       \r",
      "[======================================================>          ] 83.21% 2.67K eta 0s       \r",
      "[======================================================>          ] 83.24% 2.67K eta 0s       \r",
      "[======================================================>          ] 83.31% 2.67K eta 0s       \r",
      "[=====================================================>           ] 83.06% 2.66K eta 0s       \r",
      "[====================================================>            ] 80.69% 2.59K eta 0s       \r",
      "[======================================================>          ] 83.46% 2.68K eta 0s       \r",
      "[======================================================>          ] 83.53% 2.68K eta 0s       \r",
      "[======================================================>          ] 83.12% 2.66K eta 0s       \r",
      "[======================================================>          ] 83.93% 2.69K eta 0s       \r",
      "[======================================================>          ] 83.96% 2.69K eta 0s       \r",
      "[=====================================================>           ] 82.68% 2.65K eta 0s       \r",
      "[======================================================>          ] 83.34% 2.67K eta 0s       \r",
      "[======================================================>          ] 84.24% 2.70K eta 0s       \r",
      "[======================================================>          ] 84.27% 2.70K eta 0s       \r",
      "[=======================================================>         ] 85.34% 2.74K eta 0s       \r",
      "[=======================================================>         ] 85.30% 2.73K eta 0s       \r",
      "[=======================================================>         ] 85.40% 2.74K eta 0s       \r",
      "[======================================================>          ] 84.06% 2.69K eta 0s       \r",
      "[======================================================>          ] 83.49% 2.68K eta 0s       \r",
      "[======================================================>          ] 84.21% 2.70K eta 0s       \r",
      "[======================================================>          ] 84.02% 2.69K eta 0s       \r",
      "[=======================================================>         ] 85.55% 2.74K eta 0s       \r",
      "[=======================================================>         ] 85.80% 2.75K eta 0s       \r",
      "[=======================================================>         ] 85.90% 2.75K eta 0s       \r",
      "[======================================================>          ] 83.99% 2.69K eta 0s       \r",
      "[=======================================================>         ] 86.08% 2.76K eta 0s       \r",
      "[=======================================================>         ] 86.05% 2.76K eta 0s       \r",
      "[=======================================================>         ] 86.12% 2.76K eta 0s       \r",
      "[=======================================================>         ] 85.37% 2.74K eta 0s       \r",
      "[========================================================>        ] 86.21% 2.76K eta 0s       \r",
      "[=======================================================>         ] 86.15% 2.76K eta 0s       \r",
      "[========================================================>        ] 86.33% 2.77K eta 0s       \r",
      "[========================================================>        ] 86.37% 2.77K eta 0s       \r",
      "[=======================================================>         ] 85.83% 2.75K eta 0s       \r",
      "[========================================================>        ] 86.18% 2.76K eta 0s       \r",
      "[========================================================>        ] 87.21% 2.80K eta 0s       \r",
      "[========================================================>        ] 87.30% 2.80K eta 0s       \r",
      "[========================================================>        ] 86.40% 2.77K eta 0s       \r",
      "[========================================================>        ] 87.43% 2.80K eta 0s       \r",
      "[========================================================>        ] 87.46% 2.80K eta 0s       \r",
      "[========================================================>        ] 87.49% 2.81K eta 0s       \r",
      "[=======================================================>         ] 85.87% 2.75K eta 0s       \r",
      "[========================================================>        ] 87.64% 2.81K eta 0s       \r",
      "[========================================================>        ] 87.68% 2.81K eta 0s       \r",
      "[========================================================>        ] 87.27% 2.80K eta 0s       \r",
      "[========================================================>        ] 87.24% 2.80K eta 0s       \r",
      "[========================================================>        ] 87.39% 2.80K eta 0s       \r",
      "[=========================================================>       ] 87.74% 2.81K eta 0s       \r",
      "[=========================================================>       ] 88.52% 2.84K eta 0s       \r",
      "[=========================================================>       ] 88.58% 2.84K eta 0s       \r",
      "[=========================================================>       ] 88.55% 2.84K eta 0s       \r",
      "[=========================================================>       ] 88.49% 2.84K eta 0s       \r",
      "[=======================================================>         ] 85.52% 2.74K eta 0s       \r",
      "[=========================================================>       ] 88.61% 2.84K eta 0s       \r",
      "[=========================================================>       ] 89.14% 2.86K eta 0s       \r",
      "[=========================================================>       ] 88.64% 2.84K eta 0s       \r",
      "[==========================================================>      ] 89.92% 2.88K eta 0s       \r",
      "[=========================================================>       ] 87.71% 2.81K eta 0s       \r",
      "[==========================================================>      ] 89.98% 2.88K eta 0s       \r",
      "[==========================================================>      ] 89.95% 2.88K eta 0s       \r",
      "[===========================================================>     ] 90.98% 2.92K eta 0s       \r",
      "[==========================================================>      ] 89.86% 2.88K eta 0s       \r",
      "[===========================================================>     ] 91.58% 2.94K eta 0s       \r",
      "[==========================================================>      ] 90.11% 2.89K eta 0s       \r",
      "[==========================================================>      ] 90.14% 2.89K eta 0s       \r",
      "[===========================================================>     ] 91.73% 2.94K eta 0s       \r",
      "[===========================================================>     ] 91.76% 2.94K eta 0s       \r",
      "[===========================================================>     ] 91.83% 2.94K eta 0s       \r",
      "[==========================================================>      ] 90.05% 2.89K eta 0s       \r",
      "[===========================================================>     ] 91.79% 2.94K eta 0s       \r",
      "[===========================================================>     ] 92.11% 2.95K eta 0s       \r",
      "[===========================================================>     ] 92.17% 2.95K eta 0s       \r",
      "[===========================================================>     ] 92.14% 2.95K eta 0s       \r",
      "[===========================================================>     ] 92.26% 2.96K eta 0s       \r",
      "[===========================================================>     ] 92.29% 2.96K eta 0s       \r",
      "[============================================================>    ] 92.32% 2.96K eta 0s       \r",
      "[==========================================================>      ] 89.89% 2.88K eta 0s       \r",
      "[============================================================>    ] 92.36% 2.96K eta 0s       \r",
      "[============================================================>    ] 93.14% 2.99K eta 0s       \r",
      "[============================================================>    ] 93.23% 2.99K eta 0s       \r",
      "[============================================================>    ] 93.17% 2.99K eta 0s       \r",
      "[==========================================================>      ] 90.02% 2.89K eta 0s       \r",
      "[============================================================>    ] 93.73% 3.01K eta 0s       \r",
      "[============================================================>    ] 93.79% 3.01K eta 0s       \r",
      "[============================================================>    ] 93.76% 3.01K eta 0s       \r",
      "[============================================================>    ] 93.82% 3.01K eta 0s       \r",
      "[============================================================>    ] 93.20% 2.99K eta 0s       \r",
      "[============================================================>    ] 93.10% 2.98K eta 0s       \r",
      "[=============================================================>   ] 94.79% 3.04K eta 0s       \r",
      "[=============================================================>   ] 94.85% 3.04K eta 0s       \r",
      "[=============================================================>   ] 94.76% 3.04K eta 0s       \r",
      "[=============================================================>   ] 94.82% 3.04K eta 0s       \r",
      "[=============================================================>   ] 94.88% 3.04K eta 0s       \r",
      "[==============================================================>  ] 95.94% 3.08K eta 0s       \r",
      "[==============================================================>  ] 95.91% 3.08K eta 0s       \r",
      "[==============================================================>  ] 95.85% 3.07K eta 0s       \r",
      "[==============================================================>  ] 95.88% 3.07K eta 0s       \r",
      "[==============================================================>  ] 96.88% 3.11K eta 0s       \r",
      "[===============================================================> ] 97.00% 3.11K eta 0s       \r",
      "[===============================================================> ] 96.94% 3.11K eta 0s       \r",
      "[===============================================================> ] 96.97% 3.11K eta 0s       \r",
      "[==============================================================>  ] 96.91% 3.11K eta 0s       \r",
      "[===============================================================> ] 97.94% 3.14K eta 0s       \r",
      "[===============================================================> ] 98.07% 3.14K eta 0s       \r",
      "[===============================================================> ] 98.00% 3.14K eta 0s       \r",
      "[================================================================>] 99.03% 3.17K eta 0s       \r",
      "[==============================================================>  ] 95.98% 3.08K eta 0s       \r",
      "[================================================================>] 99.25% 3.18K eta 0s       \r",
      "[===============================================================> ] 97.97% 3.14K eta 0s       \r",
      "[================================================================>] 99.47% 3.19K eta 0s       \r",
      "[================================================================>] 99.50% 3.19K eta 0s       \r",
      "[===============================================================> ] 98.03% 3.14K eta 0s       \r",
      "[================================================================>] 99.88% 3.20K eta 0s       \r",
      "[=================================================================] 100.00% 3.21K 0s 29ms\r\n"
     ]
    },
    {
     "name": "stdout",
     "output_type": "stream",
     "text": [
      "Index statistics\n",
      "Entries:          54202\n",
      "DB size:          488 MB\n",
      "Avg k-mer size:   0.000847\n",
      "Top 10 k-mers\n",
      "    WERDGR\t90\n",
      "    GRYVNT\t72\n",
      "    YYDNTT\t67\n",
      "    VDNRTW\t46\n",
      "    YVHTTT\t43\n",
      "    GRYYVT\t37\n",
      "    PYVHRT\t32\n",
      "    GRYYIT\t29\n",
      "    LPGERT\t28\n",
      "    FIHTTT\t26\n",
      "Time for index table init: 0h 0m 0s 613ms\n",
      "Process prefiltering step 1 of 1\n",
      "\n",
      "k-mer similarity threshold: 154\n",
      "Starting prefiltering scores calculation (step 1 of 1)\n",
      "Query db start 1 to 3206\n",
      "Target db start 1 to 3206\n",
      "[=================================================================] 100.00% 3.21K 0s 15ms     \n",
      "[================================================================>] 99.63% 3.19K eta 0s       \n",
      "3.423607 k-mers per position\n",
      "105 DB matches per sequence\n",
      "0 overflows\n",
      "0 queries produce too much hits (truncated result)\n",
      "16 sequences passed prefiltering per query sequence\n",
      "20 median result list length\n",
      "0 sequences with 0 size result lists\n",
      "Time for merging to pref_step0: 0h 0m 0s 131ms\n",
      "Time for processing: 0h 0m 1s 360ms\n",
      "align /home/cyril/Documents/These/data/PF00397/tmp/2750728949833174504/clu_tmp/11756354771537127490/input_step_redundancy /home/cyril/Documents/These/data/PF00397/tmp/2750728949833174504/clu_tmp/11756354771537127490/input_step_redundancy /home/cyril/Documents/These/data/PF00397/tmp/2750728949833174504/clu_tmp/11756354771537127490/pref_step0 /home/cyril/Documents/These/data/PF00397/tmp/2750728949833174504/clu_tmp/11756354771537127490/aln_step0 --sub-mat nucl:nucleotide.out,aa:blosum62.out -a 0 --alignment-mode 3 --wrapped-scoring 0 -e 0.001 --min-seq-id 0.7 --min-aln-len 0 --seq-id-mode 0 --alt-ali 0 -c 0.8 --cov-mode 0 --max-seq-len 65535 --comp-bias-corr 0 --realign 0 --max-rejected 2147483647 --max-accept 2147483647 --add-self-matches 0 --db-load-mode 0 --pca 1 --pcb 1.5 --score-bias 0 --gap-open 11 --gap-extend 1 --threads 12 --compressed 0 -v 3 \n",
      "\n",
      "Compute score, coverage and sequence identity\n",
      "Query database size: 3206 type: Aminoacid\n",
      "Target database size: 3206 type: Aminoacid\n",
      "Calculation of alignments\n",
      "[=================================================================] 100.00% 3.21K 0s 72ms     \n",
      "Time for merging to aln_step0: 0h 0m 0s 114ms================>    ] 93.35% 2.99K eta 0s       \n",
      "\n",
      "52371 alignments calculated.\n",
      "7735 sequence pairs passed the thresholds (0.147696 of overall calculated).\n",
      "2.412664 hits per query sequence.\n",
      "Time for processing: 0h 0m 0s 477ms\n",
      "clust /home/cyril/Documents/These/data/PF00397/tmp/2750728949833174504/clu_tmp/11756354771537127490/input_step_redundancy /home/cyril/Documents/These/data/PF00397/tmp/2750728949833174504/clu_tmp/11756354771537127490/aln_step0 /home/cyril/Documents/These/data/PF00397/tmp/2750728949833174504/clu_tmp/11756354771537127490/clu_step0 --cluster-mode 0 --max-iterations 1000 --similarity-type 2 --threads 12 --compressed 0 -v 3 \n",
      "\n",
      "Clustering mode: Set Cover\n",
      "[=================================================================] 100.00% 3.21K 0s 19ms     \n",
      "Sort entries\n",
      "Find missing connections\n",
      "Found 713 new connections.\n",
      "Reconstruct initial order\n",
      "[=================================================================] 100.00% 3.21K 0s 31ms     \n",
      "Add missing connections\n",
      "[=================================================================] 100.00% 3.21K 0s 0ms      \n",
      "\n",
      "Time for read in: 0h 0m 0s 176ms\n",
      "Total time: 0h 0m 0s 219ms\n",
      "\n",
      "Size of the sequence database: 3206\n",
      "Size of the alignment database: 3206\n",
      "Number of clusters: 2320\n",
      "\n",
      "Writing results 0h 0m 0s 0ms\n",
      "Time for merging to clu_step0: 0h 0m 0s 139ms\n",
      "Time for processing: 0h 0m 0s 491ms\n",
      "mergeclusters /home/cyril/Documents/These/data/PF00397/tmp/2750728949833174504/input /home/cyril/Documents/These/data/PF00397/tmp/2750728949833174504/clu /home/cyril/Documents/These/data/PF00397/tmp/2750728949833174504/clu_tmp/11756354771537127490/clu_redundancy /home/cyril/Documents/These/data/PF00397/tmp/2750728949833174504/clu_tmp/11756354771537127490/clu_step0 --threads 12 --compressed 0 -v 3 \n",
      "\n",
      "Clustering step 1\n",
      "[=================================================================] 100.00% 3.21K 0s 30ms     \n",
      "Clustering step 2\n",
      "[=================================================================] 100.00% 2.32K 0s 205ms    \n",
      "Write merged clustering\n",
      "[=================================================================] 100.00% 9.90K 0s 222ms    \n",
      "Time for merging to clu: 0h 0m 0s 140ms\n",
      "Time for processing: 0h 0m 0s 475ms\n",
      "Remove temporary files\n",
      "rmdb /home/cyril/Documents/These/data/PF00397/tmp/2750728949833174504/clu_tmp/11756354771537127490/clu_redundancy \n",
      "\n",
      "Time for processing: 0h 0m 0s 0ms\n",
      "rmdb /home/cyril/Documents/These/data/PF00397/tmp/2750728949833174504/clu_tmp/11756354771537127490/input_step_redundancy \n",
      "\n",
      "Time for processing: 0h 0m 0s 0ms\n",
      "rmdb /home/cyril/Documents/These/data/PF00397/tmp/2750728949833174504/clu_tmp/11756354771537127490/pref_step0 \n",
      "\n",
      "Time for processing: 0h 0m 0s 0ms\n",
      "rmdb /home/cyril/Documents/These/data/PF00397/tmp/2750728949833174504/clu_tmp/11756354771537127490/aln_step0 \n",
      "\n",
      "Time for processing: 0h 0m 0s 0ms\n",
      "rmdb /home/cyril/Documents/These/data/PF00397/tmp/2750728949833174504/clu_tmp/11756354771537127490/clu_step0 \n",
      "\n",
      "Time for processing: 0h 0m 0s 0ms\n",
      "createtsv /home/cyril/Documents/These/data/PF00397/tmp/2750728949833174504/input /home/cyril/Documents/These/data/PF00397/tmp/2750728949833174504/input /home/cyril/Documents/These/data/PF00397/tmp/2750728949833174504/clu /home/cyril/Documents/These/data/PF00397/tmp/2750728949833174504/cluster.tsv --threads 12 -v 3 \n",
      "\n",
      "Time for merging to cluster.tsv: 0h 0m 0s 136ms\n",
      "Time for processing: 0h 0m 0s 300ms\n",
      "result2repseq /home/cyril/Documents/These/data/PF00397/tmp/2750728949833174504/input /home/cyril/Documents/These/data/PF00397/tmp/2750728949833174504/clu /home/cyril/Documents/These/data/PF00397/tmp/2750728949833174504/clu_rep --threads 12 -v 3 \n",
      "\n",
      "[=================================================================] 100.00% 2.32K 0s 21ms     \n",
      "Time for merging to clu_rep: 0h 0m 0s 121ms\n",
      "Time for processing: 0h 0m 0s 297ms\n",
      "result2flat /home/cyril/Documents/These/data/PF00397/tmp/2750728949833174504/input /home/cyril/Documents/These/data/PF00397/tmp/2750728949833174504/input /home/cyril/Documents/These/data/PF00397/tmp/2750728949833174504/clu_rep /home/cyril/Documents/These/data/PF00397/tmp/2750728949833174504/rep_seq.fasta --use-fasta-header -v 3 \n",
      "\n",
      "Time for processing: 0h 0m 0s 107ms\n",
      "createseqfiledb /home/cyril/Documents/These/data/PF00397/tmp/2750728949833174504/input /home/cyril/Documents/These/data/PF00397/tmp/2750728949833174504/clu /home/cyril/Documents/These/data/PF00397/tmp/2750728949833174504/clu_seqs --threads 12 -v 3 \n",
      "\n",
      "Time for merging to clu_seqs: 0h 0m 0s 140ms\n",
      "Time for processing: 0h 0m 0s 308ms\n",
      "result2flat /home/cyril/Documents/These/data/PF00397/tmp/2750728949833174504/input /home/cyril/Documents/These/data/PF00397/tmp/2750728949833174504/input /home/cyril/Documents/These/data/PF00397/tmp/2750728949833174504/clu_seqs /home/cyril/Documents/These/data/PF00397/tmp/2750728949833174504/all_seqs.fasta -v 3 \n",
      "\n",
      "Time for processing: 0h 0m 0s 124ms\n",
      "Removing temporary files\n",
      "rmdb /home/cyril/Documents/These/data/PF00397/tmp/2750728949833174504/input \n",
      "\n",
      "Time for processing: 0h 0m 0s 0ms\n",
      "rmdb /home/cyril/Documents/These/data/PF00397/tmp/2750728949833174504/input_h \n",
      "\n",
      "Time for processing: 0h 0m 0s 0ms\n",
      "rmdb /home/cyril/Documents/These/data/PF00397/tmp/2750728949833174504/clu_seqs \n",
      "\n",
      "Time for processing: 0h 0m 0s 0ms\n",
      "rmdb /home/cyril/Documents/These/data/PF00397/tmp/2750728949833174504/clu_rep \n",
      "\n",
      "Time for processing: 0h 0m 0s 0ms\n",
      "rmdb /home/cyril/Documents/These/data/PF00397/tmp/2750728949833174504/clu \n",
      "\n",
      "Time for processing: 0h 0m 0s 0ms\n"
     ]
    }
   ],
   "source": [
    "!mmseqs easy-cluster \"{DATA}/{DATASET}/unaligned.fasta\" \"{DATA}/{DATASET}/tmp/clusters.tsv\" \"{DATA}/{DATASET}/tmp\" --min-seq-id 0.7"
   ]
  },
  {
   "cell_type": "code",
   "execution_count": 7,
   "metadata": {},
   "outputs": [],
   "source": [
    "proteins_df[\"cluster\"] = pd.read_table(f\"{DATA}/{DATASET}/tmp/clusters.tsv_cluster.tsv\", names=[\"cluster\", \"id\"]).set_index(\"id\").cluster\n",
    "weights = 1/proteins_df.cluster.value_counts()\n",
    "proteins_df[\"weights\"] = proteins_df.cluster.apply(lambda c : weights[c])"
   ]
  },
  {
   "cell_type": "code",
   "execution_count": 8,
   "metadata": {},
   "outputs": [
    {
     "data": {
      "text/plain": [
       "A0A1I8HY38_9PLAT/122-151    328\n",
       "A0A0V1HRK9_9BILA/324-357    272\n",
       "A0A0A1PJE6_9FUNG/304-333    140\n",
       "A0A166K038_9HOMO/6-35       137\n",
       "H9G711_ANOCA/547-576        126\n",
       "                           ... \n",
       "A0A1J4JVH3_9EUKA/42-67        1\n",
       "A0A250X375_9CHLO/47-74        1\n",
       "H2YKZ5_CIOSA/19-48            1\n",
       "A0A0L8I383_OCTBM/7-38         1\n",
       "L1JDR9_GUITH/582-612          1\n",
       "Name: cluster, Length: 2320, dtype: int64"
      ]
     },
     "execution_count": 8,
     "metadata": {},
     "output_type": "execute_result"
    }
   ],
   "source": [
    "proteins_df.cluster.value_counts()"
   ]
  },
  {
   "cell_type": "code",
   "execution_count": 9,
   "metadata": {},
   "outputs": [],
   "source": [
    "from random import shuffle\n",
    "\n",
    "def split_train_val_set(df, ratio = 0.1):\n",
    "    max_size = ratio*len(df)\n",
    "    val = []\n",
    "    clusters = list(df.cluster.unique())\n",
    "    shuffle(clusters)\n",
    "    for c in clusters:\n",
    "        val += list(df[df.cluster == c].index)\n",
    "        if len(val) > max_size:\n",
    "            break\n",
    "    df[\"is_val\"] = [int(c in val) for c in df.index]"
   ]
  },
  {
   "cell_type": "code",
   "execution_count": 10,
   "metadata": {},
   "outputs": [],
   "source": [
    "split_train_val_set(proteins_df)"
   ]
  },
  {
   "cell_type": "code",
   "execution_count": 11,
   "metadata": {},
   "outputs": [],
   "source": [
    "pickle.dump(list(proteins_df.index), open(f\"{DATA}/{DATASET}/index.pkl\", \"wb\"))\n",
    "pickle.dump(list(proteins_df.is_val), open(f\"{DATA}/{DATASET}/is_val.pkl\", \"wb\"))\n",
    "pickle.dump(list(proteins_df.weights), open(f\"{DATA}/{DATASET}/weights.pkl\", \"wb\"))"
   ]
  },
  {
   "cell_type": "markdown",
   "metadata": {},
   "source": [
    "## Build HMM profile"
   ]
  },
  {
   "cell_type": "code",
   "execution_count": 40,
   "metadata": {
    "ExecuteTime": {
     "end_time": "2020-02-27T13:51:56.657350Z",
     "start_time": "2020-02-27T13:51:53.922541Z"
    }
   },
   "outputs": [],
   "source": [
    "from structure.data_extraction import process_msa"
   ]
  },
  {
   "cell_type": "code",
   "execution_count": 41,
   "metadata": {
    "ExecuteTime": {
     "end_time": "2020-02-25T14:17:28.531419Z",
     "start_time": "2020-02-25T14:17:28.096977Z"
    }
   },
   "outputs": [
    {
     "name": "stdout",
     "output_type": "stream",
     "text": [
      "- 19:44:51.016 INFO: /home/cyril/Documents/These/data/PF00397/aligned.fasta is in A2M, A3M or FASTA format\n",
      "\n",
      "- 19:44:51.052 INFO: NOTE: Use the '-add_cons' option to calculate a consensus sequence as first sequence of the alignment with hhconsensus or hhmake.\n",
      "\n"
     ]
    }
   ],
   "source": [
    "!hhmake -i \"{DATA}/{DATASET}/aligned.fasta\" -M 100"
   ]
  },
  {
   "cell_type": "code",
   "execution_count": 42,
   "metadata": {},
   "outputs": [],
   "source": [
    "with open(f\"{DATA}/{DATASET}/aligned.fasta\") as f:\n",
    "    protlist = nsp2.parse_fasta(f)\n",
    "uni_idx = [x.split(\"_\")[1] for x in protlist.keys()]"
   ]
  },
  {
   "cell_type": "code",
   "execution_count": 43,
   "metadata": {
    "ExecuteTime": {
     "end_time": "2020-02-27T13:26:02.101191Z",
     "start_time": "2020-02-27T13:26:02.050572Z"
    }
   },
   "outputs": [
    {
     "data": {
      "application/vnd.jupyter.widget-view+json": {
       "model_id": "d4f03d84439a4595b0d3a8d2ce47555b",
       "version_major": 2,
       "version_minor": 0
      },
      "text/plain": [
       "A Jupyter Widget"
      ]
     },
     "metadata": {},
     "output_type": "display_data"
    },
    {
     "name": "stdout",
     "output_type": "stream",
     "text": [
      "\n"
     ]
    }
   ],
   "source": [
    "hhm_name = f\"{DATA}/{DATASET}/aligned.hhm\"\n",
    "dataset = dict()\n",
    "# protlist = {k:v for k,v in random.sample(protlist.items(), 2000)}\n",
    "for k,(_,v) in tqdm(protlist.items()):\n",
    "    prof = process_msa(v, hhm_name)[\"profile\"]\n",
    "    idx = np.where(prof[:,:20].sum(1))\n",
    "    dataset[k] = prof[idx]"
   ]
  },
  {
   "cell_type": "code",
   "execution_count": 44,
   "metadata": {},
   "outputs": [],
   "source": [
    "pickle.dump(dataset, open(f\"{DATA}/{DATASET}/hmm.pkl\", \"wb\"))"
   ]
  },
  {
   "cell_type": "markdown",
   "metadata": {
    "heading_collapsed": true
   },
   "source": [
    "### GFP"
   ]
  },
  {
   "cell_type": "code",
   "execution_count": 11,
   "metadata": {
    "ExecuteTime": {
     "end_time": "2020-02-27T13:52:06.931606Z",
     "start_time": "2020-02-27T13:52:06.907500Z"
    },
    "hidden": true
   },
   "outputs": [],
   "source": [
    "with open(f\"{DATA}/{DATASET}/aligned.fasta\") as f:\n",
    "    protlist = nsp2.parse_fasta(f)\n",
    "new_protlist = dict()\n",
    "for k,v in protlist.items():\n",
    "    if k.split(\"_\")[1] == \"P42212\":\n",
    "        new_protlist[k]= v\n",
    "protlist = new_protlist\n",
    "uni_idx = [x.split(\"_\")[1] for x in protlist.keys()]"
   ]
  },
  {
   "cell_type": "code",
   "execution_count": 14,
   "metadata": {
    "ExecuteTime": {
     "end_time": "2020-02-27T13:26:06.787972Z",
     "start_time": "2020-02-27T13:26:06.779944Z"
    },
    "hidden": true
   },
   "outputs": [],
   "source": [
    "AMINO_ACIDS = AA = 'ACDEFGHIKLMNPQRSTVWY*'\n",
    "AA_INDEX = {k:i for i,k in enumerate(AA)}"
   ]
  },
  {
   "cell_type": "code",
   "execution_count": 4,
   "metadata": {
    "ExecuteTime": {
     "end_time": "2020-02-27T13:26:04.475489Z",
     "start_time": "2020-02-27T13:26:04.065758Z"
    },
    "hidden": true
   },
   "outputs": [],
   "source": [
    "S = \"MSKGEELFTGVVPILVELDGDVNGHKFSVSGEGEGDATYGKLTLKFICTTGKLPVPWPTLVTTFSYGVQCFSRYPDHMKQHDFFKSAMPEGYVQERTIFFKDDGNYKTRAEVKFEGDTLVNRIELKGIDFKEDGNILGHKLEYNYNSHNVYIMADKQKNGIKVNFKIRHNIEDGSVQLADHYQQNTPIGDGPVLLPDNHYLSTQSALSKDPNEKRDHMVLLEFVTAAGITHGMDELYK\"\n",
    "S = [c for c in S]\n",
    "\n",
    "df = pd.read_csv(f\"{DATA}/{DATASET}/amino_acid_genotypes_to_brightness.tsv\", sep = \"\\t\")\n",
    "nodes = [\"\".join(S)]\n",
    "for x in df.aaMutations.values:\n",
    "    seq = S.copy()\n",
    "    if type(x) is not str:\n",
    "        continue\n",
    "    for mut in x.split(\":\"):\n",
    "        aa, pos = mut[-1], int(mut[2:-1])+1\n",
    "        seq[pos] = aa\n",
    "    nodes.append(\"\".join(seq))\n",
    "df[\"seq\"] = nodes\n",
    "df.seq = df.seq.apply(lambda s : s[5:-11])"
   ]
  },
  {
   "cell_type": "code",
   "execution_count": 15,
   "metadata": {
    "ExecuteTime": {
     "end_time": "2020-02-27T13:26:12.512583Z",
     "start_time": "2020-02-27T13:26:07.497010Z"
    },
    "hidden": true
   },
   "outputs": [],
   "source": [
    "HMM = dataset['0012_P42212_6-227']\n",
    "hmms = []\n",
    "for i, s in enumerate(df.seq.values):\n",
    "    seq = to_onehot([AA_INDEX[x] for x in s], (None,21))\n",
    "    idx = np.where(np.argmax(seq,1) != 20)[0]\n",
    "    hmm = np.copy(HMM)\n",
    "    hmm[:,:20] = seq[:,:20]\n",
    "    hmm = hmm[idx]\n",
    "    hmms.append(hmm)"
   ]
  },
  {
   "cell_type": "code",
   "execution_count": 16,
   "metadata": {
    "hidden": true
   },
   "outputs": [],
   "source": [
    "hmms = np.array([[AA_INDEX[x] for x in s] for s in df.seq.values])"
   ]
  },
  {
   "cell_type": "code",
   "execution_count": 36,
   "metadata": {
    "hidden": true
   },
   "outputs": [],
   "source": [
    "from sklearn.neighbors import kneighbors_graph\n",
    "g = kneighbors_graph(hmms, 5, mode = \"distance\", metric = \"hamming\")"
   ]
  },
  {
   "cell_type": "code",
   "execution_count": 33,
   "metadata": {
    "hidden": true
   },
   "outputs": [
    {
     "data": {
      "text/html": [
       "<div>\n",
       "<style scoped>\n",
       "    .dataframe tbody tr th:only-of-type {\n",
       "        vertical-align: middle;\n",
       "    }\n",
       "\n",
       "    .dataframe tbody tr th {\n",
       "        vertical-align: top;\n",
       "    }\n",
       "\n",
       "    .dataframe thead th {\n",
       "        text-align: right;\n",
       "    }\n",
       "</style>\n",
       "<table border=\"1\" class=\"dataframe\">\n",
       "  <thead>\n",
       "    <tr style=\"text-align: right;\">\n",
       "      <th></th>\n",
       "      <th>aaMutations</th>\n",
       "      <th>uniqueBarcodes</th>\n",
       "      <th>medianBrightness</th>\n",
       "      <th>std</th>\n",
       "      <th>seq</th>\n",
       "    </tr>\n",
       "  </thead>\n",
       "  <tbody>\n",
       "    <tr>\n",
       "      <th>0</th>\n",
       "      <td>NaN</td>\n",
       "      <td>3645</td>\n",
       "      <td>3.719212</td>\n",
       "      <td>0.106992</td>\n",
       "      <td>ELFTGVVPILVELDGDVNGHKFSVSGEGEGDATYGKLTLKFICTTG...</td>\n",
       "    </tr>\n",
       "    <tr>\n",
       "      <th>1</th>\n",
       "      <td>SA108D</td>\n",
       "      <td>1</td>\n",
       "      <td>1.301030</td>\n",
       "      <td>NaN</td>\n",
       "      <td>ELFTGVVPILVELDGDVNGHKFSVSGEGEGDATYGKLTLKFICTTG...</td>\n",
       "    </tr>\n",
       "    <tr>\n",
       "      <th>2</th>\n",
       "      <td>SA108D:SN144D:SI186V:SM231T:SL234P</td>\n",
       "      <td>1</td>\n",
       "      <td>1.301031</td>\n",
       "      <td>NaN</td>\n",
       "      <td>ELFTGVVPILVELDGDVNGHKFSVSGEGEGDATYGKLTLKFICTTG...</td>\n",
       "    </tr>\n",
       "    <tr>\n",
       "      <th>3</th>\n",
       "      <td>SA108D:SY141N:SH146L:SE220G</td>\n",
       "      <td>1</td>\n",
       "      <td>1.301189</td>\n",
       "      <td>NaN</td>\n",
       "      <td>ELFTGVVPILVELDGDVNGHKFSVSGEGEGDATYGKLTLKFICTTG...</td>\n",
       "    </tr>\n",
       "    <tr>\n",
       "      <th>4</th>\n",
       "      <td>SA108G</td>\n",
       "      <td>2</td>\n",
       "      <td>3.708478</td>\n",
       "      <td>0.020613</td>\n",
       "      <td>ELFTGVVPILVELDGDVNGHKFSVSGEGEGDATYGKLTLKFICTTG...</td>\n",
       "    </tr>\n",
       "    <tr>\n",
       "      <th>...</th>\n",
       "      <td>...</td>\n",
       "      <td>...</td>\n",
       "      <td>...</td>\n",
       "      <td>...</td>\n",
       "      <td>...</td>\n",
       "    </tr>\n",
       "    <tr>\n",
       "      <th>54020</th>\n",
       "      <td>SY90N:SN103S:SI169F</td>\n",
       "      <td>1</td>\n",
       "      <td>1.552090</td>\n",
       "      <td>NaN</td>\n",
       "      <td>ELFTGVVPILVELDGDVNGHKFSVSGEGEGDATYGKLTLKFICTTG...</td>\n",
       "    </tr>\n",
       "    <tr>\n",
       "      <th>54021</th>\n",
       "      <td>SY90N:SQ175L:SL205Q:ST228A:SM231V</td>\n",
       "      <td>1</td>\n",
       "      <td>1.301030</td>\n",
       "      <td>NaN</td>\n",
       "      <td>ELFTGVVPILVELDGDVNGHKFSVSGEGEGDATYGKLTLKFICTTG...</td>\n",
       "    </tr>\n",
       "    <tr>\n",
       "      <th>54022</th>\n",
       "      <td>SY90R:SI150N:SN196S</td>\n",
       "      <td>1</td>\n",
       "      <td>1.301030</td>\n",
       "      <td>NaN</td>\n",
       "      <td>ELFTGVVPILVELDGDVNGHKFSVSGEGEGDATYGKLTLKFICTTG...</td>\n",
       "    </tr>\n",
       "    <tr>\n",
       "      <th>54023</th>\n",
       "      <td>SY90R:SI165T:SL234P</td>\n",
       "      <td>1</td>\n",
       "      <td>1.301517</td>\n",
       "      <td>NaN</td>\n",
       "      <td>ELFTGVVPILVELDGDVNGHKFSVSGEGEGDATYGKLTLKFICTTG...</td>\n",
       "    </tr>\n",
       "    <tr>\n",
       "      <th>54024</th>\n",
       "      <td>SY90S:SN103D:SK105E:SF128L:SI150V</td>\n",
       "      <td>1</td>\n",
       "      <td>1.302130</td>\n",
       "      <td>NaN</td>\n",
       "      <td>ELFTGVVPILVELDGDVNGHKFSVSGEGEGDATYGKLTLKFICTTG...</td>\n",
       "    </tr>\n",
       "  </tbody>\n",
       "</table>\n",
       "<p>54025 rows × 5 columns</p>\n",
       "</div>"
      ],
      "text/plain": [
       "                              aaMutations  uniqueBarcodes  medianBrightness  \\\n",
       "0                                     NaN            3645          3.719212   \n",
       "1                                  SA108D               1          1.301030   \n",
       "2      SA108D:SN144D:SI186V:SM231T:SL234P               1          1.301031   \n",
       "3             SA108D:SY141N:SH146L:SE220G               1          1.301189   \n",
       "4                                  SA108G               2          3.708478   \n",
       "...                                   ...             ...               ...   \n",
       "54020                 SY90N:SN103S:SI169F               1          1.552090   \n",
       "54021   SY90N:SQ175L:SL205Q:ST228A:SM231V               1          1.301030   \n",
       "54022                 SY90R:SI150N:SN196S               1          1.301030   \n",
       "54023                 SY90R:SI165T:SL234P               1          1.301517   \n",
       "54024   SY90S:SN103D:SK105E:SF128L:SI150V               1          1.302130   \n",
       "\n",
       "            std                                                seq  \n",
       "0      0.106992  ELFTGVVPILVELDGDVNGHKFSVSGEGEGDATYGKLTLKFICTTG...  \n",
       "1           NaN  ELFTGVVPILVELDGDVNGHKFSVSGEGEGDATYGKLTLKFICTTG...  \n",
       "2           NaN  ELFTGVVPILVELDGDVNGHKFSVSGEGEGDATYGKLTLKFICTTG...  \n",
       "3           NaN  ELFTGVVPILVELDGDVNGHKFSVSGEGEGDATYGKLTLKFICTTG...  \n",
       "4      0.020613  ELFTGVVPILVELDGDVNGHKFSVSGEGEGDATYGKLTLKFICTTG...  \n",
       "...         ...                                                ...  \n",
       "54020       NaN  ELFTGVVPILVELDGDVNGHKFSVSGEGEGDATYGKLTLKFICTTG...  \n",
       "54021       NaN  ELFTGVVPILVELDGDVNGHKFSVSGEGEGDATYGKLTLKFICTTG...  \n",
       "54022       NaN  ELFTGVVPILVELDGDVNGHKFSVSGEGEGDATYGKLTLKFICTTG...  \n",
       "54023       NaN  ELFTGVVPILVELDGDVNGHKFSVSGEGEGDATYGKLTLKFICTTG...  \n",
       "54024       NaN  ELFTGVVPILVELDGDVNGHKFSVSGEGEGDATYGKLTLKFICTTG...  \n",
       "\n",
       "[54025 rows x 5 columns]"
      ]
     },
     "execution_count": 33,
     "metadata": {},
     "output_type": "execute_result"
    }
   ],
   "source": [
    "df"
   ]
  },
  {
   "cell_type": "code",
   "execution_count": 37,
   "metadata": {
    "hidden": true
   },
   "outputs": [],
   "source": [
    "import networkx as nx\n",
    "G = nx.Graph(g)"
   ]
  },
  {
   "cell_type": "code",
   "execution_count": 11,
   "metadata": {
    "ExecuteTime": {
     "end_time": "2020-02-27T13:28:27.818043Z",
     "start_time": "2020-02-27T13:26:45.870096Z"
    },
    "hidden": true
   },
   "outputs": [],
   "source": [
    "pickle.dump({f\"{i}_bright_{k}\":v for i,(k,v) in enumerate(zip(df.medianBrightness, hmms))}, \n",
    "            open(f\"{DATA}/{DATASET}/hmm_spec.pkl\", \"wb\"))"
   ]
  },
  {
   "cell_type": "code",
   "execution_count": 19,
   "metadata": {
    "ExecuteTime": {
     "end_time": "2020-02-27T13:52:47.357626Z",
     "start_time": "2020-02-27T13:52:47.340513Z"
    },
    "hidden": true
   },
   "outputs": [],
   "source": [
    "# structfam[\"P42212\"] = pdb, pfam, c, start, end\n",
    "# sse, tk_mono = fetch_PDB(pdb, c, start, end+1)\n",
    "# ss = to_onehot([abc_codes[x] for x in sse], (None,3))\n",
    "# ss = np.pad(ss, ((1,1),(0,0)), \"constant\")\n",
    "# dss = (ss[1:] - ss[:-1])\n",
    "# cls = to_onehot(np.where(dss == -1)[1], (None, 3)).T\n",
    "# bbox = np.array([np.where(dss == 1)[0], np.where(dss == -1)[0], *cls]).T\n",
    "# patterns[pfam] = np.argmax(bbox[:,2:],1)"
   ]
  },
  {
   "cell_type": "markdown",
   "metadata": {},
   "source": [
    "## Secondary Structure Extraction"
   ]
  },
  {
   "cell_type": "code",
   "execution_count": 45,
   "metadata": {
    "ExecuteTime": {
     "end_time": "2020-02-27T13:52:15.682666Z",
     "start_time": "2020-02-27T13:52:14.108999Z"
    }
   },
   "outputs": [],
   "source": [
    "pdb_to_uniprot = pd.read_csv(f\"{DATA}/cross/uniprot_pdb.csv\", skiprows = 2, names = [\"uni\",\"pdb\"])\n",
    "uni = []\n",
    "pdb = []\n",
    "i = 0\n",
    "for x in pdb_to_uniprot.itertuples():\n",
    "    for pdbid in x.pdb.split(\";\"):\n",
    "        pdb.append(str.upper(pdbid))\n",
    "        uni.append(x.uni)\n",
    "        \n",
    "pdb_uniprot = pd.DataFrame(columns = [\"uni\", \"pdb\"])\n",
    "pdb_uniprot[\"uni\"] = uni\n",
    "pdb_uniprot[\"pdb\"] = pdb\n",
    "pdb_uniprot = pdb_uniprot.drop_duplicates(\"pdb\")\n",
    "pdb_uniprot.index = pdb_uniprot.pdb \n",
    "del pdb_to_uniprot"
   ]
  },
  {
   "cell_type": "code",
   "execution_count": 46,
   "metadata": {
    "ExecuteTime": {
     "end_time": "2020-02-27T13:52:25.117832Z",
     "start_time": "2020-02-27T13:52:23.690123Z"
    },
    "scrolled": true
   },
   "outputs": [
    {
     "name": "stdout",
     "output_type": "stream",
     "text": [
      "Pandas(Index=86021, PDB_ID='2NC6', CHAIN_ID='A', PdbResNumStart='2', PdbResNumEnd='31', PFAM_ACC='PF00397.25', PFAM_Name='WW', PFAM_desc='WW domain', eValue=3.6e-11, PFAM_ID='PF00397')\n",
      "Pandas(Index=90862, PDB_ID='1E0M', CHAIN_ID='A', PdbResNumStart='4', PdbResNumEnd='33', PFAM_ACC='PF00397.25', PFAM_Name='WW', PFAM_desc='WW domain', eValue=8.4e-13, PFAM_ID='PF00397')\n",
      "Pandas(Index=137466, PDB_ID='2NC3', CHAIN_ID='A', PdbResNumStart='2', PdbResNumEnd='31', PFAM_ACC='PF00397.25', PFAM_Name='WW', PFAM_desc='WW domain', eValue=3.6e-11, PFAM_ID='PF00397')\n",
      "Pandas(Index=171206, PDB_ID='2NC5', CHAIN_ID='A', PdbResNumStart='2', PdbResNumEnd='31', PFAM_ACC='PF00397.25', PFAM_Name='WW', PFAM_desc='WW domain', eValue=3.6e-11, PFAM_ID='PF00397')\n",
      "Pandas(Index=186450, PDB_ID='2NC4', CHAIN_ID='A', PdbResNumStart='2', PdbResNumEnd='31', PFAM_ACC='PF00397.25', PFAM_Name='WW', PFAM_desc='WW domain', eValue=3.6e-11, PFAM_ID='PF00397')\n",
      "Pandas(Index=226508, PDB_ID='1YMZ', CHAIN_ID='A', PdbResNumStart='3', PdbResNumEnd='33', PFAM_ACC='PF00397.25', PFAM_Name='WW', PFAM_desc='WW domain', eValue=7.499999999999999e-13, PFAM_ID='PF00397')\n"
     ]
    }
   ],
   "source": [
    "mapping = pd.read_table(f\"{DATA}/cross/pdb_to_pfam.txt\")\n",
    "mapping[\"PFAM_ID\"] = mapping.PFAM_ACC.apply(lambda x : x.split(\".\")[0])\n",
    "fam = mapping[mapping.PFAM_ID == DATASET]\n",
    "structfam = dict()\n",
    "for x in fam.itertuples():\n",
    "    try:\n",
    "        structfam[pdb_uniprot.loc[x.PDB_ID].uni]= (x.PDB_ID, \n",
    "                          pdb_uniprot.loc[x.PDB_ID].uni, \n",
    "                          x.CHAIN_ID, \n",
    "                          int(x.PdbResNumStart), \n",
    "                          int(x.PdbResNumEnd))\n",
    "    except:\n",
    "        print(x)"
   ]
  },
  {
   "cell_type": "markdown",
   "metadata": {},
   "source": [
    "## Pattern Builds"
   ]
  },
  {
   "cell_type": "code",
   "execution_count": 47,
   "metadata": {
    "ExecuteTime": {
     "end_time": "2020-02-27T13:52:38.245329Z",
     "start_time": "2020-02-27T13:52:38.243166Z"
    }
   },
   "outputs": [],
   "source": [
    "from structure.data_extraction import fetch_PDB"
   ]
  },
  {
   "cell_type": "code",
   "execution_count": 48,
   "metadata": {
    "ExecuteTime": {
     "end_time": "2020-02-27T13:52:41.195154Z",
     "start_time": "2020-02-27T13:52:39.137184Z"
    }
   },
   "outputs": [
    {
     "name": "stdout",
     "output_type": "stream",
     "text": [
      "5CQ2 Q96J02 A 480 509\n",
      "6J1X Q9H0M0 B 506 535\n"
     ]
    }
   ],
   "source": [
    "from structure.utils import *\n",
    "\n",
    "patterns = dict()\n",
    "for pdb, pfam, c, start, end in structfam.values():\n",
    "    try:\n",
    "        sse, tk_mono = fetch_PDB(pdb, c, start, end+1)\n",
    "        ss = to_onehot([abc_codes[x] for x in sse], (None,3))\n",
    "        ss = np.pad(ss, ((1,1),(0,0)), \"constant\")\n",
    "        dss = (ss[1:] - ss[:-1])\n",
    "        cls = to_onehot(np.where(dss == -1)[1], (None, 3)).T\n",
    "        bbox = np.array([np.where(dss == 1)[0], np.where(dss == -1)[0], *cls]).T\n",
    "        patterns[pfam] = np.argmax(bbox[:,2:],1)\n",
    "    except:\n",
    "        print(pdb, pfam, c, start, end)"
   ]
  },
  {
   "cell_type": "code",
   "execution_count": 49,
   "metadata": {
    "ExecuteTime": {
     "end_time": "2020-02-26T14:09:41.401932Z",
     "start_time": "2020-02-26T14:09:41.392892Z"
    },
    "scrolled": true
   },
   "outputs": [
    {
     "name": "stdout",
     "output_type": "stream",
     "text": [
      "('1YIU', 'Q8C863', 'A', 6, 35) :\n",
      "('2MPT', 'Q96PU5', 'A', 479, 508) :\n",
      "('5VTJ', 'Q13526', 'A', 7, 37) :\n",
      "('2LTV', 'O15105', 'A', 232, 261) :\n",
      "('2N8T', 'P08050', 'A', 6, 35) :\n",
      "('2YSE', 'Q96QZ7', 'A', 14, 43) :\n",
      "('6RSS', 'O00308', 'A', 75, 104) :\n",
      "('5YDX', 'P46937', 'A', 16, 45) :\n",
      "('2MWF', 'O14776', 'A', 434, 460) :\n",
      "('2LB2', 'P84022', 'A', 367, 396) :\n",
      "('1WR7', 'Q8CFI0', 'A', 9, 38) :\n",
      "('2OEI', 'O00213', 'A', 255, 283) :\n",
      "('1YWI', 'O75400', 'A', 17, 42) :\n",
      "('2LB0', 'Q15797', 'A', 236, 265) :\n",
      "('2MDI', 'Q9BYW2', 'A', 17, 46) :\n",
      "('4N7F', 'P46934', 'A', 423, 452) :\n",
      "('1WMV', 'Q9NZC7', 'A', 12, 41) :\n",
      "('2DK1', 'O75554', 'A', 9, 34) :\n",
      "('1EG4', 'P11532', 'A', 59, 86) :\n",
      "('2JX8', 'Q9H4Z3', 'A', 7, 36) :\n",
      "('2RLY', 'Q05860', 'W', 6, 33) :\n",
      "('3OLM', 'P0CG63', 'A', 389, 418) :\n",
      "('2EZ5', 'Q24139', 'W', 531, 560) :\n",
      "('2JV4', 'Q5AZY5', 'A', 7, 37) :\n",
      "('2L4J', 'E7FH70', 'A', 188, 217) :\n",
      "('2YSB', 'Q8VEB2', 'A', 12, 41) :\n",
      "('2N8S', 'Q62940', 'A', 6, 35) :\n",
      "('1I8G', 'P30311', 'B', 2, 32) :\n",
      "('2YSC', 'O95704', 'A', 9, 37) :\n",
      "('2M3O', 'P37088', 'W', 423, 452) :\n",
      "('1YW5', 'Q59KZ2', 'A', 8, 38) :\n",
      "('2JO9', 'P13285', 'A', 6, 35) :\n",
      "('4LCD', 'P0CG48', 'A', 389, 418) :\n",
      "('1E0L', 'Q8CGF7', 'A', 6, 33) :\n",
      "('5B3Z', 'P0AEX9', 'A', 4, 34) :\n",
      "('2JMF', 'Q32UW5', 'A', 523, 552) :\n",
      "('3L4H', 'Q76N89', 'A', 1020, 1049) :\n",
      "('1I5H', 'P37090', 'W', 461, 490) :\n",
      "('1I8H', 'P10636', 'B', 2, 32) :\n",
      "('2YSG', 'Q6ZWJ1', 'A', 8, 37) :\n",
      "('2KPZ', 'P0C210', 'A', 13, 42) :\n",
      "('1O6W', 'P33203', 'A', 43, 70) :\n",
      "('2YSH', 'O60861', 'A', 8, 37) :\n",
      "('1TK7', 'Q9Y0H4', 'A', 57, 86) :\n",
      "('6J68', 'Q5SXA9', 'A', 61, 90) :\n",
      "('6N7P', 'P32605', 'J', 397, 424) :\n",
      "('6JJW', 'Q15678', 'A', 62, 91) :\n",
      "('6JJY', 'Q14118', 'A', 60, 89) :\n",
      "('6JK1', 'P46938', 'A', 219, 248) :\n",
      "('6JJX', 'Q4VCS5', 'A', 60, 89) :\n",
      "('6JJZ', 'Q80TS7', 'A', 360, 389) :\n"
     ]
    }
   ],
   "source": [
    "n_patterns = []\n",
    "c_patterns = []\n",
    "for k,pat in patterns.items():\n",
    "#     if k not in uni_idx:\n",
    "#         continue\n",
    "    print(str(structfam[k])+\" :\")\n",
    "    char_pat= \"\".join([\"abc\"[x] for x in pat])\n",
    "    if len(char_pat) and char_pat not in c_patterns:\n",
    "        c_patterns.append(char_pat)\n",
    "        n_patterns.append(list(pat))"
   ]
  },
  {
   "cell_type": "code",
   "execution_count": 50,
   "metadata": {},
   "outputs": [
    {
     "data": {
      "text/plain": [
       "['cbcbcbc',\n",
       " 'bcbcbc',\n",
       " 'cbcbcbca',\n",
       " 'cbc',\n",
       " 'acaca',\n",
       " 'acbcbcbc',\n",
       " 'bcac',\n",
       " 'cbcac',\n",
       " 'cbcbc',\n",
       " 'cbcbca',\n",
       " 'bcbcac',\n",
       " 'bcbcbca']"
      ]
     },
     "execution_count": 50,
     "metadata": {},
     "output_type": "execute_result"
    }
   ],
   "source": [
    "c_patterns"
   ]
  },
  {
   "cell_type": "code",
   "execution_count": 51,
   "metadata": {
    "ExecuteTime": {
     "end_time": "2020-02-26T14:09:57.577393Z",
     "start_time": "2020-02-26T14:09:57.574639Z"
    }
   },
   "outputs": [],
   "source": [
    "pickle.dump((n_patterns, c_patterns, list(patterns.keys())), open(f\"{DATA}/{DATASET}/patterns.pkl\", \"wb\"))"
   ]
  },
  {
   "cell_type": "markdown",
   "metadata": {},
   "source": [
    "## Vizualization"
   ]
  },
  {
   "cell_type": "code",
   "execution_count": 52,
   "metadata": {
    "ExecuteTime": {
     "end_time": "2020-02-20T10:38:50.415951Z",
     "start_time": "2020-02-20T10:38:49.352338Z"
    }
   },
   "outputs": [],
   "source": [
    "from structure.graphics import visualize_secondary_structure\n",
    "from structure.data_extraction import fetch_PDB\n",
    "import matplotlib.pyplot as plt"
   ]
  },
  {
   "cell_type": "code",
   "execution_count": 53,
   "metadata": {
    "ExecuteTime": {
     "end_time": "2020-02-20T10:38:55.612243Z",
     "start_time": "2020-02-20T10:38:51.441136Z"
    }
   },
   "outputs": [
    {
     "name": "stdout",
     "output_type": "stream",
     "text": [
      "1YIU\n"
     ]
    },
    {
     "data": {
      "image/png": "[encoded data removed]",
      "text/plain": [
       "<Figure size 576x216 with 1 Axes>"
      ]
     },
     "metadata": {
      "needs_background": "light"
     },
     "output_type": "display_data"
    },
    {
     "name": "stdout",
     "output_type": "stream",
     "text": [
      "2MPT\n",
      "2MPT Q96PU5 A 479 509\n",
      "5VTJ\n"
     ]
    },
    {
     "data": {
      "image/png": "[encoded data removed]",
      "text/plain": [
       "<Figure size 576x216 with 1 Axes>"
      ]
     },
     "metadata": {
      "needs_background": "light"
     },
     "output_type": "display_data"
    },
    {
     "name": "stdout",
     "output_type": "stream",
     "text": [
      "2LTV\n",
      "2LTV O15105 A 232 262\n",
      "2N8T\n"
     ]
    },
    {
     "data": {
      "image/png": "[encoded data removed]",
      "text/plain": [
       "<Figure size 576x216 with 1 Axes>"
      ]
     },
     "metadata": {
      "needs_background": "light"
     },
     "output_type": "display_data"
    },
    {
     "name": "stdout",
     "output_type": "stream",
     "text": [
      "2YSE\n"
     ]
    },
    {
     "data": {
      "image/png": "[encoded data removed]",
      "text/plain": [
       "<Figure size 576x216 with 1 Axes>"
      ]
     },
     "metadata": {
      "needs_background": "light"
     },
     "output_type": "display_data"
    },
    {
     "name": "stdout",
     "output_type": "stream",
     "text": [
      "6RSS\n"
     ]
    },
    {
     "data": {
      "image/png": "[encoded data removed]",
      "text/plain": [
       "<Figure size 576x216 with 1 Axes>"
      ]
     },
     "metadata": {
      "needs_background": "light"
     },
     "output_type": "display_data"
    },
    {
     "name": "stdout",
     "output_type": "stream",
     "text": [
      "5CQ2\n",
      "5CQ2 Q96J02 A 480 510\n",
      "5YDX\n"
     ]
    },
    {
     "data": {
      "image/png": "[encoded data removed]",
      "text/plain": [
       "<Figure size 576x216 with 1 Axes>"
      ]
     },
     "metadata": {
      "needs_background": "light"
     },
     "output_type": "display_data"
    },
    {
     "name": "stdout",
     "output_type": "stream",
     "text": [
      "2MWF\n",
      "2MWF O14776 A 434 461\n",
      "2LB2\n",
      "2LB2 P84022 A 367 397\n",
      "1WR7\n"
     ]
    },
    {
     "data": {
      "image/png": "[encoded data removed]",
      "text/plain": [
       "<Figure size 576x216 with 1 Axes>"
      ]
     },
     "metadata": {
      "needs_background": "light"
     },
     "output_type": "display_data"
    },
    {
     "name": "stdout",
     "output_type": "stream",
     "text": [
      "2OEI\n",
      "2OEI O00213 A 255 284\n",
      "1YWI\n"
     ]
    },
    {
     "data": {
      "image/png": "[encoded data removed]",
      "text/plain": [
       "<Figure size 576x216 with 1 Axes>"
      ]
     },
     "metadata": {
      "needs_background": "light"
     },
     "output_type": "display_data"
    },
    {
     "name": "stdout",
     "output_type": "stream",
     "text": [
      "2LB0\n",
      "2LB0 Q15797 A 236 266\n",
      "2MDI\n"
     ]
    },
    {
     "data": {
      "image/png": "[encoded data removed]",
      "text/plain": [
       "<Figure size 576x216 with 1 Axes>"
      ]
     },
     "metadata": {
      "needs_background": "light"
     },
     "output_type": "display_data"
    },
    {
     "name": "stdout",
     "output_type": "stream",
     "text": [
      "4N7F\n",
      "4N7F P46934 A 423 453\n",
      "1WMV\n"
     ]
    },
    {
     "data": {
      "image/png": "[encoded data removed]",
      "text/plain": [
       "<Figure size 576x216 with 1 Axes>"
      ]
     },
     "metadata": {
      "needs_background": "light"
     },
     "output_type": "display_data"
    },
    {
     "name": "stdout",
     "output_type": "stream",
     "text": [
      "2DK1\n"
     ]
    },
    {
     "data": {
      "image/png": "[encoded data removed]",
      "text/plain": [
       "<Figure size 576x216 with 1 Axes>"
      ]
     },
     "metadata": {
      "needs_background": "light"
     },
     "output_type": "display_data"
    },
    {
     "name": "stdout",
     "output_type": "stream",
     "text": [
      "1EG4\n"
     ]
    },
    {
     "data": {
      "image/png": "[encoded data removed]",
      "text/plain": [
       "<Figure size 576x216 with 1 Axes>"
      ]
     },
     "metadata": {
      "needs_background": "light"
     },
     "output_type": "display_data"
    },
    {
     "name": "stdout",
     "output_type": "stream",
     "text": [
      "2JX8\n"
     ]
    },
    {
     "data": {
      "image/png": "[encoded data removed]",
      "text/plain": [
       "<Figure size 576x216 with 1 Axes>"
      ]
     },
     "metadata": {
      "needs_background": "light"
     },
     "output_type": "display_data"
    },
    {
     "name": "stdout",
     "output_type": "stream",
     "text": [
      "2RLY\n"
     ]
    },
    {
     "data": {
      "image/png": "[encoded data removed]",
      "text/plain": [
       "<Figure size 576x216 with 1 Axes>"
      ]
     },
     "metadata": {
      "needs_background": "light"
     },
     "output_type": "display_data"
    },
    {
     "name": "stdout",
     "output_type": "stream",
     "text": [
      "6J1X\n",
      "6J1X Q9H0M0 B 506 536\n",
      "3OLM\n"
     ]
    },
    {
     "data": {
      "image/png": "[encoded data removed]",
      "text/plain": [
       "<Figure size 576x216 with 1 Axes>"
      ]
     },
     "metadata": {
      "needs_background": "light"
     },
     "output_type": "display_data"
    },
    {
     "name": "stdout",
     "output_type": "stream",
     "text": [
      "2EZ5\n",
      "2EZ5 Q24139 W 531 561\n",
      "2JV4\n"
     ]
    },
    {
     "data": {
      "image/png": "[encoded data removed]",
      "text/plain": [
       "<Figure size 576x216 with 1 Axes>"
      ]
     },
     "metadata": {
      "needs_background": "light"
     },
     "output_type": "display_data"
    },
    {
     "name": "stdout",
     "output_type": "stream",
     "text": [
      "2L4J\n",
      "2L4J E7FH70 A 188 218\n",
      "2YSB\n"
     ]
    },
    {
     "data": {
      "image/png": "[encoded data removed]",
      "text/plain": [
       "<Figure size 576x216 with 1 Axes>"
      ]
     },
     "metadata": {
      "needs_background": "light"
     },
     "output_type": "display_data"
    },
    {
     "name": "stdout",
     "output_type": "stream",
     "text": [
      "2N8S\n"
     ]
    },
    {
     "data": {
      "image/png": "[encoded data removed]",
      "text/plain": [
       "<Figure size 576x216 with 1 Axes>"
      ]
     },
     "metadata": {
      "needs_background": "light"
     },
     "output_type": "display_data"
    },
    {
     "name": "stdout",
     "output_type": "stream",
     "text": [
      "1I8G\n"
     ]
    },
    {
     "data": {
      "image/png": "[encoded data removed]",
      "text/plain": [
       "<Figure size 576x216 with 1 Axes>"
      ]
     },
     "metadata": {
      "needs_background": "light"
     },
     "output_type": "display_data"
    },
    {
     "name": "stdout",
     "output_type": "stream",
     "text": [
      "2YSC\n"
     ]
    },
    {
     "data": {
      "image/png": "[encoded data removed]",
      "text/plain": [
       "<Figure size 576x216 with 1 Axes>"
      ]
     },
     "metadata": {
      "needs_background": "light"
     },
     "output_type": "display_data"
    },
    {
     "name": "stdout",
     "output_type": "stream",
     "text": [
      "2M3O\n",
      "2M3O P37088 W 423 453\n",
      "1YW5\n"
     ]
    },
    {
     "data": {
      "image/png": "[encoded data removed]",
      "text/plain": [
       "<Figure size 576x216 with 1 Axes>"
      ]
     },
     "metadata": {
      "needs_background": "light"
     },
     "output_type": "display_data"
    },
    {
     "name": "stdout",
     "output_type": "stream",
     "text": [
      "2JO9\n"
     ]
    },
    {
     "data": {
      "image/png": "[encoded data removed]",
      "text/plain": [
       "<Figure size 576x216 with 1 Axes>"
      ]
     },
     "metadata": {
      "needs_background": "light"
     },
     "output_type": "display_data"
    },
    {
     "name": "stdout",
     "output_type": "stream",
     "text": [
      "4LCD\n"
     ]
    },
    {
     "data": {
      "image/png": "[encoded data removed]",
      "text/plain": [
       "<Figure size 576x216 with 1 Axes>"
      ]
     },
     "metadata": {
      "needs_background": "light"
     },
     "output_type": "display_data"
    },
    {
     "name": "stdout",
     "output_type": "stream",
     "text": [
      "1E0L\n"
     ]
    },
    {
     "data": {
      "image/png": "[encoded data removed]",
      "text/plain": [
       "<Figure size 576x216 with 1 Axes>"
      ]
     },
     "metadata": {
      "needs_background": "light"
     },
     "output_type": "display_data"
    },
    {
     "name": "stdout",
     "output_type": "stream",
     "text": [
      "5B3Z\n"
     ]
    },
    {
     "data": {
      "image/png": "[encoded data removed]",
      "text/plain": [
       "<Figure size 576x216 with 1 Axes>"
      ]
     },
     "metadata": {
      "needs_background": "light"
     },
     "output_type": "display_data"
    },
    {
     "name": "stdout",
     "output_type": "stream",
     "text": [
      "2JMF\n",
      "2JMF Q32UW5 A 523 553\n",
      "3L4H\n",
      "3L4H Q76N89 A 1020 1050\n",
      "1I5H\n",
      "1I5H P37090 W 461 491\n",
      "1I8H\n"
     ]
    },
    {
     "data": {
      "image/png": "[encoded data removed]",
      "text/plain": [
       "<Figure size 576x216 with 1 Axes>"
      ]
     },
     "metadata": {
      "needs_background": "light"
     },
     "output_type": "display_data"
    },
    {
     "name": "stdout",
     "output_type": "stream",
     "text": [
      "2YSG\n"
     ]
    },
    {
     "data": {
      "image/png": "[encoded data removed]",
      "text/plain": [
       "<Figure size 576x216 with 1 Axes>"
      ]
     },
     "metadata": {
      "needs_background": "light"
     },
     "output_type": "display_data"
    },
    {
     "name": "stdout",
     "output_type": "stream",
     "text": [
      "2KPZ\n"
     ]
    },
    {
     "data": {
      "image/png": "[encoded data removed]",
      "text/plain": [
       "<Figure size 576x216 with 1 Axes>"
      ]
     },
     "metadata": {
      "needs_background": "light"
     },
     "output_type": "display_data"
    },
    {
     "name": "stdout",
     "output_type": "stream",
     "text": [
      "1O6W\n"
     ]
    },
    {
     "data": {
      "image/png": "[encoded data removed]",
      "text/plain": [
       "<Figure size 576x216 with 1 Axes>"
      ]
     },
     "metadata": {
      "needs_background": "light"
     },
     "output_type": "display_data"
    },
    {
     "name": "stdout",
     "output_type": "stream",
     "text": [
      "2YSH\n"
     ]
    },
    {
     "data": {
      "image/png": "[encoded data removed]",
      "text/plain": [
       "<Figure size 576x216 with 1 Axes>"
      ]
     },
     "metadata": {
      "needs_background": "light"
     },
     "output_type": "display_data"
    },
    {
     "name": "stdout",
     "output_type": "stream",
     "text": [
      "1TK7\n"
     ]
    },
    {
     "data": {
      "image/png": "[encoded data removed]",
      "text/plain": [
       "<Figure size 576x216 with 1 Axes>"
      ]
     },
     "metadata": {
      "needs_background": "light"
     },
     "output_type": "display_data"
    },
    {
     "name": "stdout",
     "output_type": "stream",
     "text": [
      "6J68\n"
     ]
    },
    {
     "data": {
      "image/png": "[encoded data removed]",
      "text/plain": [
       "<Figure size 576x216 with 1 Axes>"
      ]
     },
     "metadata": {
      "needs_background": "light"
     },
     "output_type": "display_data"
    },
    {
     "name": "stdout",
     "output_type": "stream",
     "text": [
      "6N7P\n",
      "6N7P P32605 J 397 425\n",
      "6JJW\n"
     ]
    },
    {
     "data": {
      "image/png": "[encoded data removed]",
      "text/plain": [
       "<Figure size 576x216 with 1 Axes>"
      ]
     },
     "metadata": {
      "needs_background": "light"
     },
     "output_type": "display_data"
    },
    {
     "name": "stdout",
     "output_type": "stream",
     "text": [
      "6JJY\n"
     ]
    },
    {
     "data": {
      "image/png": "[encoded data removed]",
      "text/plain": [
       "<Figure size 576x216 with 1 Axes>"
      ]
     },
     "metadata": {
      "needs_background": "light"
     },
     "output_type": "display_data"
    },
    {
     "name": "stdout",
     "output_type": "stream",
     "text": [
      "6JK1\n",
      "6JK1 P46938 A 219 249\n",
      "6JJX\n"
     ]
    },
    {
     "data": {
      "image/png": "[encoded data removed]",
      "text/plain": [
       "<Figure size 576x216 with 1 Axes>"
      ]
     },
     "metadata": {
      "needs_background": "light"
     },
     "output_type": "display_data"
    },
    {
     "name": "stdout",
     "output_type": "stream",
     "text": [
      "6JJZ\n",
      "6JJZ Q80TS7 A 360 390\n"
     ]
    }
   ],
   "source": [
    "for pdb, pfam, c, start, end in structfam.values():\n",
    "    try:\n",
    "        print(pdb)\n",
    "        sse, tk_mono = fetch_PDB(pdb, c, start, end+1)\n",
    "        visualize_secondary_structure(sse, 0, 150)\n",
    "        plt.show()\n",
    "    except:\n",
    "        print(pdb, pfam, c, start, end+1)"
   ]
  },
  {
   "cell_type": "code",
   "execution_count": 6,
   "metadata": {},
   "outputs": [
    {
     "data": {
      "text/plain": [
       "(array(['c', 'c', 'c', 'c', 'c', 'b', 'b', 'b', 'c', 'c', 'c', 'c', 'c',\n",
       "        'b', 'b', 'b', 'b', 'b', 'c', 'c', 'c', 'c', 'b', 'b', 'b', 'c',\n",
       "        'c', 'c', 'c'], dtype='<U1'),\n",
       " <biotite.structure.AtomArray at 0x7f2e04c0a310>)"
      ]
     },
     "execution_count": 6,
     "metadata": {},
     "output_type": "execute_result"
    }
   ],
   "source": [
    "fetch_PDB('1YIU', 'A', 6, 35)"
   ]
  },
  {
   "cell_type": "code",
   "execution_count": 1,
   "metadata": {},
   "outputs": [],
   "source": [
    "from biotite.structure.io.pdb import get_structure"
   ]
  },
  {
   "cell_type": "code",
   "execution_count": 2,
   "metadata": {},
   "outputs": [
    {
     "ename": "AttributeError",
     "evalue": "'str' object has no attribute 'get_structure'",
     "output_type": "error",
     "traceback": [
      "\u001b[0;31m---------------------------------------------------------------------------\u001b[0m",
      "\u001b[0;31mAttributeError\u001b[0m                            Traceback (most recent call last)",
      "\u001b[0;32m<ipython-input-2-16975acdb88e>\u001b[0m in \u001b[0;36m<module>\u001b[0;34m\u001b[0m\n\u001b[0;32m----> 1\u001b[0;31m \u001b[0mget_structure\u001b[0m\u001b[0;34m(\u001b[0m\u001b[0;34m\"6RSS\"\u001b[0m\u001b[0;34m)\u001b[0m\u001b[0;34m\u001b[0m\u001b[0;34m\u001b[0m\u001b[0m\n\u001b[0m",
      "\u001b[0;32m~/anaconda3/lib/python3.7/site-packages/biotite/structure/io/pdb/convert.py\u001b[0m in \u001b[0;36mget_structure\u001b[0;34m(pdb_file, model, altloc, extra_fields)\u001b[0m\n\u001b[1;32m     57\u001b[0m \u001b[0;34m\u001b[0m\u001b[0m\n\u001b[1;32m     58\u001b[0m     \"\"\"\n\u001b[0;32m---> 59\u001b[0;31m     \u001b[0;32mreturn\u001b[0m \u001b[0mpdb_file\u001b[0m\u001b[0;34m.\u001b[0m\u001b[0mget_structure\u001b[0m\u001b[0;34m(\u001b[0m\u001b[0mmodel\u001b[0m\u001b[0;34m,\u001b[0m \u001b[0maltloc\u001b[0m\u001b[0;34m,\u001b[0m \u001b[0mextra_fields\u001b[0m\u001b[0;34m)\u001b[0m\u001b[0;34m\u001b[0m\u001b[0;34m\u001b[0m\u001b[0m\n\u001b[0m\u001b[1;32m     60\u001b[0m \u001b[0;34m\u001b[0m\u001b[0m\n\u001b[1;32m     61\u001b[0m \u001b[0;34m\u001b[0m\u001b[0m\n",
      "\u001b[0;31mAttributeError\u001b[0m: 'str' object has no attribute 'get_structure'"
     ]
    }
   ],
   "source": [
    "get_structure('1YIU', 'A', 6, 35)"
   ]
  }
 ],
 "metadata": {
  "kernelspec": {
   "display_name": "Python 3",
   "language": "python",
   "name": "python3"
  },
  "language_info": {
   "codemirror_mode": {
    "name": "ipython",
    "version": 3
   },
   "file_extension": ".py",
   "mimetype": "text/x-python",
   "name": "python",
   "nbconvert_exporter": "python",
   "pygments_lexer": "ipython3",
   "version": "3.7.4"
  },
  "latex_envs": {
   "LaTeX_envs_menu_present": true,
   "autoclose": false,
   "autocomplete": true,
   "bibliofile": "biblio.bib",
   "cite_by": "apalike",
   "current_citInitial": 1,
   "eqLabelWithNumbers": true,
   "eqNumInitial": 1,
   "hotkeys": {
    "equation": "Ctrl-E",
    "itemize": "Ctrl-I"
   },
   "labels_anchors": false,
   "latex_user_defs": false,
   "report_style_numbering": false,
   "user_envs_cfg": false
  },
  "toc": {
   "base_numbering": 1,
   "nav_menu": {},
   "number_sections": true,
   "sideBar": true,
   "skip_h1_title": false,
   "title_cell": "Table of Contents",
   "title_sidebar": "Contents",
   "toc_cell": false,
   "toc_position": {},
   "toc_section_display": true,
   "toc_window_display": false
  },
  "varInspector": {
   "cols": {
    "lenName": 16,
    "lenType": 16,
    "lenVar": 40
   },
   "kernels_config": {
    "python": {
     "delete_cmd_postfix": "",
     "delete_cmd_prefix": "del ",
     "library": "var_list.py",
     "varRefreshCmd": "print(var_dic_list())"
    },
    "r": {
     "delete_cmd_postfix": ") ",
     "delete_cmd_prefix": "rm(",
     "library": "var_list.r",
     "varRefreshCmd": "cat(var_dic_list()) "
    }
   },
   "types_to_exclude": [
    "module",
    "function",
    "builtin_function_or_method",
    "instance",
    "_Feature"
   ],
   "window_display": false
  }
 },
 "nbformat": 4,
 "nbformat_minor": 2
}
