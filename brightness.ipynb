{
 "cells": [
  {
   "cell_type": "code",
   "execution_count": 2,
   "metadata": {
    "ExecuteTime": {
     "end_time": "2020-02-26T14:53:58.667360Z",
     "start_time": "2020-02-26T14:53:58.663919Z"
    }
   },
   "outputs": [],
   "source": [
    "import warnings\n",
    "import numpy as np\n",
    "import pandas as pd\n",
    "import sys\n",
    "import pickle\n",
    "import time\n",
    "import scipy.stats\n",
    "from scipy.special import logsumexp, comb\n",
    "\n",
    "import matplotlib.pyplot as plt\n",
    "import seaborn as sns\n",
    "\n",
    "import torch \n",
    "import torch.nn as nn\n",
    "\n",
    "warnings.filterwarnings(\"ignore\")\n",
    "sns.set_style(\"dark\")\n",
    "inf = float(\"Inf\")"
   ]
  },
  {
   "cell_type": "code",
   "execution_count": 5,
   "metadata": {
    "ExecuteTime": {
     "end_time": "2020-02-26T14:54:38.367471Z",
     "start_time": "2020-02-26T14:54:38.365444Z"
    }
   },
   "outputs": [],
   "source": [
    "DATA = \"/home/cyril/Documents/These/data/\"\n",
    "DATASET = \"PF01353\""
   ]
  },
  {
   "cell_type": "code",
   "execution_count": 6,
   "metadata": {
    "ExecuteTime": {
     "end_time": "2020-02-26T14:54:39.220945Z",
     "start_time": "2020-02-26T14:54:39.182828Z"
    }
   },
   "outputs": [],
   "source": [
    "df = pd.read_csv(f\"{DATA}/{DATASET}/amino_acid_genotypes_to_brightness.tsv\", sep = \"\\t\")"
   ]
  },
  {
   "cell_type": "code",
   "execution_count": null,
   "metadata": {},
   "outputs": [],
   "source": [
    "\"MSKGEELFTG VVPILVELDG DVNGHKFSVS GEGEGDATYG KLTLKFICTT GKLPVPWPTL VTTFSYGVQC FSRYPDHMKQ HDFFKSAMPE GYVQERTIFF KDDGNYKTRA EVKFEGDTLV NRIELKGIDF KEDGNILGHK LEYNYNSHNV YIMADKQKNG IKVNFKIRHN IEDGSVQLAD HYQQNTPIGD GPVLLPDNHY LSTQSALSKD PNEKRDHMVL LEFVTAAGIT HGMDELYK\""
   ]
  },
  {
   "cell_type": "code",
   "execution_count": 9,
   "metadata": {
    "ExecuteTime": {
     "end_time": "2020-02-26T15:21:19.439858Z",
     "start_time": "2020-02-26T15:21:19.426224Z"
    }
   },
   "outputs": [
    {
     "data": {
      "text/plain": [
       "0                                       NaN\n",
       "1                                    SA108D\n",
       "2        SA108D:SN144D:SI186V:SM231T:SL234P\n",
       "3               SA108D:SY141N:SH146L:SE220G\n",
       "4                                    SA108G\n",
       "                        ...                \n",
       "54020                   SY90N:SN103S:SI169F\n",
       "54021     SY90N:SQ175L:SL205Q:ST228A:SM231V\n",
       "54022                   SY90R:SI150N:SN196S\n",
       "54023                   SY90R:SI165T:SL234P\n",
       "54024     SY90S:SN103D:SK105E:SF128L:SI150V\n",
       "Name: aaMutations, Length: 54025, dtype: object"
      ]
     },
     "execution_count": 9,
     "metadata": {},
     "output_type": "execute_result"
    }
   ],
   "source": [
    "df.aaMutations"
   ]
  },
  {
   "cell_type": "code",
   "execution_count": 14,
   "metadata": {
    "ExecuteTime": {
     "end_time": "2020-02-26T15:22:52.054708Z",
     "start_time": "2020-02-26T15:22:52.045598Z"
    }
   },
   "outputs": [],
   "source": [
    "def add_muts(x):\n",
    "    if type(x) is str:\n",
    "        [all_muts.append((mut[1], mut[-1], int(mut[2:-1]))) for mut in x.split(\":\")]"
   ]
  },
  {
   "cell_type": "code",
   "execution_count": 15,
   "metadata": {
    "ExecuteTime": {
     "end_time": "2020-02-26T15:22:52.929755Z",
     "start_time": "2020-02-26T15:22:52.794963Z"
    }
   },
   "outputs": [
    {
     "data": {
      "text/plain": [
       "0        None\n",
       "1        None\n",
       "2        None\n",
       "3        None\n",
       "4        None\n",
       "         ... \n",
       "54020    None\n",
       "54021    None\n",
       "54022    None\n",
       "54023    None\n",
       "54024    None\n",
       "Name: aaMutations, Length: 54025, dtype: object"
      ]
     },
     "execution_count": 15,
     "metadata": {},
     "output_type": "execute_result"
    }
   ],
   "source": [
    "all_muts = []\n",
    "source_seq = \n",
    "df.aaMutations.apply(lambda x : add_muts(x))"
   ]
  },
  {
   "cell_type": "code",
   "execution_count": 31,
   "metadata": {
    "ExecuteTime": {
     "end_time": "2020-02-26T15:27:28.099131Z",
     "start_time": "2020-02-26T15:27:28.040324Z"
    }
   },
   "outputs": [],
   "source": [
    "l = pd.Series([(x[2],x[0]) for x in all_muts]).unique()\n",
    "l.sort()\n",
    "seq = [\"-\"]*236\n",
    "for i,x in l:\n",
    "    seq[i]=x"
   ]
  },
  {
   "cell_type": "code",
   "execution_count": 90,
   "metadata": {
    "ExecuteTime": {
     "end_time": "2020-02-26T16:07:58.963822Z",
     "start_time": "2020-02-26T16:07:58.961288Z"
    }
   },
   "outputs": [],
   "source": [
    "S = \"MSKGEELFTGVVPILVELDGDVNGHKFSVSGEGEGDATYGKLTLKFICTTGKLPVPWPTLVTTFSYGVQCFSRYPDHMKQHDFFKSAMPEGYVQERTIFFKDDGNYKTRAEVKFEGDTLVNRIELKGIDFKEDGNILGHKLEYNYNSHNVYIMADKQKNGIKVNFKIRHNIEDGSVQLADHYQQNTPIGDGPVLLPDNHYLSTQSALSKDPNEKRDHMVLLEFVTAAGITHGMDELYK\""
   ]
  },
  {
   "cell_type": "code",
   "execution_count": 104,
   "metadata": {
    "ExecuteTime": {
     "end_time": "2020-02-26T16:13:43.712671Z",
     "start_time": "2020-02-26T16:13:43.709329Z"
    }
   },
   "outputs": [
    {
     "data": {
      "text/plain": [
       "'ELFTGVVPILVELDGDVNGHKFSVSGEGEGDATYGKLTLKFICTTGKLPVPWPTLVTTFSYGVQCFSRYPDHMKQHDFFKSAMPEGYVQERTIFFKDDGNYKTRAEVKFEGDTLVNRIELKGIDFKEDGNILGHKLEYNYNSHNVYIMADKQKNGIKVNFKIRHNIEDGSVQLADHYQQNTPIGDGPVLLPDNHYLSTQSALSKDPNEKRDHMVLLEFVTAA'"
      ]
     },
     "execution_count": 104,
     "metadata": {},
     "output_type": "execute_result"
    }
   ],
   "source": [
    "\"\".join(S[5:-11])"
   ]
  },
  {
   "cell_type": "code",
   "execution_count": 98,
   "metadata": {
    "ExecuteTime": {
     "end_time": "2020-02-26T16:08:15.046169Z",
     "start_time": "2020-02-26T16:08:15.043856Z"
    }
   },
   "outputs": [],
   "source": [
    "S = [c for c in S]"
   ]
  },
  {
   "cell_type": "code",
   "execution_count": 92,
   "metadata": {
    "ExecuteTime": {
     "end_time": "2020-02-26T16:08:02.495798Z",
     "start_time": "2020-02-26T16:08:02.282992Z"
    }
   },
   "outputs": [],
   "source": [
    "nodes = [\"\".join(S)]\n",
    "for x in df.aaMutations.values:\n",
    "    seq = S.copy()\n",
    "    if type(x) is not str:\n",
    "        continue\n",
    "    for mut in x.split(\":\"):\n",
    "        aa, pos = mut[-1], int(mut[2:-1])+1\n",
    "        seq[pos] = aa\n",
    "    nodes.append(\"\".join(seq))"
   ]
  },
  {
   "cell_type": "code",
   "execution_count": 79,
   "metadata": {
    "ExecuteTime": {
     "end_time": "2020-02-26T15:54:55.562161Z",
     "start_time": "2020-02-26T15:54:55.526241Z"
    }
   },
   "outputs": [
    {
     "data": {
      "text/plain": [
       "54025"
      ]
     },
     "execution_count": 79,
     "metadata": {},
     "output_type": "execute_result"
    }
   ],
   "source": [
    "len(set(nodes))"
   ]
  },
  {
   "cell_type": "code",
   "execution_count": 105,
   "metadata": {
    "ExecuteTime": {
     "end_time": "2020-02-26T16:14:13.884654Z",
     "start_time": "2020-02-26T16:14:13.852983Z"
    }
   },
   "outputs": [],
   "source": [
    "df[\"seq\"] = nodes\n",
    "df.seq = df.seq.apply(lambda s : s[5:-11])"
   ]
  },
  {
   "cell_type": "code",
   "execution_count": 106,
   "metadata": {
    "ExecuteTime": {
     "end_time": "2020-02-26T16:14:16.875814Z",
     "start_time": "2020-02-26T16:14:16.872151Z"
    }
   },
   "outputs": [
    {
     "data": {
      "text/plain": [
       "0        ELFTGVVPILVELDGDVNGHKFSVSGEGEGDATYGKLTLKFICTTG...\n",
       "1        ELFTGVVPILVELDGDVNGHKFSVSGEGEGDATYGKLTLKFICTTG...\n",
       "2        ELFTGVVPILVELDGDVNGHKFSVSGEGEGDATYGKLTLKFICTTG...\n",
       "3        ELFTGVVPILVELDGDVNGHKFSVSGEGEGDATYGKLTLKFICTTG...\n",
       "4        ELFTGVVPILVELDGDVNGHKFSVSGEGEGDATYGKLTLKFICTTG...\n",
       "                               ...                        \n",
       "54020    ELFTGVVPILVELDGDVNGHKFSVSGEGEGDATYGKLTLKFICTTG...\n",
       "54021    ELFTGVVPILVELDGDVNGHKFSVSGEGEGDATYGKLTLKFICTTG...\n",
       "54022    ELFTGVVPILVELDGDVNGHKFSVSGEGEGDATYGKLTLKFICTTG...\n",
       "54023    ELFTGVVPILVELDGDVNGHKFSVSGEGEGDATYGKLTLKFICTTG...\n",
       "54024    ELFTGVVPILVELDGDVNGHKFSVSGEGEGDATYGKLTLKFICTTG...\n",
       "Name: seq, Length: 54025, dtype: object"
      ]
     },
     "execution_count": 106,
     "metadata": {},
     "output_type": "execute_result"
    }
   ],
   "source": [
    "df.seq"
   ]
  },
  {
   "cell_type": "code",
   "execution_count": 96,
   "metadata": {
    "ExecuteTime": {
     "end_time": "2020-02-26T16:08:10.734282Z",
     "start_time": "2020-02-26T16:08:10.593334Z"
    }
   },
   "outputs": [
    {
     "data": {
      "text/html": [
       "<div>\n",
       "<style scoped>\n",
       "    .dataframe tbody tr th:only-of-type {\n",
       "        vertical-align: middle;\n",
       "    }\n",
       "\n",
       "    .dataframe tbody tr th {\n",
       "        vertical-align: top;\n",
       "    }\n",
       "\n",
       "    .dataframe thead th {\n",
       "        text-align: right;\n",
       "    }\n",
       "</style>\n",
       "<table border=\"1\" class=\"dataframe\">\n",
       "  <thead>\n",
       "    <tr style=\"text-align: right;\">\n",
       "      <th></th>\n",
       "      <th>aaMutations</th>\n",
       "      <th>uniqueBarcodes</th>\n",
       "      <th>medianBrightness</th>\n",
       "      <th>std</th>\n",
       "      <th>seq</th>\n",
       "    </tr>\n",
       "  </thead>\n",
       "  <tbody>\n",
       "    <tr>\n",
       "      <th>0</th>\n",
       "      <td>NaN</td>\n",
       "      <td>3645</td>\n",
       "      <td>3.719212</td>\n",
       "      <td>0.106992</td>\n",
       "      <td>MSKGEELFTGVVPILVELDGDVNGHKFSVSGEGEGDATYGKLTLKF...</td>\n",
       "    </tr>\n",
       "    <tr>\n",
       "      <th>1</th>\n",
       "      <td>SA108D</td>\n",
       "      <td>1</td>\n",
       "      <td>1.301030</td>\n",
       "      <td>NaN</td>\n",
       "      <td>MSKGEELFTGVVPILVELDGDVNGHKFSVSGEGEGDATYGKLTLKF...</td>\n",
       "    </tr>\n",
       "    <tr>\n",
       "      <th>2</th>\n",
       "      <td>SA108D:SN144D:SI186V:SM231T:SL234P</td>\n",
       "      <td>1</td>\n",
       "      <td>1.301031</td>\n",
       "      <td>NaN</td>\n",
       "      <td>MSKGEELFTGVVPILVELDGDVNGHKFSVSGEGEGDATYGKLTLKF...</td>\n",
       "    </tr>\n",
       "    <tr>\n",
       "      <th>3</th>\n",
       "      <td>SA108D:SY141N:SH146L:SE220G</td>\n",
       "      <td>1</td>\n",
       "      <td>1.301189</td>\n",
       "      <td>NaN</td>\n",
       "      <td>MSKGEELFTGVVPILVELDGDVNGHKFSVSGEGEGDATYGKLTLKF...</td>\n",
       "    </tr>\n",
       "    <tr>\n",
       "      <th>4</th>\n",
       "      <td>SA108G</td>\n",
       "      <td>2</td>\n",
       "      <td>3.708478</td>\n",
       "      <td>0.020613</td>\n",
       "      <td>MSKGEELFTGVVPILVELDGDVNGHKFSVSGEGEGDATYGKLTLKF...</td>\n",
       "    </tr>\n",
       "    <tr>\n",
       "      <th>...</th>\n",
       "      <td>...</td>\n",
       "      <td>...</td>\n",
       "      <td>...</td>\n",
       "      <td>...</td>\n",
       "      <td>...</td>\n",
       "    </tr>\n",
       "    <tr>\n",
       "      <th>54020</th>\n",
       "      <td>SY90N:SN103S:SI169F</td>\n",
       "      <td>1</td>\n",
       "      <td>1.552090</td>\n",
       "      <td>NaN</td>\n",
       "      <td>MSKGEELFTGVVPILVELDGDVNGHKFSVSGEGEGDATYGKLTLKF...</td>\n",
       "    </tr>\n",
       "    <tr>\n",
       "      <th>54021</th>\n",
       "      <td>SY90N:SQ175L:SL205Q:ST228A:SM231V</td>\n",
       "      <td>1</td>\n",
       "      <td>1.301030</td>\n",
       "      <td>NaN</td>\n",
       "      <td>MSKGEELFTGVVPILVELDGDVNGHKFSVSGEGEGDATYGKLTLKF...</td>\n",
       "    </tr>\n",
       "    <tr>\n",
       "      <th>54022</th>\n",
       "      <td>SY90R:SI150N:SN196S</td>\n",
       "      <td>1</td>\n",
       "      <td>1.301030</td>\n",
       "      <td>NaN</td>\n",
       "      <td>MSKGEELFTGVVPILVELDGDVNGHKFSVSGEGEGDATYGKLTLKF...</td>\n",
       "    </tr>\n",
       "    <tr>\n",
       "      <th>54023</th>\n",
       "      <td>SY90R:SI165T:SL234P</td>\n",
       "      <td>1</td>\n",
       "      <td>1.301517</td>\n",
       "      <td>NaN</td>\n",
       "      <td>MSKGEELFTGVVPILVELDGDVNGHKFSVSGEGEGDATYGKLTLKF...</td>\n",
       "    </tr>\n",
       "    <tr>\n",
       "      <th>54024</th>\n",
       "      <td>SY90S:SN103D:SK105E:SF128L:SI150V</td>\n",
       "      <td>1</td>\n",
       "      <td>1.302130</td>\n",
       "      <td>NaN</td>\n",
       "      <td>MSKGEELFTGVVPILVELDGDVNGHKFSVSGEGEGDATYGKLTLKF...</td>\n",
       "    </tr>\n",
       "  </tbody>\n",
       "</table>\n",
       "<p>54025 rows × 5 columns</p>\n",
       "</div>"
      ],
      "text/plain": [
       "                              aaMutations  uniqueBarcodes  medianBrightness  \\\n",
       "0                                     NaN            3645          3.719212   \n",
       "1                                  SA108D               1          1.301030   \n",
       "2      SA108D:SN144D:SI186V:SM231T:SL234P               1          1.301031   \n",
       "3             SA108D:SY141N:SH146L:SE220G               1          1.301189   \n",
       "4                                  SA108G               2          3.708478   \n",
       "...                                   ...             ...               ...   \n",
       "54020                 SY90N:SN103S:SI169F               1          1.552090   \n",
       "54021   SY90N:SQ175L:SL205Q:ST228A:SM231V               1          1.301030   \n",
       "54022                 SY90R:SI150N:SN196S               1          1.301030   \n",
       "54023                 SY90R:SI165T:SL234P               1          1.301517   \n",
       "54024   SY90S:SN103D:SK105E:SF128L:SI150V               1          1.302130   \n",
       "\n",
       "            std                                                seq  \n",
       "0      0.106992  MSKGEELFTGVVPILVELDGDVNGHKFSVSGEGEGDATYGKLTLKF...  \n",
       "1           NaN  MSKGEELFTGVVPILVELDGDVNGHKFSVSGEGEGDATYGKLTLKF...  \n",
       "2           NaN  MSKGEELFTGVVPILVELDGDVNGHKFSVSGEGEGDATYGKLTLKF...  \n",
       "3           NaN  MSKGEELFTGVVPILVELDGDVNGHKFSVSGEGEGDATYGKLTLKF...  \n",
       "4      0.020613  MSKGEELFTGVVPILVELDGDVNGHKFSVSGEGEGDATYGKLTLKF...  \n",
       "...         ...                                                ...  \n",
       "54020       NaN  MSKGEELFTGVVPILVELDGDVNGHKFSVSGEGEGDATYGKLTLKF...  \n",
       "54021       NaN  MSKGEELFTGVVPILVELDGDVNGHKFSVSGEGEGDATYGKLTLKF...  \n",
       "54022       NaN  MSKGEELFTGVVPILVELDGDVNGHKFSVSGEGEGDATYGKLTLKF...  \n",
       "54023       NaN  MSKGEELFTGVVPILVELDGDVNGHKFSVSGEGEGDATYGKLTLKF...  \n",
       "54024       NaN  MSKGEELFTGVVPILVELDGDVNGHKFSVSGEGEGDATYGKLTLKF...  \n",
       "\n",
       "[54025 rows x 5 columns]"
      ]
     },
     "execution_count": 96,
     "metadata": {},
     "output_type": "execute_result"
    }
   ],
   "source": [
    "df"
   ]
  }
 ],
 "metadata": {
  "kernelspec": {
   "display_name": "Python 3",
   "language": "python",
   "name": "python3"
  },
  "language_info": {
   "codemirror_mode": {
    "name": "ipython",
    "version": 3
   },
   "file_extension": ".py",
   "mimetype": "text/x-python",
   "name": "python",
   "nbconvert_exporter": "python",
   "pygments_lexer": "ipython3",
   "version": "3.7.4"
  },
  "latex_envs": {
   "LaTeX_envs_menu_present": true,
   "autoclose": false,
   "autocomplete": true,
   "bibliofile": "biblio.bib",
   "cite_by": "apalike",
   "current_citInitial": 1,
   "eqLabelWithNumbers": true,
   "eqNumInitial": 1,
   "hotkeys": {
    "equation": "Ctrl-E",
    "itemize": "Ctrl-I"
   },
   "labels_anchors": false,
   "latex_user_defs": false,
   "report_style_numbering": false,
   "user_envs_cfg": false
  },
  "toc": {
   "base_numbering": 1,
   "nav_menu": {},
   "number_sections": true,
   "sideBar": true,
   "skip_h1_title": false,
   "title_cell": "Table of Contents",
   "title_sidebar": "Contents",
   "toc_cell": false,
   "toc_position": {},
   "toc_section_display": true,
   "toc_window_display": false
  },
  "varInspector": {
   "cols": {
    "lenName": 16,
    "lenType": 16,
    "lenVar": 40
   },
   "kernels_config": {
    "python": {
     "delete_cmd_postfix": "",
     "delete_cmd_prefix": "del ",
     "library": "var_list.py",
     "varRefreshCmd": "print(var_dic_list())"
    },
    "r": {
     "delete_cmd_postfix": ") ",
     "delete_cmd_prefix": "rm(",
     "library": "var_list.r",
     "varRefreshCmd": "cat(var_dic_list()) "
    }
   },
   "types_to_exclude": [
    "module",
    "function",
    "builtin_function_or_method",
    "instance",
    "_Feature"
   ],
   "window_display": false
  }
 },
 "nbformat": 4,
 "nbformat_minor": 2
}
