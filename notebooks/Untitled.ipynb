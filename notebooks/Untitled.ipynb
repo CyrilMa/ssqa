{
 "cells": [
  {
   "cell_type": "code",
   "execution_count": 2,
   "metadata": {},
   "outputs": [],
   "source": [
    "import pandas as pd\n",
    "import sys, os, re\n",
    "import warnings\n",
    "import numpy as np\n",
    "from tqdm import tqdm\n",
    "import pickle\n",
    "from config import *\n",
    "\n",
    "sys.path.append(f\"{ROOT}\")\n",
    "PATH = \"/home/malbranke/mutation_data\"\n",
    "warnings.filterwarnings(\"ignore\")"
   ]
  },
  {
   "cell_type": "code",
   "execution_count": 3,
   "metadata": {},
   "outputs": [],
   "source": [
    "from data_extraction.utils import *"
   ]
  },
  {
   "cell_type": "code",
   "execution_count": 4,
   "metadata": {},
   "outputs": [],
   "source": [
    "data = pickle.load(open(f\"{DATA}/secondary_structure/training_set\", \"rb\"))"
   ]
  },
  {
   "cell_type": "code",
   "execution_count": 29,
   "metadata": {},
   "outputs": [
    {
     "name": "stderr",
     "output_type": "stream",
     "text": [
      "100%|██████████| 8678/8678 [00:00<00:00, 8738.56it/s]\n"
     ]
    }
   ],
   "source": [
    "bboxes = []\n",
    "for _, sse in tqdm(data.values()):\n",
    "    ss = to_onehot(sse, (None, 3))\n",
    "    ss = np.pad(ss, ((1, 1), (0, 0)), \"constant\")\n",
    "    dss = (ss[1:] - ss[:-1])\n",
    "    cls = to_onehot(np.where(dss == -1)[1], (None, 3)).T\n",
    "    bbox = np.array([np.where(dss == 1)[0], np.where(dss == -1)[0], *cls]).T\n",
    "    bboxes.append(bbox)"
   ]
  },
  {
   "cell_type": "code",
   "execution_count": 30,
   "metadata": {},
   "outputs": [],
   "source": [
    "pi = np.zeros(4)\n",
    "pi[:3] = np.array([x[0, 2:] for x in bboxes]+[x[-1, 2:] for x in bboxes]).sum(0)"
   ]
  },
  {
   "cell_type": "code",
   "execution_count": 7,
   "metadata": {},
   "outputs": [],
   "source": []
  },
  {
   "cell_type": "code",
   "execution_count": 31,
   "metadata": {},
   "outputs": [],
   "source": [
    "T_ = [np.append(x[:-1, 2:],x[1:, 2:], axis = 1) for x in bboxes]\n",
    "T_ = np.concatenate(T_, axis = 0)\n",
    "\n",
    "T = np.zeros((4,4))\n",
    "for i in range(3):\n",
    "    t = T_[np.where(T_[:,i] == 1)[0], 3:]\n",
    "    T[i,:3] = t.sum(0)\n",
    "    T[i,3] = pi[i]\n",
    "    T[i] /= T[i].sum() \n",
    "T[3,3] = 1\n",
    "T = T.reshape(4,4,1,1)"
   ]
  },
  {
   "cell_type": "code",
   "execution_count": 32,
   "metadata": {},
   "outputs": [
    {
     "data": {
      "image/png": "[encoded data removed]",
      "text/plain": [
       "<Figure size 432x288 with 1 Axes>"
      ]
     },
     "metadata": {
      "needs_background": "light"
     },
     "output_type": "display_data"
    }
   ],
   "source": [
    "bboxes_sp = [np.concatenate([x[np.where(x[:, 2]==1)[0]][:, :2] for x in bboxes], axis=0),\n",
    "             np.concatenate([x[np.where(x[:, 3]==1)[0]][:, :2] for x in bboxes], axis=0),\n",
    "             np.concatenate([x[np.where(x[:, 4]==1)[0]][:, :2] for x in bboxes], axis=0)]\n",
    "\n",
    "Q_ = np.zeros((3, 100))\n",
    "for i in range(3):\n",
    "    Q_[i] = plt.hist(bboxes_sp[i][:,1] - bboxes_sp[i][:,0], bins = np.linspace(0, 100, 101)-0.5)[0]\n",
    "    Q_[i] /= Q_[i].sum()"
   ]
  },
  {
   "cell_type": "code",
   "execution_count": 12,
   "metadata": {},
   "outputs": [
    {
     "data": {
      "image/png": "[encoded data removed]",
      "text/plain": [
       "<Figure size 432x288 with 1 Axes>"
      ]
     },
     "metadata": {
      "needs_background": "light"
     },
     "output_type": "display_data"
    }
   ],
   "source": []
  },
  {
   "cell_type": "code",
   "execution_count": 33,
   "metadata": {},
   "outputs": [],
   "source": [
    "Q = np.zeros((4,500,500))\n",
    "\n",
    "for j in range(500):\n",
    "    Q[:3,j, j:min(j+100, 500)] = Q_[:, :min(j+100, 500)-j]\n",
    "Q[3, np.arange(500), np.arange(500)] = 1\n",
    "Q = Q.reshape((1,4,500,500))"
   ]
  },
  {
   "cell_type": "code",
   "execution_count": 14,
   "metadata": {},
   "outputs": [],
   "source": []
  },
  {
   "cell_type": "code",
   "execution_count": 34,
   "metadata": {},
   "outputs": [],
   "source": [
    "Q = torch.tensor(np.log(Q)+np.log(T))\n",
    "pi = torch.tensor(np.log(pi/pi.sum()).reshape(-1,1))\n",
    "\n",
    "torch.save(pi, \"pi.pt\")\n",
    "torch.save(Q, \"Q.pt\")"
   ]
  },
  {
   "cell_type": "code",
   "execution_count": 36,
   "metadata": {},
   "outputs": [
    {
     "data": {
      "text/plain": [
       "tensor([[[[    -inf,     -inf,     -inf,  ...,     -inf,     -inf,     -inf],\n",
       "          [    -inf,     -inf,     -inf,  ...,     -inf,     -inf,     -inf],\n",
       "          [    -inf,     -inf,     -inf,  ...,     -inf,     -inf,     -inf],\n",
       "          ...,\n",
       "          [    -inf,     -inf,     -inf,  ...,     -inf,     -inf,     -inf],\n",
       "          [    -inf,     -inf,     -inf,  ...,     -inf,     -inf,     -inf],\n",
       "          [    -inf,     -inf,     -inf,  ...,     -inf,     -inf,     -inf]],\n",
       "\n",
       "         [[    -inf,  -4.8210,  -5.4116,  ...,     -inf,     -inf,     -inf],\n",
       "          [    -inf,     -inf,  -4.8210,  ...,     -inf,     -inf,     -inf],\n",
       "          [    -inf,     -inf,     -inf,  ...,     -inf,     -inf,     -inf],\n",
       "          ...,\n",
       "          [    -inf,     -inf,     -inf,  ...,     -inf,  -4.8210,  -5.4116],\n",
       "          [    -inf,     -inf,     -inf,  ...,     -inf,     -inf,  -4.8210],\n",
       "          [    -inf,     -inf,     -inf,  ...,     -inf,     -inf,     -inf]],\n",
       "\n",
       "         [[    -inf,  -2.1650,  -1.7728,  ...,     -inf,     -inf,     -inf],\n",
       "          [    -inf,     -inf,  -2.1650,  ...,     -inf,     -inf,     -inf],\n",
       "          [    -inf,     -inf,     -inf,  ...,     -inf,     -inf,     -inf],\n",
       "          ...,\n",
       "          [    -inf,     -inf,     -inf,  ...,     -inf,  -2.1650,  -1.7728],\n",
       "          [    -inf,     -inf,     -inf,  ...,     -inf,     -inf,  -2.1650],\n",
       "          [    -inf,     -inf,     -inf,  ...,     -inf,     -inf,     -inf]],\n",
       "\n",
       "         [[    -inf,     -inf,     -inf,  ...,     -inf,     -inf,     -inf],\n",
       "          [    -inf,     -inf,     -inf,  ...,     -inf,     -inf,     -inf],\n",
       "          [    -inf,     -inf,     -inf,  ...,     -inf,     -inf,     -inf],\n",
       "          ...,\n",
       "          [    -inf,     -inf,     -inf,  ...,     -inf,     -inf,     -inf],\n",
       "          [    -inf,     -inf,     -inf,  ...,     -inf,     -inf,     -inf],\n",
       "          [    -inf,     -inf,     -inf,  ...,     -inf,     -inf,     -inf]]],\n",
       "\n",
       "\n",
       "        [[[    -inf, -11.0436, -11.9374,  ...,     -inf,     -inf,     -inf],\n",
       "          [    -inf,     -inf, -11.0436,  ...,     -inf,     -inf,     -inf],\n",
       "          [    -inf,     -inf,     -inf,  ...,     -inf,     -inf,     -inf],\n",
       "          ...,\n",
       "          [    -inf,     -inf,     -inf,  ...,     -inf, -11.0436, -11.9374],\n",
       "          [    -inf,     -inf,     -inf,  ...,     -inf,     -inf, -11.0436],\n",
       "          [    -inf,     -inf,     -inf,  ...,     -inf,     -inf,     -inf]],\n",
       "\n",
       "         [[    -inf,     -inf,     -inf,  ...,     -inf,     -inf,     -inf],\n",
       "          [    -inf,     -inf,     -inf,  ...,     -inf,     -inf,     -inf],\n",
       "          [    -inf,     -inf,     -inf,  ...,     -inf,     -inf,     -inf],\n",
       "          ...,\n",
       "          [    -inf,     -inf,     -inf,  ...,     -inf,     -inf,     -inf],\n",
       "          [    -inf,     -inf,     -inf,  ...,     -inf,     -inf,     -inf],\n",
       "          [    -inf,     -inf,     -inf,  ...,     -inf,     -inf,     -inf]],\n",
       "\n",
       "         [[    -inf,  -2.1804,  -1.7881,  ...,     -inf,     -inf,     -inf],\n",
       "          [    -inf,     -inf,  -2.1804,  ...,     -inf,     -inf,     -inf],\n",
       "          [    -inf,     -inf,     -inf,  ...,     -inf,     -inf,     -inf],\n",
       "          ...,\n",
       "          [    -inf,     -inf,     -inf,  ...,     -inf,  -2.1804,  -1.7881],\n",
       "          [    -inf,     -inf,     -inf,  ...,     -inf,     -inf,  -2.1804],\n",
       "          [    -inf,     -inf,     -inf,  ...,     -inf,     -inf,     -inf]],\n",
       "\n",
       "         [[    -inf,     -inf,     -inf,  ...,     -inf,     -inf,     -inf],\n",
       "          [    -inf,     -inf,     -inf,  ...,     -inf,     -inf,     -inf],\n",
       "          [    -inf,     -inf,     -inf,  ...,     -inf,     -inf,     -inf],\n",
       "          ...,\n",
       "          [    -inf,     -inf,     -inf,  ...,     -inf,     -inf,     -inf],\n",
       "          [    -inf,     -inf,     -inf,  ...,     -inf,     -inf,     -inf],\n",
       "          [    -inf,     -inf,     -inf,  ...,     -inf,     -inf,     -inf]]],\n",
       "\n",
       "\n",
       "        [[[    -inf,  -9.1303, -10.0241,  ...,     -inf,     -inf,     -inf],\n",
       "          [    -inf,     -inf,  -9.1303,  ...,     -inf,     -inf,     -inf],\n",
       "          [    -inf,     -inf,     -inf,  ...,     -inf,     -inf,     -inf],\n",
       "          ...,\n",
       "          [    -inf,     -inf,     -inf,  ...,     -inf,  -9.1303, -10.0241],\n",
       "          [    -inf,     -inf,     -inf,  ...,     -inf,     -inf,  -9.1303],\n",
       "          [    -inf,     -inf,     -inf,  ...,     -inf,     -inf,     -inf]],\n",
       "\n",
       "         [[    -inf,  -2.3428,  -2.9334,  ...,     -inf,     -inf,     -inf],\n",
       "          [    -inf,     -inf,  -2.3428,  ...,     -inf,     -inf,     -inf],\n",
       "          [    -inf,     -inf,     -inf,  ...,     -inf,     -inf,     -inf],\n",
       "          ...,\n",
       "          [    -inf,     -inf,     -inf,  ...,     -inf,  -2.3428,  -2.9334],\n",
       "          [    -inf,     -inf,     -inf,  ...,     -inf,     -inf,  -2.3428],\n",
       "          [    -inf,     -inf,     -inf,  ...,     -inf,     -inf,     -inf]],\n",
       "\n",
       "         [[    -inf,     -inf,     -inf,  ...,     -inf,     -inf,     -inf],\n",
       "          [    -inf,     -inf,     -inf,  ...,     -inf,     -inf,     -inf],\n",
       "          [    -inf,     -inf,     -inf,  ...,     -inf,     -inf,     -inf],\n",
       "          ...,\n",
       "          [    -inf,     -inf,     -inf,  ...,     -inf,     -inf,     -inf],\n",
       "          [    -inf,     -inf,     -inf,  ...,     -inf,     -inf,     -inf],\n",
       "          [    -inf,     -inf,     -inf,  ...,     -inf,     -inf,     -inf]],\n",
       "\n",
       "         [[ -2.3839,     -inf,     -inf,  ...,     -inf,     -inf,     -inf],\n",
       "          [    -inf,  -2.3839,     -inf,  ...,     -inf,     -inf,     -inf],\n",
       "          [    -inf,     -inf,  -2.3839,  ...,     -inf,     -inf,     -inf],\n",
       "          ...,\n",
       "          [    -inf,     -inf,     -inf,  ...,  -2.3839,     -inf,     -inf],\n",
       "          [    -inf,     -inf,     -inf,  ...,     -inf,  -2.3839,     -inf],\n",
       "          [    -inf,     -inf,     -inf,  ...,     -inf,     -inf,  -2.3839]]],\n",
       "\n",
       "\n",
       "        [[[    -inf,     -inf,     -inf,  ...,     -inf,     -inf,     -inf],\n",
       "          [    -inf,     -inf,     -inf,  ...,     -inf,     -inf,     -inf],\n",
       "          [    -inf,     -inf,     -inf,  ...,     -inf,     -inf,     -inf],\n",
       "          ...,\n",
       "          [    -inf,     -inf,     -inf,  ...,     -inf,     -inf,     -inf],\n",
       "          [    -inf,     -inf,     -inf,  ...,     -inf,     -inf,     -inf],\n",
       "          [    -inf,     -inf,     -inf,  ...,     -inf,     -inf,     -inf]],\n",
       "\n",
       "         [[    -inf,     -inf,     -inf,  ...,     -inf,     -inf,     -inf],\n",
       "          [    -inf,     -inf,     -inf,  ...,     -inf,     -inf,     -inf],\n",
       "          [    -inf,     -inf,     -inf,  ...,     -inf,     -inf,     -inf],\n",
       "          ...,\n",
       "          [    -inf,     -inf,     -inf,  ...,     -inf,     -inf,     -inf],\n",
       "          [    -inf,     -inf,     -inf,  ...,     -inf,     -inf,     -inf],\n",
       "          [    -inf,     -inf,     -inf,  ...,     -inf,     -inf,     -inf]],\n",
       "\n",
       "         [[    -inf,     -inf,     -inf,  ...,     -inf,     -inf,     -inf],\n",
       "          [    -inf,     -inf,     -inf,  ...,     -inf,     -inf,     -inf],\n",
       "          [    -inf,     -inf,     -inf,  ...,     -inf,     -inf,     -inf],\n",
       "          ...,\n",
       "          [    -inf,     -inf,     -inf,  ...,     -inf,     -inf,     -inf],\n",
       "          [    -inf,     -inf,     -inf,  ...,     -inf,     -inf,     -inf],\n",
       "          [    -inf,     -inf,     -inf,  ...,     -inf,     -inf,     -inf]],\n",
       "\n",
       "         [[  0.0000,     -inf,     -inf,  ...,     -inf,     -inf,     -inf],\n",
       "          [    -inf,   0.0000,     -inf,  ...,     -inf,     -inf,     -inf],\n",
       "          [    -inf,     -inf,   0.0000,  ...,     -inf,     -inf,     -inf],\n",
       "          ...,\n",
       "          [    -inf,     -inf,     -inf,  ...,   0.0000,     -inf,     -inf],\n",
       "          [    -inf,     -inf,     -inf,  ...,     -inf,   0.0000,     -inf],\n",
       "          [    -inf,     -inf,     -inf,  ...,     -inf,     -inf,   0.0000]]]],\n",
       "       dtype=torch.float64)"
      ]
     },
     "execution_count": 36,
     "metadata": {},
     "output_type": "execute_result"
    }
   ],
   "source": [
    "Q"
   ]
  },
  {
   "cell_type": "code",
   "execution_count": 20,
   "metadata": {},
   "outputs": [],
   "source": [
    "import sys\n",
    "import warnings\n",
    "from config import *\n",
    "\n",
    "DATASET = \"PF00397\"\n",
    "sys.path.append(f\"{ROOT}\")\n",
    "\n",
    "warnings.filterwarnings(\"ignore\")"
   ]
  },
  {
   "cell_type": "code",
   "execution_count": 23,
   "metadata": {},
   "outputs": [
    {
     "data": {
      "text/plain": [
       "True"
      ]
     },
     "execution_count": 23,
     "metadata": {},
     "output_type": "execute_result"
    }
   ],
   "source": [
    "import numpy as np\n",
    "import pickle\n",
    "import pandas as pd\n",
    "from random import shuffle\n",
    "from tqdm import tqdm\n",
    "\n",
    "import matplotlib.pyplot as plt\n",
    "import seaborn as sns\n",
    "\n",
    "from torch.utils.data import DataLoader\n",
    "\n",
    "from ss_inference.data import SecondaryStructureRawDataset, collate_sequences\n",
    "from ss_inference.model import NetSurfP2, ConvNet\n",
    "\n",
    "from pattern_matching.graphics import visualize_secondary_structure\n",
    "from pattern_matching.utils import *\n",
    "from pattern_matching.loss import PatternMatchingLoss\n",
    "from pattern_matching.pattern import Matching\n",
    "\n",
    "from pgm.data import SequenceData\n",
    "\n",
    "from config import DATA\n",
    "\n",
    "import torch\n",
    "import torch.nn as nn\n",
    "import torch.nn.functional as F\n",
    "\n",
    "inf = float(\"Inf\")\n",
    "\n",
    "\n",
    "torch.cuda.is_available()"
   ]
  },
  {
   "cell_type": "code",
   "execution_count": 202,
   "metadata": {},
   "outputs": [
    {
     "data": {
      "text/plain": [
       "Model nsp2-50"
      ]
     },
     "execution_count": 202,
     "metadata": {},
     "output_type": "execute_result"
    }
   ],
   "source": [
    "dataset = SequenceData(f\"{DATA}/{DATASET}\", dataset=\"full\")\n",
    "loader = DataLoader(dataset, batch_size = 100, \n",
    "                          shuffle = False)\n",
    "\n",
    "device = \"cuda\"\n",
    "\n",
    "model_ss3 = NetSurfP2(50, \"nsp2\")\n",
    "model_ss3 = model_ss3.to(device)\n",
    "model_ss3.load_state_dict(torch.load(f\"{DATA}/secondary_structure/lstm_50feats.h5\"))\n",
    "model_ss3"
   ]
  },
  {
   "cell_type": "code",
   "execution_count": 38,
   "metadata": {},
   "outputs": [
    {
     "data": {
      "text/plain": [
       "tensor([[-inf],\n",
       "        [-inf],\n",
       "        [0.],\n",
       "        [-inf]], dtype=torch.float64)"
      ]
     },
     "execution_count": 38,
     "metadata": {},
     "output_type": "execute_result"
    }
   ],
   "source": [
    "pi"
   ]
  },
  {
   "cell_type": "code",
   "execution_count": 273,
   "metadata": {},
   "outputs": [],
   "source": [
    "size = 50\n",
    "Q = torch.load(\"Q.pt\").float()\n",
    "pi = torch.load(\"pi.pt\")[:,0].float()\n",
    "\n",
    "seq_hmm = torch.tensor(dataset[0][3]).t()[20:]\n",
    "torch.save(seq_hmm, f\"{DATA}/{DATASET}/hmm.pt\")\n",
    "_, size = seq_hmm.size()\n",
    "\n",
    "matcher = PatternMatchingInference(model_ss3, Q = Q, pi = pi,\n",
    "                          seq_hmm = seq_hmm, size = size)"
   ]
  },
  {
   "cell_type": "code",
   "execution_count": 286,
   "metadata": {},
   "outputs": [
    {
     "name": "stderr",
     "output_type": "stream",
     "text": [
      "30it [00:13,  2.17it/s]\n"
     ]
    }
   ],
   "source": [
    "p = []\n",
    "for batch_idx, data in tqdm(enumerate(loader)):\n",
    "    x = data[0].permute(0,2,1).float()\n",
    "    torch.cuda.empty_cache()\n",
    "    m = Matching(x)\n",
    "    p_ = matcher(m, 4)\n",
    "    p.append(p_)\n",
    "    if batch_idx == 30:\n",
    "        break\n",
    "p = torch.cat(p,0)"
   ]
  },
  {
   "cell_type": "code",
   "execution_count": 271,
   "metadata": {},
   "outputs": [],
   "source": [
    "class PatternMatchingInference(nn.Module):\n",
    "\n",
    "    def __init__(self, model_ss3, Q, pi, seq_hmm, size=68, name=\"\"):\n",
    "        super(PatternMatchingInference, self).__init__()\n",
    "        self.name = f\"Matcher {name}\"\n",
    "        self.size = size\n",
    "        Q = torch.tensor(Q[:, :, :size + 1, :size + 1]).float()\n",
    "        self.Q = Q.view(1, *Q.size())\n",
    "        self.pi = pi.view(1, *pi.size())\n",
    "        self.model_ss3 = model_ss3\n",
    "        self.SEQ_HMM = seq_hmm\n",
    "        self.do_match = True\n",
    "\n",
    "    def __repr__(self):\n",
    "        return self.name\n",
    "\n",
    "    def forward(self, m:Matching, T):\n",
    "        batch_size = m.batch_size\n",
    "        hmm, m.ls = self.hmm_(m)\n",
    "        hmm = hmm.to(self.model_ss3.device)\n",
    "        m.ss3 = F.softmax(self.model_ss3(hmm)[2].cpu(),1).detach()+1e-3\n",
    "        m.P = self.P_(m).float()\n",
    "        m.a = self.max_alpha(m,T)\n",
    "        return self.argmax_alpha(m,T)\n",
    "\n",
    "    def max_alpha(self, m, T):\n",
    "        batch_size, P, ls = m.batch_size, m.P, m.ls\n",
    "        alpha, norm = [], []\n",
    "        a_ = -torch.ones(batch_size, 4, self.size+1)*inf\n",
    "        a_[:,:,0] = self.pi\n",
    "        n_ = a_.logsumexp((-1,-2), keepdim = True)\n",
    "        a_ -= n_\n",
    "        alpha.append(a_), norm.append(n_)\n",
    "        last_a, last_n = a_[:,:,None,:,None], n_\n",
    "        for i in range(self.size):\n",
    "            a_ = (P + T*self.Q + last_a).max(-4)[0].max(-2)[0]\n",
    "            n_ = last_n + a_.logsumexp((-1,-2), keepdim = True)\n",
    "            a_ = a_ + last_n - n_\n",
    "            alpha.append(a_), norm.append(n_)\n",
    "            last_a, last_n = a_[:,:,None,:,None], n_\n",
    "        alpha = torch.cat([a_[:,None] for a_ in alpha[::-1]], 1)\n",
    "        norm = torch.cat([n_[:,None] for n_ in norm], 1)\n",
    "        return alpha + norm\n",
    "    \n",
    "    def argmax_alpha(self, m, T):\n",
    "        alpha = m.a\n",
    "        size = alpha.size(-1)\n",
    "        batch_size, P, ls = m.batch_size, m.P, m.ls\n",
    "        c_star, t_star = torch.ones(batch_size).long()*3, ls\n",
    "        max_pattern = [torch.cat([c_star.view(-1,1), t_star.view(-1,1)],1)]\n",
    "\n",
    "        for a in alpha.transpose(1,0)[1:]:\n",
    "            a_ = (P[torch.arange(batch_size),:,c_star,:, t_star] + T*self.Q.expand(batch_size,-1,-1,-1,-1)[torch.arange(batch_size),:,c_star,:,t_star]+a).view(batch_size, -1).argmax(-1)\n",
    "            c_star, t_star = a_//size, a_%size\n",
    "            max_pattern.append(torch.cat([c_star.view(-1,1), t_star.view(-1,1)],1))\n",
    "        max_pattern = torch.cat([p[:,None] for p in max_pattern[::-1]], 1)\n",
    "        return max_pattern\n",
    "\n",
    "    def hmm_(self, m):\n",
    "        batch_size, x = m.batch_size, m.x\n",
    "        hmm = torch.zeros(batch_size, 20 + self.SEQ_HMM.size(0), self.size)\n",
    "        ls = []\n",
    "        for i, x_ in zip(range(batch_size), x):\n",
    "            idx = torch.where(x_[0] == 0)[0]\n",
    "            n_idx = idx.size(0)\n",
    "            ls.append(n_idx)\n",
    "            hmm[i, :20, :n_idx] = x_[:20, idx]\n",
    "            hmm[i, 20:, :n_idx] = self.SEQ_HMM[:, idx]\n",
    "        ls = torch.tensor(ls)\n",
    "        return hmm, ls\n",
    "\n",
    "    def P_(self, m):\n",
    "        batch_size, C, ls = m.batch_size, torch.log(m.ss3), m.ls\n",
    "        P = torch.zeros(batch_size, 4, self.size + 1, self.size + 1)\n",
    "        for i in range(self.size+1):\n",
    "            P[:, :3, i, :i + 1] = -inf\n",
    "            if i == self.size:\n",
    "                break\n",
    "            P[:, :3, :i + 1, i + 1:] += C[:, :, i].view(batch_size, 3, 1, 1)\n",
    "        P[:,3] = -inf\n",
    "        P[:,3, ls, ls] = 0 \n",
    "        return P[:,None,:,:,:]\n"
   ]
  }
 ],
 "metadata": {
  "kernelspec": {
   "display_name": "Python 3",
   "language": "python",
   "name": "python3"
  },
  "language_info": {
   "codemirror_mode": {
    "name": "ipython",
    "version": 3
   },
   "file_extension": ".py",
   "mimetype": "text/x-python",
   "name": "python",
   "nbconvert_exporter": "python",
   "pygments_lexer": "ipython3",
   "version": "3.8.3"
  }
 },
 "nbformat": 4,
 "nbformat_minor": 4
}
