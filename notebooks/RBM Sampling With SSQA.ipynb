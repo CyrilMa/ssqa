{
 "cells": [
  {
   "cell_type": "code",
   "execution_count": 4,
   "metadata": {},
   "outputs": [],
   "source": [
    "import sys, os, re, random, warnings, pickle\n",
    "sys.path.append(os.path.dirname(os.getcwd()))\n",
    "\n",
    "import numpy as np\n",
    "import matplotlib.pyplot as plt\n",
    "import seaborn as sns\n",
    "\n",
    "import torch\n",
    "from torch.utils.data import DataLoader\n",
    "from torch import nn, optim\n",
    "from torch.nn import functional as F\n",
    "\n",
    "from config import *\n",
    "from ssqa import *\n",
    "from ss_inference import *\n",
    "from data import *\n",
    "from pgm import *\n",
    "from generation import *\n",
    "\n",
    "DATA = PFAM_DATA\n",
    "DATASET = \"russ\"\n",
    "warnings.filterwarnings(\"ignore\")"
   ]
  },
  {
   "cell_type": "markdown",
   "metadata": {},
   "source": [
    "## SS3 prediction"
   ]
  },
  {
   "cell_type": "code",
   "execution_count": 5,
   "metadata": {
    "scrolled": true
   },
   "outputs": [
    {
     "data": {
      "text/plain": [
       "Model netsurfp2-50"
      ]
     },
     "execution_count": 5,
     "metadata": {},
     "output_type": "execute_result"
    }
   ],
   "source": [
    "model_ss = NetSurfP2(50, \"netsurfp2\")\n",
    "optimizer = optim.Adam(model_ss.parameters(), lr=0.001)\n",
    "model_ss.load_state_dict(torch.load(f\"{UTILS}/nsp_50feats.h5\"))\n",
    "model_ss.eval()\n",
    "model_ss = model_ss.to(\"cuda\")\n",
    "\n",
    "model_ss"
   ]
  },
  {
   "cell_type": "markdown",
   "metadata": {},
   "source": [
    "## Data"
   ]
  },
  {
   "cell_type": "code",
   "execution_count": 6,
   "metadata": {},
   "outputs": [
    {
     "name": "stdout",
     "output_type": "stream",
     "text": [
      "Available :  seq L cluster_index weights subset seq_hmm pattern ss_hmm\n"
     ]
    }
   ],
   "source": [
    "dataset = SSQAData_RBM(f\"{DATA}/{DATASET}/data.pt\")\n",
    "loader = DataLoader(dataset, batch_size = 100, shuffle = True)\n",
    "batch_size, q, N = dataset.seqs.size()"
   ]
  },
  {
   "cell_type": "code",
   "execution_count": 7,
   "metadata": {},
   "outputs": [],
   "source": [
    "from torch.distributions.one_hot_categorical import OneHotCategorical\n",
    "\n",
    "independant = torch.zeros(q+1, N)\n",
    "for w, v in zip(dataset.weights,dataset):\n",
    "    independant += w*v\n",
    "independant /= dataset.weights.sum()\n",
    "independant = independant.float().to(device).t()\n",
    "\n",
    "independant_sampler = OneHotCategorical(independant)"
   ]
  },
  {
   "cell_type": "code",
   "execution_count": 8,
   "metadata": {},
   "outputs": [],
   "source": [
    "pots = torch.zeros(q+1, N)\n",
    "for w, v in zip(dataset.weights,dataset):\n",
    "    pots += w*v\n",
    "pots /= torch.sum(dataset.weights)\n",
    "pots = (pots-pots.mean(0)[None]).view(-1).float().to(device)"
   ]
  },
  {
   "cell_type": "markdown",
   "metadata": {},
   "source": [
    "## RBM"
   ]
  },
  {
   "cell_type": "code",
   "execution_count": 9,
   "metadata": {},
   "outputs": [
    {
     "data": {
      "image/png": "[encoded data removed]",
      "text/plain": [
       "<Figure size 432x288 with 1 Axes>"
      ]
     },
     "metadata": {},
     "output_type": "display_data"
    },
    {
     "name": "stdout",
     "output_type": "stream",
     "text": [
      "Iteration 0 : -0.0016033172141760588\n",
      "Iteration 200 : 1.6510608664211759\n",
      "Iteration 400 : 6.8313688228336105\n",
      "Iteration 600 : 16.189521780466748\n",
      "Iteration 800 : 31.201827040171338\n",
      "Iteration 1000 : 55.03970955148907\n",
      "Iteration 1200 : 93.3154599650261\n",
      "Iteration 1400 : 153.46499866083832\n",
      "Iteration 1600 : 238.7796065791008\n",
      "Iteration 1800 : 346.88971111015053\n",
      "Estimated Z : 9.912\n"
     ]
    },
    {
     "data": {
      "text/plain": [
       "9.912199974060059"
      ]
     },
     "execution_count": 9,
     "metadata": {},
     "output_type": "execute_result"
    }
   ],
   "source": [
    "visible_layers = [\"sequence\"]\n",
    "hidden_layers = [\"hidden\"]\n",
    "\n",
    "v = OneHotLayer(pots, N=N, q=q+1, name=\"sequence\")\n",
    "h = GaussianLayer(N=200, name=\"hidden\")\n",
    "\n",
    "E = [(v.name, h.name)]\n",
    "\n",
    "model1 = MRF(layers = {v.name: v,\n",
    "                    h.name: h},\n",
    "            edges = E,\n",
    "            name = \"\")\n",
    "\n",
    "for visible in visible_layers:\n",
    "    edge = model1.get_edge(visible, \"hidden\")\n",
    "    \n",
    "model1.load(f\"{DATA}/{DATASET}/weights/seq-reg-200_4320.h5\")\n",
    "model1.ais(n_inter = 2000, verbose = True)"
   ]
  },
  {
   "cell_type": "markdown",
   "metadata": {},
   "source": [
    "## Rejection Sampling"
   ]
  },
  {
   "cell_type": "code",
   "execution_count": 107,
   "metadata": {},
   "outputs": [],
   "source": [
    "class IndependantSampler(Sampler):\n",
    "    def __init__(self, p):\n",
    "        super(IndependantSampler, self).__init__()\n",
    "        self.sampler = OneHotCategorical(p)\n",
    "        self.p = p\n",
    "\n",
    "    def sample(self, data):\n",
    "        n = data.size(0)\n",
    "        return self.sampler.sample_n(n).permute(0, 2, 1)\n",
    "\n",
    "class NaturalSampler(Sampler):\n",
    "    def __init__(self):\n",
    "        super(NaturalSampler, self).__init__()\n",
    "\n",
    "    def sample(self, data):\n",
    "        return data.permute(0, 2, 1)\n",
    "\n",
    "class PGMSampler(Sampler):\n",
    "    def __init__(self, model, visible_layers, hidden_layers, k = 30):\n",
    "        super(PGMSampler, self).__init__()\n",
    "        self.model = model\n",
    "        self.visible_layers = visible_layers\n",
    "        self.hidden_layers = hidden_layers\n",
    "        self.k = k\n",
    "\n",
    "    def sample(self, data):\n",
    "        d_0 = {k: v.float().to(device) for k, v in zip(LAYERS_NAME, [data]) if\n",
    "               k in self.visible_layers}\n",
    "        _, d_f = self.model.gibbs_sampling(d_0, self.visible_layers, self.hidden_layers, k=self.k)\n",
    "        return d_f[\"sequence\"]\n",
    "\n",
    "class RejectionSampler(object):\n",
    "    def __init__(self, loader, ssqa):\n",
    "        super(RejectionSampler, self).__init__()\n",
    "        self.ssqa = ssqa\n",
    "        self.loader = loader\n",
    "\n",
    "    def sample(self, sampler, n_samples, thr):\n",
    "        samples = []\n",
    "        while True:\n",
    "            for batch_idx, data in enumerate(self.loader):\n",
    "                print(f\"{len(samples)}/{n_samples} [{int(100 * len(samples) / n_samples)}%]\", end=\"\\r\")\n",
    "                x = sampler.sample(data)\n",
    "                dp, pm = self.ssqa.featuring(X, None)\n",
    "                _, pm_unsup, _, _ = self.ssqa.predict(dp, pm)\n",
    "                for x_, pm_ in zip(x, pm_unsup):\n",
    "                    if len(samples) >= n_samples:\n",
    "                        return samples\n",
    "                    if pm_ > thr:\n",
    "                        samples.append((x_, pm_))"
   ]
  },
  {
   "cell_type": "code",
   "execution_count": 108,
   "metadata": {},
   "outputs": [],
   "source": [
    "ssqa = SSQA(model_ss)\n",
    "ssqa.load(f\"{DATA}/{DATASET}/ssqa.pt\")\n",
    "\n",
    "ind_sampler = IndependantSampler(independant)\n",
    "nat_sampler = NaturalSampler()\n",
    "pgm_sampler = PGMSampler(model1, [\"sequence\"], [\"hidden\"])\n",
    "\n",
    "rejection_sampler = RejectionSampler(loader, ssqa)"
   ]
  },
  {
   "cell_type": "code",
   "execution_count": 109,
   "metadata": {
    "scrolled": true
   },
   "outputs": [
    {
     "name": "stdout",
     "output_type": "stream",
     "text": [
      "T = 0.5 || Samples/seconds : 34\n",
      "T = 0.6 || Samples/seconds : 32\n",
      "T = 0.65 || Samples/seconds : 9\n",
      "T = 0.7 || Samples/seconds : 0\n"
     ]
    }
   ],
   "source": [
    "all_samples_hist = []\n",
    "all_samples = []\n",
    "Ts = [0.5, 0.6, 0.65, 0.7]\n",
    "for T in Ts:\n",
    "    start = time.time()\n",
    "    samples = rejection_sampler.sample(pgm_sampler, 500, T)\n",
    "    all_samples_hist.append([x[1] for x in samples])\n",
    "    all_samples.append([x[0] for x in samples])\n",
    "    print(f\"T = {T} || Samples/seconds : {int(500/(time.time()-start))}\")"
   ]
  },
  {
   "cell_type": "code",
   "execution_count": 110,
   "metadata": {},
   "outputs": [],
   "source": [
    "all_samples = [torch.cat([s_.view(1, *s_.size()) for s_ in s],0) for s in all_samples]\n",
    "for T, s in zip(Ts, all_samples):\n",
    "    torch.save(s, f\"{DATA}/{DATASET}/gen_data/rbm_local_rejection_sampling_T_{T}.pt\")"
   ]
  },
  {
   "cell_type": "code",
   "execution_count": 111,
   "metadata": {},
   "outputs": [
    {
     "name": "stdout",
     "output_type": "stream",
     "text": [
      "T = 0.5 || Samples/seconds : 36\n",
      "T = 0.6 || Samples/seconds : 31\n",
      "T = 0.65 || Samples/seconds : 9\n",
      "T = 0.7 || Samples/seconds : 0\n"
     ]
    }
   ],
   "source": [
    "all_samples_hist = []\n",
    "all_samples = []\n",
    "Ts = [0.5, 0.6, 0.65, 0.7]\n",
    "for T in Ts:\n",
    "    start = time.time()\n",
    "    samples = rejection_sampler.sample(ind_sampler, 500, T)\n",
    "    all_samples_hist.append([x[1] for x in samples])\n",
    "    all_samples.append([x[0] for x in samples])\n",
    "    print(f\"T = {T} || Samples/seconds : {int(500/(time.time()-start))}\")"
   ]
  },
  {
   "cell_type": "code",
   "execution_count": 112,
   "metadata": {},
   "outputs": [],
   "source": [
    "all_samples = [torch.cat([s_.view(1, *s_.size()) for s_ in s],0) for s in all_samples]\n",
    "for T, s in zip(Ts, all_samples):\n",
    "    torch.save(s, f\"{DATA}/{DATASET}/gen_data/ind_local_rejection_sampling_T_{T}.pt\")"
   ]
  }
 ],
 "metadata": {
  "kernelspec": {
   "display_name": "Python 3",
   "language": "python",
   "name": "python3"
  },
  "language_info": {
   "codemirror_mode": {
    "name": "ipython",
    "version": 3
   },
   "file_extension": ".py",
   "mimetype": "text/x-python",
   "name": "python",
   "nbconvert_exporter": "python",
   "pygments_lexer": "ipython3",
   "version": "3.8.5"
  }
 },
 "nbformat": 4,
 "nbformat_minor": 4
}
