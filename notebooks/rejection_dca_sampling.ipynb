{
 "cells": [
  {
   "cell_type": "code",
   "execution_count": 14,
   "metadata": {},
   "outputs": [],
   "source": [
    "import sys\n",
    "import warnings\n",
    "from config import *\n",
    "\n",
    "DATASET = \"PF00397\"\n",
    "sys.path.append(f\"{ROOT}\")\n",
    "device = \"cpu\"\n",
    "\n",
    "warnings.filterwarnings(\"ignore\")"
   ]
  },
  {
   "cell_type": "code",
   "execution_count": 15,
   "metadata": {},
   "outputs": [
    {
     "data": {
      "text/plain": [
       "True"
      ]
     },
     "execution_count": 15,
     "metadata": {},
     "output_type": "execute_result"
    }
   ],
   "source": [
    "import numpy as np\n",
    "import pandas as pd\n",
    "import time\n",
    "import pickle\n",
    "from tqdm import tqdm\n",
    "\n",
    "import matplotlib.pyplot as plt\n",
    "import seaborn as sns\n",
    "\n",
    "import torch\n",
    "from torch.utils.data import DataLoader\n",
    "from torch import nn, optim\n",
    "from torch.nn import functional as F\n",
    "\n",
    "from ss_inference.data import SecondaryStructureRawDataset\n",
    "from ss_inference.model import NetSurfP2\n",
    "from ss_inference.utils import *\n",
    "\n",
    "from config import DATA\n",
    "from pgm.data import SequenceData\n",
    "from pgm.layers import GaussianLayer, OneHotLayer\n",
    "from pgm.edge import Edge\n",
    "from pgm.model import MRF\n",
    "from pgm.utils import *\n",
    "\n",
    "from pattern_matching.loss import *\n",
    "from pattern_matching.pattern import PatternMatching, Matching\n",
    "\n",
    "torch.cuda.is_available()"
   ]
  },
  {
   "cell_type": "markdown",
   "metadata": {},
   "source": [
    "## DCA Rejection Sampling\n",
    "\n",
    "https://en.wikipedia.org/wiki/Rejection_sampling\n",
    "\n",
    "### Independant model\n",
    "\n",
    "Let's consider an independant model such that $E(x) = \\sum_i g_i(x_i) = g(x)$. We want to extend it to include secondary structure QA. We consider $r$ a pattern a $R$ the set of secondary structure matching pattern $r$.\n",
    "$$M(x) = \\sum_{s \\in R} \\mathbb P(s|x)$$\n",
    "\n",
    "Then $m(x) = - \\log(M(x))$. We can then establish that $E(x) = g(x) + m(x)$. If we want to weight the two value we set $E$ to be $E(x) = g(x) + \\frac{1}{T} m(x)$. We then have :\n",
    "\n",
    "$$\\mathbb{P}(x) = \\frac{1}{Z} G(x)M(x)^{1/T}$$\n",
    "\n",
    "How do we sample according to this probability ? Sampling with G(x) is easy but $M(x)$ is not invertible. We rely on rejection sampling.\n",
    "\n",
    "To do this we sample following to the process :\n",
    "- We sample $X$ according to $G(x)$ and $U$ according to a unifrom distrbituion in $[0,1]$\n",
    "- if $M(X)^{1/T} < U$ we accept the sample, else we reject the sample and go back to step 1\n",
    "\n",
    "We then have :\n",
    "$$\\mathbb{P}(X = x) \\propto G(x)M(x)^{1/T}$$"
   ]
  },
  {
   "cell_type": "markdown",
   "metadata": {},
   "source": [
    "## SS3 prediction"
   ]
  },
  {
   "cell_type": "code",
   "execution_count": 16,
   "metadata": {
    "scrolled": true
   },
   "outputs": [
    {
     "data": {
      "text/plain": [
       "Model netsurfp2-50"
      ]
     },
     "execution_count": 16,
     "metadata": {},
     "output_type": "execute_result"
    }
   ],
   "source": [
    "model_ss3 = NetSurfP2(50, \"netsurfp2\")\n",
    "optimizer = optim.Adam(model_ss3.parameters(), lr=0.001)\n",
    "model_ss3.load_state_dict(torch.load(f\"{DATA}/secondary_structure/lstm_50feats.h5\"))\n",
    "model_ss3.eval()\n",
    "model_ss3 = model_ss3.to(\"cuda\")\n",
    "\n",
    "model_ss3"
   ]
  },
  {
   "cell_type": "markdown",
   "metadata": {},
   "source": [
    "## Data"
   ]
  },
  {
   "cell_type": "code",
   "execution_count": 17,
   "metadata": {},
   "outputs": [],
   "source": [
    "dataset = SequenceData(f\"{DATA}/{DATASET}\", dataset=\"full\")\n",
    "loader = DataLoader(dataset, batch_size = 100, \n",
    "                          shuffle = True)\n",
    "N, qv = dataset.raw_sequences.shape[1], dataset.raw_sequences.shape[2]"
   ]
  },
  {
   "cell_type": "code",
   "execution_count": 18,
   "metadata": {},
   "outputs": [],
   "source": [
    "from torch.distributions.one_hot_categorical import OneHotCategorical\n",
    "\n",
    "independant = np.zeros((dataset.raw_sequences.shape[1], dataset.raw_sequences.shape[2]))\n",
    "for w, v in zip(dataset.weights,dataset.raw_sequences):\n",
    "    independant += w*v\n",
    "independant /= np.sum(dataset.weights)\n",
    "independant = torch.FloatTensor(independant).to(device)\n",
    "\n",
    "independant_sampler = OneHotCategorical(independant)"
   ]
  },
  {
   "cell_type": "code",
   "execution_count": 19,
   "metadata": {},
   "outputs": [],
   "source": [
    "pots = np.zeros((dataset.raw_sequences.shape[1], dataset.raw_sequences.shape[2]))\n",
    "for w, v in zip(dataset.weights,dataset.raw_sequences):\n",
    "    pots += w*v\n",
    "pots /= np.sum(dataset.weights)\n",
    "pots = pots.T\n",
    "pots = torch.FloatTensor((pots.T-np.mean(pots, 1)).T).reshape(-1).to(device)"
   ]
  },
  {
   "cell_type": "markdown",
   "metadata": {},
   "source": [
    "## RBM"
   ]
  },
  {
   "cell_type": "code",
   "execution_count": 20,
   "metadata": {},
   "outputs": [
    {
     "data": {
      "image/png": "[encoded data removed]",
      "text/plain": [
       "<Figure size 432x288 with 1 Axes>"
      ]
     },
     "metadata": {},
     "output_type": "display_data"
    },
    {
     "name": "stdout",
     "output_type": "stream",
     "text": [
      "Iteration 0 : 0.004792404361069202\n",
      "Iteration 200 : 3.2124345841875765\n",
      "Iteration 400 : 12.83503515078337\n",
      "Iteration 600 : 29.430040588515112\n",
      "Iteration 800 : 54.27352224840433\n",
      "Iteration 1000 : 89.42802830590517\n",
      "Iteration 1200 : 140.5916180665663\n",
      "Iteration 1400 : 216.40690044118674\n",
      "Iteration 1600 : 313.16912106229574\n",
      "Iteration 1800 : 427.01079908563406\n",
      "Estimated Z : 15.385\n"
     ]
    },
    {
     "data": {
      "text/plain": [
       "15.385404586791992"
      ]
     },
     "execution_count": 20,
     "metadata": {},
     "output_type": "execute_result"
    }
   ],
   "source": [
    "visible_layers = [\"sequence\"]\n",
    "hidden_layers = [\"hidden\"]\n",
    "\n",
    "v = OneHotLayer(pots, N=N, q=qv, name=\"sequence\")\n",
    "h = GaussianLayer(N=200, name=\"hidden\")\n",
    "\n",
    "E = [(v.name, h.name)]\n",
    "\n",
    "model1 = MRF(layers = {v.name: v,\n",
    "                    h.name: h},\n",
    "            edges = E,\n",
    "            name = \"\")\n",
    "\n",
    "for visible in visible_layers:\n",
    "    edge = model1.get_edge(visible, \"hidden\")\n",
    "    \n",
    "model1.load(f\"{DATA}/{DATASET}/weights/seq-reg-200_630.h5\")\n",
    "model1.ais(n_inter = 2000, verbose = True)"
   ]
  },
  {
   "cell_type": "markdown",
   "metadata": {},
   "source": [
    "## Rejection Sampling"
   ]
  },
  {
   "cell_type": "code",
   "execution_count": 21,
   "metadata": {},
   "outputs": [],
   "source": [
    "from random import random\n",
    "\n",
    "def fillna(x, value = 0):\n",
    "    idx = torch.where(x!=x)\n",
    "    x[idx] = 0\n",
    "    return x\n",
    "\n",
    "def local_rejection_sampling(model, matcher, n_samples, T, visible_layers = None, hidden_layers = None):\n",
    "    samples = []\n",
    "    while(True):\n",
    "        for batch_idx, data in enumerate(loader):\n",
    "            print(f\"{len(samples)}/{n_samples} [{int(100*len(samples)/n_samples)}%]\", end=\"\\r\")\n",
    "            if model == \"natural\":\n",
    "                x = data[0].permute(0,2,1)\n",
    "            elif model == \"independant\":\n",
    "                x = independant_sampler.sample_n(200).permute(0,2,1)\n",
    "            else:\n",
    "                d_0 = {k: v.float().permute(0, 2, 1).to(device) for k, v in zip(LAYERS_NAME, data[:1]) if k in visible_layers}\n",
    "                batch_size, q, N = d_0[\"sequence\"].size()\n",
    "                _, d_f = model.gibbs_sampling(d_0, visible_layers, hidden_layers, k=30)\n",
    "                x = d_f[\"sequence\"]\n",
    "                \n",
    "            m = matcher(Matching(x),30).detach().clamp(0,1)\n",
    "            u = torch.arange(30).reshape(1,1,-1)\n",
    "            #X = scaler.transform((m*u).sum(-1))\n",
    "            #X_max = torch.tensor(np.max(np.abs(X), 1)/STD)\n",
    "            \n",
    "            X = (m*u).sum(-1)\n",
    "            gm_scores = torch.zeros(*X.size())\n",
    "            for k,gm in enumerate(gms):\n",
    "                X_ = X[:,k:k+1]\n",
    "                X_[:,0] = fillna(X_[:,0],0)\n",
    "                gm_scores[:,k] = torch.tensor(gm.score_samples(X_))\n",
    "            mx = gm_scores.min(-1).values.clamp(-15,0)\n",
    "            #mx = torch.log(1-torch.pow(torch.erf(X_max/np.sqrt(2)),len_pat))\n",
    "            for x_, mx_ in zip(x, mx):\n",
    "                if len(samples) >= n_samples:\n",
    "                    return samples\n",
    "                thr = np.exp(mx_/T)\n",
    "                if random() < thr:\n",
    "                    samples.append((x_, -mx_))\n",
    "    return samples\n",
    "\n",
    "def rejection_sampling(model, matcher, n_samples, T, visible_layers = None, hidden_layers = None):\n",
    "    samples = []\n",
    "    while(True):\n",
    "        for batch_idx, data in enumerate(loader):\n",
    "            print(f\"{len(samples)}/{n_samples} [{int(100*len(samples)/n_samples)}%]\", end=\"\\r\")\n",
    "            if model == \"natural\":\n",
    "                x = data[0].permute(0,2,1)\n",
    "            elif model == \"independant\":\n",
    "                x = independant_sampler.sample_n(200).permute(0,2,1)\n",
    "            else:\n",
    "                d_0 = {k: v.float().permute(0, 2, 1).to(device) for k, v in zip(LAYERS_NAME, data[:1]) if k in visible_layers}\n",
    "                batch_size, q, N = d_0[\"sequence\"].size()\n",
    "                _, d_f = model.gibbs_sampling(d_0, visible_layers, hidden_layers, k=30)\n",
    "                x = d_f[\"sequence\"]\n",
    "            m = matcher(Matching(x))\n",
    "            mx = (m.M/m.ls).detach()\n",
    "            for x_, mx_ in zip(x, mx):\n",
    "                if len(samples) >= n_samples:\n",
    "                    return samples\n",
    "                thr = np.exp(mx_/T)\n",
    "                if random() < thr:\n",
    "                    samples.append((x_, -mx_))"
   ]
  },
  {
   "cell_type": "code",
   "execution_count": 23,
   "metadata": {},
   "outputs": [],
   "source": [
    "seq_hmm = torch.tensor(dataset[0][3]).t()[20:]\n",
    "torch.save(seq_hmm, f\"{DATA}/{DATASET}/hmm.pt\")\n",
    "_, size = seq_hmm.size()\n",
    "\n",
    "n_patterns, c_patterns, _ =  pickle.load(open(f\"{DATA}/{DATASET}/patterns.pkl\",\"rb\"))\n",
    "regexes = []\n",
    "for x in n_patterns:\n",
    "    if len(x):\n",
    "        regexes.append([(i,None,None) for i in x])\n",
    "size = 150\n",
    "Q = np.ones((3, size+1, size+1)) * (-np.inf)\n",
    "e = size\n",
    "for i in range(size+1):\n",
    "    Q[:3, i, i+1:] = 0\n",
    "Q = Q.reshape(1, *Q.shape)\n",
    "\n",
    "ss_hmm = pickle.load(open(f\"{DATA}/{DATASET}/ss_profile.pkl\", \"rb\"))\n",
    "seq_hmm = torch.load(f\"{DATA}/{DATASET}/hmm.pt\")\n",
    "\n",
    "#matcher = PatternMatchingLoss(model_ss3, pattern = regexes[1], Q = Q ,\n",
    "#                          seq_hmm = seq_hmm, ss_hmm = ss_hmm, \n",
    "#                          size = size, name = c_patterns[1])\n",
    "matcher = LocalPatternMatchingLoss(model_ss3, pattern = regexes[0], Q = Q, \n",
    "                                   seq_hmm = seq_hmm, ss_hmm = ss_hmm, \n",
    "                                   size = size, name = c_patterns[0])"
   ]
  },
  {
   "cell_type": "code",
   "execution_count": 24,
   "metadata": {},
   "outputs": [
    {
     "name": "stderr",
     "output_type": "stream",
     "text": [
      "575it [06:45,  1.42it/s]\n"
     ]
    }
   ],
   "source": [
    "L_ = []\n",
    "for batch_idx, data in tqdm(enumerate(loader)):\n",
    "    x = data[0].permute(0,2,1)\n",
    "    L = matcher(Matching(x), 30)\n",
    "    L_.append(L.detach())\n",
    "L_ = torch.cat(L_,0)"
   ]
  },
  {
   "cell_type": "code",
   "execution_count": 26,
   "metadata": {},
   "outputs": [],
   "source": [
    "from sklearn.neighbors import KernelDensity\n",
    "\n",
    "u = torch.arange(30).reshape(1,1,-1)\n",
    "X = (L_*u).sum(-1)\n",
    "\n",
    "gms = [KernelDensity(bandwidth=0.5, algorithm='auto', kernel='gaussian').fit(X[:,i:i+1]) for i in range(7)]"
   ]
  },
  {
   "cell_type": "code",
   "execution_count": 27,
   "metadata": {},
   "outputs": [
    {
     "ename": "RuntimeError",
     "evalue": "The size of tensor a (30) must match the size of tensor b (15) at non-singleton dimension 2",
     "output_type": "error",
     "traceback": [
      "\u001b[0;31m---------------------------------------------------------------------------\u001b[0m",
      "\u001b[0;31mRuntimeError\u001b[0m                              Traceback (most recent call last)",
      "\u001b[0;32m<ipython-input-27-7d26bf2d5a7e>\u001b[0m in \u001b[0;36m<module>\u001b[0;34m\u001b[0m\n\u001b[1;32m      3\u001b[0m \u001b[0;34m\u001b[0m\u001b[0m\n\u001b[1;32m      4\u001b[0m \u001b[0mu\u001b[0m \u001b[0;34m=\u001b[0m \u001b[0mtorch\u001b[0m\u001b[0;34m.\u001b[0m\u001b[0marange\u001b[0m\u001b[0;34m(\u001b[0m\u001b[0;36m15\u001b[0m\u001b[0;34m)\u001b[0m\u001b[0;34m.\u001b[0m\u001b[0mreshape\u001b[0m\u001b[0;34m(\u001b[0m\u001b[0;36m1\u001b[0m\u001b[0;34m,\u001b[0m\u001b[0;36m1\u001b[0m\u001b[0;34m,\u001b[0m\u001b[0;36m15\u001b[0m\u001b[0;34m)\u001b[0m\u001b[0;34m\u001b[0m\u001b[0;34m\u001b[0m\u001b[0m\n\u001b[0;32m----> 5\u001b[0;31m \u001b[0mX\u001b[0m \u001b[0;34m=\u001b[0m \u001b[0;34m(\u001b[0m\u001b[0mL_\u001b[0m\u001b[0;34m*\u001b[0m\u001b[0mu\u001b[0m\u001b[0;34m)\u001b[0m\u001b[0;34m.\u001b[0m\u001b[0msum\u001b[0m\u001b[0;34m(\u001b[0m\u001b[0;34m-\u001b[0m\u001b[0;36m1\u001b[0m\u001b[0;34m)\u001b[0m\u001b[0;34m\u001b[0m\u001b[0;34m\u001b[0m\u001b[0m\n\u001b[0m\u001b[1;32m      6\u001b[0m \u001b[0;34m\u001b[0m\u001b[0m\n\u001b[1;32m      7\u001b[0m \u001b[0mscaler\u001b[0m \u001b[0;34m=\u001b[0m \u001b[0mRobustScaler\u001b[0m\u001b[0;34m(\u001b[0m\u001b[0;34m)\u001b[0m\u001b[0;34m\u001b[0m\u001b[0;34m\u001b[0m\u001b[0m\n",
      "\u001b[0;31mRuntimeError\u001b[0m: The size of tensor a (30) must match the size of tensor b (15) at non-singleton dimension 2"
     ]
    }
   ],
   "source": [
    "from sklearn.preprocessing import StandardScaler, RobustScaler\n",
    "from random import random\n",
    "\n",
    "u = torch.arange(15).reshape(1,1,15)\n",
    "X = (L_*u).sum(-1)\n",
    "\n",
    "scaler = RobustScaler()\n",
    "scaler.fit(X)\n",
    "X_n = scaler.transform(X)\n",
    "\n",
    "STD = 1/(2**0.5*torch.erfinv(torch.tensor(0.5))).item()\n",
    "X_max = torch.tensor(np.max(np.abs(X_n), 1)/STD)\n",
    "\n",
    "len_pat = X_n.shape[-1]\n",
    "print(f\"std = {STD:.4f} || len pattern = {len_pat}\")"
   ]
  },
  {
   "cell_type": "code",
   "execution_count": null,
   "metadata": {
    "scrolled": true
   },
   "outputs": [
    {
     "name": "stdout",
     "output_type": "stream",
     "text": [
      "850/2000 [42%]\r"
     ]
    }
   ],
   "source": [
    "all_samples_hist = []\n",
    "all_samples = []\n",
    "Ts = [0.2]\n",
    "for T in Ts:\n",
    "    start = time.time()\n",
    "    samples = local_rejection_sampling(model1, matcher, 2000, T, visible_layers, hidden_layers)\n",
    "    all_samples_hist.append([x[1] for x in samples])\n",
    "    all_samples.append([x[0] for x in samples])\n",
    "    print(f\"T = {T} || Samples/seconds : {int(2000/(time.time()-start))}\")"
   ]
  },
  {
   "cell_type": "code",
   "execution_count": null,
   "metadata": {},
   "outputs": [],
   "source": [
    "all_samples = [torch.cat([s_.view(1, *s_.size()) for s_ in s],0) for s in all_samples]\n",
    "for T, s in zip(Ts, all_samples):\n",
    "    torch.save(s, f\"{DATA}/{DATASET}/gen_data/rbm_local_rejection_sampling_T_{T}.pt\")\n",
    "    #torch.save(s, f\"{DATA}/{DATASET}/gen_data/ind_local_rejection_sampling_T_{T}.pt\")\n",
    "    #torch.save(s, f\"{DATA}/{DATASET}/gen_data/natural.pt\")"
   ]
  }
 ],
 "metadata": {
  "kernelspec": {
   "display_name": "Python 3",
   "language": "python",
   "name": "python3"
  },
  "language_info": {
   "codemirror_mode": {
    "name": "ipython",
    "version": 3
   },
   "file_extension": ".py",
   "mimetype": "text/x-python",
   "name": "python",
   "nbconvert_exporter": "python",
   "pygments_lexer": "ipython3",
   "version": "3.8.3"
  }
 },
 "nbformat": 4,
 "nbformat_minor": 4
}
