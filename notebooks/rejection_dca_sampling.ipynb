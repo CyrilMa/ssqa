{
 "cells": [
  {
   "cell_type": "code",
   "execution_count": 2,
   "metadata": {},
   "outputs": [],
   "source": [
    "import sys\n",
    "import warnings\n",
    "from config import *\n",
    "\n",
    "DATASET = \"PF00397\"\n",
    "sys.path.append(f\"{ROOT}\")\n",
    "\n",
    "warnings.filterwarnings(\"ignore\")"
   ]
  },
  {
   "cell_type": "code",
   "execution_count": 3,
   "metadata": {},
   "outputs": [
    {
     "data": {
      "text/plain": [
       "True"
      ]
     },
     "execution_count": 3,
     "metadata": {},
     "output_type": "execute_result"
    }
   ],
   "source": [
    "import numpy as np\n",
    "import pandas as pd\n",
    "import time\n",
    "import pickle\n",
    "from tqdm import tqdm\n",
    "\n",
    "import matplotlib.pyplot as plt\n",
    "import seaborn as sns\n",
    "\n",
    "import torch\n",
    "from torch.utils.data import DataLoader\n",
    "from torch import nn, optim\n",
    "from torch.nn import functional as F\n",
    "\n",
    "from ss_inference.data import SecondaryStructureRawDataset\n",
    "from ss_inference.model import NetSurfP2\n",
    "from ss_inference.utils import *\n",
    "\n",
    "from config import DATA\n",
    "from pgm.data import SequenceData\n",
    "from pgm.layers import GaussianLayer, OneHotLayer\n",
    "from pgm.edge import Edge\n",
    "from pgm.model import MRF\n",
    "\n",
    "from pattern_matching import PatternMatchingLoss\n",
    "\n",
    "torch.cuda.is_available()"
   ]
  },
  {
   "cell_type": "markdown",
   "metadata": {},
   "source": [
    "## DCA Rejection Sampling\n",
    "\n",
    "https://en.wikipedia.org/wiki/Rejection_sampling\n",
    "\n",
    "### Independant model\n",
    "\n",
    "Let's consider an independant model such that $E(x) = \\sum_i g_i(x_i) = g(x)$. We want to extend it to include secondary structure QA. We consider $r$ a pattern a $R$ the set of secondary structure matching pattern $r$.\n",
    "$$M(x) = \\sum_{s \\in R} \\mathbb P(s|x)$$\n",
    "\n",
    "Then $m(x) = - \\log(M(x))$. We can then establish that $E(x) = g(x) + m(x)$. If we want to weight the two value we set $E$ to be $E(x) = g(x) + \\frac{1}{T} m(x)$. We then have :\n",
    "\n",
    "$$\\mathbb{P}(x) = \\frac{1}{Z} G(x)M(x)^{1/T}$$\n",
    "\n",
    "How do we sample according to this probability ? Sampling with G(x) is easy but $M(x)$ is not invertible. We rely on rejection sampling.\n",
    "\n",
    "To do this we sample following to the process :\n",
    "- We sample $X$ according to $G(x)$ and $U$ according to a unifrom distrbituion in $[0,1]$\n",
    "- if $M(X)^{1/T} < U$ we accept the sample, else we reject the sample and go back to step 1\n",
    "\n",
    "We then have :\n",
    "$$\\mathbb{P}(X = x) \\propto G(x)M(x)^{1/T}$$"
   ]
  },
  {
   "cell_type": "code",
   "execution_count": 2,
   "metadata": {},
   "outputs": [],
   "source": [
    "batch_size = 32\n",
    "q = 21\n",
    "k = 10\n",
    "lamb_l1b = 0.025"
   ]
  },
  {
   "cell_type": "markdown",
   "metadata": {},
   "source": [
    "## SS3 prediction"
   ]
  },
  {
   "cell_type": "code",
   "execution_count": 18,
   "metadata": {
    "scrolled": true
   },
   "outputs": [
    {
     "data": {
      "text/plain": [
       "LSTMNet(\n",
       "  (conv1): ResBlock(\n",
       "    (conv_1): ConvBlock(\n",
       "      (conv): Conv1d(50, 32, kernel_size=(129,), stride=(1,), padding=(64,))\n",
       "      (activation): LeakyReLU(negative_slope=0.2)\n",
       "      (normalization): BatchNorm1d(32, eps=1e-05, momentum=0.1, affine=True, track_running_stats=True)\n",
       "    )\n",
       "    (conv2): ConvBlock(\n",
       "      (conv): Conv1d(50, 32, kernel_size=(1,), stride=(1,))\n",
       "      (normalization): BatchNorm1d(32, eps=1e-05, momentum=0.1, affine=True, track_running_stats=True)\n",
       "    )\n",
       "  )\n",
       "  (conv2): ResBlock(\n",
       "    (conv_1): ConvBlock(\n",
       "      (conv): Conv1d(32, 32, kernel_size=(257,), stride=(1,), padding=(128,))\n",
       "      (activation): LeakyReLU(negative_slope=0.2)\n",
       "      (normalization): BatchNorm1d(32, eps=1e-05, momentum=0.1, affine=True, track_running_stats=True)\n",
       "    )\n",
       "    (conv2): ConvBlock(\n",
       "      (conv): Conv1d(32, 32, kernel_size=(1,), stride=(1,))\n",
       "      (normalization): BatchNorm1d(32, eps=1e-05, momentum=0.1, affine=True, track_running_stats=True)\n",
       "    )\n",
       "  )\n",
       "  (lstm1): LSTM(82, 1024, bidirectional=True)\n",
       "  (lstm2): LSTM(2048, 1024, bidirectional=True)\n",
       "  (conv_other): ConvBlock(\n",
       "    (conv): Conv1d(2048, 9, kernel_size=(1,), stride=(1,))\n",
       "  )\n",
       "  (conv_ss8): ConvBlock(\n",
       "    (conv): Conv1d(2048, 8, kernel_size=(1,), stride=(1,))\n",
       "  )\n",
       "  (conv_ss3): ConvBlock(\n",
       "    (conv): Conv1d(2048, 3, kernel_size=(1,), stride=(1,))\n",
       "  )\n",
       ")"
      ]
     },
     "execution_count": 18,
     "metadata": {},
     "output_type": "execute_result"
    }
   ],
   "source": [
    "N, qx, qs, h = 128, 50, 3, 8\n",
    "\n",
    "model_ss3 = NetSurfP2(qx)\n",
    "optimizer = optim.Adam(model_ss3.parameters(), lr=0.001)\n",
    "model_ss3.load_state_dict(torch.load(f\"{DATA}/secondary_structure/lstm_50feats.h5\"))\n",
    "model_ss3.eval()\n",
    "model_ss3 = model_ss3.to(device)\n",
    "\n",
    "model_ss3"
   ]
  },
  {
   "cell_type": "markdown",
   "metadata": {},
   "source": [
    "## Data"
   ]
  },
  {
   "cell_type": "code",
   "execution_count": 5,
   "metadata": {},
   "outputs": [],
   "source": [
    "train_dataset = SequenceData(f\"{DATA}/{DATASET}\", dataset=\"train\")\n",
    "train_loader = DataLoader(train_dataset, batch_size = batch_size, \n",
    "                          shuffle = True, drop_last = True)\n",
    "\n",
    "val_dataset = SequenceData(f\"{DATA}/{DATASET}\", dataset=\"val\")\n",
    "val_loader = DataLoader(val_dataset, batch_size =100, drop_last = True)\n",
    "\n",
    "N, qv = train_dataset.raw_sequences.shape[1], train_dataset.raw_sequences.shape[2]"
   ]
  },
  {
   "cell_type": "code",
   "execution_count": 6,
   "metadata": {},
   "outputs": [],
   "source": [
    "independant = np.zeros((train_dataset.raw_sequences.shape[1], train_dataset.raw_sequences.shape[2]))\n",
    "for w, v in zip(train_dataset.weights,train_dataset.raw_sequences):\n",
    "    independant += w*v\n",
    "independant /= np.sum(train_dataset.weights)\n",
    "independant = torch.FloatTensor(independant).to(device)"
   ]
  },
  {
   "cell_type": "code",
   "execution_count": 7,
   "metadata": {},
   "outputs": [],
   "source": [
    "from torch.distributions.one_hot_categorical import OneHotCategorical\n",
    "\n",
    "independant_sampler = OneHotCategorical(independant)"
   ]
  },
  {
   "cell_type": "code",
   "execution_count": 8,
   "metadata": {},
   "outputs": [],
   "source": [
    "pots = np.zeros((train_dataset.raw_sequences.shape[1], train_dataset.raw_sequences.shape[2]))\n",
    "for w, v in zip(train_dataset.weights,train_dataset.raw_sequences):\n",
    "    pots += w*v\n",
    "pots /= np.sum(train_dataset.weights)\n",
    "pots = pots.T\n",
    "pots = torch.FloatTensor((pots.T-np.mean(pots, 1)).T).reshape(-1).to(device)"
   ]
  },
  {
   "cell_type": "markdown",
   "metadata": {},
   "source": [
    "## RBM"
   ]
  },
  {
   "cell_type": "code",
   "execution_count": 9,
   "metadata": {},
   "outputs": [
    {
     "data": {
      "image/png": "[encoded data removed]",
      "text/plain": [
       "<Figure size 432x288 with 1 Axes>"
      ]
     },
     "metadata": {},
     "output_type": "display_data"
    }
   ],
   "source": [
    "visible_layers = [\"sequence\"]\n",
    "hidden_layers = [\"hidden\"]\n",
    "\n",
    "v = OneHotLayer(pots, N=N, q=qv, name=\"sequence\")\n",
    "h = GaussianLayer(N=200, name=\"hidden\")\n",
    "\n",
    "E = [(v.name, h.name)]\n",
    "\n",
    "model1 = MRF(layers={v.name: v,\n",
    "                    h.name: h},\n",
    "            edges=E)\n",
    "\n",
    "for visible in visible_layers:\n",
    "    edge = model1.get_edge(visible, \"hidden\")\n",
    "    \n",
    "model1.load(f\"{DATA}/{DATASET}/weights/seq-reg-200_630.h5\")\n",
    "model1.ais()\n",
    "\n",
    "optimizer = optim.Adam(model1.parameters(), lr=0.001)"
   ]
  },
  {
   "cell_type": "markdown",
   "metadata": {},
   "source": [
    "## Rejection Sampling"
   ]
  },
  {
   "cell_type": "code",
   "execution_count": 10,
   "metadata": {},
   "outputs": [
    {
     "data": {
      "text/plain": [
       "torch.Size([30, 60])"
      ]
     },
     "execution_count": 10,
     "metadata": {},
     "output_type": "execute_result"
    }
   ],
   "source": [
    "hmm = torch.tensor(train_dataset[0][3]).t()[20:]\n",
    "hmm.shape"
   ]
  },
  {
   "cell_type": "code",
   "execution_count": 11,
   "metadata": {},
   "outputs": [],
   "source": [
    "torch.save(hmm, f\"{DATA}/{DATASET}/hmm.pt\")"
   ]
  },
  {
   "cell_type": "code",
   "execution_count": 12,
   "metadata": {},
   "outputs": [],
   "source": [
    "HMM = torch.tensor(train_dataset[0][3]).t()[20:]\n",
    "_, size = HMM.size()"
   ]
  },
  {
   "cell_type": "code",
   "execution_count": 16,
   "metadata": {},
   "outputs": [],
   "source": [
    "from random import random\n",
    "\n",
    "def rejection_sampling(model, matcher, n_samples, T, visible_layers = None, hidden_layers = None):\n",
    "    samples = []\n",
    "    while(True):\n",
    "        for batch_idx, data in enumerate(train_loader):\n",
    "            if model == \"natural\":\n",
    "                x = data[0].permute(0,2,1)\n",
    "            elif model == \"independant\":\n",
    "                x = independant_sampler.sample_n(n_samples).permute(0,2,1)\n",
    "            else:\n",
    "                d_0 = {k: v.float().permute(0, 2, 1).to(device) for k, v in zip(LAYERS_NAME, data[:-1]) if k in visible_layers}\n",
    "                batch_size, q, N = d_0[\"sequence\"].size()\n",
    "                _, d_f = model.gibbs_sampling(d_0, visible_layers, hidden_layers, k=30)\n",
    "                x = d_f[\"sequence\"]\n",
    "            mx = matcher(x).detach()\n",
    "            for x_, mx_ in zip(x, mx):\n",
    "                if len(samples) >= n_samples:\n",
    "                    return samples\n",
    "                thr = np.exp(20*mx_/T)\n",
    "#                 print(thr)\n",
    "                if random() < thr:\n",
    "                    samples.append((x_, -mx_))"
   ]
  },
  {
   "cell_type": "code",
   "execution_count": 19,
   "metadata": {},
   "outputs": [],
   "source": [
    "inf = float(\"Inf\")\n",
    "n_patterns, c_patterns, _ =  pickle.load(open(f\"{DATA}/{DATASET}/patterns.pkl\",\"rb\"))\n",
    "ss_hmm = torch.tensor(pickle.load(open(f\"{DATA}/{DATASET}/ss_profile.pkl\",\"rb\")).T)\n",
    "regexes = []\n",
    "for x in n_patterns:\n",
    "    if len(x):\n",
    "        regexes.append([(i,None,None) for i in x])\n",
    "# Q,_,_ = pickle.load(open(f\"{DATA}/secondary_structure/statistics.pkl\", \"rb\"))\n",
    "Q = np.ones((4, size+1, size+1)) * (-np.inf)\n",
    "e = 30\n",
    "for i in range(size - e):\n",
    "    Q[:3, i, i:i+e] = 0\n",
    "    Q[3, i, i] = 0\n",
    "Q = Q.reshape(1, *Q.shape)\n",
    "\n",
    "matcher = PatternMatchingLoss(model_ss3, pattern = regexes[0], Q = Q, seq_hmm = HMM, ss_hmm = ss_hmm, size = size)"
   ]
  },
  {
   "cell_type": "code",
   "execution_count": null,
   "metadata": {
    "scrolled": true
   },
   "outputs": [],
   "source": [
    "all_samples_hist = []\n",
    "all_samples = []\n",
    "Ts = [3, 5, 10, 20, 30, 60, 100, 10000]\n",
    "for T in Ts:\n",
    "    start = time.time()\n",
    "    samples = rejection_sampling(model1, matcher, 2000, T, visible_layers, hidden_layers)\n",
    "    all_samples_hist.append([x[1] for x in samples])\n",
    "    all_samples.append([x[0] for x in samples])\n",
    "    print(f\"T = {T} || Samples/seconds : {int(2000/(time.time()-start))}\")"
   ]
  },
  {
   "cell_type": "code",
   "execution_count": 42,
   "metadata": {},
   "outputs": [],
   "source": [
    "all_samples = [torch.cat([s_.view(1, *s_.size()) for s_ in s],0) for s in all_samples]"
   ]
  },
  {
   "cell_type": "code",
   "execution_count": 43,
   "metadata": {},
   "outputs": [],
   "source": [
    "for T, s in zip(Ts, all_samples):\n",
    "    torch.save(s, f\"{DATA}/{DATASET}/gen_data/rbm_rejection_sampling_T_{T}.pt\")\n",
    "#     torch.save(s, f\"{DATA}/{DATASET}/gen_data/ind_rejection_sampling_T_{T}.pt\")\n",
    "#     torch.save(s, f\"{DATA}/{DATASET}/gen_data/natural.pt\")"
   ]
  },
  {
   "cell_type": "code",
   "execution_count": 21,
   "metadata": {
    "scrolled": true
   },
   "outputs": [
    {
     "data": {
      "image/png": "[encoded data removed]",
      "text/plain": [
       "<Figure size 432x288 with 1 Axes>"
      ]
     },
     "metadata": {
      "needs_background": "light"
     },
     "output_type": "display_data"
    },
    {
     "data": {
      "image/png": "[encoded data removed]",
      "text/plain": [
       "<Figure size 432x288 with 1 Axes>"
      ]
     },
     "metadata": {
      "needs_background": "light"
     },
     "output_type": "display_data"
    },
    {
     "data": {
      "image/png": "[encoded data removed]",
      "text/plain": [
       "<Figure size 432x288 with 1 Axes>"
      ]
     },
     "metadata": {
      "needs_background": "light"
     },
     "output_type": "display_data"
    },
    {
     "data": {
      "image/png": "[encoded data removed]",
      "text/plain": [
       "<Figure size 432x288 with 1 Axes>"
      ]
     },
     "metadata": {
      "needs_background": "light"
     },
     "output_type": "display_data"
    },
    {
     "data": {
      "image/png": "[encoded data removed]",
      "text/plain": [
       "<Figure size 432x288 with 1 Axes>"
      ]
     },
     "metadata": {
      "needs_background": "light"
     },
     "output_type": "display_data"
    },
    {
     "data": {
      "image/png": "[encoded data removed]",
      "text/plain": [
       "<Figure size 432x288 with 1 Axes>"
      ]
     },
     "metadata": {
      "needs_background": "light"
     },
     "output_type": "display_data"
    },
    {
     "data": {
      "image/png": "[encoded data removed]",
      "text/plain": [
       "<Figure size 432x288 with 1 Axes>"
      ]
     },
     "metadata": {
      "needs_background": "light"
     },
     "output_type": "display_data"
    },
    {
     "data": {
      "image/png": "[encoded data removed]",
      "text/plain": [
       "<Figure size 432x288 with 1 Axes>"
      ]
     },
     "metadata": {
      "needs_background": "light"
     },
     "output_type": "display_data"
    }
   ],
   "source": [
    "pdfs = []\n",
    "x = np.linspace(-20, 20, 100)\n",
    "\n",
    "for T,y in zip(Ts,all_samples_hist):\n",
    "    mu, std = np.log(np.array(y)).mean(0), np.log(np.array(y)).std(0)\n",
    "#     a,b = torch.tensor((mu-mini)**2 / std), torch.tensor(mu/std)\n",
    "    pdf = (np.exp(-(np.log(x) - mu)**2 / (2 * std**2)) / (x * std * np.sqrt(2 * np.pi)))\n",
    "    pdfs.append(pdf)\n",
    "    plt.hist(y, bins = x)\n",
    "#     plt.plot(x, pdf)\n",
    "#     plt.xticks(np.linspace(-20, 0, 8), np.round(np.exp(np.linspace(-20, 0, 8)/T),3), rotation = 45)\n",
    "    plt.show()"
   ]
  },
  {
   "cell_type": "code",
   "execution_count": 19,
   "metadata": {},
   "outputs": [
    {
     "ename": "NameError",
     "evalue": "name 'pdfs' is not defined",
     "output_type": "error",
     "traceback": [
      "\u001b[0;31m---------------------------------------------------------------------------\u001b[0m",
      "\u001b[0;31mNameError\u001b[0m                                 Traceback (most recent call last)",
      "\u001b[0;32m<ipython-input-19-fa5ec0c49796>\u001b[0m in \u001b[0;36m<module>\u001b[0;34m\u001b[0m\n\u001b[0;32m----> 1\u001b[0;31m \u001b[0;32mfor\u001b[0m \u001b[0mpdf\u001b[0m \u001b[0;32min\u001b[0m \u001b[0mpdfs\u001b[0m\u001b[0;34m:\u001b[0m\u001b[0;34m\u001b[0m\u001b[0;34m\u001b[0m\u001b[0m\n\u001b[0m\u001b[1;32m      2\u001b[0m     \u001b[0mplt\u001b[0m\u001b[0;34m.\u001b[0m\u001b[0mplot\u001b[0m\u001b[0;34m(\u001b[0m\u001b[0mx\u001b[0m\u001b[0;34m,\u001b[0m \u001b[0mpdf\u001b[0m\u001b[0;34m)\u001b[0m\u001b[0;34m\u001b[0m\u001b[0;34m\u001b[0m\u001b[0m\n\u001b[1;32m      3\u001b[0m \u001b[0mplt\u001b[0m\u001b[0;34m.\u001b[0m\u001b[0mlegend\u001b[0m\u001b[0;34m(\u001b[0m\u001b[0mTs\u001b[0m\u001b[0;34m)\u001b[0m\u001b[0;34m\u001b[0m\u001b[0;34m\u001b[0m\u001b[0m\n\u001b[1;32m      4\u001b[0m \u001b[0mplt\u001b[0m\u001b[0;34m.\u001b[0m\u001b[0mshow\u001b[0m\u001b[0;34m(\u001b[0m\u001b[0;34m)\u001b[0m\u001b[0;34m\u001b[0m\u001b[0;34m\u001b[0m\u001b[0m\n",
      "\u001b[0;31mNameError\u001b[0m: name 'pdfs' is not defined"
     ]
    }
   ],
   "source": [
    "for pdf in pdfs:\n",
    "    plt.plot(x, pdf)\n",
    "plt.legend(Ts)\n",
    "plt.show()"
   ]
  }
 ],
 "metadata": {
  "kernelspec": {
   "display_name": "Python 3",
   "language": "python",
   "name": "python3"
  },
  "language_info": {
   "codemirror_mode": {
    "name": "ipython",
    "version": 3
   },
   "file_extension": ".py",
   "mimetype": "text/x-python",
   "name": "python",
   "nbconvert_exporter": "python",
   "pygments_lexer": "ipython3",
   "version": "3.8.3"
  }
 },
 "nbformat": 4,
 "nbformat_minor": 4
}
