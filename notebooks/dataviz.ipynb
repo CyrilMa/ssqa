{
 "cells": [
  {
   "cell_type": "code",
   "execution_count": 27,
   "metadata": {},
   "outputs": [],
   "source": [
    "import sys\n",
    "import warnings\n",
    "from config import *\n",
    "\n",
    "DATASET = \"PF07736\"\n",
    "STEPS = \"3\"\n",
    "sys.path.append(f\"{ROOT}\")\n",
    "\n",
    "warnings.filterwarnings(\"ignore\")"
   ]
  },
  {
   "cell_type": "code",
   "execution_count": 2,
   "metadata": {
    "ExecuteTime": {
     "end_time": "2020-02-27T13:51:50.714825Z",
     "start_time": "2020-02-27T13:51:49.859930Z"
    }
   },
   "outputs": [],
   "source": [
    "import numpy as np\n",
    "import pandas as pd\n",
    "import random\n",
    "import pickle\n",
    "from tqdm import tqdm\n",
    "\n",
    "import netsurfp2 as nsp2\n",
    "import matplotlib.pyplot as plt\n",
    "\n",
    "from torch.utils.data import DataLoader\n",
    "\n",
    "from ss_inference.data import SecondaryStructureRawDataset, collate_sequences\n",
    "from ss_inference.model import NetSurfP2\n",
    "\n",
    "from pattern_matching.utils import *\n",
    "from pattern_matching.data_extraction import *"
   ]
  },
  {
   "cell_type": "markdown",
   "metadata": {},
   "source": [
    "## PFAM sequence extraction"
   ]
  },
  {
   "cell_type": "code",
   "execution_count": 28,
   "metadata": {},
   "outputs": [
    {
     "name": "stderr",
     "output_type": "stream",
     "text": [
      "3934it [01:39, 39.40it/s]\n"
     ]
    }
   ],
   "source": [
    "if \"1\" in STEPS:\n",
    "    extract_data(f\"{DATA}/{DATASET}\", \"full.fasta\")\n",
    "\n",
    "if \"2\" in STEPS:\n",
    "    structfam = get_structures(DATA, DATASET)\n",
    "    pfam_seqs = pd.read_csv(f\"{DATA}/{DATASET}/sequences.csv\", index_col = 0, usecols = [0,2]).seq\n",
    "    pfam_seqs = {k.split(\"/\")[0]:v for k,v in pfam_seqs.items()}\n",
    "    patterns, secondary_structure, c_patterns, n_patterns = build_patterns(pfam_seqs, structfam)\n",
    "\n",
    "if \"3\" in STEPS:\n",
    "    dataset = SecondaryStructureRawDataset(f\"{DATA}/{DATASET}/hmm.pkl\")\n",
    "    loader = DataLoader(dataset, batch_size = 1,\n",
    "                            shuffle=False, drop_last=False, collate_fn = collate_sequences)\n",
    "\n",
    "    device = \"cuda\"\n",
    "\n",
    "    model_ss3 = NetSurfP2(50)\n",
    "    model_ss3 = model_ss3.to(device)\n",
    "    model_ss3.load_state_dict(torch.load(f\"{DATA}/secondary_structure/lstm_50feats.h5\"))\n",
    "\n",
    "    others, ss8, ss3 = model_ss3.predict(loader)\n",
    "    pickle.dump(ss3, open(f\"{DATA}/{DATASET}/ss3.pkl\", \"wb\"))\n",
    "    pickle.dump(ss8, open(f\"{DATA}/{DATASET}/ss8.pkl\", \"wb\"))\n",
    "    pickle.dump(others, open(f\"{DATA}/{DATASET}/others.pkl\", \"wb\"))\n"
   ]
  },
  {
   "cell_type": "code",
   "execution_count": 34,
   "metadata": {},
   "outputs": [
    {
     "data": {
      "text/plain": [
       "<ss_inference.data.SecondaryStructureRawDataset at 0x7f8d68850c70>"
      ]
     },
     "execution_count": 34,
     "metadata": {},
     "output_type": "execute_result"
    }
   ],
   "source": [
    "dataset"
   ]
  },
  {
   "cell_type": "code",
   "execution_count": 29,
   "metadata": {},
   "outputs": [],
   "source": [
    "pfam_aligned_seqs = pd.read_csv(f\"{DATA}/{DATASET}/sequences.csv\", index_col = 0, usecols = [0,1]).aligned_seq\n",
    "pfam_aligned_seqs = {k.split(\"/\")[0]:np.array([int(i in AA) for i in v]) for k,v in pfam_aligned_seqs.items()}"
   ]
  },
  {
   "cell_type": "code",
   "execution_count": 20,
   "metadata": {},
   "outputs": [
    {
     "data": {
      "text/plain": [
       "<ss_inference.data.SecondaryStructureRawDataset at 0x7f8d6733bc10>"
      ]
     },
     "execution_count": 20,
     "metadata": {},
     "output_type": "execute_result"
    }
   ],
   "source": [
    "dataset"
   ]
  },
  {
   "cell_type": "code",
   "execution_count": 51,
   "metadata": {},
   "outputs": [
    {
     "name": "stdout",
     "output_type": "stream",
     "text": [
      "\n",
      "profiles\n",
      "\n"
     ]
    },
    {
     "data": {
      "image/png": "[encoded data removed]",
      "text/plain": [
       "<Figure size 720x1440 with 1 Axes>"
      ]
     },
     "metadata": {
      "needs_background": "light"
     },
     "output_type": "display_data"
    },
    {
     "data": {
      "image/png": "[encoded data removed]",
      "text/plain": [
       "<Figure size 720x1440 with 1 Axes>"
      ]
     },
     "metadata": {
      "needs_background": "light"
     },
     "output_type": "display_data"
    },
    {
     "name": "stdout",
     "output_type": "stream",
     "text": [
      "\n",
      "extended profile\n",
      "\n"
     ]
    },
    {
     "data": {
      "image/png": "[encoded data removed]",
      "text/plain": [
       "<Figure size 720x1440 with 1 Axes>"
      ]
     },
     "metadata": {
      "needs_background": "light"
     },
     "output_type": "display_data"
    },
    {
     "data": {
      "image/png": "[encoded data removed]",
      "text/plain": [
       "<Figure size 720x1440 with 1 Axes>"
      ]
     },
     "metadata": {
      "needs_background": "light"
     },
     "output_type": "display_data"
    },
    {
     "name": "stdout",
     "output_type": "stream",
     "text": [
      "\n",
      "extended mean profile\n",
      "\n"
     ]
    },
    {
     "data": {
      "image/png": "[encoded data removed]",
      "text/plain": [
       "<Figure size 720x216 with 1 Axes>"
      ]
     },
     "metadata": {
      "needs_background": "light"
     },
     "output_type": "display_data"
    },
    {
     "data": {
      "image/png": "[encoded data removed]",
      "text/plain": [
       "<Figure size 720x216 with 1 Axes>"
      ]
     },
     "metadata": {
      "needs_background": "light"
     },
     "output_type": "display_data"
    },
    {
     "name": "stdout",
     "output_type": "stream",
     "text": [
      "\n",
      "extended argmax profile\n",
      "\n"
     ]
    },
    {
     "data": {
      "image/png": "[encoded data removed]",
      "text/plain": [
       "<Figure size 720x216 with 1 Axes>"
      ]
     },
     "metadata": {
      "needs_background": "light"
     },
     "output_type": "display_data"
    },
    {
     "data": {
      "image/png": "[encoded data removed]",
      "text/plain": [
       "<Figure size 720x216 with 1 Axes>"
      ]
     },
     "metadata": {
      "needs_background": "light"
     },
     "output_type": "display_data"
    }
   ],
   "source": [
    "N = 177\n",
    "aligned_seqs = np.zeros((len(secondary_structure), 100*(N//100+1), 3))\n",
    "\n",
    "weights=[]\n",
    "idxs = []\n",
    "for i, (k, (key, struct,secondary_number,pos_Y, weight)) in enumerate(secondary_structure.items()):\n",
    "    idx = np.where(pfam_aligned_seqs[key] > 0)[0]\n",
    "    idxs.append(idx)\n",
    "    aligned_seqs[i, idx[pos_Y]] = to_onehot(struct, (None,3))\n",
    "    weights.append(weight)\n",
    "weights = np.array(weights)\n",
    "\n",
    "aligned_seqs2 = np.zeros((len(secondary_structure), 100*(N//100+1), 3))\n",
    "aligned_seqs2 = aligned_seqs.copy()\n",
    "for k in range(len(secondary_structure)):\n",
    "    idx = np.where(aligned_seqs[k]>0)[0]\n",
    "    before, after, x, y, cursor = aligned_seqs[k,idx[0]], aligned_seqs[k,idx[1]], idx[0], idx[1], 2\n",
    "    for i in range(N):\n",
    "        if i < x:\n",
    "            aligned_seqs2[k,i] = before\n",
    "        elif i > y:\n",
    "            aligned_seqs2[k,i] = after\n",
    "        elif i == y and cursor < len(idx):\n",
    "            x = y; y = idx[cursor]; cursor += 1\n",
    "            before = after; after = aligned_seqs[k,y]\n",
    "        elif i == x:\n",
    "            ()\n",
    "        else:\n",
    "            t = (i-x)/(y-x)\n",
    "            aligned_seqs2[k,i] = t*after + (1-t)*before\n",
    "\n",
    " \n",
    "hotpoints = (aligned_seqs2*weights.reshape(-1,1,1)).sum(0).T\n",
    "N2 = hotpoints.shape[-1]\n",
    "hotpoints2 = np.zeros((3, (N2//100 + 1)*100))\n",
    "hotpoints2[:, :hotpoints.shape[-1]] = hotpoints\n",
    "idx = np.where(hotpoints2.sum(0)>0)[0]\n",
    "before, after, x, y, cursor = hotpoints2[:,idx[0]], hotpoints2[:,idx[1]], idx[0], idx[1], 2\n",
    "for i in range(N2//100 + 1):\n",
    "    if i < x:\n",
    "        hotpoints2[:,i] = before\n",
    "    elif i > y:\n",
    "        hotpoints2[:,i] = after\n",
    "    elif i == y and cursor < len(idx):\n",
    "        x = y; y = idx[cursor]; cursor += 1\n",
    "        before = after; after = hotpoints2[:,y]\n",
    "    elif i == x:\n",
    "        ()\n",
    "    else:\n",
    "        t = (i-x)/(y-x)\n",
    "        hotpoints2[:,i] = t*after + (1-t)*before\n",
    "    \n",
    "print(), print(\"profiles\"), print()\n",
    "idx = np.where(aligned_seqs.sum(0)>0)[0]\n",
    "for i in range(len(idx)//100 + 1):\n",
    "    plt.figure(figsize = (10,20))\n",
    "    x = aligned_seqs[:,idx][:, 100*i:100*(i+1)]\n",
    "    if x.shape[1] != 100:\n",
    "        x = np.pad(x, ((0,0),(0,100-x.shape[1]), (0,0)))\n",
    "    plt.imshow(x)\n",
    "    plt.show()\n",
    "    \n",
    "print(), print(\"extended profile\"), print()\n",
    "for i in range(N//100 + 1):\n",
    "    plt.figure(figsize = (10,20))\n",
    "    x = aligned_seqs2[:, 100*i:100*(i+1)]\n",
    "    plt.imshow(x)\n",
    "    plt.show()\n",
    "        \n",
    "        \n",
    "print(), print(\"extended mean profile\"), print()\n",
    "x = (1+hotpoints2)/(1+hotpoints2).sum(0)\n",
    "x[:,N:] = 0\n",
    "for i in range(N//100 + 1):\n",
    "    plt.figure(figsize = (10, 3))\n",
    "    plt.imshow(hotpoints2[:, 100*i:100*(i+1)])\n",
    "    plt.show() \n",
    "hotpoints2 = (1+hotpoints2)/(1+hotpoints2).sum(0)\n",
    "\n",
    "print(), print(\"extended argmax profile\"), print()\n",
    "x = to_onehot(hotpoints2.argmax(0), (None,3)).T\n",
    "x[:,N:] = 0\n",
    "for i in range(N//100 + 1):\n",
    "    plt.figure(figsize = (10, 3))\n",
    "    plt.imshow(x[:,100*i:100*(i+1)])\n",
    "    plt.show()   "
   ]
  },
  {
   "cell_type": "code",
   "execution_count": 26,
   "metadata": {},
   "outputs": [
    {
     "ename": "EOFError",
     "evalue": "Ran out of input",
     "output_type": "error",
     "traceback": [
      "\u001b[0;31m---------------------------------------------------------------------------\u001b[0m",
      "\u001b[0;31mEOFError\u001b[0m                                  Traceback (most recent call last)",
      "\u001b[0;32m<ipython-input-26-1901389b5b43>\u001b[0m in \u001b[0;36m<module>\u001b[0;34m\u001b[0m\n\u001b[0;32m----> 1\u001b[0;31m \u001b[0mss3\u001b[0m \u001b[0;34m=\u001b[0m \u001b[0mpickle\u001b[0m\u001b[0;34m.\u001b[0m\u001b[0mload\u001b[0m\u001b[0;34m(\u001b[0m\u001b[0mopen\u001b[0m\u001b[0;34m(\u001b[0m\u001b[0;34mf\"{DATA}/{DATASET}/ss3.pkl\"\u001b[0m\u001b[0;34m,\u001b[0m \u001b[0;34m\"rb\"\u001b[0m\u001b[0;34m)\u001b[0m\u001b[0;34m)\u001b[0m\u001b[0;34m\u001b[0m\u001b[0;34m\u001b[0m\u001b[0m\n\u001b[0m",
      "\u001b[0;31mEOFError\u001b[0m: Ran out of input"
     ]
    }
   ],
   "source": [
    "ss3 = pickle.load(open(f\"{DATA}/{DATASET}/ss3.pkl\", \"rb\"))\n"
   ]
  },
  {
   "cell_type": "code",
   "execution_count": 38,
   "metadata": {},
   "outputs": [],
   "source": [
    "aligned_ss3 = torch.zeros((len(dataset), 3, 100*(N//100+1)))\n",
    "\n",
    "for i, (k, s) in enumerate(zip(pfam_aligned_seqs.keys(), ss3)):\n",
    "    idx = np.where(pfam_aligned_seqs[k] > 0)[0]\n",
    "    aligned_ss3[i, :,idx] = s"
   ]
  },
  {
   "cell_type": "code",
   "execution_count": 46,
   "metadata": {},
   "outputs": [
    {
     "name": "stdout",
     "output_type": "stream",
     "text": [
      "\n",
      "extended mean profile\n",
      "\n"
     ]
    },
    {
     "data": {
      "image/png": "[encoded data removed]",
      "text/plain": [
       "<Figure size 720x216 with 1 Axes>"
      ]
     },
     "metadata": {
      "needs_background": "light"
     },
     "output_type": "display_data"
    },
    {
     "data": {
      "image/png": "[encoded data removed]",
      "text/plain": [
       "<Figure size 720x216 with 1 Axes>"
      ]
     },
     "metadata": {
      "needs_background": "light"
     },
     "output_type": "display_data"
    },
    {
     "name": "stdout",
     "output_type": "stream",
     "text": [
      "\n",
      "extended mean profile\n",
      "\n"
     ]
    },
    {
     "data": {
      "image/png": "[encoded data removed]",
      "text/plain": [
       "<Figure size 720x216 with 1 Axes>"
      ]
     },
     "metadata": {
      "needs_background": "light"
     },
     "output_type": "display_data"
    },
    {
     "data": {
      "image/png": "[encoded data removed]",
      "text/plain": [
       "<Figure size 720x216 with 1 Axes>"
      ]
     },
     "metadata": {
      "needs_background": "light"
     },
     "output_type": "display_data"
    }
   ],
   "source": [
    "print(), print(\"extended mean profile\"), print()\n",
    "hotpoints3 = aligned_ss3.sum(0)\n",
    "x = (1+hotpoints3)/(1+hotpoints3).sum(0)\n",
    "x[:,N:] = 0\n",
    "for i in range(N//100 + 1):\n",
    "    plt.figure(figsize = (10, 3))\n",
    "    plt.imshow(x[:, 100*i:100*(i+1)])\n",
    "    plt.show() \n",
    "    \n",
    "print(), print(\"extended mean profile\"), print()\n",
    "x = to_onehot(hotpoints3.argmax(0), (None,3)).T\n",
    "x[:,N:] = 0\n",
    "for i in range(N//100 + 1):\n",
    "    plt.figure(figsize = (10, 3))\n",
    "    plt.imshow(x[:, 100*i:100*(i+1)])\n",
    "    plt.show() "
   ]
  },
  {
   "cell_type": "code",
   "execution_count": 56,
   "metadata": {},
   "outputs": [
    {
     "name": "stdout",
     "output_type": "stream",
     "text": [
      "\n",
      "extended mean profile\n",
      "\n"
     ]
    },
    {
     "data": {
      "image/png": "[encoded data removed]",
      "text/plain": [
       "<Figure size 720x216 with 1 Axes>"
      ]
     },
     "metadata": {
      "needs_background": "light"
     },
     "output_type": "display_data"
    },
    {
     "data": {
      "image/png": "[encoded data removed]",
      "text/plain": [
       "<Figure size 720x216 with 1 Axes>"
      ]
     },
     "metadata": {
      "needs_background": "light"
     },
     "output_type": "display_data"
    },
    {
     "name": "stdout",
     "output_type": "stream",
     "text": [
      "\n",
      "extended mean profile\n",
      "\n"
     ]
    },
    {
     "data": {
      "image/png": "[encoded data removed]",
      "text/plain": [
       "<Figure size 720x216 with 1 Axes>"
      ]
     },
     "metadata": {
      "needs_background": "light"
     },
     "output_type": "display_data"
    },
    {
     "data": {
      "image/png": "[encoded data removed]",
      "text/plain": [
       "<Figure size 720x216 with 1 Axes>"
      ]
     },
     "metadata": {
      "needs_background": "light"
     },
     "output_type": "display_data"
    }
   ],
   "source": [
    "hotpoints4 = (hotpoints3 + hotpoints2[:,:200])/2\n",
    "\n",
    "print(), print(\"extended mean profile\"), print()\n",
    "x = (1+hotpoints4)/(1+hotpoints4).sum(0)\n",
    "x[:,N:] = 0\n",
    "for i in range(N//100 + 1):\n",
    "    plt.figure(figsize = (10, 3))\n",
    "    plt.imshow(x[:, 100*i:100*(i+1)])\n",
    "    plt.show() \n",
    "    \n",
    "print(), print(\"extended mean profile\"), print()\n",
    "x = to_onehot(hotpoints4.argmax(0), (None,3)).T\n",
    "x[:,N:] = 0\n",
    "for i in range(N//100 + 1):\n",
    "    plt.figure(figsize = (10, 3))\n",
    "    plt.imshow(x[:, 100*i:100*(i+1)])\n",
    "    plt.show() "
   ]
  },
  {
   "cell_type": "code",
   "execution_count": 57,
   "metadata": {},
   "outputs": [],
   "source": [
    "sse = to_onehot(hotpoints2[:,:N].argmax(0), (None,3))\n",
    "ss = np.pad(sse, ((1,1),(0,0)), \"constant\")\n",
    "dss = (ss[1:] - ss[:-1])\n",
    "cls = to_onehot(np.where(dss == -1)[1], (None, 3)).T\n",
    "bbox = np.array([np.where(dss == 1)[0], np.where(dss == -1)[0], *cls]).T\n",
    "pat = np.argmax(bbox[:,2:],1)\n",
    "\n",
    "c_patterns, n_patterns = [],[]\n",
    "char_pat= \"\".join([\"abc\"[x] for x in pat])\n",
    "if len(char_pat) and char_pat not in c_patterns:\n",
    "    c_patterns.append(char_pat)\n",
    "    n_patterns.append(list(pat))"
   ]
  },
  {
   "cell_type": "code",
   "execution_count": 58,
   "metadata": {},
   "outputs": [],
   "source": [
    "ss_profile = np.log(hotpoints2[:,:N]).T"
   ]
  },
  {
   "cell_type": "code",
   "execution_count": 59,
   "metadata": {},
   "outputs": [],
   "source": [
    "pickle.dump(ss_profile, open(f\"{DATA}/{DATASET}/ss_profile.pkl\", \"wb\"))\n",
    "pickle.dump((n_patterns, c_patterns, list(patterns.keys())), open(f\"{DATA}/{DATASET}/patterns.pkl\", \"wb\"))"
   ]
  },
  {
   "cell_type": "markdown",
   "metadata": {},
   "source": [
    "## Vizualization"
   ]
  },
  {
   "cell_type": "code",
   "execution_count": 27,
   "metadata": {
    "ExecuteTime": {
     "end_time": "2020-02-20T10:38:50.415951Z",
     "start_time": "2020-02-20T10:38:49.352338Z"
    }
   },
   "outputs": [],
   "source": [
    "from structure.graphics import visualize_secondary_structure\n",
    "from structure.data_extraction import fetch_PDB\n",
    "import matplotlib.pyplot as plt"
   ]
  },
  {
   "cell_type": "code",
   "execution_count": 28,
   "metadata": {
    "ExecuteTime": {
     "end_time": "2020-02-20T10:38:55.612243Z",
     "start_time": "2020-02-20T10:38:51.441136Z"
    }
   },
   "outputs": [
    {
     "name": "stdout",
     "output_type": "stream",
     "text": [
      "5VZL\n"
     ]
    },
    {
     "data": {
      "image/png": "[encoded data removed]",
      "text/plain": [
       "<Figure size 576x216 with 1 Axes>"
      ]
     },
     "metadata": {
      "needs_background": "light"
     },
     "output_type": "display_data"
    },
    {
     "name": "stdout",
     "output_type": "stream",
     "text": [
      "6K4S\n"
     ]
    },
    {
     "data": {
      "image/png": "[encoded data removed]",
      "text/plain": [
       "<Figure size 576x216 with 1 Axes>"
      ]
     },
     "metadata": {
      "needs_background": "light"
     },
     "output_type": "display_data"
    },
    {
     "name": "stdout",
     "output_type": "stream",
     "text": [
      "5XBL\n"
     ]
    },
    {
     "data": {
      "image/png": "[encoded data removed]",
      "text/plain": [
       "<Figure size 576x216 with 1 Axes>"
      ]
     },
     "metadata": {
      "needs_background": "light"
     },
     "output_type": "display_data"
    },
    {
     "name": "stdout",
     "output_type": "stream",
     "text": [
      "6MCB\n"
     ]
    },
    {
     "data": {
      "image/png": "[encoded data removed]",
      "text/plain": [
       "<Figure size 576x216 with 1 Axes>"
      ]
     },
     "metadata": {
      "needs_background": "light"
     },
     "output_type": "display_data"
    },
    {
     "name": "stdout",
     "output_type": "stream",
     "text": [
      "6MCC\n"
     ]
    },
    {
     "data": {
      "image/png": "[encoded data removed]",
      "text/plain": [
       "<Figure size 576x216 with 1 Axes>"
      ]
     },
     "metadata": {
      "needs_background": "light"
     },
     "output_type": "display_data"
    }
   ],
   "source": [
    "for pdb, pfam, c, start, end in structfam.values():\n",
    "    try:\n",
    "        print(pdb)\n",
    "        sse, tk_mono = fetch_PDB(pdb, c, start, end+1)\n",
    "        visualize_secondary_structure(sse, 0, 150)\n",
    "        plt.show()\n",
    "    except:\n",
    "        print(pdb, pfam, c, start, end+1)"
   ]
  },
  {
   "cell_type": "code",
   "execution_count": 6,
   "metadata": {},
   "outputs": [
    {
     "data": {
      "text/plain": [
       "(array(['c', 'c', 'c', 'c', 'c', 'b', 'b', 'b', 'c', 'c', 'c', 'c', 'c',\n",
       "        'b', 'b', 'b', 'b', 'b', 'c', 'c', 'c', 'c', 'b', 'b', 'b', 'c',\n",
       "        'c', 'c', 'c'], dtype='<U1'),\n",
       " <biotite.structure.AtomArray at 0x7f2e04c0a310>)"
      ]
     },
     "execution_count": 6,
     "metadata": {},
     "output_type": "execute_result"
    }
   ],
   "source": [
    "fetch_PDB('1YIU', 'A', 6, 35)"
   ]
  },
  {
   "cell_type": "code",
   "execution_count": 1,
   "metadata": {},
   "outputs": [],
   "source": [
    "from biotite.structure.io.pdb import get_structure"
   ]
  },
  {
   "cell_type": "code",
   "execution_count": 2,
   "metadata": {},
   "outputs": [
    {
     "ename": "AttributeError",
     "evalue": "'str' object has no attribute 'get_structure'",
     "output_type": "error",
     "traceback": [
      "\u001b[0;31m---------------------------------------------------------------------------\u001b[0m",
      "\u001b[0;31mAttributeError\u001b[0m                            Traceback (most recent call last)",
      "\u001b[0;32m<ipython-input-2-16975acdb88e>\u001b[0m in \u001b[0;36m<module>\u001b[0;34m\u001b[0m\n\u001b[0;32m----> 1\u001b[0;31m \u001b[0mget_structure\u001b[0m\u001b[0;34m(\u001b[0m\u001b[0;34m\"6RSS\"\u001b[0m\u001b[0;34m)\u001b[0m\u001b[0;34m\u001b[0m\u001b[0;34m\u001b[0m\u001b[0m\n\u001b[0m",
      "\u001b[0;32m~/anaconda3/lib/python3.7/site-packages/biotite/structure/io/pdb/convert.py\u001b[0m in \u001b[0;36mget_structure\u001b[0;34m(pdb_file, model, altloc, extra_fields)\u001b[0m\n\u001b[1;32m     57\u001b[0m \u001b[0;34m\u001b[0m\u001b[0m\n\u001b[1;32m     58\u001b[0m     \"\"\"\n\u001b[0;32m---> 59\u001b[0;31m     \u001b[0;32mreturn\u001b[0m \u001b[0mpdb_file\u001b[0m\u001b[0;34m.\u001b[0m\u001b[0mget_structure\u001b[0m\u001b[0;34m(\u001b[0m\u001b[0mmodel\u001b[0m\u001b[0;34m,\u001b[0m \u001b[0maltloc\u001b[0m\u001b[0;34m,\u001b[0m \u001b[0mextra_fields\u001b[0m\u001b[0;34m)\u001b[0m\u001b[0;34m\u001b[0m\u001b[0;34m\u001b[0m\u001b[0m\n\u001b[0m\u001b[1;32m     60\u001b[0m \u001b[0;34m\u001b[0m\u001b[0m\n\u001b[1;32m     61\u001b[0m \u001b[0;34m\u001b[0m\u001b[0m\n",
      "\u001b[0;31mAttributeError\u001b[0m: 'str' object has no attribute 'get_structure'"
     ]
    }
   ],
   "source": [
    "get_structure('1YIU', 'A', 6, 35)"
   ]
  }
 ],
 "metadata": {
  "kernelspec": {
   "display_name": "Python 3",
   "language": "python",
   "name": "python3"
  },
  "language_info": {
   "codemirror_mode": {
    "name": "ipython",
    "version": 3
   },
   "file_extension": ".py",
   "mimetype": "text/x-python",
   "name": "python",
   "nbconvert_exporter": "python",
   "pygments_lexer": "ipython3",
   "version": "3.8.3"
  },
  "latex_envs": {
   "LaTeX_envs_menu_present": true,
   "autoclose": false,
   "autocomplete": true,
   "bibliofile": "biblio.bib",
   "cite_by": "apalike",
   "current_citInitial": 1,
   "eqLabelWithNumbers": true,
   "eqNumInitial": 1,
   "hotkeys": {
    "equation": "Ctrl-E",
    "itemize": "Ctrl-I"
   },
   "labels_anchors": false,
   "latex_user_defs": false,
   "report_style_numbering": false,
   "user_envs_cfg": false
  },
  "toc": {
   "base_numbering": 1,
   "nav_menu": {},
   "number_sections": true,
   "sideBar": true,
   "skip_h1_title": false,
   "title_cell": "Table of Contents",
   "title_sidebar": "Contents",
   "toc_cell": false,
   "toc_position": {},
   "toc_section_display": true,
   "toc_window_display": false
  },
  "varInspector": {
   "cols": {
    "lenName": 16,
    "lenType": 16,
    "lenVar": 40
   },
   "kernels_config": {
    "python": {
     "delete_cmd_postfix": "",
     "delete_cmd_prefix": "del ",
     "library": "var_list.py",
     "varRefreshCmd": "print(var_dic_list())"
    },
    "r": {
     "delete_cmd_postfix": ") ",
     "delete_cmd_prefix": "rm(",
     "library": "var_list.r",
     "varRefreshCmd": "cat(var_dic_list()) "
    }
   },
   "types_to_exclude": [
    "module",
    "function",
    "builtin_function_or_method",
    "instance",
    "_Feature"
   ],
   "window_display": false
  }
 },
 "nbformat": 4,
 "nbformat_minor": 4
}
