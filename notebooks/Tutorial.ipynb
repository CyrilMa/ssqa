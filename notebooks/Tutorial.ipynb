{
 "cells": [
  {
   "cell_type": "markdown",
   "metadata": {},
   "source": [
    "# SSQA - Tutorials"
   ]
  },
  {
   "cell_type": "code",
   "execution_count": 1,
   "metadata": {},
   "outputs": [],
   "source": [
    "import sys, os, re, random, warnings, subprocess, torch\n",
    "sys.path.append(os.path.dirname(os.getcwd()))\n",
    "warnings.filterwarnings(\"ignore\")"
   ]
  },
  {
   "cell_type": "markdown",
   "metadata": {},
   "source": [
    "Here we recall the full pipeline for Pattern Matching"
   ]
  },
  {
   "cell_type": "markdown",
   "metadata": {},
   "source": [
    "## 1 - Data Collection\n",
    "\n"
   ]
  },
  {
   "cell_type": "code",
   "execution_count": 2,
   "metadata": {},
   "outputs": [],
   "source": [
    "from config import PFAM_DATA\n",
    "from data import *"
   ]
  },
  {
   "cell_type": "markdown",
   "metadata": {},
   "source": [
    "Define the dataset `DATASET` and the file `filename` where all **aligned** sequences are. The data file `data.pt` will be stored in `PFAM_DATA/DATASET` folder "
   ]
  },
  {
   "cell_type": "code",
   "execution_count": 3,
   "metadata": {},
   "outputs": [],
   "source": [
    "DATASET = \"PF00397\"\n",
    "filename = \"full.fasta\"\n",
    "folder = f\"{PFAM_DATA}/{DATASET}\""
   ]
  },
  {
   "cell_type": "markdown",
   "metadata": {},
   "source": [
    "We start with the two first steps :\n",
    "- Clustering and splitting the clusters between training and testing set with MMSEQS\n",
    "- Build HMMer profile with HHsuite"
   ]
  },
  {
   "cell_type": "code",
   "execution_count": 9,
   "metadata": {},
   "outputs": [
    {
     "name": "stdout",
     "output_type": "stream",
     "text": [
      "building sequences.csv\n",
      "building data.pt sequences ...\n",
      "building aligned.fasta, unaligned.fasta ...\n",
      "Processing 57486 sequences ...\r"
     ]
    }
   ],
   "source": [
    "build_protein_df(f\"{folder}\", filename)\n",
    "\n",
    "# We build clusters with MMSEQS\n",
    "subprocess.run(\n",
    "    f'mmseqs easy-cluster \"{folder}/unaligned.fasta\" \"{folder}/tmp/clusters.tsv\" \"{folder}/tmp\" --min-seq-id 0.7',\n",
    "    shell=True)\n",
    "\n",
    "# We compute cluster weights\n",
    "cluster_weights(folder)\n",
    "\n",
    "# We split between training and validation set (useful for training RBM)\n",
    "split_train_val_set(folder)\n",
    "\n",
    "# We compute profiles\n",
    "subprocess.run(f'hhmake -i {folder}/aligned.fasta -M 100', shell=True)\n",
    "build_profiles(folder)"
   ]
  },
  {
   "cell_type": "markdown",
   "metadata": {},
   "source": [
    "Next step consists in retrieving the pattern, for this, three methods are available :\n",
    "1. Retrieving the specific structure from a known `uniprot_id`\n",
    "2. Retrieving available structure from the PFAM family `pfam_id`\n",
    "3. Use the `PatternInference` to retrieve a pattern by inference (if no pattern available)"
   ]
  },
  {
   "cell_type": "code",
   "execution_count": null,
   "metadata": {},
   "outputs": [],
   "source": [
    "# Method 1 : Retrieving the specific structure from a known `uniprot_id`\n",
    "\n",
    "uniprot_id = \"P0A9J8\"\n",
    "nat_seq = \"TSENPLLALREKISALDEKLLALLAERRELAVEVGKAKLLSHRPVRDIDRERDLLERLITLGKAHHLDAHYITRLFQLIIEDSVLTQQALLQQH\"\n",
    "search_pattern(f\"{DATA}/{MUT_DATASET}\", uniprot_id, nat_seq)[0]"
   ]
  },
  {
   "cell_type": "code",
   "execution_count": 4,
   "metadata": {
    "scrolled": true
   },
   "outputs": [
    {
     "name": "stderr",
     "output_type": "stream",
     "text": [
      "100%|██████████| 204/204 [02:33<00:00,  1.33it/s]\n"
     ]
    },
    {
     "data": {
      "text/plain": [
       "('cbcbcbacac',\n",
       " [2, 1, 2, 1, 2, 1, 0, 2, 0, 2],\n",
       " 'CBCTCBTCBHCHC',\n",
       " [7, 3, 7, 6, 7, 3, 6, 7, 3, 1, 7, 1, 7],\n",
       " {'cbcacbcbacac': 11,\n",
       "  'cbcbcbacac': 35,\n",
       "  'cbcbcbac': 19,\n",
       "  'cbcacbcbac': 13,\n",
       "  'cbcacbcac': 1,\n",
       "  'cbacbcacac': 1,\n",
       "  'cacacac': 2,\n",
       "  'cbcac': 2,\n",
       "  'cacbcbcbac': 4,\n",
       "  'cacbacbcbcac': 1,\n",
       "  'cbcacbcacbac': 1,\n",
       "  'cbac': 2,\n",
       "  'cbcbcacac': 1,\n",
       "  'cbcbacac': 2,\n",
       "  'cbcacbcbc': 1,\n",
       "  'cacbcbac': 3,\n",
       "  'cabcacbcbac': 4,\n",
       "  'cbcacbcbcacac': 1,\n",
       "  'cacbcacbcbac': 6,\n",
       "  'cbcbacbac': 2,\n",
       "  'cbabcbac': 1,\n",
       "  'cacbcbacbac': 1,\n",
       "  'cacacacbc': 1,\n",
       "  'cbcacbacbc': 1,\n",
       "  'cbcacbacbac': 2,\n",
       "  'cbcbac': 4,\n",
       "  'cbcbacbacac': 1,\n",
       "  'cacbcbacbcac': 1,\n",
       "  'cacbc': 2,\n",
       "  'cbacac': 1,\n",
       "  'cacbcbcbacac': 1,\n",
       "  'cabcacbacbac': 1,\n",
       "  'cabcbcbac': 2,\n",
       "  'cacbcbacacac': 1,\n",
       "  'cacbcbcbcbcac': 1,\n",
       "  'cacacbc': 1,\n",
       "  'cbcacbcbacbc': 1,\n",
       "  'cac': 1,\n",
       "  'cacbcbcacacac': 1,\n",
       "  'cabcacbacabc': 1,\n",
       "  'cbc': 1,\n",
       "  'cbcbcbcac': 1,\n",
       "  'cbcbcbc': 2,\n",
       "  'cacbcacbcacbc': 1,\n",
       "  'cbacacbcbac': 1,\n",
       "  'cacbcacbcbc': 1},\n",
       " {'CBCTHCBTCBHCHC': 7,\n",
       "  'CBCTCBTCBHCHC': 29,\n",
       "  'CBCTHCBTBHCHC': 1,\n",
       "  'CTBCTCBTCBHC': 2,\n",
       "  'CBCTCBTBHC': 1,\n",
       "  'CBCHCBTBHC': 2,\n",
       "  'CBCTHCBTCSHC': 1,\n",
       "  'CBHCBTSCHCTCHC': 1,\n",
       "  'CBTBTCBHCHC': 2,\n",
       "  'CIHCIHCHC': 1,\n",
       "  'CBCHITC': 1,\n",
       "  'CHCBTBTBHC': 3,\n",
       "  'CTBCHCBTBHC': 4,\n",
       "  'CHCBHCBTBCHC': 1,\n",
       "  'CTCBCTHCBCHCBHC': 1,\n",
       "  'CTBHC': 2,\n",
       "  'CTCBTBCHCHC': 1,\n",
       "  'CBTBHCIC': 1,\n",
       "  'CTBCTHCBTBC': 1,\n",
       "  'CSCTHCBTBHC': 1,\n",
       "  'CHBCHCBTBHC': 3,\n",
       "  'CTCBCHCBTBCHCHC': 1,\n",
       "  'CHCBCTHCBTBHC': 1,\n",
       "  'CTBTBTBHC': 2,\n",
       "  'CBTBHCBHCTC': 1,\n",
       "  'CTBCHTCBTCBHC': 1,\n",
       "  'CBHBTCBHC': 1,\n",
       "  'CTHCBTBHCEIHC': 1,\n",
       "  'CIHCIHCHCTCEC': 1,\n",
       "  'CTBCHCBHCBC': 1,\n",
       "  'CTBCTCBTBHC': 1,\n",
       "  'CTBCTHCBTBHC': 2,\n",
       "  'CITCBTBTBHC': 1,\n",
       "  'CBCTCBTCBHC': 3,\n",
       "  'CBTBTCBHC': 2,\n",
       "  'CTBCTHCBHCBHC': 1,\n",
       "  'CBTBHCTC': 1,\n",
       "  'CSCHCSBTBHCTC': 1,\n",
       "  'CBTBHCEIHCHTC': 1,\n",
       "  'CBCTHCBTCBHC': 1,\n",
       "  'CHTBCTHCBTCBHC': 3,\n",
       "  'CTBCHIHC': 1,\n",
       "  'CBTBTBHC': 5,\n",
       "  'CTHCBTBHCTETHC': 1,\n",
       "  'CTBTBTCBHC': 1,\n",
       "  'CITEC': 2,\n",
       "  'CTBCTHCBTCBHC': 2,\n",
       "  'CBHCTCIHC': 1,\n",
       "  'CTBTBHCTHC': 1,\n",
       "  'CHTBTBTBHCHC': 1,\n",
       "  'CHBCHCBHCBHC': 1,\n",
       "  'CTCBCTHCBTBHC': 1,\n",
       "  'CHBCTCBTBHC': 1,\n",
       "  'CTBTBTCBHCHC': 3,\n",
       "  'CBTBTBHCHC': 1,\n",
       "  'CHCBCHCBTBHC': 1,\n",
       "  'CTBTBHCTC': 1,\n",
       "  'CHCBTBHCTIHCHC': 1,\n",
       "  'CHCTCECBTBCBCHC': 1,\n",
       "  'CICSCITBC': 1,\n",
       "  'CBTBHC': 1,\n",
       "  'CBCHCBTBHCEC': 1,\n",
       "  'CBCHCBTCBHCHC': 1,\n",
       "  'CIC': 1,\n",
       "  'CTHCBTBCHCHCSHC': 1,\n",
       "  'CTBTBHCBHC': 1,\n",
       "  'CHBCHTCBHTHBC': 1,\n",
       "  'CBTC': 1,\n",
       "  'CTCBCTCBTBHC': 2,\n",
       "  'CBTBTBCHC': 1,\n",
       "  'CHTBCTHCBTBHC': 1,\n",
       "  'CHBCTHCBTBHC': 1,\n",
       "  'CTBTBTCBC': 1,\n",
       "  'CHCBTBHCTC': 1,\n",
       "  'CSCHCSCSTSCHCHC': 1,\n",
       "  'CTBTBHC': 1,\n",
       "  'CHBCTCBTCBHC': 1,\n",
       "  'CHCBCTHCBCHCBC': 1,\n",
       "  'CTBHTHCBTBHC': 1,\n",
       "  'CBCHTCBHCBHC': 1,\n",
       "  'CTBCHCBTCBHCHC': 1,\n",
       "  'CTBCTCBTBC': 1,\n",
       "  'CTBCTHCBTCBHCHC': 1,\n",
       "  'CHTBCHCBTBC': 1})"
      ]
     },
     "execution_count": 4,
     "metadata": {},
     "output_type": "execute_result"
    }
   ],
   "source": [
    "# Method 2 : Retrieving available structure from the PFAM family `pfam_id`\n",
    "\n",
    "structfam = get_structures(DATASET)\n",
    "build_patterns(structfam, f\"{PFAM_DATA}/{DATASET}\")"
   ]
  },
  {
   "cell_type": "code",
   "execution_count": null,
   "metadata": {},
   "outputs": [],
   "source": [
    "# Method 3 : Use the `PatternInference` to retrieve a pattern by inference (if no pattern available)\n",
    "\n",
    "infer_pattern(f\"{PFAM_DATA}/{DATASET}\", indices = [0])"
   ]
  },
  {
   "cell_type": "markdown",
   "metadata": {},
   "source": [
    "## 2 - Secondary Structure Inference"
   ]
  },
  {
   "cell_type": "markdown",
   "metadata": {},
   "source": [
    "### Training\n",
    "\n",
    "The first thing to do is to train the model if it is not done (a trained model is available in `data/utils`. Here is the way to do it if you wish so with the adapted `NetSurfP2`.\n",
    "\n",
    "Reference : \n",
    "\n",
    "*NetSurfP-2.0: Improved prediction of protein structural features by integrated deep learning, Klausen, Michael Schantz and Jespersen, Martin Closter and Nielsen, Henrik and Jensen, Kamilla Kjaergaard and Jurtz, Vanessa Isabell and Soenderby, Casper Kaae and Sommer, Morten Otto Alexander and Winther, Ole and Nielsen, Morten and Petersen, Bent and others*"
   ]
  },
  {
   "cell_type": "code",
   "execution_count": 6,
   "metadata": {},
   "outputs": [],
   "source": [
    "from torch.utils.data import DataLoader\n",
    "from torch import optim\n",
    "\n",
    "from data import SecondaryStructureAnnotatedDataset, collate_sequences_train\n",
    "from ss_inference import NetSurfP2"
   ]
  },
  {
   "cell_type": "markdown",
   "metadata": {},
   "source": [
    "We first retrieve the dataset we collected and reformate from `NetSurfP2`. The training and validation set are available at `data/utils`"
   ]
  },
  {
   "cell_type": "code",
   "execution_count": 6,
   "metadata": {},
   "outputs": [],
   "source": [
    "train_dataset = SecondaryStructureAnnotatedDataset(f\"{UTILS}/training_set.pt\", 50)\n",
    "train_loader = DataLoader(train_dataset, batch_size = 15, collate_fn = collate_sequences_train,\n",
    "                        shuffle = True, drop_last=True)\n",
    "\n",
    "val_dataset = SecondaryStructureAnnotatedDataset(f\"{UTILS}/validation_set.pt\", 50)\n",
    "val_loader = DataLoader(val_dataset, batch_size = 15, collate_fn = collate_sequences_train,\n",
    "                        shuffle=False, drop_last=False)\n",
    "\n",
    "device = torch.device('cuda')\n",
    "\n",
    "model = NetSurfP2(50, name=\"netsurp2\")\n",
    "model = model.to(device)\n",
    "optimizer = optim.Adam(model.parameters(), lr=0.001)"
   ]
  },
  {
   "cell_type": "markdown",
   "metadata": {},
   "source": [
    "We then train, 5 epochs should be enough with these parameters to reach a palier"
   ]
  },
  {
   "cell_type": "code",
   "execution_count": null,
   "metadata": {},
   "outputs": [],
   "source": [
    "max_acc = 0\n",
    "for i in range(5):\n",
    "    model.train_epoch(train_loader, optimizer, i)\n",
    "    mean_ss3_acc, _ = model.val_epoch(val_loader, i)\n",
    "    if mean_ss3_acc > max_acc:\n",
    "        torch.save(model.state_dict(), f\"{UTILS}/nsp2_50feats.h5\")\n",
    "        max_acc = mean_ss3_acc"
   ]
  },
  {
   "cell_type": "markdown",
   "metadata": {},
   "source": [
    "### Predicting\n",
    "\n",
    "Once training is done, model is then ready for use. We load a dataset using `SSQAData_SSinf` and `collate_sequences`."
   ]
  },
  {
   "cell_type": "code",
   "execution_count": null,
   "metadata": {},
   "outputs": [],
   "source": [
    "batch_size = 16\n",
    "dataset = SSQAData_SSinf(f\"{PFAM_DATA}/{DATASET}/data.pt\")\n",
    "loader = DataLoader(dataset, batch_size = batch_size, \n",
    "                          shuffle = False, drop_last=False, collate_fn = collate_sequences)"
   ]
  },
  {
   "cell_type": "markdown",
   "metadata": {},
   "source": [
    "We load the model :"
   ]
  },
  {
   "cell_type": "code",
   "execution_count": null,
   "metadata": {},
   "outputs": [],
   "source": [
    "model_ss = NetSurfP2(50, \"nsp\")\n",
    "model_ss = model_ss.to(device)\n",
    "optimizer = optim.Adam(model_ss.parameters(), lr=0.001)\n",
    "model_ss.load_state_dict(torch.load(f\"{UTILS}/nsp2_50feats.h5\"))"
   ]
  },
  {
   "cell_type": "markdown",
   "metadata": {},
   "source": [
    "We can then predict"
   ]
  },
  {
   "cell_type": "code",
   "execution_count": null,
   "metadata": {},
   "outputs": [],
   "source": [
    "ss3 = torch.zeros(len(dataset), 3, 100)\n",
    "ss8 = torch.zeros(len(dataset), 8, 100)\n",
    "\n",
    "for batch_idx, data in enumerate(loader):\n",
    "    x = torch.tensor(data[0]).float().cuda()\n",
    "    _, s8, s3 = model_ss(x)\n",
    "    ss_ = F.softmax(s3,1).detach().cpu()\n",
    "    ss3[batch_size*batch_idx: batch_size*(batch_idx+1), :, :ss_.size(-1)] = ss_\n",
    "    ss_ = F.softmax(s8,1).detach().cpu()\n",
    "    ss8[batch_size*batch_idx: batch_size*(batch_idx+1), :, :ss_.size(-1)] = ss_"
   ]
  },
  {
   "cell_type": "markdown",
   "metadata": {},
   "source": [
    "## 3 - SSQA\n",
    "\n",
    "For an overview of how to handle, please refer to `Chorismate Mutase - Russ et al. 2020` notebook"
   ]
  },
  {
   "cell_type": "markdown",
   "metadata": {},
   "source": [
    "## 4 - Restricted Boltzman Machine"
   ]
  },
  {
   "cell_type": "code",
   "execution_count": 4,
   "metadata": {},
   "outputs": [],
   "source": [
    "from pgm.layers import OneHotLayer, GaussianLayer\n",
    "from pgm.model import MRF\n",
    "\n",
    "from torch.utils.data import DataLoader\n",
    "from torch import optim\n",
    "\n",
    "device = \"cpu\""
   ]
  },
  {
   "cell_type": "code",
   "execution_count": 5,
   "metadata": {},
   "outputs": [
    {
     "name": "stdout",
     "output_type": "stream",
     "text": [
      "Available :  seq L cluster_index weights subset seq_hmm pattern\n",
      "Available :  seq L cluster_index weights subset seq_hmm pattern\n"
     ]
    }
   ],
   "source": [
    "train_dataset = SSQAData_RBM(f\"{PFAM_DATA}/{DATASET}/data.pt\", subset = \"train\")\n",
    "train_loader = DataLoader(train_dataset, batch_size = 100, shuffle = True)\n",
    "\n",
    "val_dataset = SSQAData_RBM(f\"{PFAM_DATA}/{DATASET}/data.pt\", subset = \"val\")\n",
    "val_loader = DataLoader(val_dataset, batch_size = 100, shuffle = False)\n",
    "\n",
    "batch_size, q, N = train_dataset.seqs.size()\n",
    "lamb_l1b = 0.25\n",
    "gamma = lamb_l1b/(2*q*N)"
   ]
  },
  {
   "cell_type": "code",
   "execution_count": 6,
   "metadata": {},
   "outputs": [],
   "source": [
    "pots = torch.zeros(q+1, N)\n",
    "for v, w in train_dataset:\n",
    "    pots += w*v\n",
    "pots /= torch.sum(train_dataset.weights)\n",
    "pots = (pots-pots.mean(0)[None]).view(-1).float().to(device)"
   ]
  },
  {
   "cell_type": "code",
   "execution_count": 7,
   "metadata": {},
   "outputs": [
    {
     "data": {
      "image/png": "[encoded data removed]",
      "text/plain": [
       "<Figure size 432x288 with 1 Axes>"
      ]
     },
     "metadata": {},
     "output_type": "display_data"
    }
   ],
   "source": [
    "visible_layers = [\"sequence\"]\n",
    "hidden_layers = [\"hidden\"]\n",
    "\n",
    "v = OneHotLayer(pots, N=N, q=q+1, name=\"sequence\")\n",
    "h = GaussianLayer(N=200, name=\"hidden\")\n",
    "\n",
    "E = [(v.name, h.name)]\n",
    "\n",
    "model_rbm = MRF(layers = {v.name: v,\n",
    "                    h.name: h}, edges = E, name = \"\")\n",
    "\n",
    "for visible in visible_layers:\n",
    "    edge = model_rbm.get_edge(visible, \"hidden\")\n",
    "    edge.gauge = edge.gauge.to(device)\n",
    "    \n",
    "optimizer = optim.Adam(model_rbm.parameters(), lr=0.001)\n",
    "\n",
    "#model.load(f\"{DATA}/{DATASET}/weights/seq-reg-200_4320.h5\")\n",
    "#model.ais(n_inter = 2000, verbose = True)"
   ]
  },
  {
   "cell_type": "code",
   "execution_count": null,
   "metadata": {},
   "outputs": [
    {
     "name": "stdout",
     "output_type": "stream",
     "text": [
      "Train Epoch: 0 [100%] || Time: 0 min 33 || Loss: 5.891 || Reg: 2.334 || Acc: 0.690\n",
      "Train Epoch: 0 [100%] || Time: 0 min 33 || Loss: 5.891 || Reg: 2.334 || Acc: 0.690\n",
      "Val Epoch: 0 [100%] || Time: 0 min 8 || P(v): -1.308 || P(v,h): -6.039 || Acc: 0.692\n",
      "Train Epoch: 1 [100%] || Time: 0 min 32 || Loss: 6.307 || Reg: 1.812 || Acc: 0.753\n",
      "Train Epoch: 2 [92%] || Time: 0 min 29 || Loss: 6.477 || Reg: 2.243 || Acc: 0.780\r"
     ]
    }
   ],
   "source": [
    "for epoch in range(40000):\n",
    "    model_rbm.train_epoch(optimizer, train_loader, visible_layers, hidden_layers, [gamma], epoch,\n",
    "          savepath=f\"{PFAM_DATA}/{DATASET}/weights/seq-reg-200\")\n",
    "    if not epoch % 30:\n",
    "        model_rbm.val(val_loader, visible_layers, hidden_layers, epoch)"
   ]
  },
  {
   "cell_type": "markdown",
   "metadata": {},
   "source": [
    "## 5 - Sampling with RBM and SSQA"
   ]
  },
  {
   "cell_type": "markdown",
   "metadata": {},
   "source": [
    "See `RBMSampling_With_SSQA.ipynb`"
   ]
  }
 ],
 "metadata": {
  "kernelspec": {
   "display_name": "Python 3",
   "language": "python",
   "name": "python3"
  },
  "language_info": {
   "codemirror_mode": {
    "name": "ipython",
    "version": 3
   },
   "file_extension": ".py",
   "mimetype": "text/x-python",
   "name": "python",
   "nbconvert_exporter": "python",
   "pygments_lexer": "ipython3",
   "version": "3.8.5"
  }
 },
 "nbformat": 4,
 "nbformat_minor": 4
}
