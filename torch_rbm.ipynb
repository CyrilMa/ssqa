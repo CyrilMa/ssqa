{
 "cells": [
  {
   "cell_type": "code",
   "execution_count": 1,
   "metadata": {},
   "outputs": [],
   "source": [
    "import warnings\n",
    "warnings.filterwarnings(\"ignore\")"
   ]
  },
  {
   "cell_type": "code",
   "execution_count": 2,
   "metadata": {},
   "outputs": [],
   "source": [
    "import numpy as np\n",
    "import time\n",
    "import pickle\n",
    "\n",
    "import torch\n",
    "from torch.utils.data import DataLoader\n",
    "from torch import nn, optim\n",
    "from torch.nn import functional as F\n",
    "\n",
    "from pgm.data import AlignedSequencesData\n",
    "from pgm.layers import GaussianLayer, OneHotLayer, dReLULayer\n",
    "from pgm.edge import Edge\n",
    "from pgm.model import MRF\n",
    "from pgm.metrics import aa_acc, l1b_reg, msa_mean, ZeroSumGauge"
   ]
  },
  {
   "cell_type": "code",
   "execution_count": 3,
   "metadata": {},
   "outputs": [],
   "source": [
    "DATASET = \"PF00397\"\n",
    "DATA = \"/home/cyril/Documents/These/data\"\n",
    "AMINO_ACIDS = 'ACDEFGHIKLMNPQRSTVWY-'\n",
    "\n",
    "AA_IDS = {l: i for i, l in enumerate(AMINO_ACIDS)}\n",
    "batch_size = 300\n",
    "q = 21\n",
    "N = 31\n",
    "k = 10\n",
    "lamb_l1b = 0.25\n",
    "gamma = lamb_l1b**2/(2*q*N)\n",
    "# lamb_l2"
   ]
  },
  {
   "cell_type": "markdown",
   "metadata": {},
   "source": [
    "## Data"
   ]
  },
  {
   "cell_type": "markdown",
   "metadata": {},
   "source": [
    "For Proteins"
   ]
  },
  {
   "cell_type": "code",
   "execution_count": 4,
   "metadata": {},
   "outputs": [],
   "source": [
    "from structure.data_extraction import from_fasta_to_df\n",
    "from structure.utils import to_onehot"
   ]
  },
  {
   "cell_type": "code",
   "execution_count": 5,
   "metadata": {},
   "outputs": [],
   "source": [
    "class AlignedSequencesData(object):\n",
    "    def __init__(self, file):\n",
    "        self.df = from_fasta_to_df(file)\n",
    "        self.df[\"name\"] = self.df.index\n",
    "        self.df[self.df.name.apply(lambda x : x[0]) == \"a\"]\n",
    "        self.raw_sequences = np.array(list(self.df.aligned_seq.apply(lambda s: np.array([AA_IDS[c] if c in AA_IDS.keys() else -1 for c in s]))))\n",
    "        self.raw_sequences = self.raw_sequences[:, ((self.raw_sequences == -1).max(0) == False)] \n",
    "        self.size = self.raw_sequences.shape[1]\n",
    "        self.raw_sequences = [to_onehot(seq, (self.size, len(AA_IDS))) for seq in self.raw_sequences]\n",
    "        self.weights = np.ones(len(self.df.values))\n",
    "        \n",
    "    def __len__(self):\n",
    "        return len(self.raw_sequences)\n",
    "    \n",
    "    def __getitem__(self, i):\n",
    "        return self.raw_sequences[i], self.weights[i]"
   ]
  },
  {
   "cell_type": "code",
   "execution_count": 6,
   "metadata": {},
   "outputs": [],
   "source": [
    "filename = \"aligned.fasta\"\n",
    "train_dataset = AlignedSequencesData(f\"{DATA}/{DATASET}/{filename}\")\n",
    "train_loader = DataLoader(train_dataset, batch_size = batch_size, \n",
    "                          shuffle = True, drop_last=True)\n",
    "\n",
    "# val_dataset = AlignedSequencesData(f\"{DATA}/rbm/val.csv\")\n",
    "# val_loader = DataLoader(val_dataset, batch_size = batch_size, \n",
    "#                         shuffle = True, drop_last=True)"
   ]
  },
  {
   "cell_type": "code",
   "execution_count": 138,
   "metadata": {},
   "outputs": [],
   "source": [
    "pots = np.zeros((31, 21))\n",
    "for w, v in zip(train_dataset.weights,train_dataset.raw_sequences):\n",
    "    pots += w*v\n",
    "pots /= np.sum(train_dataset.weights)\n",
    "pots = pots.T\n",
    "q = F.softmax(torch.log(torch.FloatTensor(pots)),0)\n",
    "\n",
    "pots = torch.FloatTensor((pots.T-np.mean(pots, 1)).T).view(-1)"
   ]
  },
  {
   "cell_type": "markdown",
   "metadata": {},
   "source": [
    "## Build Model"
   ]
  },
  {
   "cell_type": "code",
   "execution_count": 139,
   "metadata": {
    "scrolled": true
   },
   "outputs": [
    {
     "data": {
      "image/png": "[encoded data removed]",
      "text/plain": [
       "<Figure size 432x288 with 1 Axes>"
      ]
     },
     "metadata": {},
     "output_type": "display_data"
    },
    {
     "data": {
      "text/plain": [
       "MRF(\n",
       "  (layers): ModuleDict(\n",
       "    (hidden): GaussianLayer()\n",
       "    (visible): OneHotLayer(\n",
       "      (linear): Linear(in_features=651, out_features=1, bias=True)\n",
       "    )\n",
       "  )\n",
       "  (edges): ModuleDict(\n",
       "    (visible -> hidden): Edge(\n",
       "      (in_layer): OneHotLayer(\n",
       "        (linear): Linear(in_features=651, out_features=1, bias=True)\n",
       "      )\n",
       "      (out_layer): GaussianLayer()\n",
       "      (linear): Linear(in_features=651, out_features=20, bias=False)\n",
       "      (reverse): Linear(in_features=20, out_features=651, bias=False)\n",
       "      (bn1): BatchNorm1d(20, eps=1e-05, momentum=0.1, affine=True, track_running_stats=True)\n",
       "    )\n",
       "  )\n",
       ")"
      ]
     },
     "execution_count": 139,
     "metadata": {},
     "output_type": "execute_result"
    }
   ],
   "source": [
    "device = torch.device('cpu')\n",
    "\n",
    "visible = OneHotLayer(pots, N = 31, q = 21, name = \"visible\").to(device)\n",
    "hidden = GaussianLayer(N = 20, name = \"hidden\").to(device)\n",
    "\n",
    "E = [(visible.name, hidden.name)]\n",
    "\n",
    "model = MRF(layers = {visible.name: visible, \n",
    "                    hidden.name: hidden},\n",
    "         edges = E).to(device)\n",
    "\n",
    "optimizer = optim.Adam(model.parameters(), lr=0.001)\n",
    "model"
   ]
  },
  {
   "cell_type": "code",
   "execution_count": 149,
   "metadata": {},
   "outputs": [],
   "source": [
    "ais = AIS(model, q).T\n"
   ]
  },
  {
   "cell_type": "code",
   "execution_count": null,
   "metadata": {
    "scrolled": true
   },
   "outputs": [
    {
     "name": "stdout",
     "output_type": "stream",
     "text": [
      "Estimated Z : 2.497\n",
      "Estimated Z : 4.6050%] || Time: 2 min 50 || Loss: 0.318 || Reg: 1.408 || Acc: 0.4622\n",
      "Estimated Z : 4.85500%] || Time: 5 min 41 || Loss: -1.513 || Reg: 1.698 || Acc: 0.479\n",
      "Estimated Z : 4.87400%] || Time: 8 min 25 || Loss: -1.605 || Reg: 1.699 || Acc: 0.485\n",
      "Estimated Z : 5.08600%] || Time: 11 min 8 || Loss: -1.539 || Reg: 1.684 || Acc: 0.4898\n",
      "Estimated Z : 5.07000%] || Time: 14 min 1 || Loss: -1.664 || Reg: 1.668 || Acc: 0.4898\n",
      "Estimated Z : 5.57400%] || Time: 16 min 48 || Loss: -1.595 || Reg: 1.660 || Acc: 0.489\n",
      "Estimated Z : 5.42400%] || Time: 20 min 4 || Loss: -2.033 || Reg: 1.653 || Acc: 0.4909\n",
      "Estimated Z : 5.57300%] || Time: 23 min 28 || Loss: -1.823 || Reg: 1.648 || Acc: 0.490\n",
      "Estimated Z : 5.55900%] || Time: 26 min 48 || Loss: -1.942 || Reg: 1.641 || Acc: 0.489\n",
      "Estimated Z : 5.80500%] || Time: 30 min 18 || Loss: -1.866 || Reg: 1.629 || Acc: 0.491\n",
      "Estimated Z : 5.344100%] || Time: 33 min 40 || Loss: -2.037 || Reg: 1.624 || Acc: 0.491\n",
      "Estimated Z : 5.584100%] || Time: 37 min 10 || Loss: -1.546 || Reg: 1.612 || Acc: 0.492\n",
      "Train Epoch: 1223 [100%] || Time: 37 min 56 || Loss: -1.778 || Reg: 1.611 || Acc: 0.492\r"
     ]
    }
   ],
   "source": [
    "start = time.time()\n",
    "model.train()\n",
    "in_lays, out_lays = [\"visible\"], [\"hidden\"]\n",
    "edge = model.get_edge(\"visible\", \"hidden\")\n",
    "edge.gauge = edge.gauge.to(device)\n",
    "ais = AIS(model, q)\n",
    "\n",
    "for epoch in range(6000):\n",
    "    mean_loss, mean_reg, mean_acc = 0, 0, 0\n",
    "    for batch_idx, data in enumerate(train_loader):\n",
    "        x = data[0].float().permute(0, 2, 1).to(device)\n",
    "        w = data[1].float().to(device)\n",
    "        \n",
    "        # Sampling\n",
    "        d_0 = {\"visible\":x}\n",
    "        d_0, d_f = model.gibbs_sampling(d_0, in_lays, out_lays, k = 10)\n",
    "        \n",
    "        # Optimization\n",
    "        optimizer.zero_grad()\n",
    "        e_0, e_f = model(d_0), model(d_f)\n",
    "        reg = l1b_reg(edge)\n",
    "        loss = msa_mean(e_f-e_0, w) + gamma * reg\n",
    "        loss.backward()\n",
    "        optimizer.step()\n",
    "        \n",
    "        # Z estimation\n",
    "        if not epoch%100 and not batch_idx:\n",
    "            ais.update(model)\n",
    "            Z = ais.run(50, 100)\n",
    "        \n",
    "        # Metrics\n",
    "#         d_0, d_f = model.gibbs_sampling(d_0, in_lays, out_lays, k = 1)\n",
    "        acc = aa_acc(d_0[\"visible\"].view(*x.size()), d_f[\"visible\"].view(*x.size()))\n",
    "        ll = msa_mean(model.integrate_likelihood(d_f, \"hidden\"),w)/31\n",
    "        mean_loss = (mean_loss*batch_idx + ll.item())/ (batch_idx+1)\n",
    "        mean_reg = (mean_reg*batch_idx + gamma*reg)/(batch_idx+1)\n",
    "        mean_acc = (mean_acc*batch_idx + acc)/(batch_idx+1)\n",
    "        m, s = int(time.time()-start)//60, int(time.time()-start)%60\n",
    "\n",
    "    print(f'''Train Epoch: {epoch} [100%] || Time: {m} min {s} || Loss: {mean_loss-Z:.3f} || Reg: {mean_reg:.3f} || Acc: {mean_acc:.3f}''', end=\"\\r\")\n",
    "#     if not epoch % 50:\n",
    "#         data = next(iter(val_loader))\n",
    "#         x = data[0].float().permute(0, 2, 1).to(device)\n",
    "#         x_f, _, mut, _ = edge.gibbs_step(x, sample=False)\n",
    "#         acc = aa_acc(x, mut.view(batch_size, q, N))\n",
    "#         m, s = int(time.time()-start)//60, int(time.time()-start)%60\n",
    "#         print(f'''Val: {epoch} || Time: {m} min {s} || Loss: {mean_loss:.2f} || Reg: {mean_reg:.2f} || Acc: {mean_acc:.2f} ||  Val Acc : {acc:.3f}''')"
   ]
  },
  {
   "cell_type": "code",
   "execution_count": 64,
   "metadata": {},
   "outputs": [],
   "source": [
    "from torch.distributions.one_hot_categorical import OneHotCategorical\n",
    "import math"
   ]
  },
  {
   "cell_type": "code",
   "execution_count": 167,
   "metadata": {
    "scrolled": true
   },
   "outputs": [],
   "source": [
    "class AIS(object):\n",
    "    def __init__(self,  model, p_0, edges = []):\n",
    "        super(AIS, self).__init__()\n",
    "        self.q, self.N = p_0.size()\n",
    "        self.p_0 = p_0.view(-1)\n",
    "        self.log_p_0 = torch.log(self.p_0+1e-8)\n",
    "        edge = model.get_edge(\"visible\",\"hidden\")\n",
    "        self.gammaI = lambda x : model.layers[\"hidden\"].gamma(edge(x))\n",
    "        self.W = model.layers[\"visible\"].linear.weights.view(-1)\n",
    "        self.distribution = OneHotCategorical(p_0.t())\n",
    "    \n",
    "    def update(self, model):\n",
    "        edge = model.get_edge(\"visible\",\"hidden\")\n",
    "        self.gammaI = lambda x : model.layers[\"hidden\"].gamma(edge(x))\n",
    "        self.W = model.layers[\"visible\"].linear.weights.view(-1)\n",
    "\n",
    "    def run(self, n_samples, n_inter, verbose = 0):\n",
    "        betas = torch.linspace(0, 1, n_inter)\n",
    "        samples = self._sample(n_samples)\n",
    "        logp0 = self.log_f0(samples)\n",
    "#         weights = torch.zeros(n_samples)\n",
    "        for i,beta in enumerate(betas[1:]):\n",
    "            samples = self.T(samples, lambda x: self.log_fj(x, beta), n_steps=10)\n",
    "#             weights += log_fj(samples, beta) - log_fj(samples, last_beta)\n",
    "            logpn = self.log_fj(samples, beta)\n",
    "            if verbose and not i%100:\n",
    "                print(f\"Iteration {i}\")\n",
    "            last_beta = beta\n",
    "        logpn = self.log_fn(samples)\n",
    "        Z = ((logpn - logp0).logsumexp(0) - math.log(n_samples))/self.N\n",
    "        print(f\"Estimated Z : {Z:.3f}\")\n",
    "        return Z\n",
    "\n",
    "    def _sample(self, n_samples):\n",
    "        return self.distribution.sample((n_samples,)).permute(0,2,1).reshape(n_samples, -1)\n",
    "\n",
    "    def log_f0(self,x):\n",
    "        return (self.log_p_0*x).sum(-1)\n",
    "\n",
    "    def log_fn(self, x):\n",
    "        ll = (x * self.W).sum(-1)\n",
    "        ll += self.gammaI(x)\n",
    "        return ll.detach()\n",
    "\n",
    "    def log_fj(self, x, beta):\n",
    "        return self.log_f0(x) * beta + self.log_fn(x)*(1-beta)\n",
    "\n",
    "    def probs(self, x):\n",
    "        return (self.p_0.view(1,-1)*x).view(-1,self.q,self.N).permute(0,2,1)\n",
    "    \n",
    "    def T(self, x, f, n_steps = 10):\n",
    "        n_samples = x.size(0)\n",
    "        for t in range(n_steps):\n",
    "            x_prime = OneHotCategorical(self.probs(x)).sample().permute(0,2,1).reshape(n_samples, -1)\n",
    "            a = f(x_prime) - f(x)\n",
    "            idx = torch.where(torch.rand_like(a) < torch.exp(a))[0]\n",
    "            x[idx] = x_prime[idx]\n",
    "        return x"
   ]
  },
  {
   "cell_type": "code",
   "execution_count": 142,
   "metadata": {},
   "outputs": [],
   "source": [
    "ais_ = AIS(model, q)"
   ]
  },
  {
   "cell_type": "code",
   "execution_count": 132,
   "metadata": {},
   "outputs": [],
   "source": [
    "ais_.update(model)"
   ]
  },
  {
   "cell_type": "code",
   "execution_count": 96,
   "metadata": {},
   "outputs": [
    {
     "data": {
      "text/plain": [
       "tensor(4.5663)"
      ]
     },
     "execution_count": 96,
     "metadata": {},
     "output_type": "execute_result"
    }
   ],
   "source": [
    "logpn = log_fn(samples)\n",
    "Z = (F.log_softmax(weights) + logpn - logp0).logsumexp(0)/31\n",
    "Z"
   ]
  },
  {
   "cell_type": "code",
   "execution_count": 117,
   "metadata": {},
   "outputs": [
    {
     "data": {
      "text/plain": [
       "(tensor([-1010.0593,  -453.6169,   -75.5941,   -30.1659,  -732.1194,  -578.5587,\n",
       "          -543.8281,  -537.0428,  -178.9714,  -680.0652,  -679.7471,  -454.3023,\n",
       "          -590.3973, -1321.6151,     0.0000,  -711.8146,  -535.9572, -1078.3324,\n",
       "          -508.5076,  -683.5151]),\n",
       " tensor([140.9662, 143.1859, 118.0419, 126.4386, 130.2012, 152.7874, 135.1541,\n",
       "         125.2087, 118.6375, 160.1119, 140.6018, 127.2794, 133.7686, 150.9615,\n",
       "         141.5560, 112.0823, 112.8044, 146.1756, 125.4359, 148.1181]))"
      ]
     },
     "execution_count": 117,
     "metadata": {},
     "output_type": "execute_result"
    }
   ],
   "source": [
    "F.log_softmax(weights), logpn - logp0"
   ]
  },
  {
   "cell_type": "code",
   "execution_count": 119,
   "metadata": {},
   "outputs": [],
   "source": [
    "Z = 141.5560/31"
   ]
  },
  {
   "cell_type": "code",
   "execution_count": 111,
   "metadata": {},
   "outputs": [
    {
     "data": {
      "text/plain": [
       "tensor(5.0683)"
      ]
     },
     "execution_count": 111,
     "metadata": {},
     "output_type": "execute_result"
    }
   ],
   "source": [
    "Z = ((logpn - logp0).logsumexp(0) - math.log(20))/31\n",
    "Z"
   ]
  },
  {
   "cell_type": "markdown",
   "metadata": {},
   "source": [
    "## Visualize"
   ]
  },
  {
   "cell_type": "code",
   "execution_count": null,
   "metadata": {},
   "outputs": [],
   "source": [
    "import sys\n",
    "\n",
    "ROOT = \"/home/cyril/Documents/These\"\n",
    "sys.path.append(f\"{ROOT}/paper_codes/PGM3/source/\")\n",
    "sys.path.append(f\"{ROOT}/paper_codes/PGM3/utilities/\")\n",
    "\n",
    "import Proteins_utils, RBM_utils, utilities10 as utilities, sequence_logo, plots_utils\n",
    "\n",
    "def get_beta(W,include_gaps=False):\n",
    "    if not include_gaps:\n",
    "        W_ = W[:,:,:-1]\n",
    "    else:\n",
    "        W_ = W\n",
    "    return  np.sqrt( (W_**2).sum(-1).sum(-1) ).numpy()"
   ]
  },
  {
   "cell_type": "code",
   "execution_count": null,
   "metadata": {},
   "outputs": [],
   "source": [
    "max_acti = model.edges[(\"visible\", \"hidden\")].get_weights().detach().view(-1, 21, 31).permute(0,2,1)\n",
    "order = np.argsort(get_beta(max_acti))[::-1]"
   ]
  },
  {
   "cell_type": "code",
   "execution_count": null,
   "metadata": {},
   "outputs": [],
   "source": [
    "fig = sequence_logo.Sequence_logo_multiple(max_acti.numpy()[order], figsize=(15,3) ,ticks_every=5,ticks_labels_size=20,title_size=24);"
   ]
  }
 ],
 "metadata": {
  "kernelspec": {
   "display_name": "Python 3",
   "language": "python",
   "name": "python3"
  },
  "language_info": {
   "codemirror_mode": {
    "name": "ipython",
    "version": 3
   },
   "file_extension": ".py",
   "mimetype": "text/x-python",
   "name": "python",
   "nbconvert_exporter": "python",
   "pygments_lexer": "ipython3",
   "version": "3.7.4"
  }
 },
 "nbformat": 4,
 "nbformat_minor": 2
}
