{
 "cells": [
  {
   "cell_type": "code",
   "execution_count": 2,
   "metadata": {
    "ExecuteTime": {
     "end_time": "2020-02-27T17:07:43.100526Z",
     "start_time": "2020-02-27T17:07:43.096273Z"
    }
   },
   "outputs": [],
   "source": [
    "import warnings\n",
    "warnings.filterwarnings(\"ignore\")"
   ]
  },
  {
   "cell_type": "code",
   "execution_count": 3,
   "metadata": {
    "ExecuteTime": {
     "end_time": "2020-02-27T17:07:44.337771Z",
     "start_time": "2020-02-27T17:07:43.689070Z"
    }
   },
   "outputs": [
    {
     "data": {
      "text/plain": [
       "True"
      ]
     },
     "execution_count": 3,
     "metadata": {},
     "output_type": "execute_result"
    }
   ],
   "source": [
    "import numpy as np\n",
    "import time\n",
    "import pandas as pd\n",
    "import pickle\n",
    "\n",
    "import matplotlib.pyplot as plt\n",
    "import seaborn as sns\n",
    "\n",
    "import torch\n",
    "from torch.utils.data import DataLoader\n",
    "from torch import nn, optim\n",
    "from torch.nn import functional as F\n",
    "\n",
    "from structure.data import HMM_Data\n",
    "from structure.model import ResBlock, ConvBlock, ConvNet, HmmConvNet\n",
    "from structure.utils import *\n",
    "\n",
    "torch.cuda.is_available()"
   ]
  },
  {
   "cell_type": "markdown",
   "metadata": {
    "heading_collapsed": true
   },
   "source": [
    "## Build Data"
   ]
  },
  {
   "cell_type": "code",
   "execution_count": 35,
   "metadata": {
    "ExecuteTime": {
     "end_time": "2020-02-13T17:23:56.546369Z",
     "start_time": "2020-02-13T17:23:56.543310Z"
    },
    "hidden": true
   },
   "outputs": [],
   "source": [
    "import netsurfp2.preprocess\n",
    "DATA = \"/home/cyril/Documents/These/data/\"\n",
    "DATASET = \"luciferase\"\n",
    "FILE = f\"{DATA}/{DATASET}/unaligned.fasta\""
   ]
  },
  {
   "cell_type": "code",
   "execution_count": 36,
   "metadata": {
    "ExecuteTime": {
     "end_time": "2020-02-13T17:23:59.980099Z",
     "start_time": "2020-02-13T17:23:58.589352Z"
    },
    "hidden": true
   },
   "outputs": [
    {
     "name": "stdout",
     "output_type": "stream",
     "text": [
      "Converting sequences\n",
      "[44643] 0s 39ms\n",
      "Time for merging to in.mmdb_h: 0h 0m 0s 11ms\n",
      "Time for merging to in.mmdb: 0h 0m 0s 33ms\n",
      "Database type: Aminoacid\n",
      "Time for merging to in.mmdb.lookup: 0h 0m 0s 0ms\n",
      "Time for processing: 0h 0m 0s 129ms\n"
     ]
    }
   ],
   "source": [
    "!rm -r \"{DATA}/profilemaker\"\n",
    "!mkdir \"{DATA}/profilemaker\"\n",
    "!mkdir \"{DATA}/profilemaker/mmseqs_files\"\n",
    "!cp \"{FILE}\" \"{DATA}/profilemaker/mmseqs_files/in.fasta\"\n",
    "!mmseqs createdb \"{DATA}/profilemaker/mmseqs_files/in.fasta\" \"{DATA}/profilemaker/mmseqs_files/in.mmdb\""
   ]
  },
  {
   "cell_type": "code",
   "execution_count": 37,
   "metadata": {
    "ExecuteTime": {
     "end_time": "2020-02-13T17:32:50.718080Z",
     "start_time": "2020-02-13T17:24:01.760459Z"
    },
    "hidden": true,
    "scrolled": true
   },
   "outputs": [
    {
     "ename": "KeyboardInterrupt",
     "evalue": "",
     "output_type": "error",
     "traceback": [
      "\u001b[0;31m---------------------------------------------------------------------------\u001b[0m",
      "\u001b[0;31mKeyboardInterrupt\u001b[0m                         Traceback (most recent call last)",
      "\u001b[0;32m<ipython-input-37-794237c195eb>\u001b[0m in \u001b[0;36m<module>\u001b[0;34m\u001b[0m\n\u001b[1;32m      4\u001b[0m \u001b[0mprotlist\u001b[0m \u001b[0;34m=\u001b[0m \u001b[0;34m{\u001b[0m\u001b[0mk\u001b[0m\u001b[0;34m:\u001b[0m\u001b[0mv\u001b[0m \u001b[0;32mfor\u001b[0m \u001b[0mk\u001b[0m\u001b[0;34m,\u001b[0m\u001b[0mv\u001b[0m \u001b[0;32min\u001b[0m \u001b[0mrandom\u001b[0m\u001b[0;34m.\u001b[0m\u001b[0msample\u001b[0m\u001b[0;34m(\u001b[0m\u001b[0mprotlist\u001b[0m\u001b[0;34m.\u001b[0m\u001b[0mitems\u001b[0m\u001b[0;34m(\u001b[0m\u001b[0;34m)\u001b[0m\u001b[0;34m,\u001b[0m \u001b[0;36m100\u001b[0m\u001b[0;34m)\u001b[0m\u001b[0;34m}\u001b[0m\u001b[0;34m\u001b[0m\u001b[0;34m\u001b[0m\u001b[0m\n\u001b[1;32m      5\u001b[0m \u001b[0msearcher\u001b[0m \u001b[0;34m=\u001b[0m \u001b[0mnetsurfp2\u001b[0m\u001b[0;34m.\u001b[0m\u001b[0mpreprocess\u001b[0m\u001b[0;34m.\u001b[0m\u001b[0mMMseqs\u001b[0m\u001b[0;34m(\u001b[0m\u001b[0;34mf\"{DATA}/profilemaker/mmseqs_files/in.mmdb\"\u001b[0m\u001b[0;34m)\u001b[0m \u001b[0;31m#Specifies hhblits as model\u001b[0m\u001b[0;34m\u001b[0m\u001b[0;34m\u001b[0m\u001b[0m\n\u001b[0;32m----> 6\u001b[0;31m \u001b[0mprofiles\u001b[0m  \u001b[0;34m=\u001b[0m \u001b[0msearcher\u001b[0m\u001b[0;34m(\u001b[0m\u001b[0mprotlist\u001b[0m\u001b[0;34m,\u001b[0m \u001b[0;34mf\"{DATA}/profilemaker/\"\u001b[0m\u001b[0;34m)\u001b[0m\u001b[0;34m\u001b[0m\u001b[0;34m\u001b[0m\u001b[0m\n\u001b[0m\u001b[1;32m      7\u001b[0m \u001b[0mdataset\u001b[0m \u001b[0;34m=\u001b[0m \u001b[0;34m{\u001b[0m\u001b[0mk\u001b[0m\u001b[0;34m:\u001b[0m\u001b[0mv\u001b[0m\u001b[0;34m[\u001b[0m\u001b[0;34m\"profile\"\u001b[0m\u001b[0;34m]\u001b[0m \u001b[0;32mfor\u001b[0m \u001b[0mk\u001b[0m\u001b[0;34m,\u001b[0m\u001b[0mv\u001b[0m \u001b[0;32min\u001b[0m \u001b[0mprofiles\u001b[0m\u001b[0;34m.\u001b[0m\u001b[0mitems\u001b[0m\u001b[0;34m(\u001b[0m\u001b[0;34m)\u001b[0m\u001b[0;34m}\u001b[0m\u001b[0;34m\u001b[0m\u001b[0;34m\u001b[0m\u001b[0m\n\u001b[1;32m      8\u001b[0m \u001b[0mpickle\u001b[0m\u001b[0;34m.\u001b[0m\u001b[0mdump\u001b[0m\u001b[0;34m(\u001b[0m\u001b[0mdataset\u001b[0m\u001b[0;34m,\u001b[0m \u001b[0mopen\u001b[0m\u001b[0;34m(\u001b[0m\u001b[0;34mf\"{DATA}/{DATASET}/hmm_dataset\"\u001b[0m\u001b[0;34m,\u001b[0m \u001b[0;34m\"wb\"\u001b[0m\u001b[0;34m)\u001b[0m\u001b[0;34m)\u001b[0m\u001b[0;34m\u001b[0m\u001b[0;34m\u001b[0m\u001b[0m\n",
      "\u001b[0;32m~/anaconda3/lib/python3.7/site-packages/netsurfp2/preprocess.py\u001b[0m in \u001b[0;36m__call__\u001b[0;34m(self, protlist, output_dir, parse_to_mem)\u001b[0m\n\u001b[1;32m    136\u001b[0m \u001b[0;34m\u001b[0m\u001b[0m\n\u001b[1;32m    137\u001b[0m                 \u001b[0mlog\u001b[0m\u001b[0;34m.\u001b[0m\u001b[0minfo\u001b[0m\u001b[0;34m(\u001b[0m\u001b[0;34m'Running `{}`'\u001b[0m\u001b[0;34m.\u001b[0m\u001b[0mformat\u001b[0m\u001b[0;34m(\u001b[0m\u001b[0;34m' '\u001b[0m\u001b[0;34m.\u001b[0m\u001b[0mjoin\u001b[0m\u001b[0;34m(\u001b[0m\u001b[0msearch_cmd\u001b[0m\u001b[0;34m)\u001b[0m\u001b[0;34m)\u001b[0m\u001b[0;34m)\u001b[0m\u001b[0;34m\u001b[0m\u001b[0;34m\u001b[0m\u001b[0m\n\u001b[0;32m--> 138\u001b[0;31m                 \u001b[0msubprocess\u001b[0m\u001b[0;34m.\u001b[0m\u001b[0mrun\u001b[0m\u001b[0;34m(\u001b[0m\u001b[0msearch_cmd\u001b[0m\u001b[0;34m,\u001b[0m \u001b[0;34m**\u001b[0m\u001b[0mskw\u001b[0m\u001b[0;34m)\u001b[0m \u001b[0;31m#yapf: disable\u001b[0m\u001b[0;34m\u001b[0m\u001b[0;34m\u001b[0m\u001b[0m\n\u001b[0m\u001b[1;32m    139\u001b[0m \u001b[0;34m\u001b[0m\u001b[0m\n\u001b[1;32m    140\u001b[0m             \u001b[0mmsa_cmd\u001b[0m \u001b[0;34m=\u001b[0m \u001b[0;34m[\u001b[0m\u001b[0mMMseqs\u001b[0m\u001b[0;34m.\u001b[0m\u001b[0mBIN\u001b[0m\u001b[0;34m,\u001b[0m \u001b[0;34m'result2msa'\u001b[0m\u001b[0;34m,\u001b[0m \u001b[0mmm_db\u001b[0m\u001b[0;34m,\u001b[0m \u001b[0mself\u001b[0m\u001b[0;34m.\u001b[0m\u001b[0mdb\u001b[0m\u001b[0;34m,\u001b[0m \u001b[0mmmres\u001b[0m\u001b[0;34m,\u001b[0m \u001b[0mmmmsa\u001b[0m\u001b[0;34m]\u001b[0m\u001b[0;34m\u001b[0m\u001b[0;34m\u001b[0m\u001b[0m\n",
      "\u001b[0;32m~/anaconda3/lib/python3.7/subprocess.py\u001b[0m in \u001b[0;36mrun\u001b[0;34m(input, capture_output, timeout, check, *popenargs, **kwargs)\u001b[0m\n\u001b[1;32m    472\u001b[0m     \u001b[0;32mwith\u001b[0m \u001b[0mPopen\u001b[0m\u001b[0;34m(\u001b[0m\u001b[0;34m*\u001b[0m\u001b[0mpopenargs\u001b[0m\u001b[0;34m,\u001b[0m \u001b[0;34m**\u001b[0m\u001b[0mkwargs\u001b[0m\u001b[0;34m)\u001b[0m \u001b[0;32mas\u001b[0m \u001b[0mprocess\u001b[0m\u001b[0;34m:\u001b[0m\u001b[0;34m\u001b[0m\u001b[0;34m\u001b[0m\u001b[0m\n\u001b[1;32m    473\u001b[0m         \u001b[0;32mtry\u001b[0m\u001b[0;34m:\u001b[0m\u001b[0;34m\u001b[0m\u001b[0;34m\u001b[0m\u001b[0m\n\u001b[0;32m--> 474\u001b[0;31m             \u001b[0mstdout\u001b[0m\u001b[0;34m,\u001b[0m \u001b[0mstderr\u001b[0m \u001b[0;34m=\u001b[0m \u001b[0mprocess\u001b[0m\u001b[0;34m.\u001b[0m\u001b[0mcommunicate\u001b[0m\u001b[0;34m(\u001b[0m\u001b[0minput\u001b[0m\u001b[0;34m,\u001b[0m \u001b[0mtimeout\u001b[0m\u001b[0;34m=\u001b[0m\u001b[0mtimeout\u001b[0m\u001b[0;34m)\u001b[0m\u001b[0;34m\u001b[0m\u001b[0;34m\u001b[0m\u001b[0m\n\u001b[0m\u001b[1;32m    475\u001b[0m         \u001b[0;32mexcept\u001b[0m \u001b[0mTimeoutExpired\u001b[0m\u001b[0;34m:\u001b[0m\u001b[0;34m\u001b[0m\u001b[0;34m\u001b[0m\u001b[0m\n\u001b[1;32m    476\u001b[0m             \u001b[0mprocess\u001b[0m\u001b[0;34m.\u001b[0m\u001b[0mkill\u001b[0m\u001b[0;34m(\u001b[0m\u001b[0;34m)\u001b[0m\u001b[0;34m\u001b[0m\u001b[0;34m\u001b[0m\u001b[0m\n",
      "\u001b[0;32m~/anaconda3/lib/python3.7/subprocess.py\u001b[0m in \u001b[0;36mcommunicate\u001b[0;34m(self, input, timeout)\u001b[0m\n\u001b[1;32m    929\u001b[0m                 \u001b[0mstderr\u001b[0m \u001b[0;34m=\u001b[0m \u001b[0mself\u001b[0m\u001b[0;34m.\u001b[0m\u001b[0mstderr\u001b[0m\u001b[0;34m.\u001b[0m\u001b[0mread\u001b[0m\u001b[0;34m(\u001b[0m\u001b[0;34m)\u001b[0m\u001b[0;34m\u001b[0m\u001b[0;34m\u001b[0m\u001b[0m\n\u001b[1;32m    930\u001b[0m                 \u001b[0mself\u001b[0m\u001b[0;34m.\u001b[0m\u001b[0mstderr\u001b[0m\u001b[0;34m.\u001b[0m\u001b[0mclose\u001b[0m\u001b[0;34m(\u001b[0m\u001b[0;34m)\u001b[0m\u001b[0;34m\u001b[0m\u001b[0;34m\u001b[0m\u001b[0m\n\u001b[0;32m--> 931\u001b[0;31m             \u001b[0mself\u001b[0m\u001b[0;34m.\u001b[0m\u001b[0mwait\u001b[0m\u001b[0;34m(\u001b[0m\u001b[0;34m)\u001b[0m\u001b[0;34m\u001b[0m\u001b[0;34m\u001b[0m\u001b[0m\n\u001b[0m\u001b[1;32m    932\u001b[0m         \u001b[0;32melse\u001b[0m\u001b[0;34m:\u001b[0m\u001b[0;34m\u001b[0m\u001b[0;34m\u001b[0m\u001b[0m\n\u001b[1;32m    933\u001b[0m             \u001b[0;32mif\u001b[0m \u001b[0mtimeout\u001b[0m \u001b[0;32mis\u001b[0m \u001b[0;32mnot\u001b[0m \u001b[0;32mNone\u001b[0m\u001b[0;34m:\u001b[0m\u001b[0;34m\u001b[0m\u001b[0;34m\u001b[0m\u001b[0m\n",
      "\u001b[0;32m~/anaconda3/lib/python3.7/subprocess.py\u001b[0m in \u001b[0;36mwait\u001b[0;34m(self, timeout)\u001b[0m\n\u001b[1;32m    988\u001b[0m             \u001b[0mendtime\u001b[0m \u001b[0;34m=\u001b[0m \u001b[0m_time\u001b[0m\u001b[0;34m(\u001b[0m\u001b[0;34m)\u001b[0m \u001b[0;34m+\u001b[0m \u001b[0mtimeout\u001b[0m\u001b[0;34m\u001b[0m\u001b[0;34m\u001b[0m\u001b[0m\n\u001b[1;32m    989\u001b[0m         \u001b[0;32mtry\u001b[0m\u001b[0;34m:\u001b[0m\u001b[0;34m\u001b[0m\u001b[0;34m\u001b[0m\u001b[0m\n\u001b[0;32m--> 990\u001b[0;31m             \u001b[0;32mreturn\u001b[0m \u001b[0mself\u001b[0m\u001b[0;34m.\u001b[0m\u001b[0m_wait\u001b[0m\u001b[0;34m(\u001b[0m\u001b[0mtimeout\u001b[0m\u001b[0;34m=\u001b[0m\u001b[0mtimeout\u001b[0m\u001b[0;34m)\u001b[0m\u001b[0;34m\u001b[0m\u001b[0;34m\u001b[0m\u001b[0m\n\u001b[0m\u001b[1;32m    991\u001b[0m         \u001b[0;32mexcept\u001b[0m \u001b[0mKeyboardInterrupt\u001b[0m\u001b[0;34m:\u001b[0m\u001b[0;34m\u001b[0m\u001b[0;34m\u001b[0m\u001b[0m\n\u001b[1;32m    992\u001b[0m             \u001b[0;31m# https://bugs.python.org/issue25942\u001b[0m\u001b[0;34m\u001b[0m\u001b[0;34m\u001b[0m\u001b[0;34m\u001b[0m\u001b[0m\n",
      "\u001b[0;32m~/anaconda3/lib/python3.7/subprocess.py\u001b[0m in \u001b[0;36m_wait\u001b[0;34m(self, timeout)\u001b[0m\n\u001b[1;32m   1622\u001b[0m                         \u001b[0;32mif\u001b[0m \u001b[0mself\u001b[0m\u001b[0;34m.\u001b[0m\u001b[0mreturncode\u001b[0m \u001b[0;32mis\u001b[0m \u001b[0;32mnot\u001b[0m \u001b[0;32mNone\u001b[0m\u001b[0;34m:\u001b[0m\u001b[0;34m\u001b[0m\u001b[0;34m\u001b[0m\u001b[0m\n\u001b[1;32m   1623\u001b[0m                             \u001b[0;32mbreak\u001b[0m  \u001b[0;31m# Another thread waited.\u001b[0m\u001b[0;34m\u001b[0m\u001b[0;34m\u001b[0m\u001b[0m\n\u001b[0;32m-> 1624\u001b[0;31m                         \u001b[0;34m(\u001b[0m\u001b[0mpid\u001b[0m\u001b[0;34m,\u001b[0m \u001b[0msts\u001b[0m\u001b[0;34m)\u001b[0m \u001b[0;34m=\u001b[0m \u001b[0mself\u001b[0m\u001b[0;34m.\u001b[0m\u001b[0m_try_wait\u001b[0m\u001b[0;34m(\u001b[0m\u001b[0;36m0\u001b[0m\u001b[0;34m)\u001b[0m\u001b[0;34m\u001b[0m\u001b[0;34m\u001b[0m\u001b[0m\n\u001b[0m\u001b[1;32m   1625\u001b[0m                         \u001b[0;31m# Check the pid and loop as waitpid has been known to\u001b[0m\u001b[0;34m\u001b[0m\u001b[0;34m\u001b[0m\u001b[0;34m\u001b[0m\u001b[0m\n\u001b[1;32m   1626\u001b[0m                         \u001b[0;31m# return 0 even without WNOHANG in odd situations.\u001b[0m\u001b[0;34m\u001b[0m\u001b[0;34m\u001b[0m\u001b[0;34m\u001b[0m\u001b[0m\n",
      "\u001b[0;32m~/anaconda3/lib/python3.7/subprocess.py\u001b[0m in \u001b[0;36m_try_wait\u001b[0;34m(self, wait_flags)\u001b[0m\n\u001b[1;32m   1580\u001b[0m             \u001b[0;34m\"\"\"All callers to this function MUST hold self._waitpid_lock.\"\"\"\u001b[0m\u001b[0;34m\u001b[0m\u001b[0;34m\u001b[0m\u001b[0m\n\u001b[1;32m   1581\u001b[0m             \u001b[0;32mtry\u001b[0m\u001b[0;34m:\u001b[0m\u001b[0;34m\u001b[0m\u001b[0;34m\u001b[0m\u001b[0m\n\u001b[0;32m-> 1582\u001b[0;31m                 \u001b[0;34m(\u001b[0m\u001b[0mpid\u001b[0m\u001b[0;34m,\u001b[0m \u001b[0msts\u001b[0m\u001b[0;34m)\u001b[0m \u001b[0;34m=\u001b[0m \u001b[0mos\u001b[0m\u001b[0;34m.\u001b[0m\u001b[0mwaitpid\u001b[0m\u001b[0;34m(\u001b[0m\u001b[0mself\u001b[0m\u001b[0;34m.\u001b[0m\u001b[0mpid\u001b[0m\u001b[0;34m,\u001b[0m \u001b[0mwait_flags\u001b[0m\u001b[0;34m)\u001b[0m\u001b[0;34m\u001b[0m\u001b[0;34m\u001b[0m\u001b[0m\n\u001b[0m\u001b[1;32m   1583\u001b[0m             \u001b[0;32mexcept\u001b[0m \u001b[0mChildProcessError\u001b[0m\u001b[0;34m:\u001b[0m\u001b[0;34m\u001b[0m\u001b[0;34m\u001b[0m\u001b[0m\n\u001b[1;32m   1584\u001b[0m                 \u001b[0;31m# This happens if SIGCLD is set to be ignored or waiting\u001b[0m\u001b[0;34m\u001b[0m\u001b[0;34m\u001b[0m\u001b[0;34m\u001b[0m\u001b[0m\n",
      "\u001b[0;31mKeyboardInterrupt\u001b[0m: "
     ]
    }
   ],
   "source": [
    "import netsurfp2 as nsp2\n",
    "with open(f\"{DATA}/profilemaker/mmseqs_files/in.fasta\") as f:\n",
    "    protlist = nsp2.parse_fasta(f)\n",
    "protlist = {k:v for k,v in random.sample(protlist.items(), 100)}\n",
    "searcher = netsurfp2.preprocess.MMseqs(f\"{DATA}/profilemaker/mmseqs_files/in.mmdb\") #Specifies hhblits as model\n",
    "profiles  = searcher(protlist, f\"{DATA}/profilemaker/\")\n",
    "dataset = {k:v[\"profile\"] for k,v in profiles.items()}\n",
    "pickle.dump(dataset, open(f\"{DATA}/{DATASET}/hmm_dataset\", \"wb\"))"
   ]
  },
  {
   "cell_type": "code",
   "execution_count": 16,
   "metadata": {
    "ExecuteTime": {
     "end_time": "2020-02-12T17:17:24.467930Z",
     "start_time": "2020-02-12T17:15:43.019191Z"
    },
    "hidden": true
   },
   "outputs": [],
   "source": [
    "!rm -r \"{DATA}/profilemaker\""
   ]
  },
  {
   "cell_type": "markdown",
   "metadata": {},
   "source": [
    "## Data and Model"
   ]
  },
  {
   "cell_type": "code",
   "execution_count": 4,
   "metadata": {
    "ExecuteTime": {
     "end_time": "2020-02-27T17:07:49.311494Z",
     "start_time": "2020-02-27T17:07:49.309191Z"
    }
   },
   "outputs": [],
   "source": [
    "AMINO_ACIDS = 'ACDEFGHIKLMNPQRSTVWY'"
   ]
  },
  {
   "cell_type": "code",
   "execution_count": 6,
   "metadata": {
    "ExecuteTime": {
     "end_time": "2020-02-27T17:07:50.039232Z",
     "start_time": "2020-02-27T17:07:50.037211Z"
    }
   },
   "outputs": [],
   "source": [
    "DATA = \"/home/cyril/Documents/These/data/\"\n",
    "DATASET = \"PF00397\""
   ]
  },
  {
   "cell_type": "code",
   "execution_count": 7,
   "metadata": {
    "ExecuteTime": {
     "end_time": "2020-02-27T17:07:50.671596Z",
     "start_time": "2020-02-27T17:07:50.659090Z"
    }
   },
   "outputs": [],
   "source": [
    "class HMM_Test(object):\n",
    "    def __init__(self, file):\n",
    "        self.primary, self.ss3 = [], []\n",
    "        data = pickle.load(open(file, 'rb'))\n",
    "        self.primary = [p[:,:50] for p in data.values()]\n",
    "\n",
    "    def __len__(self):\n",
    "        return len(self.primary)\n",
    "    \n",
    "    def __getitem__(self, i):\n",
    "        return self.primary[i]"
   ]
  },
  {
   "cell_type": "code",
   "execution_count": null,
   "metadata": {
    "ExecuteTime": {
     "end_time": "2020-02-24T13:43:23.418742Z",
     "start_time": "2020-02-24T13:43:08.295423Z"
    }
   },
   "outputs": [],
   "source": [
    "full_dataset = HMM_Data(f\"{DATA}/secondary_structure/full_set\")\n",
    "full_loader = DataLoader(full_dataset, batch_size = 1, \n",
    "                        shuffle = True, drop_last=True)"
   ]
  },
  {
   "cell_type": "code",
   "execution_count": 8,
   "metadata": {
    "ExecuteTime": {
     "end_time": "2020-02-27T15:56:49.403410Z",
     "start_time": "2020-02-27T15:56:47.359617Z"
    }
   },
   "outputs": [],
   "source": [
    "train_dataset = HMM_Data(f\"{DATA}/secondary_structure/training_set\")\n",
    "train_loader = DataLoader(train_dataset, batch_size = 1, \n",
    "                        shuffle = True, drop_last=True)"
   ]
  },
  {
   "cell_type": "code",
   "execution_count": 9,
   "metadata": {
    "ExecuteTime": {
     "end_time": "2020-02-27T16:00:07.105120Z",
     "start_time": "2020-02-27T16:00:01.583632Z"
    }
   },
   "outputs": [],
   "source": [
    "val_dataset = HMM_Data(f\"{DATA}/secondary_structure/validation_set\")\n",
    "val_loader = DataLoader(val_dataset, batch_size = 1,\n",
    "                        shuffle=False, drop_last=False)"
   ]
  },
  {
   "cell_type": "code",
   "execution_count": 8,
   "metadata": {
    "ExecuteTime": {
     "end_time": "2020-02-27T17:09:01.797325Z",
     "start_time": "2020-02-27T17:07:51.735612Z"
    }
   },
   "outputs": [],
   "source": [
    "test_dataset = HMM_Test(f\"{DATA}/{DATASET}/hmm.pkl\")\n",
    "test_loader = DataLoader(test_dataset, batch_size = 1,\n",
    "                        shuffle=False, drop_last=False)"
   ]
  },
  {
   "cell_type": "code",
   "execution_count": 24,
   "metadata": {},
   "outputs": [],
   "source": [
    "class RecurrentSequenceDecoder(nn.Module):\n",
    "    def __init__(self, q = 21, ncell=512,\n",
    "                               project_x=True, input_dropout=nn.Identity):\n",
    "        super(RecurrentSequenceDecoder, self).__init__()\n",
    "        self.q = q\n",
    "        \n",
    "        self.dropout1 = input_dropout()\n",
    "        if project_x:\n",
    "            self.project = nn.Conv1d(q, q, kernel_size = 1)\n",
    "        self.gru = nn.GRU(q, ncell)\n",
    "        self.ss3 = nn.Conv1d(ncell, 3, 1)\n",
    "        self.ss8 = nn.Conv1d(ncell, 8, 1)\n",
    "        self.other = nn.Conv1d(ncell, 9, 1)\n",
    "\n",
    "\n",
    "            \n",
    "    def forward(self, x):\n",
    "        x = x[:,:self.q]\n",
    "        x = F.pad(x,(1,0))[:,:,:-1]\n",
    "        x = self.dropout1(x)\n",
    "        if self.project is not None:\n",
    "            x = self.project(x)            \n",
    "        h = x.permute(2,0,1)\n",
    "        h = self.gru(h)[0].permute(1,2,0)\n",
    "        return F.relu(self.other(h)), F.softmax(self.ss8(h),1), F.softmax(self.ss3(h),1)\n"
   ]
  },
  {
   "cell_type": "code",
   "execution_count": null,
   "metadata": {},
   "outputs": [],
   "source": []
  },
  {
   "cell_type": "code",
   "execution_count": 30,
   "metadata": {
    "ExecuteTime": {
     "end_time": "2020-02-27T17:09:04.152056Z",
     "start_time": "2020-02-27T17:09:01.857232Z"
    },
    "scrolled": true
   },
   "outputs": [
    {
     "data": {
      "text/plain": [
       "RecurrentSequenceDecoder(\n",
       "  (dropout1): Identity()\n",
       "  (project): Conv1d(40, 40, kernel_size=(1,), stride=(1,))\n",
       "  (gru): GRU(40, 512)\n",
       "  (ss3): Conv1d(512, 3, kernel_size=(1,), stride=(1,))\n",
       "  (ss8): Conv1d(512, 8, kernel_size=(1,), stride=(1,))\n",
       "  (other): Conv1d(512, 9, kernel_size=(1,), stride=(1,))\n",
       ")"
      ]
     },
     "execution_count": 30,
     "metadata": {},
     "output_type": "execute_result"
    }
   ],
   "source": [
    "qx = 40\n",
    "# del model\n",
    "device = torch.device('cuda')\n",
    "\n",
    "# del model\n",
    "model = RecurrentSequenceDecoder(qx)\n",
    "model = model.to(device)\n",
    "optimizer = optim.Adam(model.parameters(), lr=0.001)\n",
    "# model.load_state_dict(torch.load(f\"{DATA}/secondary_structure/model_40feats.h5\"))\n",
    "start = time.time()\n",
    "\n",
    "model"
   ]
  },
  {
   "cell_type": "markdown",
   "metadata": {},
   "source": [
    "## Train"
   ]
  },
  {
   "cell_type": "code",
   "execution_count": 29,
   "metadata": {
    "ExecuteTime": {
     "end_time": "2020-02-27T16:00:41.276513Z",
     "start_time": "2020-02-27T16:00:41.245284Z"
    }
   },
   "outputs": [],
   "source": [
    "def train(epoch):\n",
    "    n_res, mean_ss3, mean_ss8, mean_box, mean_other, mean_loss, mean_ss3_acc, mean_ss8_acc = 0,0,0,0,0,0,0,0\n",
    "    model.train()\n",
    "    for batch_idx, data in enumerate(train_loader):\n",
    "        x = data[0].float().permute(0, 2, 1).cuda()[:,:40]\n",
    "        s = data[1].float().permute(0, 2, 1).cuda()\n",
    "        t = data[2].float().permute(0, 2, 1).cuda()\n",
    "        B,_,N = x.size()\n",
    "\n",
    "        optimizer.zero_grad()\n",
    "        p_other, p_ss8, p_ss3 = model(x)\n",
    "        p_other, p_ss8, p_ss3 = p_other.cpu(), p_ss8.cpu(), p_ss3.cpu()\n",
    "        x, s, t = x.cpu(), s.cpu(), t.cpu()\n",
    "        \n",
    "        ss3_acc = (p_ss3.argmax(1) == t[:,-1]).int().float().mean()\n",
    "        ss8_acc = (p_ss8.argmax(1) == t[:,-2]).int().float().mean()\n",
    "        ss3_loss = F.cross_entropy(p_ss3, t[:,-1].long())\n",
    "        ss8_loss = F.cross_entropy(p_ss8, t[:,-2].long())\n",
    "        other_loss = F.mse_loss(p_other, t[:,:9])/1500\n",
    "\n",
    "        loss = ss3_loss + ss8_loss + other_loss\n",
    "        loss.backward()\n",
    "        optimizer.step()\n",
    "        \n",
    "        del x; del s;\n",
    "        mean_ss3 = (mean_ss3*batch_idx + ss3_loss.item())/ (batch_idx+1)\n",
    "        mean_ss8 = (mean_ss8*batch_idx + ss8_loss.item())/ (batch_idx+1)\n",
    "        mean_other = (mean_other*batch_idx + other_loss.item())/ (batch_idx+1)\n",
    "        mean_loss = (mean_loss*batch_idx + loss.item())/ (batch_idx+1)\n",
    "        mean_ss3_acc = (mean_ss3_acc*n_res + N*ss3_acc.item())/ (n_res+N)\n",
    "        mean_ss8_acc = (mean_ss8_acc*n_res + N*ss8_acc.item())/ (n_res+N)\n",
    "        n_res += N\n",
    "        m, s = int(time.time()-start)//60, int(time.time()-start)%60\n",
    "        print(f'''Train Epoch: {epoch} [{int(100*batch_idx/len(train_loader))}%] || Time: {m} min {s} || SS3 Acc: {mean_ss3_acc:.3f} || SS8 Acc : {mean_ss8_acc:.3f} || Loss: {mean_loss:.3f} || SS3 Loss: {mean_ss3:.3f} || SS8 Loss: {mean_ss8:.3f} || Other Loss: {mean_other:.3f}'''\n",
    "              , end=\"\\r\")\n",
    "    m, s = int(time.time()-start)//60, int(time.time()-start)%60\n",
    "    print(f'''Train Epoch: {epoch} [100%] || Time: {m} min {s}  || SS3 Acc: {mean_ss3_acc:.3f} || SS8 Acc : {mean_ss8_acc:.3f} || Loss: {mean_loss:.3f} || SS3 Loss: {mean_ss3:.3f} || SS8 Loss: {mean_ss8:.3f} || Other Loss: {mean_other:.3f}''')"
   ]
  },
  {
   "cell_type": "code",
   "execution_count": 10,
   "metadata": {},
   "outputs": [],
   "source": [
    "def train(epoch):\n",
    "    n_res, mean_ss3, mean_ss8, mean_box, mean_other, mean_loss, mean_ss3_acc, mean_ss8_acc = 0,0,0,0,0,0,0,0\n",
    "    model.train()\n",
    "    for batch_idx, data in enumerate(train_loader):\n",
    "        x = data[0].float().permute(0, 2, 1).cuda()[:,:40]\n",
    "        s = data[1].float().permute(0, 2, 1).cuda()\n",
    "        t = data[2].float().permute(0, 2, 1).cuda()\n",
    "        B,_,N = x.size()\n",
    "\n",
    "        optimizer.zero_grad()\n",
    "        p_ss3 = model(x)\n",
    "        p_ss3 = p_ss3.cpu()\n",
    "        x, s, t = x.cpu(), s.cpu(), t.cpu()\n",
    "        \n",
    "        ss3_acc = (p_ss3.argmax(1) == t[:,-1]).int().float().mean()\n",
    "        ss3_loss = F.cross_entropy(p_ss3, t[:,-1].long())\n",
    "\n",
    "        loss = ss3_loss\n",
    "        loss.backward()\n",
    "        optimizer.step()\n",
    "        \n",
    "        del x; del s;\n",
    "        mean_loss = (mean_loss*batch_idx + loss.item())/ (batch_idx+1)\n",
    "        mean_ss3_acc = (mean_ss3_acc*n_res + N*ss3_acc.item())/ (n_res+N)\n",
    "        n_res += N\n",
    "        m, s = int(time.time()-start)//60, int(time.time()-start)%60\n",
    "        print(f'''Train Epoch: {epoch} [{int(100*batch_idx/len(train_loader))}%] || Time: {m} min {s} || SS3 Acc: {mean_ss3_acc:.3f} || Loss: {mean_loss:.3f}'''\n",
    "              , end=\"\\r\")\n",
    "    m, s = int(time.time()-start)//60, int(time.time()-start)%60\n",
    "    print(f'''Train Epoch: {epoch} [100%] || Time: {m} min {s}  || SS3 Acc: {mean_ss3_acc:.3f} || Loss: {mean_loss:.3f} ''')"
   ]
  },
  {
   "cell_type": "markdown",
   "metadata": {},
   "source": [
    "## Validate"
   ]
  },
  {
   "cell_type": "code",
   "execution_count": 27,
   "metadata": {
    "ExecuteTime": {
     "end_time": "2020-02-27T15:57:00.179975Z",
     "start_time": "2020-02-27T15:57:00.148891Z"
    }
   },
   "outputs": [],
   "source": [
    "import math\n",
    "def val(epoch, thres = 0.5):\n",
    "    mean_ss3_acc, mean_ss8_acc, n_res = 0,0,0\n",
    "    model.eval()\n",
    "    predictions, predictions2 = [],[]\n",
    "    for batch_idx, data in enumerate(val_loader):\n",
    "        if batch_idx == 300:\n",
    "            break\n",
    "        x = data[0].float().permute(0, 2, 1).to(device)[:,:40]\n",
    "        s = data[1].float().permute(0, 2, 1).to(device)\n",
    "        t = data[2].float().permute(0, 2, 1).to(device)\n",
    "        B,_,N = x.size()\n",
    "\n",
    "        optimizer.zero_grad()\n",
    "        p_other, p_ss8, p_ss3 = model(x)\n",
    "        p_other, p_ss8, p_ss3 = p_other.cpu(), p_ss8.cpu(), p_ss3.cpu()\n",
    "        x, s, t = x.cpu(), s.cpu(), t.cpu()\n",
    "        \n",
    "        p_ss3 = F.softmax(p_ss3,1)\n",
    "        p = p_ss3.detach()\n",
    "        \n",
    "        predictions.append(p.argmax(1).numpy()[0])\n",
    "        ss3_acc = (p.argmax(1) == t[:,-1]).int().float().mean()\n",
    "        ss8_acc = (p_ss8.argmax(1) == t[:,-2]).int().float().mean()\n",
    "        mean_ss3_acc = (mean_ss3_acc*n_res + N*ss3_acc.item())/ (n_res+N)\n",
    "        mean_ss8_acc = (mean_ss8_acc*n_res + N*ss8_acc.item())/ (n_res+N)\n",
    "        n_res += N\n",
    "        m, s = int(time.time()-start)//60, int(time.time()-start)%60\n",
    "        print(f'''Val Epoch: {epoch} [{int(100*batch_idx/len(val_loader))}%] || Time: {m} min {s} ||| SS3 Acc: {mean_ss3_acc:.3f} || SS8 Acc: {mean_ss8_acc:.3f}''', end=\"\\r\")\n",
    "    print(f'''Val Epoch: {epoch} [100%] || Time: {m} min {s} || SS3 Acc: {mean_ss3_acc:.3f} || SS8 Acc: {mean_ss8_acc:.3f}''')\n",
    "    return predictions, predictions2"
   ]
  },
  {
   "cell_type": "code",
   "execution_count": null,
   "metadata": {},
   "outputs": [],
   "source": [
    "import math\n",
    "def val(epoch, thres = 0.5):\n",
    "    mean_ss3_acc, mean_ss8_acc, n_res = 0,0,0\n",
    "    model.eval()\n",
    "    predictions = []\n",
    "    for batch_idx, data in enumerate(val_loader):\n",
    "        if batch_idx == 300:\n",
    "            break\n",
    "        x = data[0].float().permute(0, 2, 1).to(device)[:,:40]\n",
    "        s = data[1].float().permute(0, 2, 1).to(device)\n",
    "        t = data[2].float().permute(0, 2, 1).to(device)\n",
    "        B,_,N = x.size()\n",
    "\n",
    "        optimizer.zero_grad()\n",
    "        p_ss3 = model(x)\n",
    "        p_ss3 = p_ss3.cpu()\n",
    "        x, s, t = x.cpu(), s.cpu(), t.cpu()\n",
    "        \n",
    "        predictions.append(p_ss3.argmax(1).numpy()[0])\n",
    "        ss3_acc = (p_ss3.argmax(1) == t[:,-1]).int().float().mean()\n",
    "        mean_ss3_acc = (mean_ss3_acc*n_res + N*ss3_acc.item())/ (n_res+N)\n",
    "        n_res += N\n",
    "        m, s = int(time.time()-start)//60, int(time.time()-start)%60\n",
    "        print(f'''Val Epoch: {epoch} [{int(100*batch_idx/len(val_loader))}%] || Time: {m} min {s} ||| SS3 Acc: {mean_ss3_acc:.3f}''', end=\"\\r\")\n",
    "    print(f'''Val Epoch: {epoch} [100%] || Time: {m} min {s} || SS3 Acc: {mean_ss3_acc:.3f}''')\n",
    "    return predictions"
   ]
  },
  {
   "cell_type": "markdown",
   "metadata": {},
   "source": [
    "### Run"
   ]
  },
  {
   "cell_type": "code",
   "execution_count": 31,
   "metadata": {
    "ExecuteTime": {
     "end_time": "2020-02-27T16:04:14.029149Z",
     "start_time": "2020-02-27T16:00:44.671083Z"
    },
    "scrolled": true
   },
   "outputs": [
    {
     "name": "stdout",
     "output_type": "stream",
     "text": [
      "Train Epoch: 0 [100%] || Time: 4 min 47  || SS3 Acc: 0.523 || SS8 Acc : 0.397 || Loss: 5.075 || SS3 Loss: 1.006 || SS8 Loss: 1.860 || Other Loss: 2.210\n",
      "Val Epoch: 0 [100%] || Time: 4 min 51 || SS3 Acc: 0.529 || SS8 Acc: 0.448\n",
      "Train Epoch: 1 [100%] || Time: 10 min 31  || SS3 Acc: 0.573 || SS8 Acc : 0.464 || Loss: 4.398 || SS3 Loss: 0.957 || SS8 Loss: 1.791 || Other Loss: 1.649\n",
      "Val Epoch: 1 [100%] || Time: 10 min 35 || SS3 Acc: 0.588 || SS8 Acc: 0.464\n",
      "Train Epoch: 2 [100%] || Time: 16 min 28  || SS3 Acc: 0.591 || SS8 Acc : 0.477 || Loss: 4.351 || SS3 Loss: 0.939 || SS8 Loss: 1.778 || Other Loss: 1.634\n",
      "Val Epoch: 2 [100%] || Time: 16 min 33 || SS3 Acc: 0.593 || SS8 Acc: 0.471\n",
      "Train Epoch: 3 [100%] || Time: 22 min 44  || SS3 Acc: 0.601 || SS8 Acc : 0.488 || Loss: 4.318 || SS3 Loss: 0.929 || SS8 Loss: 1.767 || Other Loss: 1.622\n",
      "Val Epoch: 3 [100%] || Time: 22 min 48 || SS3 Acc: 0.607 || SS8 Acc: 0.485\n",
      "Train Epoch: 4 [96%] || Time: 27 min 45 || SS3 Acc: 0.606 || SS8 Acc : 0.493 || Loss: 4.299 || SS3 Loss: 0.923 || SS8 Loss: 1.762 || Other Loss: 1.614\r"
     ]
    },
    {
     "ename": "KeyboardInterrupt",
     "evalue": "",
     "output_type": "error",
     "traceback": [
      "\u001b[0;31m---------------------------------------------------------------------------\u001b[0m",
      "\u001b[0;31mKeyboardInterrupt\u001b[0m                         Traceback (most recent call last)",
      "\u001b[0;32m<ipython-input-31-943e58d1669e>\u001b[0m in \u001b[0;36m<module>\u001b[0;34m\u001b[0m\n\u001b[1;32m      1\u001b[0m \u001b[0;32mfor\u001b[0m \u001b[0mi\u001b[0m \u001b[0;32min\u001b[0m \u001b[0mrange\u001b[0m\u001b[0;34m(\u001b[0m\u001b[0;36m50\u001b[0m\u001b[0;34m)\u001b[0m\u001b[0;34m:\u001b[0m\u001b[0;34m\u001b[0m\u001b[0;34m\u001b[0m\u001b[0m\n\u001b[0;32m----> 2\u001b[0;31m     \u001b[0mtrain\u001b[0m\u001b[0;34m(\u001b[0m\u001b[0mi\u001b[0m\u001b[0;34m)\u001b[0m\u001b[0;34m\u001b[0m\u001b[0;34m\u001b[0m\u001b[0m\n\u001b[0m\u001b[1;32m      3\u001b[0m     \u001b[0mval\u001b[0m\u001b[0;34m(\u001b[0m\u001b[0mi\u001b[0m\u001b[0;34m)\u001b[0m\u001b[0;34m\u001b[0m\u001b[0;34m\u001b[0m\u001b[0m\n",
      "\u001b[0;32m<ipython-input-29-a80e10f662f1>\u001b[0m in \u001b[0;36mtrain\u001b[0;34m(epoch)\u001b[0m\n\u001b[1;32m     20\u001b[0m \u001b[0;34m\u001b[0m\u001b[0m\n\u001b[1;32m     21\u001b[0m         \u001b[0mloss\u001b[0m \u001b[0;34m=\u001b[0m \u001b[0mss3_loss\u001b[0m \u001b[0;34m+\u001b[0m \u001b[0mss8_loss\u001b[0m \u001b[0;34m+\u001b[0m \u001b[0mother_loss\u001b[0m\u001b[0;34m\u001b[0m\u001b[0;34m\u001b[0m\u001b[0m\n\u001b[0;32m---> 22\u001b[0;31m         \u001b[0mloss\u001b[0m\u001b[0;34m.\u001b[0m\u001b[0mbackward\u001b[0m\u001b[0;34m(\u001b[0m\u001b[0;34m)\u001b[0m\u001b[0;34m\u001b[0m\u001b[0;34m\u001b[0m\u001b[0m\n\u001b[0m\u001b[1;32m     23\u001b[0m         \u001b[0moptimizer\u001b[0m\u001b[0;34m.\u001b[0m\u001b[0mstep\u001b[0m\u001b[0;34m(\u001b[0m\u001b[0;34m)\u001b[0m\u001b[0;34m\u001b[0m\u001b[0;34m\u001b[0m\u001b[0m\n\u001b[1;32m     24\u001b[0m \u001b[0;34m\u001b[0m\u001b[0m\n",
      "\u001b[0;32m~/.local/lib/python3.7/site-packages/torch/tensor.py\u001b[0m in \u001b[0;36mbackward\u001b[0;34m(self, gradient, retain_graph, create_graph)\u001b[0m\n\u001b[1;32m    148\u001b[0m                 \u001b[0mproducts\u001b[0m\u001b[0;34m.\u001b[0m \u001b[0mDefaults\u001b[0m \u001b[0mto\u001b[0m\u001b[0;31m \u001b[0m\u001b[0;31m`\u001b[0m\u001b[0;31m`\u001b[0m\u001b[0;32mFalse\u001b[0m\u001b[0;31m`\u001b[0m\u001b[0;31m`\u001b[0m\u001b[0;34m.\u001b[0m\u001b[0;34m\u001b[0m\u001b[0;34m\u001b[0m\u001b[0m\n\u001b[1;32m    149\u001b[0m         \"\"\"\n\u001b[0;32m--> 150\u001b[0;31m         \u001b[0mtorch\u001b[0m\u001b[0;34m.\u001b[0m\u001b[0mautograd\u001b[0m\u001b[0;34m.\u001b[0m\u001b[0mbackward\u001b[0m\u001b[0;34m(\u001b[0m\u001b[0mself\u001b[0m\u001b[0;34m,\u001b[0m \u001b[0mgradient\u001b[0m\u001b[0;34m,\u001b[0m \u001b[0mretain_graph\u001b[0m\u001b[0;34m,\u001b[0m \u001b[0mcreate_graph\u001b[0m\u001b[0;34m)\u001b[0m\u001b[0;34m\u001b[0m\u001b[0;34m\u001b[0m\u001b[0m\n\u001b[0m\u001b[1;32m    151\u001b[0m \u001b[0;34m\u001b[0m\u001b[0m\n\u001b[1;32m    152\u001b[0m     \u001b[0;32mdef\u001b[0m \u001b[0mregister_hook\u001b[0m\u001b[0;34m(\u001b[0m\u001b[0mself\u001b[0m\u001b[0;34m,\u001b[0m \u001b[0mhook\u001b[0m\u001b[0;34m)\u001b[0m\u001b[0;34m:\u001b[0m\u001b[0;34m\u001b[0m\u001b[0;34m\u001b[0m\u001b[0m\n",
      "\u001b[0;32m~/.local/lib/python3.7/site-packages/torch/autograd/__init__.py\u001b[0m in \u001b[0;36mbackward\u001b[0;34m(tensors, grad_tensors, retain_graph, create_graph, grad_variables)\u001b[0m\n\u001b[1;32m     97\u001b[0m     Variable._execution_engine.run_backward(\n\u001b[1;32m     98\u001b[0m         \u001b[0mtensors\u001b[0m\u001b[0;34m,\u001b[0m \u001b[0mgrad_tensors\u001b[0m\u001b[0;34m,\u001b[0m \u001b[0mretain_graph\u001b[0m\u001b[0;34m,\u001b[0m \u001b[0mcreate_graph\u001b[0m\u001b[0;34m,\u001b[0m\u001b[0;34m\u001b[0m\u001b[0;34m\u001b[0m\u001b[0m\n\u001b[0;32m---> 99\u001b[0;31m         allow_unreachable=True)  # allow_unreachable flag\n\u001b[0m\u001b[1;32m    100\u001b[0m \u001b[0;34m\u001b[0m\u001b[0m\n\u001b[1;32m    101\u001b[0m \u001b[0;34m\u001b[0m\u001b[0m\n",
      "\u001b[0;31mKeyboardInterrupt\u001b[0m: "
     ]
    }
   ],
   "source": [
    "for i in range(50):\n",
    "    train(i)\n",
    "    val(i)"
   ]
  },
  {
   "cell_type": "code",
   "execution_count": 15,
   "metadata": {
    "ExecuteTime": {
     "end_time": "2020-02-27T16:04:33.109296Z",
     "start_time": "2020-02-27T16:04:33.075584Z"
    }
   },
   "outputs": [],
   "source": [
    "torch.save(model.state_dict(), f\"{DATA}/secondary_structure/model_nofeats.h5\")"
   ]
  },
  {
   "cell_type": "markdown",
   "metadata": {},
   "source": [
    "## Test/Use"
   ]
  },
  {
   "cell_type": "code",
   "execution_count": 8,
   "metadata": {
    "ExecuteTime": {
     "end_time": "2020-02-27T17:09:04.228292Z",
     "start_time": "2020-02-27T17:09:04.224119Z"
    }
   },
   "outputs": [],
   "source": [
    "def test(epoch, thres = 0.5):\n",
    "    mean_ss3_acc, mean_ss8_acc, n_res = 0,0,0\n",
    "    model.eval()\n",
    "#     denoiser.eval()\n",
    "    predictions = []\n",
    "    for batch_idx, data in enumerate(test_loader):\n",
    "#         if batch_idx == 300:\n",
    "#             break\n",
    "        x = data.float().permute(0, 2, 1).to(device)[:,:40]\n",
    "        B,_,N = x.size()\n",
    "\n",
    "        optimizer.zero_grad()\n",
    "        p_other, p_ss8, p_ss3 = model(x)\n",
    "        p_other, p_ss8, p_ss3 = p_other.cpu(), p_ss8.cpu(), p_ss3.cpu()\n",
    "        x = x.cpu()\n",
    "        \n",
    "        p_ss3 = F.softmax(p_ss3,1)\n",
    "        p_ss8 = F.softmax(p_ss8,1)\n",
    "        predictions.append(p_ss3[0].permute(1,0).detach().numpy())\n",
    "\n",
    "    return predictions"
   ]
  },
  {
   "cell_type": "code",
   "execution_count": 9,
   "metadata": {
    "ExecuteTime": {
     "end_time": "2020-02-27T17:11:43.320201Z",
     "start_time": "2020-02-27T17:09:04.293016Z"
    }
   },
   "outputs": [],
   "source": [
    "potentials = test(0)"
   ]
  },
  {
   "cell_type": "code",
   "execution_count": 13,
   "metadata": {
    "ExecuteTime": {
     "end_time": "2020-02-27T13:38:45.347879Z",
     "start_time": "2020-02-27T13:38:45.340189Z"
    }
   },
   "outputs": [
    {
     "data": {
      "text/plain": [
       "54025"
      ]
     },
     "execution_count": 13,
     "metadata": {},
     "output_type": "execute_result"
    }
   ],
   "source": [
    "len(potentials)"
   ]
  },
  {
   "cell_type": "markdown",
   "metadata": {},
   "source": [
    "## Vizualize"
   ]
  },
  {
   "cell_type": "code",
   "execution_count": 23,
   "metadata": {
    "ExecuteTime": {
     "end_time": "2020-02-27T16:05:48.105528Z",
     "start_time": "2020-02-27T16:05:48.083755Z"
    }
   },
   "outputs": [],
   "source": [
    "colors = [(0.7,0.2,0), \n",
    "          (0.7,0.2,0.4), \n",
    "          (0.7,0.2,0.8), \n",
    "          (0,1,0), \n",
    "          (0.7,1,0), \n",
    "          (0,0,1), \n",
    "          (0,0.4,1), \n",
    "          (0,0.8,1)]\n",
    "\n",
    "def to_seq(p, size):\n",
    "    seq = np.ones(size, dtype = int)*2\n",
    "    for bbox in p.numpy().T[::-1]:\n",
    "        seq[bbox[0]: bbox[1]] = bbox[2]\n",
    "    return seq\n",
    "\n",
    "def overlap_to_one(x, p):\n",
    "    x = x.expand(x.size(0), p.size(-1))\n",
    "    inter_low = torch.max(x[0], p[0]).float()\n",
    "    inter_high = torch.min(x[1], p[1]).float()\n",
    "    union_low = torch.min(x[0], p[0]).float()\n",
    "    union_high = torch.max(x[1], p[1]).float()\n",
    "    return torch.clamp((inter_high - inter_low),min = 0)\n",
    "\n",
    "def to_map(pot, k):\n",
    "    mapping = np.ones((pot.shape[0],3))\n",
    "    r,g,b = colors[k]\n",
    "    p = pot[:,k]\n",
    "    mapping[:,0] = r*p\n",
    "    mapping[:,1] = g*p\n",
    "    mapping[:,2] = b*p\n",
    "    return mapping"
   ]
  },
  {
   "cell_type": "code",
   "execution_count": 26,
   "metadata": {
    "ExecuteTime": {
     "end_time": "2020-02-27T16:06:10.998076Z",
     "start_time": "2020-02-27T16:06:08.712972Z"
    }
   },
   "outputs": [
    {
     "data": {
      "image/png": "[encoded data removed]",
      "text/plain": [
       "<Figure size 720x216 with 1 Axes>"
      ]
     },
     "metadata": {
      "needs_background": "light"
     },
     "output_type": "display_data"
    },
    {
     "data": {
      "image/png": "[encoded data removed]",
      "text/plain": [
       "<Figure size 720x216 with 1 Axes>"
      ]
     },
     "metadata": {
      "needs_background": "light"
     },
     "output_type": "display_data"
    },
    {
     "data": {
      "image/png": "[encoded data removed]",
      "text/plain": [
       "<Figure size 720x216 with 1 Axes>"
      ]
     },
     "metadata": {
      "needs_background": "light"
     },
     "output_type": "display_data"
    },
    {
     "data": {
      "image/png": "[encoded data removed]",
      "text/plain": [
       "<Figure size 720x216 with 1 Axes>"
      ]
     },
     "metadata": {
      "needs_background": "light"
     },
     "output_type": "display_data"
    },
    {
     "data": {
      "image/png": "[encoded data removed]",
      "text/plain": [
       "<Figure size 720x216 with 1 Axes>"
      ]
     },
     "metadata": {
      "needs_background": "light"
     },
     "output_type": "display_data"
    },
    {
     "data": {
      "image/png": "[encoded data removed]",
      "text/plain": [
       "<Figure size 720x216 with 1 Axes>"
      ]
     },
     "metadata": {
      "needs_background": "light"
     },
     "output_type": "display_data"
    },
    {
     "data": {
      "image/png": "[encoded data removed]",
      "text/plain": [
       "<Figure size 720x216 with 1 Axes>"
      ]
     },
     "metadata": {
      "needs_background": "light"
     },
     "output_type": "display_data"
    },
    {
     "data": {
      "image/png": "[encoded data removed]",
      "text/plain": [
       "<Figure size 720x216 with 1 Axes>"
      ]
     },
     "metadata": {
      "needs_background": "light"
     },
     "output_type": "display_data"
    },
    {
     "data": {
      "image/png": "[encoded data removed]",
      "text/plain": [
       "<Figure size 720x216 with 1 Axes>"
      ]
     },
     "metadata": {
      "needs_background": "light"
     },
     "output_type": "display_data"
    },
    {
     "data": {
      "image/png": "[encoded data removed]",
      "text/plain": [
       "<Figure size 720x216 with 1 Axes>"
      ]
     },
     "metadata": {
      "needs_background": "light"
     },
     "output_type": "display_data"
    },
    {
     "data": {
      "image/png": "[encoded data removed]",
      "text/plain": [
       "<Figure size 720x216 with 1 Axes>"
      ]
     },
     "metadata": {
      "needs_background": "light"
     },
     "output_type": "display_data"
    },
    {
     "data": {
      "image/png": "[encoded data removed]",
      "text/plain": [
       "<Figure size 720x216 with 1 Axes>"
      ]
     },
     "metadata": {
      "needs_background": "light"
     },
     "output_type": "display_data"
    },
    {
     "data": {
      "image/png": "[encoded data removed]",
      "text/plain": [
       "<Figure size 720x216 with 1 Axes>"
      ]
     },
     "metadata": {
      "needs_background": "light"
     },
     "output_type": "display_data"
    },
    {
     "data": {
      "image/png": "[encoded data removed]",
      "text/plain": [
       "<Figure size 720x216 with 1 Axes>"
      ]
     },
     "metadata": {
      "needs_background": "light"
     },
     "output_type": "display_data"
    },
    {
     "data": {
      "image/png": "[encoded data removed]",
      "text/plain": [
       "<Figure size 720x216 with 1 Axes>"
      ]
     },
     "metadata": {
      "needs_background": "light"
     },
     "output_type": "display_data"
    },
    {
     "data": {
      "image/png": "[encoded data removed]",
      "text/plain": [
       "<Figure size 720x216 with 1 Axes>"
      ]
     },
     "metadata": {
      "needs_background": "light"
     },
     "output_type": "display_data"
    },
    {
     "data": {
      "image/png": "[encoded data removed]",
      "text/plain": [
       "<Figure size 720x216 with 1 Axes>"
      ]
     },
     "metadata": {
      "needs_background": "light"
     },
     "output_type": "display_data"
    },
    {
     "data": {
      "image/png": "[encoded data removed]",
      "text/plain": [
       "<Figure size 720x216 with 1 Axes>"
      ]
     },
     "metadata": {
      "needs_background": "light"
     },
     "output_type": "display_data"
    },
    {
     "data": {
      "image/png": "[encoded data removed]",
      "text/plain": [
       "<Figure size 720x216 with 1 Axes>"
      ]
     },
     "metadata": {
      "needs_background": "light"
     },
     "output_type": "display_data"
    },
    {
     "data": {
      "image/png": "[encoded data removed]",
      "text/plain": [
       "<Figure size 720x216 with 1 Axes>"
      ]
     },
     "metadata": {
      "needs_background": "light"
     },
     "output_type": "display_data"
    }
   ],
   "source": [
    "SIZE = 64\n",
    "\n",
    "for i in range(20):\n",
    "#     gt = np.array(val_dataset[i][2][:,-1],dtype=int)\n",
    "    N = potentials[i].shape[0]\n",
    "    q, r = N//SIZE, N%SIZE\n",
    "    j = 0\n",
    "    for j in range(q):\n",
    "        fig = plt.figure(figsize=(10,3))\n",
    "        p = potentials[i][SIZE*j:SIZE*(j+1)]\n",
    "        mapping = np.array([to_map(p,i) for i in range(3)])\n",
    "        plt.xticks(list(range(0,SIZE,20)), list(range(SIZE*j,SIZE*(j+1),20)))\n",
    "        plt.yticks([0,1,2],[\"alpha\", \"beta\", \"coil\"])\n",
    "        plt.imshow(mapping)\n",
    "\n",
    "    fig = plt.figure(figsize=(10,3))\n",
    "    p = np.pad(potentials[i][-r:], ((0,SIZE-r),(0,0)))\n",
    "    mapping = np.array([to_map(p,i) for i in range(3)])\n",
    "    plt.xticks(list(range(0,SIZE,20)), list(range(SIZE*j,SIZE*(j+1),20)))\n",
    "    plt.yticks([0,1,2],[\"alpha\", \"beta\", \"coil\"])\n",
    "    plt.imshow(mapping)\n"
   ]
  },
  {
   "cell_type": "code",
   "execution_count": 10,
   "metadata": {
    "ExecuteTime": {
     "end_time": "2020-02-27T17:18:10.255878Z",
     "start_time": "2020-02-27T17:18:08.907744Z"
    }
   },
   "outputs": [],
   "source": [
    "pickle.dump(potentials, open(f\"{DATA}/{DATASET}/ss3_spec.pkl\", \"wb\"))"
   ]
  },
  {
   "cell_type": "code",
   "execution_count": 17,
   "metadata": {
    "ExecuteTime": {
     "end_time": "2020-02-27T13:41:19.334557Z",
     "start_time": "2020-02-27T13:41:19.327154Z"
    }
   },
   "outputs": [
    {
     "data": {
      "text/plain": [
       "54025"
      ]
     },
     "execution_count": 17,
     "metadata": {},
     "output_type": "execute_result"
    }
   ],
   "source": [
    "len(potentials)"
   ]
  },
  {
   "cell_type": "markdown",
   "metadata": {
    "heading_collapsed": true
   },
   "source": [
    "## Denoiser"
   ]
  },
  {
   "cell_type": "code",
   "execution_count": 149,
   "metadata": {
    "hidden": true
   },
   "outputs": [],
   "source": [
    "from secondary_structure.model import ResBlock, leaky_relu, ConvBlock\n",
    "\n",
    "class Denoiser(nn.Module):\n",
    "    def __init__(self):\n",
    "        super(Denoiser, self).__init__()\n",
    "\n",
    "        self.conv1 = ConvBlock(nn.Conv1d, None, None, \n",
    "                                3, 3, 257,\n",
    "                                stride=1, padding=128, bias=True)\n",
    "#         self.conv2 = ConvBlock(nn.Conv1d, leaky_relu, nn.BatchNorm1d, \n",
    "#                                 32, 64, 129,\n",
    "#                                 stride=1, padding=64, bias=True)  \n",
    "#         self.conv3 = ConvBlock(nn.Conv1d, leaky_relu, nn.BatchNorm1d, \n",
    "#                         64, 3, 129,\n",
    "#                         stride=1, padding=64, bias=True)        \n",
    "\n",
    "        \n",
    "\n",
    "    def forward(self, x):\n",
    "        h = self.conv1(x)\n",
    "#         h = self.conv2(h)\n",
    "#         h = self.conv3(h)\n",
    "        return h"
   ]
  },
  {
   "cell_type": "code",
   "execution_count": 150,
   "metadata": {
    "hidden": true
   },
   "outputs": [],
   "source": [
    "def seq_acc(pred, target):\n",
    "    return (pred.argmax(1) == target).sum()\n",
    "\n",
    "def train_denoiser(epoch):\n",
    "    start = time.time()\n",
    "    denoiser.train()\n",
    "    train_loss, train_acc, n_res = 0, 0, 0\n",
    "    for batch_idx, data in enumerate(train_loader):\n",
    "        t = data[2].float().permute(0, 2, 1)[:, -1].long()\n",
    "        B,N = t.size()\n",
    "        \n",
    "        x = t.clone().view(1,1,-1)\n",
    "        perm = torch.randperm(N)\n",
    "        idx = perm[:N//10]\n",
    "        changes = torch.randint(2, size = (N//10,))\n",
    "        x[0,0,idx] = changes\n",
    "        x_onehot = torch.zeros(B,3,N)\n",
    "        x_onehot[0, x[0,0], torch.arange(N)] = 1\n",
    "        \n",
    "        optimizer.zero_grad()\n",
    "        y = denoiser(x_onehot.cuda()).cpu()\n",
    "        loss = F.cross_entropy(y, t)\n",
    "        loss.backward()\n",
    "        train_loss += loss.item()/len(data)\n",
    "        optimizer.step()\n",
    "        \n",
    "        acc = seq_acc(y, t).float()\n",
    "        train_acc = (train_acc * n_res + acc)/(n_res+N)\n",
    "        n_res += N\n",
    "        print(f'''Train Epoch: {epoch} [{100. * batch_idx / len(train_loader):.0f}%] || Loss: {train_loss/(batch_idx+1):.2f} || Time: {time.time()-start:.2f}s || Acc: {train_acc:.4f}''', end=\"\\r\")\n",
    "        \n",
    "    print(f'''Train Epoch: {epoch} [100%] || Loss: {train_loss/(batch_idx+1):.2f} || Time: {time.time()-start:.2f}s || Acc: {train_acc:.4f}''')\n",
    "    \n",
    "def val_denoiser(epoch):\n",
    "    start = time.time()\n",
    "    denoiser.eval()\n",
    "    val_loss, val_acc, n_res = 0, 0, 0\n",
    "    for batch_idx, data in enumerate(val_loader):\n",
    "        t = data[2].float().permute(0, 2, 1)[:, -1].long()\n",
    "        B,N = t.size()\n",
    "        \n",
    "        x = t.clone().view(1,1,-1)\n",
    "        perm = torch.randperm(N)\n",
    "        idx = perm[:N//10]\n",
    "        changes = torch.randint(2, size = (N//10,))\n",
    "        x[0,0,idx] = changes\n",
    "        x_onehot = torch.zeros(B,3,N)\n",
    "        x_onehot[0, x[0,0], torch.arange(N)] = 1\n",
    "                \n",
    "        y = denoiser(x_onehot.cuda()).cpu()\n",
    "        loss = F.cross_entropy(y, t)\n",
    "\n",
    "        val_loss += loss.item()/len(data)\n",
    "        acc = seq_acc(y, t).float()\n",
    "        val_acc = (val_acc * n_res + acc)/(n_res+N)\n",
    "        n_res += N\n",
    "    print(f'''Val Epoch: {epoch} || Loss: {val_loss/(batch_idx+1):.2f} || Time: {time.time()-start:.2f}s || Acc: {val_acc:.4f}''')\n"
   ]
  },
  {
   "cell_type": "code",
   "execution_count": 153,
   "metadata": {
    "hidden": true
   },
   "outputs": [
    {
     "data": {
      "text/plain": [
       "Denoiser(\n",
       "  (conv1): ConvBlock(\n",
       "    (conv): Conv1d(3, 3, kernel_size=(257,), stride=(1,), padding=(128,))\n",
       "  )\n",
       ")"
      ]
     },
     "execution_count": 153,
     "metadata": {},
     "output_type": "execute_result"
    }
   ],
   "source": [
    "N, qx, qs, h = 128, 50, 3, 8\n",
    "# del model\n",
    "device = torch.device('cuda')\n",
    "\n",
    "# del model\n",
    "denoiser = Denoiser()\n",
    "denoiser = denoiser.to(device)\n",
    "optimizer = optim.Adam(denoiser.parameters(), lr=0.001)\n",
    "start = time.time()\n",
    "\n",
    "denoiser"
   ]
  },
  {
   "cell_type": "code",
   "execution_count": 154,
   "metadata": {
    "hidden": true
   },
   "outputs": [
    {
     "name": "stdout",
     "output_type": "stream",
     "text": [
      "Train Epoch: 0 [0%] || Loss: 0.38 || Time: 0.01s || Acc: 0.3256\r",
      "Train Epoch: 0 [0%] || Loss: 0.37 || Time: 0.02s || Acc: 0.3350\r",
      "Train Epoch: 0 [0%] || Loss: 0.38 || Time: 0.02s || Acc: 0.3315\r",
      "Train Epoch: 0 [0%] || Loss: 0.38 || Time: 0.03s || Acc: 0.3374\r",
      "Train Epoch: 0 [0%] || Loss: 0.38 || Time: 0.03s || Acc: 0.3566\r",
      "Train Epoch: 0 [0%] || Loss: 0.37 || Time: 0.03s || Acc: 0.3610\r",
      "Train Epoch: 0 [0%] || Loss: 0.37 || Time: 0.04s || Acc: 0.3785\r",
      "Train Epoch: 0 [0%] || Loss: 0.35 || Time: 0.04s || Acc: 0.4155\r",
      "Train Epoch: 0 [0%] || Loss: 0.35 || Time: 0.04s || Acc: 0.4244\r",
      "Train Epoch: 0 [0%] || Loss: 0.35 || Time: 0.04s || Acc: 0.4347\r",
      "Train Epoch: 0 [0%] || Loss: 0.35 || Time: 0.04s || Acc: 0.4328\r",
      "Train Epoch: 0 [0%] || Loss: 0.35 || Time: 0.04s || Acc: 0.4353\r",
      "Train Epoch: 0 [0%] || Loss: 0.35 || Time: 0.04s || Acc: 0.4354\r",
      "Train Epoch: 0 [0%] || Loss: 0.35 || Time: 0.04s || Acc: 0.4454\r",
      "Train Epoch: 0 [0%] || Loss: 0.34 || Time: 0.05s || Acc: 0.4498\r",
      "Train Epoch: 0 [0%] || Loss: 0.34 || Time: 0.05s || Acc: 0.4519\r",
      "Train Epoch: 0 [0%] || Loss: 0.34 || Time: 0.05s || Acc: 0.4497\r",
      "Train Epoch: 0 [0%] || Loss: 0.34 || Time: 0.05s || Acc: 0.4495\r",
      "Train Epoch: 0 [0%] || Loss: 0.34 || Time: 0.05s || Acc: 0.4516\r",
      "Train Epoch: 0 [0%] || Loss: 0.34 || Time: 0.05s || Acc: 0.4557\r",
      "Train Epoch: 0 [0%] || Loss: 0.34 || Time: 0.05s || Acc: 0.4557\r",
      "Train Epoch: 0 [0%] || Loss: 0.34 || Time: 0.06s || Acc: 0.4620\r",
      "Train Epoch: 0 [0%] || Loss: 0.34 || Time: 0.06s || Acc: 0.4618\r",
      "Train Epoch: 0 [0%] || Loss: 0.34 || Time: 0.06s || Acc: 0.4645\r",
      "Train Epoch: 0 [0%] || Loss: 0.34 || Time: 0.06s || Acc: 0.4637\r",
      "Train Epoch: 0 [0%] || Loss: 0.34 || Time: 0.06s || Acc: 0.4708\r",
      "Train Epoch: 0 [0%] || Loss: 0.33 || Time: 0.06s || Acc: 0.4809\r",
      "Train Epoch: 0 [0%] || Loss: 0.33 || Time: 0.06s || Acc: 0.4849\r",
      "Train Epoch: 0 [0%] || Loss: 0.33 || Time: 0.06s || Acc: 0.4846\r",
      "Train Epoch: 0 [0%] || Loss: 0.33 || Time: 0.07s || Acc: 0.4881\r",
      "Train Epoch: 0 [0%] || Loss: 0.33 || Time: 0.07s || Acc: 0.4921\r",
      "Train Epoch: 0 [0%] || Loss: 0.33 || Time: 0.07s || Acc: 0.4941\r",
      "Train Epoch: 0 [0%] || Loss: 0.33 || Time: 0.07s || Acc: 0.4933\r",
      "Train Epoch: 0 [0%] || Loss: 0.33 || Time: 0.07s || Acc: 0.4956\r",
      "Train Epoch: 0 [0%] || Loss: 0.33 || Time: 0.07s || Acc: 0.5048\r",
      "Train Epoch: 0 [0%] || Loss: 0.33 || Time: 0.07s || Acc: 0.5063\r",
      "Train Epoch: 0 [0%] || Loss: 0.33 || Time: 0.07s || Acc: 0.5076\r",
      "Train Epoch: 0 [0%] || Loss: 0.33 || Time: 0.08s || Acc: 0.5064\r",
      "Train Epoch: 0 [0%] || Loss: 0.33 || Time: 0.08s || Acc: 0.5052\r",
      "Train Epoch: 0 [0%] || Loss: 0.33 || Time: 0.08s || Acc: 0.5053\r",
      "Train Epoch: 0 [0%] || Loss: 0.33 || Time: 0.08s || Acc: 0.5067\r",
      "Train Epoch: 0 [0%] || Loss: 0.32 || Time: 0.08s || Acc: 0.5087\r",
      "Train Epoch: 0 [0%] || Loss: 0.32 || Time: 0.08s || Acc: 0.5102\r",
      "Train Epoch: 0 [0%] || Loss: 0.32 || Time: 0.08s || Acc: 0.5123\r",
      "Train Epoch: 0 [1%] || Loss: 0.32 || Time: 0.08s || Acc: 0.5124\r",
      "Train Epoch: 0 [1%] || Loss: 0.32 || Time: 0.09s || Acc: 0.5180\r",
      "Train Epoch: 0 [1%] || Loss: 0.32 || Time: 0.09s || Acc: 0.5193\r",
      "Train Epoch: 0 [1%] || Loss: 0.32 || Time: 0.09s || Acc: 0.5221\r",
      "Train Epoch: 0 [1%] || Loss: 0.32 || Time: 0.09s || Acc: 0.5232\r",
      "Train Epoch: 0 [1%] || Loss: 0.32 || Time: 0.09s || Acc: 0.5262\r",
      "Train Epoch: 0 [1%] || Loss: 0.31 || Time: 0.09s || Acc: 0.5296\r",
      "Train Epoch: 0 [1%] || Loss: 0.31 || Time: 0.09s || Acc: 0.5329\r",
      "Train Epoch: 0 [1%] || Loss: 0.31 || Time: 0.09s || Acc: 0.5335\r",
      "Train Epoch: 0 [1%] || Loss: 0.31 || Time: 0.10s || Acc: 0.5348\r",
      "Train Epoch: 0 [1%] || Loss: 0.31 || Time: 0.10s || Acc: 0.5352\r",
      "Train Epoch: 0 [1%] || Loss: 0.31 || Time: 0.10s || Acc: 0.5378\r",
      "Train Epoch: 0 [1%] || Loss: 0.31 || Time: 0.10s || Acc: 0.5386\r",
      "Train Epoch: 0 [1%] || Loss: 0.31 || Time: 0.10s || Acc: 0.5446\r",
      "Train Epoch: 0 [1%] || Loss: 0.31 || Time: 0.10s || Acc: 0.5467\r",
      "Train Epoch: 0 [1%] || Loss: 0.31 || Time: 0.10s || Acc: 0.5467\r",
      "Train Epoch: 0 [1%] || Loss: 0.31 || Time: 0.10s || Acc: 0.5477\r",
      "Train Epoch: 0 [1%] || Loss: 0.31 || Time: 0.11s || Acc: 0.5485\r",
      "Train Epoch: 0 [1%] || Loss: 0.31 || Time: 0.11s || Acc: 0.5512\r",
      "Train Epoch: 0 [1%] || Loss: 0.31 || Time: 0.11s || Acc: 0.5526\r",
      "Train Epoch: 0 [1%] || Loss: 0.30 || Time: 0.11s || Acc: 0.5538\r",
      "Train Epoch: 0 [1%] || Loss: 0.30 || Time: 0.11s || Acc: 0.5542\r",
      "Train Epoch: 0 [1%] || Loss: 0.30 || Time: 0.11s || Acc: 0.5550\r",
      "Train Epoch: 0 [1%] || Loss: 0.30 || Time: 0.11s || Acc: 0.5558\r",
      "Train Epoch: 0 [1%] || Loss: 0.30 || Time: 0.11s || Acc: 0.5599\r",
      "Train Epoch: 0 [1%] || Loss: 0.30 || Time: 0.12s || Acc: 0.5596\r",
      "Train Epoch: 0 [1%] || Loss: 0.30 || Time: 0.12s || Acc: 0.5624\r",
      "Train Epoch: 0 [1%] || Loss: 0.30 || Time: 0.12s || Acc: 0.5646\r",
      "Train Epoch: 0 [1%] || Loss: 0.30 || Time: 0.12s || Acc: 0.5666\r",
      "Train Epoch: 0 [1%] || Loss: 0.30 || Time: 0.12s || Acc: 0.5692\r",
      "Train Epoch: 0 [1%] || Loss: 0.30 || Time: 0.12s || Acc: 0.5702\r",
      "Train Epoch: 0 [1%] || Loss: 0.30 || Time: 0.12s || Acc: 0.5708\r",
      "Train Epoch: 0 [1%] || Loss: 0.30 || Time: 0.12s || Acc: 0.5720\r",
      "Train Epoch: 0 [1%] || Loss: 0.30 || Time: 0.13s || Acc: 0.5728\r",
      "Train Epoch: 0 [1%] || Loss: 0.30 || Time: 0.13s || Acc: 0.5737\r",
      "Train Epoch: 0 [1%] || Loss: 0.30 || Time: 0.13s || Acc: 0.5775\r",
      "Train Epoch: 0 [1%] || Loss: 0.30 || Time: 0.13s || Acc: 0.5786\r",
      "Train Epoch: 0 [1%] || Loss: 0.30 || Time: 0.13s || Acc: 0.5794\r",
      "Train Epoch: 0 [1%] || Loss: 0.30 || Time: 0.13s || Acc: 0.5799\r",
      "Train Epoch: 0 [1%] || Loss: 0.30 || Time: 0.13s || Acc: 0.5804\r",
      "Train Epoch: 0 [1%] || Loss: 0.30 || Time: 0.14s || Acc: 0.5808\r",
      "Train Epoch: 0 [1%] || Loss: 0.30 || Time: 0.14s || Acc: 0.5825\r",
      "Train Epoch: 0 [1%] || Loss: 0.30 || Time: 0.14s || Acc: 0.5844\r",
      "Train Epoch: 0 [1%] || Loss: 0.29 || Time: 0.14s || Acc: 0.5863\r",
      "Train Epoch: 0 [1%] || Loss: 0.29 || Time: 0.14s || Acc: 0.5897\r",
      "Train Epoch: 0 [1%] || Loss: 0.29 || Time: 0.14s || Acc: 0.5902\r",
      "Train Epoch: 0 [1%] || Loss: 0.29 || Time: 0.14s || Acc: 0.5915\r",
      "Train Epoch: 0 [1%] || Loss: 0.29 || Time: 0.14s || Acc: 0.5964\r",
      "Train Epoch: 0 [1%] || Loss: 0.29 || Time: 0.15s || Acc: 0.5971\r",
      "Train Epoch: 0 [1%] || Loss: 0.29 || Time: 0.15s || Acc: 0.5988\r",
      "Train Epoch: 0 [1%] || Loss: 0.29 || Time: 0.15s || Acc: 0.5996\r",
      "Train Epoch: 0 [1%] || Loss: 0.29 || Time: 0.15s || Acc: 0.6015\r",
      "Train Epoch: 0 [1%] || Loss: 0.29 || Time: 0.15s || Acc: 0.6046\r",
      "Train Epoch: 0 [1%] || Loss: 0.29 || Time: 0.15s || Acc: 0.6055\r",
      "Train Epoch: 0 [1%] || Loss: 0.29 || Time: 0.15s || Acc: 0.6063\r",
      "Train Epoch: 0 [1%] || Loss: 0.29 || Time: 0.15s || Acc: 0.6077\r",
      "Train Epoch: 0 [1%] || Loss: 0.29 || Time: 0.16s || Acc: 0.6085\r",
      "Train Epoch: 0 [1%] || Loss: 0.29 || Time: 0.16s || Acc: 0.6097\r",
      "Train Epoch: 0 [1%] || Loss: 0.29 || Time: 0.16s || Acc: 0.6105\r",
      "Train Epoch: 0 [1%] || Loss: 0.29 || Time: 0.16s || Acc: 0.6121\r",
      "Train Epoch: 0 [1%] || Loss: 0.29 || Time: 0.16s || Acc: 0.6132\r",
      "Train Epoch: 0 [1%] || Loss: 0.28 || Time: 0.16s || Acc: 0.6155\r",
      "Train Epoch: 0 [1%] || Loss: 0.28 || Time: 0.16s || Acc: 0.6197\r",
      "Train Epoch: 0 [1%] || Loss: 0.28 || Time: 0.17s || Acc: 0.6207\r",
      "Train Epoch: 0 [1%] || Loss: 0.28 || Time: 0.17s || Acc: 0.6219\r",
      "Train Epoch: 0 [1%] || Loss: 0.28 || Time: 0.17s || Acc: 0.6228\r",
      "Train Epoch: 0 [1%] || Loss: 0.28 || Time: 0.17s || Acc: 0.6242\r",
      "Train Epoch: 0 [1%] || Loss: 0.28 || Time: 0.17s || Acc: 0.6254\r",
      "Train Epoch: 0 [1%] || Loss: 0.28 || Time: 0.17s || Acc: 0.6275\r",
      "Train Epoch: 0 [1%] || Loss: 0.28 || Time: 0.17s || Acc: 0.6291\r",
      "Train Epoch: 0 [1%] || Loss: 0.28 || Time: 0.17s || Acc: 0.6309\r",
      "Train Epoch: 0 [1%] || Loss: 0.28 || Time: 0.18s || Acc: 0.6319\r",
      "Train Epoch: 0 [1%] || Loss: 0.28 || Time: 0.18s || Acc: 0.6342\r",
      "Train Epoch: 0 [1%] || Loss: 0.28 || Time: 0.18s || Acc: 0.6356\r",
      "Train Epoch: 0 [1%] || Loss: 0.28 || Time: 0.18s || Acc: 0.6361\r",
      "Train Epoch: 0 [1%] || Loss: 0.28 || Time: 0.18s || Acc: 0.6369\r",
      "Train Epoch: 0 [1%] || Loss: 0.28 || Time: 0.18s || Acc: 0.6372\r",
      "Train Epoch: 0 [1%] || Loss: 0.28 || Time: 0.18s || Acc: 0.6392\r",
      "Train Epoch: 0 [1%] || Loss: 0.28 || Time: 0.18s || Acc: 0.6396\r",
      "Train Epoch: 0 [1%] || Loss: 0.28 || Time: 0.19s || Acc: 0.6399\r",
      "Train Epoch: 0 [1%] || Loss: 0.28 || Time: 0.19s || Acc: 0.6403\r",
      "Train Epoch: 0 [1%] || Loss: 0.27 || Time: 0.19s || Acc: 0.6438\r",
      "Train Epoch: 0 [1%] || Loss: 0.27 || Time: 0.19s || Acc: 0.6448\r",
      "Train Epoch: 0 [1%] || Loss: 0.27 || Time: 0.19s || Acc: 0.6466\r",
      "Train Epoch: 0 [1%] || Loss: 0.27 || Time: 0.19s || Acc: 0.6469\r",
      "Train Epoch: 0 [1%] || Loss: 0.27 || Time: 0.19s || Acc: 0.6478\r",
      "Train Epoch: 0 [1%] || Loss: 0.27 || Time: 0.19s || Acc: 0.6487\r",
      "Train Epoch: 0 [2%] || Loss: 0.27 || Time: 0.20s || Acc: 0.6497\r",
      "Train Epoch: 0 [2%] || Loss: 0.27 || Time: 0.20s || Acc: 0.6507\r",
      "Train Epoch: 0 [2%] || Loss: 0.27 || Time: 0.20s || Acc: 0.6537\r",
      "Train Epoch: 0 [2%] || Loss: 0.27 || Time: 0.20s || Acc: 0.6544\r",
      "Train Epoch: 0 [2%] || Loss: 0.27 || Time: 0.20s || Acc: 0.6571\r",
      "Train Epoch: 0 [2%] || Loss: 0.27 || Time: 0.20s || Acc: 0.6581\r",
      "Train Epoch: 0 [2%] || Loss: 0.27 || Time: 0.20s || Acc: 0.6588\r",
      "Train Epoch: 0 [2%] || Loss: 0.27 || Time: 0.21s || Acc: 0.6594\r",
      "Train Epoch: 0 [2%] || Loss: 0.27 || Time: 0.21s || Acc: 0.6602\r",
      "Train Epoch: 0 [2%] || Loss: 0.26 || Time: 0.21s || Acc: 0.6627\r",
      "Train Epoch: 0 [2%] || Loss: 0.26 || Time: 0.21s || Acc: 0.6635\r",
      "Train Epoch: 0 [2%] || Loss: 0.26 || Time: 0.21s || Acc: 0.6642\r",
      "Train Epoch: 0 [2%] || Loss: 0.26 || Time: 0.21s || Acc: 0.6646\r",
      "Train Epoch: 0 [2%] || Loss: 0.26 || Time: 0.21s || Acc: 0.6672\r"
     ]
    },
    {
     "name": "stdout",
     "output_type": "stream",
     "text": [
      "Train Epoch: 0 [2%] || Loss: 0.26 || Time: 0.22s || Acc: 0.6683\r",
      "Train Epoch: 0 [2%] || Loss: 0.26 || Time: 0.22s || Acc: 0.6685\r",
      "Train Epoch: 0 [2%] || Loss: 0.26 || Time: 0.22s || Acc: 0.6690\r",
      "Train Epoch: 0 [2%] || Loss: 0.26 || Time: 0.23s || Acc: 0.6697\r",
      "Train Epoch: 0 [2%] || Loss: 0.26 || Time: 0.23s || Acc: 0.6706\r",
      "Train Epoch: 0 [2%] || Loss: 0.26 || Time: 0.24s || Acc: 0.6718\r",
      "Train Epoch: 0 [2%] || Loss: 0.26 || Time: 0.24s || Acc: 0.6727\r",
      "Train Epoch: 0 [2%] || Loss: 0.26 || Time: 0.24s || Acc: 0.6731\r",
      "Train Epoch: 0 [2%] || Loss: 0.26 || Time: 0.24s || Acc: 0.6735\r",
      "Train Epoch: 0 [2%] || Loss: 0.26 || Time: 0.24s || Acc: 0.6744\r",
      "Train Epoch: 0 [2%] || Loss: 0.26 || Time: 0.24s || Acc: 0.6748\r",
      "Train Epoch: 0 [2%] || Loss: 0.26 || Time: 0.25s || Acc: 0.6767\r",
      "Train Epoch: 0 [2%] || Loss: 0.26 || Time: 0.25s || Acc: 0.6769\r",
      "Train Epoch: 0 [2%] || Loss: 0.26 || Time: 0.25s || Acc: 0.6787\r",
      "Train Epoch: 0 [2%] || Loss: 0.26 || Time: 0.25s || Acc: 0.6797\r",
      "Train Epoch: 0 [2%] || Loss: 0.26 || Time: 0.25s || Acc: 0.6801\r",
      "Train Epoch: 0 [2%] || Loss: 0.26 || Time: 0.25s || Acc: 0.6812\r",
      "Train Epoch: 0 [2%] || Loss: 0.26 || Time: 0.25s || Acc: 0.6821\r",
      "Train Epoch: 0 [2%] || Loss: 0.26 || Time: 0.26s || Acc: 0.6827\r",
      "Train Epoch: 0 [2%] || Loss: 0.26 || Time: 0.26s || Acc: 0.6835\r",
      "Train Epoch: 0 [2%] || Loss: 0.26 || Time: 0.26s || Acc: 0.6838\r",
      "Train Epoch: 0 [2%] || Loss: 0.26 || Time: 0.26s || Acc: 0.6847\r",
      "Train Epoch: 0 [2%] || Loss: 0.25 || Time: 0.26s || Acc: 0.6858\r",
      "Train Epoch: 0 [2%] || Loss: 0.25 || Time: 0.26s || Acc: 0.6863\r",
      "Train Epoch: 0 [2%] || Loss: 0.25 || Time: 0.26s || Acc: 0.6866\r",
      "Train Epoch: 0 [2%] || Loss: 0.25 || Time: 0.27s || Acc: 0.6867\r",
      "Train Epoch: 0 [2%] || Loss: 0.25 || Time: 0.27s || Acc: 0.6869\r",
      "Train Epoch: 0 [2%] || Loss: 0.25 || Time: 0.27s || Acc: 0.6896\r",
      "Train Epoch: 0 [2%] || Loss: 0.25 || Time: 0.27s || Acc: 0.6904\r",
      "Train Epoch: 0 [2%] || Loss: 0.25 || Time: 0.27s || Acc: 0.6906\r",
      "Train Epoch: 0 [2%] || Loss: 0.25 || Time: 0.27s || Acc: 0.6908\r",
      "Train Epoch: 0 [2%] || Loss: 0.25 || Time: 0.27s || Acc: 0.6913\r",
      "Train Epoch: 0 [2%] || Loss: 0.25 || Time: 0.28s || Acc: 0.6916\r",
      "Train Epoch: 0 [2%] || Loss: 0.25 || Time: 0.28s || Acc: 0.6919\r",
      "Train Epoch: 0 [2%] || Loss: 0.25 || Time: 0.28s || Acc: 0.6920\r",
      "Train Epoch: 0 [2%] || Loss: 0.25 || Time: 0.28s || Acc: 0.6926\r",
      "Train Epoch: 0 [2%] || Loss: 0.25 || Time: 0.28s || Acc: 0.6937\r",
      "Train Epoch: 0 [2%] || Loss: 0.25 || Time: 0.28s || Acc: 0.6941\r",
      "Train Epoch: 0 [2%] || Loss: 0.25 || Time: 0.28s || Acc: 0.6952\r",
      "Train Epoch: 0 [2%] || Loss: 0.25 || Time: 0.28s || Acc: 0.6966\r",
      "Train Epoch: 0 [2%] || Loss: 0.25 || Time: 0.29s || Acc: 0.6976\r",
      "Train Epoch: 0 [2%] || Loss: 0.25 || Time: 0.29s || Acc: 0.6983\r",
      "Train Epoch: 0 [2%] || Loss: 0.25 || Time: 0.29s || Acc: 0.6991\r",
      "Train Epoch: 0 [2%] || Loss: 0.25 || Time: 0.29s || Acc: 0.6997\r",
      "Train Epoch: 0 [2%] || Loss: 0.25 || Time: 0.29s || Acc: 0.7009\r",
      "Train Epoch: 0 [2%] || Loss: 0.25 || Time: 0.29s || Acc: 0.7013\r",
      "Train Epoch: 0 [2%] || Loss: 0.25 || Time: 0.29s || Acc: 0.7022\r",
      "Train Epoch: 0 [2%] || Loss: 0.25 || Time: 0.29s || Acc: 0.7035\r",
      "Train Epoch: 0 [2%] || Loss: 0.25 || Time: 0.30s || Acc: 0.7040\r",
      "Train Epoch: 0 [2%] || Loss: 0.24 || Time: 0.30s || Acc: 0.7051\r",
      "Train Epoch: 0 [2%] || Loss: 0.24 || Time: 0.30s || Acc: 0.7056\r",
      "Train Epoch: 0 [2%] || Loss: 0.24 || Time: 0.30s || Acc: 0.7061\r",
      "Train Epoch: 0 [2%] || Loss: 0.24 || Time: 0.30s || Acc: 0.7065\r",
      "Train Epoch: 0 [2%] || Loss: 0.24 || Time: 0.30s || Acc: 0.7069\r",
      "Train Epoch: 0 [2%] || Loss: 0.24 || Time: 0.30s || Acc: 0.7084\r",
      "Train Epoch: 0 [2%] || Loss: 0.24 || Time: 0.31s || Acc: 0.7087\r",
      "Train Epoch: 0 [2%] || Loss: 0.24 || Time: 0.31s || Acc: 0.7091\r",
      "Train Epoch: 0 [2%] || Loss: 0.24 || Time: 0.31s || Acc: 0.7095\r",
      "Train Epoch: 0 [2%] || Loss: 0.24 || Time: 0.31s || Acc: 0.7098\r",
      "Train Epoch: 0 [2%] || Loss: 0.24 || Time: 0.31s || Acc: 0.7110\r",
      "Train Epoch: 0 [2%] || Loss: 0.24 || Time: 0.31s || Acc: 0.7115\r",
      "Train Epoch: 0 [2%] || Loss: 0.24 || Time: 0.31s || Acc: 0.7120\r",
      "Train Epoch: 0 [2%] || Loss: 0.24 || Time: 0.31s || Acc: 0.7122\r",
      "Train Epoch: 0 [2%] || Loss: 0.24 || Time: 0.32s || Acc: 0.7123\r",
      "Train Epoch: 0 [2%] || Loss: 0.24 || Time: 0.32s || Acc: 0.7125\r",
      "Train Epoch: 0 [2%] || Loss: 0.24 || Time: 0.32s || Acc: 0.7127\r",
      "Train Epoch: 0 [2%] || Loss: 0.24 || Time: 0.32s || Acc: 0.7130\r",
      "Train Epoch: 0 [2%] || Loss: 0.24 || Time: 0.32s || Acc: 0.7137\r",
      "Train Epoch: 0 [2%] || Loss: 0.24 || Time: 0.32s || Acc: 0.7142\r",
      "Train Epoch: 0 [2%] || Loss: 0.24 || Time: 0.32s || Acc: 0.7150\r",
      "Train Epoch: 0 [2%] || Loss: 0.24 || Time: 0.32s || Acc: 0.7159\r",
      "Train Epoch: 0 [2%] || Loss: 0.24 || Time: 0.33s || Acc: 0.7163\r",
      "Train Epoch: 0 [3%] || Loss: 0.24 || Time: 0.33s || Acc: 0.7164\r",
      "Train Epoch: 0 [3%] || Loss: 0.24 || Time: 0.33s || Acc: 0.7170\r",
      "Train Epoch: 0 [3%] || Loss: 0.24 || Time: 0.33s || Acc: 0.7173\r",
      "Train Epoch: 0 [3%] || Loss: 0.24 || Time: 0.33s || Acc: 0.7174\r",
      "Train Epoch: 0 [3%] || Loss: 0.24 || Time: 0.33s || Acc: 0.7177\r",
      "Train Epoch: 0 [3%] || Loss: 0.24 || Time: 0.33s || Acc: 0.7181\r",
      "Train Epoch: 0 [3%] || Loss: 0.23 || Time: 0.33s || Acc: 0.7186\r",
      "Train Epoch: 0 [3%] || Loss: 0.23 || Time: 0.34s || Acc: 0.7192\r",
      "Train Epoch: 0 [3%] || Loss: 0.23 || Time: 0.34s || Acc: 0.7195\r",
      "Train Epoch: 0 [3%] || Loss: 0.23 || Time: 0.34s || Acc: 0.7205\r",
      "Train Epoch: 0 [3%] || Loss: 0.23 || Time: 0.34s || Acc: 0.7207\r",
      "Train Epoch: 0 [3%] || Loss: 0.23 || Time: 0.34s || Acc: 0.7208\r",
      "Train Epoch: 0 [3%] || Loss: 0.23 || Time: 0.34s || Acc: 0.7214\r",
      "Train Epoch: 0 [3%] || Loss: 0.23 || Time: 0.34s || Acc: 0.7226\r",
      "Train Epoch: 0 [3%] || Loss: 0.23 || Time: 0.35s || Acc: 0.7231\r",
      "Train Epoch: 0 [3%] || Loss: 0.23 || Time: 0.35s || Acc: 0.7236\r",
      "Train Epoch: 0 [3%] || Loss: 0.23 || Time: 0.35s || Acc: 0.7240\r",
      "Train Epoch: 0 [3%] || Loss: 0.23 || Time: 0.35s || Acc: 0.7247\r",
      "Train Epoch: 0 [3%] || Loss: 0.23 || Time: 0.35s || Acc: 0.7251\r",
      "Train Epoch: 0 [3%] || Loss: 0.23 || Time: 0.35s || Acc: 0.7253\r",
      "Train Epoch: 0 [3%] || Loss: 0.23 || Time: 0.35s || Acc: 0.7258\r",
      "Train Epoch: 0 [3%] || Loss: 0.23 || Time: 0.35s || Acc: 0.7260\r",
      "Train Epoch: 0 [3%] || Loss: 0.23 || Time: 0.36s || Acc: 0.7269\r",
      "Train Epoch: 0 [3%] || Loss: 0.23 || Time: 0.36s || Acc: 0.7273\r",
      "Train Epoch: 0 [3%] || Loss: 0.23 || Time: 0.36s || Acc: 0.7279\r",
      "Train Epoch: 0 [3%] || Loss: 0.23 || Time: 0.36s || Acc: 0.7285\r",
      "Train Epoch: 0 [3%] || Loss: 0.23 || Time: 0.36s || Acc: 0.7288\r",
      "Train Epoch: 0 [3%] || Loss: 0.23 || Time: 0.36s || Acc: 0.7290\r",
      "Train Epoch: 0 [3%] || Loss: 0.23 || Time: 0.36s || Acc: 0.7295\r",
      "Train Epoch: 0 [3%] || Loss: 0.23 || Time: 0.36s || Acc: 0.7298\r",
      "Train Epoch: 0 [3%] || Loss: 0.23 || Time: 0.37s || Acc: 0.7307\r",
      "Train Epoch: 0 [3%] || Loss: 0.23 || Time: 0.37s || Acc: 0.7313\r",
      "Train Epoch: 0 [3%] || Loss: 0.23 || Time: 0.37s || Acc: 0.7315\r",
      "Train Epoch: 0 [3%] || Loss: 0.23 || Time: 0.37s || Acc: 0.7326\r",
      "Train Epoch: 0 [3%] || Loss: 0.23 || Time: 0.37s || Acc: 0.7329\r",
      "Train Epoch: 0 [3%] || Loss: 0.23 || Time: 0.37s || Acc: 0.7333\r",
      "Train Epoch: 0 [3%] || Loss: 0.23 || Time: 0.37s || Acc: 0.7336\r",
      "Train Epoch: 0 [3%] || Loss: 0.23 || Time: 0.38s || Acc: 0.7339\r",
      "Train Epoch: 0 [3%] || Loss: 0.23 || Time: 0.38s || Acc: 0.7348\r",
      "Train Epoch: 0 [3%] || Loss: 0.23 || Time: 0.38s || Acc: 0.7355\r",
      "Train Epoch: 0 [3%] || Loss: 0.22 || Time: 0.38s || Acc: 0.7364\r",
      "Train Epoch: 0 [3%] || Loss: 0.22 || Time: 0.38s || Acc: 0.7367\r",
      "Train Epoch: 0 [3%] || Loss: 0.22 || Time: 0.38s || Acc: 0.7374\r",
      "Train Epoch: 0 [3%] || Loss: 0.22 || Time: 0.38s || Acc: 0.7378\r",
      "Train Epoch: 0 [3%] || Loss: 0.22 || Time: 0.38s || Acc: 0.7381\r",
      "Train Epoch: 0 [3%] || Loss: 0.22 || Time: 0.39s || Acc: 0.7385\r",
      "Train Epoch: 0 [3%] || Loss: 0.22 || Time: 0.39s || Acc: 0.7385\r",
      "Train Epoch: 0 [3%] || Loss: 0.22 || Time: 0.39s || Acc: 0.7390\r",
      "Train Epoch: 0 [3%] || Loss: 0.22 || Time: 0.39s || Acc: 0.7392\r",
      "Train Epoch: 0 [3%] || Loss: 0.22 || Time: 0.39s || Acc: 0.7401\r",
      "Train Epoch: 0 [3%] || Loss: 0.22 || Time: 0.39s || Acc: 0.7407\r",
      "Train Epoch: 0 [3%] || Loss: 0.22 || Time: 0.39s || Acc: 0.7410\r",
      "Train Epoch: 0 [3%] || Loss: 0.22 || Time: 0.39s || Acc: 0.7415\r",
      "Train Epoch: 0 [3%] || Loss: 0.22 || Time: 0.40s || Acc: 0.7418\r",
      "Train Epoch: 0 [3%] || Loss: 0.22 || Time: 0.40s || Acc: 0.7424\r",
      "Train Epoch: 0 [3%] || Loss: 0.22 || Time: 0.40s || Acc: 0.7427\r",
      "Train Epoch: 0 [3%] || Loss: 0.22 || Time: 0.40s || Acc: 0.7431\r",
      "Train Epoch: 0 [3%] || Loss: 0.22 || Time: 0.40s || Acc: 0.7435\r",
      "Train Epoch: 0 [3%] || Loss: 0.22 || Time: 0.40s || Acc: 0.7436\r",
      "Train Epoch: 0 [3%] || Loss: 0.22 || Time: 0.40s || Acc: 0.7437\r",
      "Train Epoch: 0 [3%] || Loss: 0.22 || Time: 0.40s || Acc: 0.7440\r",
      "Train Epoch: 0 [3%] || Loss: 0.22 || Time: 0.41s || Acc: 0.7441\r",
      "Train Epoch: 0 [3%] || Loss: 0.22 || Time: 0.41s || Acc: 0.7453\r",
      "Train Epoch: 0 [3%] || Loss: 0.22 || Time: 0.41s || Acc: 0.7456\r",
      "Train Epoch: 0 [3%] || Loss: 0.22 || Time: 0.41s || Acc: 0.7457\r",
      "Train Epoch: 0 [3%] || Loss: 0.22 || Time: 0.41s || Acc: 0.7460\r",
      "Train Epoch: 0 [3%] || Loss: 0.22 || Time: 0.41s || Acc: 0.7466\r",
      "Train Epoch: 0 [3%] || Loss: 0.22 || Time: 0.41s || Acc: 0.7470\r",
      "Train Epoch: 0 [3%] || Loss: 0.22 || Time: 0.42s || Acc: 0.7472\r",
      "Train Epoch: 0 [3%] || Loss: 0.22 || Time: 0.42s || Acc: 0.7476\r",
      "Train Epoch: 0 [3%] || Loss: 0.22 || Time: 0.42s || Acc: 0.7480\r",
      "Train Epoch: 0 [3%] || Loss: 0.22 || Time: 0.42s || Acc: 0.7489\r",
      "Train Epoch: 0 [3%] || Loss: 0.22 || Time: 0.42s || Acc: 0.7492\r"
     ]
    },
    {
     "name": "stdout",
     "output_type": "stream",
     "text": [
      "Train Epoch: 0 [3%] || Loss: 0.22 || Time: 0.42s || Acc: 0.7497\r",
      "Train Epoch: 0 [3%] || Loss: 0.22 || Time: 0.42s || Acc: 0.7501\r",
      "Train Epoch: 0 [3%] || Loss: 0.21 || Time: 0.43s || Acc: 0.7505\r",
      "Train Epoch: 0 [3%] || Loss: 0.21 || Time: 0.43s || Acc: 0.7512\r",
      "Train Epoch: 0 [3%] || Loss: 0.21 || Time: 0.45s || Acc: 0.7515\r",
      "Train Epoch: 0 [3%] || Loss: 0.21 || Time: 0.45s || Acc: 0.7525\r",
      "Train Epoch: 0 [3%] || Loss: 0.21 || Time: 0.45s || Acc: 0.7527\r",
      "Train Epoch: 0 [3%] || Loss: 0.21 || Time: 0.45s || Acc: 0.7529\r",
      "Train Epoch: 0 [3%] || Loss: 0.21 || Time: 0.45s || Acc: 0.7532\r",
      "Train Epoch: 0 [3%] || Loss: 0.21 || Time: 0.45s || Acc: 0.7537\r",
      "Train Epoch: 0 [3%] || Loss: 0.21 || Time: 0.46s || Acc: 0.7540\r",
      "Train Epoch: 0 [3%] || Loss: 0.21 || Time: 0.46s || Acc: 0.7546\r",
      "Train Epoch: 0 [3%] || Loss: 0.21 || Time: 0.46s || Acc: 0.7551\r",
      "Train Epoch: 0 [3%] || Loss: 0.21 || Time: 0.46s || Acc: 0.7554\r",
      "Train Epoch: 0 [4%] || Loss: 0.21 || Time: 0.46s || Acc: 0.7558\r",
      "Train Epoch: 0 [4%] || Loss: 0.21 || Time: 0.46s || Acc: 0.7560\r",
      "Train Epoch: 0 [4%] || Loss: 0.21 || Time: 0.46s || Acc: 0.7566\r",
      "Train Epoch: 0 [4%] || Loss: 0.21 || Time: 0.46s || Acc: 0.7573\r",
      "Train Epoch: 0 [4%] || Loss: 0.21 || Time: 0.47s || Acc: 0.7576\r",
      "Train Epoch: 0 [4%] || Loss: 0.21 || Time: 0.47s || Acc: 0.7580\r",
      "Train Epoch: 0 [4%] || Loss: 0.21 || Time: 0.47s || Acc: 0.7584\r",
      "Train Epoch: 0 [4%] || Loss: 0.21 || Time: 0.47s || Acc: 0.7586\r",
      "Train Epoch: 0 [4%] || Loss: 0.21 || Time: 0.47s || Acc: 0.7589\r",
      "Train Epoch: 0 [4%] || Loss: 0.21 || Time: 0.47s || Acc: 0.7593\r",
      "Train Epoch: 0 [4%] || Loss: 0.21 || Time: 0.47s || Acc: 0.7595\r",
      "Train Epoch: 0 [4%] || Loss: 0.21 || Time: 0.48s || Acc: 0.7597\r",
      "Train Epoch: 0 [4%] || Loss: 0.21 || Time: 0.48s || Acc: 0.7603\r",
      "Train Epoch: 0 [4%] || Loss: 0.21 || Time: 0.48s || Acc: 0.7606\r",
      "Train Epoch: 0 [4%] || Loss: 0.21 || Time: 0.48s || Acc: 0.7610\r",
      "Train Epoch: 0 [4%] || Loss: 0.21 || Time: 0.48s || Acc: 0.7611\r",
      "Train Epoch: 0 [4%] || Loss: 0.21 || Time: 0.48s || Acc: 0.7612\r",
      "Train Epoch: 0 [4%] || Loss: 0.21 || Time: 0.48s || Acc: 0.7619\r",
      "Train Epoch: 0 [4%] || Loss: 0.21 || Time: 0.48s || Acc: 0.7623\r",
      "Train Epoch: 0 [4%] || Loss: 0.21 || Time: 0.49s || Acc: 0.7624\r",
      "Train Epoch: 0 [4%] || Loss: 0.21 || Time: 0.49s || Acc: 0.7631\r",
      "Train Epoch: 0 [4%] || Loss: 0.21 || Time: 0.49s || Acc: 0.7636\r",
      "Train Epoch: 0 [4%] || Loss: 0.21 || Time: 0.49s || Acc: 0.7637\r",
      "Train Epoch: 0 [4%] || Loss: 0.21 || Time: 0.49s || Acc: 0.7640\r",
      "Train Epoch: 0 [4%] || Loss: 0.21 || Time: 0.49s || Acc: 0.7642\r",
      "Train Epoch: 0 [4%] || Loss: 0.21 || Time: 0.49s || Acc: 0.7645\r",
      "Train Epoch: 0 [4%] || Loss: 0.21 || Time: 0.50s || Acc: 0.7646\r",
      "Train Epoch: 0 [4%] || Loss: 0.21 || Time: 0.50s || Acc: 0.7649\r",
      "Train Epoch: 0 [4%] || Loss: 0.21 || Time: 0.50s || Acc: 0.7650\r",
      "Train Epoch: 0 [4%] || Loss: 0.21 || Time: 0.50s || Acc: 0.7652\r",
      "Train Epoch: 0 [4%] || Loss: 0.21 || Time: 0.50s || Acc: 0.7655\r",
      "Train Epoch: 0 [4%] || Loss: 0.20 || Time: 0.50s || Acc: 0.7660\r",
      "Train Epoch: 0 [4%] || Loss: 0.20 || Time: 0.50s || Acc: 0.7663\r",
      "Train Epoch: 0 [4%] || Loss: 0.20 || Time: 0.50s || Acc: 0.7669\r",
      "Train Epoch: 0 [4%] || Loss: 0.20 || Time: 0.51s || Acc: 0.7672\r",
      "Train Epoch: 0 [4%] || Loss: 0.20 || Time: 0.51s || Acc: 0.7673\r",
      "Train Epoch: 0 [4%] || Loss: 0.20 || Time: 0.51s || Acc: 0.7675\r",
      "Train Epoch: 0 [4%] || Loss: 0.20 || Time: 0.51s || Acc: 0.7676\r",
      "Train Epoch: 0 [4%] || Loss: 0.20 || Time: 0.51s || Acc: 0.7680\r",
      "Train Epoch: 0 [4%] || Loss: 0.20 || Time: 0.51s || Acc: 0.7685\r",
      "Train Epoch: 0 [4%] || Loss: 0.20 || Time: 0.51s || Acc: 0.7688\r",
      "Train Epoch: 0 [4%] || Loss: 0.20 || Time: 0.51s || Acc: 0.7693\r",
      "Train Epoch: 0 [4%] || Loss: 0.20 || Time: 0.52s || Acc: 0.7695\r",
      "Train Epoch: 0 [4%] || Loss: 0.20 || Time: 0.52s || Acc: 0.7698\r",
      "Train Epoch: 0 [4%] || Loss: 0.20 || Time: 0.52s || Acc: 0.7699\r",
      "Train Epoch: 0 [4%] || Loss: 0.20 || Time: 0.52s || Acc: 0.7704\r",
      "Train Epoch: 0 [4%] || Loss: 0.20 || Time: 0.52s || Acc: 0.7706\r",
      "Train Epoch: 0 [4%] || Loss: 0.20 || Time: 0.52s || Acc: 0.7710\r",
      "Train Epoch: 0 [4%] || Loss: 0.20 || Time: 0.52s || Acc: 0.7712\r",
      "Train Epoch: 0 [4%] || Loss: 0.20 || Time: 0.52s || Acc: 0.7714\r",
      "Train Epoch: 0 [4%] || Loss: 0.20 || Time: 0.53s || Acc: 0.7717\r",
      "Train Epoch: 0 [4%] || Loss: 0.20 || Time: 0.53s || Acc: 0.7718\r",
      "Train Epoch: 0 [4%] || Loss: 0.20 || Time: 0.53s || Acc: 0.7721\r",
      "Train Epoch: 0 [4%] || Loss: 0.20 || Time: 0.53s || Acc: 0.7723\r",
      "Train Epoch: 0 [4%] || Loss: 0.20 || Time: 0.53s || Acc: 0.7726\r",
      "Train Epoch: 0 [4%] || Loss: 0.20 || Time: 0.53s || Acc: 0.7732\r",
      "Train Epoch: 0 [4%] || Loss: 0.20 || Time: 0.53s || Acc: 0.7743\r",
      "Train Epoch: 0 [4%] || Loss: 0.20 || Time: 0.54s || Acc: 0.7745\r",
      "Train Epoch: 0 [4%] || Loss: 0.20 || Time: 0.54s || Acc: 0.7748\r",
      "Train Epoch: 0 [4%] || Loss: 0.20 || Time: 0.54s || Acc: 0.7751\r",
      "Train Epoch: 0 [4%] || Loss: 0.20 || Time: 0.54s || Acc: 0.7751\r",
      "Train Epoch: 0 [4%] || Loss: 0.20 || Time: 0.54s || Acc: 0.7754\r",
      "Train Epoch: 0 [4%] || Loss: 0.20 || Time: 0.54s || Acc: 0.7758\r",
      "Train Epoch: 0 [4%] || Loss: 0.20 || Time: 0.54s || Acc: 0.7761\r",
      "Train Epoch: 0 [4%] || Loss: 0.20 || Time: 0.54s || Acc: 0.7763\r",
      "Train Epoch: 0 [4%] || Loss: 0.20 || Time: 0.55s || Acc: 0.7765\r",
      "Train Epoch: 0 [4%] || Loss: 0.20 || Time: 0.55s || Acc: 0.7766\r",
      "Train Epoch: 0 [4%] || Loss: 0.20 || Time: 0.55s || Acc: 0.7770\r",
      "Train Epoch: 0 [4%] || Loss: 0.20 || Time: 0.55s || Acc: 0.7778\r",
      "Train Epoch: 0 [4%] || Loss: 0.20 || Time: 0.55s || Acc: 0.7779\r",
      "Train Epoch: 0 [4%] || Loss: 0.20 || Time: 0.55s || Acc: 0.7781\r",
      "Train Epoch: 0 [4%] || Loss: 0.20 || Time: 0.55s || Acc: 0.7785\r",
      "Train Epoch: 0 [4%] || Loss: 0.20 || Time: 0.56s || Acc: 0.7789\r",
      "Train Epoch: 0 [4%] || Loss: 0.20 || Time: 0.56s || Acc: 0.7793\r",
      "Train Epoch: 0 [4%] || Loss: 0.20 || Time: 0.56s || Acc: 0.7798\r",
      "Train Epoch: 0 [4%] || Loss: 0.20 || Time: 0.56s || Acc: 0.7800\r",
      "Train Epoch: 0 [4%] || Loss: 0.20 || Time: 0.56s || Acc: 0.7802\r",
      "Train Epoch: 0 [4%] || Loss: 0.20 || Time: 0.56s || Acc: 0.7803\r",
      "Train Epoch: 0 [4%] || Loss: 0.20 || Time: 0.56s || Acc: 0.7805\r",
      "Train Epoch: 0 [4%] || Loss: 0.20 || Time: 0.56s || Acc: 0.7808\r",
      "Train Epoch: 0 [4%] || Loss: 0.19 || Time: 0.57s || Acc: 0.7812\r",
      "Train Epoch: 0 [4%] || Loss: 0.19 || Time: 0.57s || Acc: 0.7814\r",
      "Train Epoch: 0 [4%] || Loss: 0.19 || Time: 0.57s || Acc: 0.7816\r",
      "Train Epoch: 0 [4%] || Loss: 0.19 || Time: 0.57s || Acc: 0.7818\r",
      "Train Epoch: 0 [4%] || Loss: 0.19 || Time: 0.57s || Acc: 0.7821\r",
      "Train Epoch: 0 [4%] || Loss: 0.19 || Time: 0.57s || Acc: 0.7824\r",
      "Train Epoch: 0 [4%] || Loss: 0.19 || Time: 0.57s || Acc: 0.7826\r",
      "Train Epoch: 0 [5%] || Loss: 0.19 || Time: 0.57s || Acc: 0.7829\r",
      "Train Epoch: 0 [5%] || Loss: 0.19 || Time: 0.58s || Acc: 0.7831\r",
      "Train Epoch: 0 [5%] || Loss: 0.19 || Time: 0.58s || Acc: 0.7834\r",
      "Train Epoch: 0 [5%] || Loss: 0.19 || Time: 0.58s || Acc: 0.7837\r",
      "Train Epoch: 0 [5%] || Loss: 0.19 || Time: 0.58s || Acc: 0.7845\r",
      "Train Epoch: 0 [5%] || Loss: 0.19 || Time: 0.58s || Acc: 0.7848\r",
      "Train Epoch: 0 [5%] || Loss: 0.19 || Time: 0.58s || Acc: 0.7852\r",
      "Train Epoch: 0 [5%] || Loss: 0.19 || Time: 0.58s || Acc: 0.7856\r",
      "Train Epoch: 0 [5%] || Loss: 0.19 || Time: 0.59s || Acc: 0.7862\r",
      "Train Epoch: 0 [5%] || Loss: 0.19 || Time: 0.59s || Acc: 0.7865\r",
      "Train Epoch: 0 [5%] || Loss: 0.19 || Time: 0.59s || Acc: 0.7866\r",
      "Train Epoch: 0 [5%] || Loss: 0.19 || Time: 0.59s || Acc: 0.7872\r",
      "Train Epoch: 0 [5%] || Loss: 0.19 || Time: 0.59s || Acc: 0.7873\r",
      "Train Epoch: 0 [5%] || Loss: 0.19 || Time: 0.59s || Acc: 0.7879\r",
      "Train Epoch: 0 [5%] || Loss: 0.19 || Time: 0.59s || Acc: 0.7882\r",
      "Train Epoch: 0 [5%] || Loss: 0.19 || Time: 0.59s || Acc: 0.7882\r",
      "Train Epoch: 0 [5%] || Loss: 0.19 || Time: 0.60s || Acc: 0.7883\r",
      "Train Epoch: 0 [5%] || Loss: 0.19 || Time: 0.60s || Acc: 0.7886\r",
      "Train Epoch: 0 [5%] || Loss: 0.19 || Time: 0.60s || Acc: 0.7887\r",
      "Train Epoch: 0 [5%] || Loss: 0.19 || Time: 0.60s || Acc: 0.7891\r",
      "Train Epoch: 0 [5%] || Loss: 0.19 || Time: 0.60s || Acc: 0.7894\r",
      "Train Epoch: 0 [5%] || Loss: 0.19 || Time: 0.60s || Acc: 0.7896\r",
      "Train Epoch: 0 [5%] || Loss: 0.19 || Time: 0.60s || Acc: 0.7899\r",
      "Train Epoch: 0 [5%] || Loss: 0.19 || Time: 0.61s || Acc: 0.7901\r",
      "Train Epoch: 0 [5%] || Loss: 0.19 || Time: 0.61s || Acc: 0.7911\r",
      "Train Epoch: 0 [5%] || Loss: 0.19 || Time: 0.61s || Acc: 0.7914\r",
      "Train Epoch: 0 [5%] || Loss: 0.19 || Time: 0.61s || Acc: 0.7915\r",
      "Train Epoch: 0 [5%] || Loss: 0.19 || Time: 0.61s || Acc: 0.7916\r",
      "Train Epoch: 0 [5%] || Loss: 0.19 || Time: 0.61s || Acc: 0.7918\r",
      "Train Epoch: 0 [5%] || Loss: 0.19 || Time: 0.61s || Acc: 0.7922\r",
      "Train Epoch: 0 [5%] || Loss: 0.19 || Time: 0.61s || Acc: 0.7926\r",
      "Train Epoch: 0 [5%] || Loss: 0.19 || Time: 0.62s || Acc: 0.7930\r",
      "Train Epoch: 0 [5%] || Loss: 0.19 || Time: 0.62s || Acc: 0.7932\r",
      "Train Epoch: 0 [5%] || Loss: 0.19 || Time: 0.62s || Acc: 0.7939\r",
      "Train Epoch: 0 [5%] || Loss: 0.19 || Time: 0.62s || Acc: 0.7944\r",
      "Train Epoch: 0 [5%] || Loss: 0.19 || Time: 0.62s || Acc: 0.7946\r",
      "Train Epoch: 0 [5%] || Loss: 0.19 || Time: 0.62s || Acc: 0.7949\r",
      "Train Epoch: 0 [5%] || Loss: 0.19 || Time: 0.62s || Acc: 0.7952\r"
     ]
    },
    {
     "name": "stdout",
     "output_type": "stream",
     "text": [
      "Train Epoch: 0 [5%] || Loss: 0.19 || Time: 0.64s || Acc: 0.7953\r",
      "Train Epoch: 0 [5%] || Loss: 0.19 || Time: 0.64s || Acc: 0.7954\r",
      "Train Epoch: 0 [5%] || Loss: 0.19 || Time: 0.65s || Acc: 0.7956\r",
      "Train Epoch: 0 [5%] || Loss: 0.19 || Time: 0.65s || Acc: 0.7958\r",
      "Train Epoch: 0 [5%] || Loss: 0.19 || Time: 0.65s || Acc: 0.7960\r",
      "Train Epoch: 0 [5%] || Loss: 0.19 || Time: 0.65s || Acc: 0.7962\r",
      "Train Epoch: 0 [5%] || Loss: 0.19 || Time: 0.65s || Acc: 0.7963\r",
      "Train Epoch: 0 [5%] || Loss: 0.19 || Time: 0.66s || Acc: 0.7975\r",
      "Train Epoch: 0 [5%] || Loss: 0.19 || Time: 0.66s || Acc: 0.7977\r",
      "Train Epoch: 0 [5%] || Loss: 0.19 || Time: 0.66s || Acc: 0.7979\r",
      "Train Epoch: 0 [5%] || Loss: 0.19 || Time: 0.66s || Acc: 0.7983\r",
      "Train Epoch: 0 [5%] || Loss: 0.19 || Time: 0.66s || Acc: 0.7985\r",
      "Train Epoch: 0 [5%] || Loss: 0.18 || Time: 0.66s || Acc: 0.7989\r",
      "Train Epoch: 0 [5%] || Loss: 0.18 || Time: 0.66s || Acc: 0.7991\r",
      "Train Epoch: 0 [5%] || Loss: 0.18 || Time: 0.67s || Acc: 0.7992\r",
      "Train Epoch: 0 [5%] || Loss: 0.18 || Time: 0.67s || Acc: 0.7996\r",
      "Train Epoch: 0 [5%] || Loss: 0.18 || Time: 0.67s || Acc: 0.7998\r",
      "Train Epoch: 0 [5%] || Loss: 0.18 || Time: 0.67s || Acc: 0.8000\r",
      "Train Epoch: 0 [5%] || Loss: 0.18 || Time: 0.67s || Acc: 0.8002\r",
      "Train Epoch: 0 [5%] || Loss: 0.18 || Time: 0.67s || Acc: 0.8004\r",
      "Train Epoch: 0 [5%] || Loss: 0.18 || Time: 0.67s || Acc: 0.8007\r",
      "Train Epoch: 0 [5%] || Loss: 0.18 || Time: 0.67s || Acc: 0.8010\r",
      "Train Epoch: 0 [5%] || Loss: 0.18 || Time: 0.68s || Acc: 0.8012\r",
      "Train Epoch: 0 [5%] || Loss: 0.18 || Time: 0.68s || Acc: 0.8014\r",
      "Train Epoch: 0 [5%] || Loss: 0.18 || Time: 0.68s || Acc: 0.8015\r",
      "Train Epoch: 0 [5%] || Loss: 0.18 || Time: 0.68s || Acc: 0.8017\r",
      "Train Epoch: 0 [5%] || Loss: 0.18 || Time: 0.68s || Acc: 0.8021\r",
      "Train Epoch: 0 [5%] || Loss: 0.18 || Time: 0.68s || Acc: 0.8022\r",
      "Train Epoch: 0 [5%] || Loss: 0.18 || Time: 0.68s || Acc: 0.8022\r",
      "Train Epoch: 0 [5%] || Loss: 0.18 || Time: 0.68s || Acc: 0.8024\r",
      "Train Epoch: 0 [5%] || Loss: 0.18 || Time: 0.69s || Acc: 0.8031\r",
      "Train Epoch: 0 [5%] || Loss: 0.18 || Time: 0.69s || Acc: 0.8033\r",
      "Train Epoch: 0 [5%] || Loss: 0.18 || Time: 0.69s || Acc: 0.8035\r",
      "Train Epoch: 0 [5%] || Loss: 0.18 || Time: 0.69s || Acc: 0.8036\r",
      "Train Epoch: 0 [5%] || Loss: 0.18 || Time: 0.69s || Acc: 0.8041\r",
      "Train Epoch: 0 [5%] || Loss: 0.18 || Time: 0.69s || Acc: 0.8042\r",
      "Train Epoch: 0 [5%] || Loss: 0.18 || Time: 0.69s || Acc: 0.8045\r",
      "Train Epoch: 0 [5%] || Loss: 0.18 || Time: 0.69s || Acc: 0.8046\r",
      "Train Epoch: 0 [5%] || Loss: 0.18 || Time: 0.70s || Acc: 0.8048\r",
      "Train Epoch: 0 [5%] || Loss: 0.18 || Time: 0.70s || Acc: 0.8049\r",
      "Train Epoch: 0 [5%] || Loss: 0.18 || Time: 0.70s || Acc: 0.8050\r",
      "Train Epoch: 0 [5%] || Loss: 0.18 || Time: 0.70s || Acc: 0.8054\r",
      "Train Epoch: 0 [5%] || Loss: 0.18 || Time: 0.70s || Acc: 0.8055\r",
      "Train Epoch: 0 [5%] || Loss: 0.18 || Time: 0.70s || Acc: 0.8059\r",
      "Train Epoch: 0 [5%] || Loss: 0.18 || Time: 0.70s || Acc: 0.8061\r",
      "Train Epoch: 0 [5%] || Loss: 0.18 || Time: 0.71s || Acc: 0.8064\r",
      "Train Epoch: 0 [5%] || Loss: 0.18 || Time: 0.71s || Acc: 0.8065\r",
      "Train Epoch: 0 [5%] || Loss: 0.18 || Time: 0.71s || Acc: 0.8067\r",
      "Train Epoch: 0 [5%] || Loss: 0.18 || Time: 0.71s || Acc: 0.8070\r",
      "Train Epoch: 0 [6%] || Loss: 0.18 || Time: 0.71s || Acc: 0.8075\r",
      "Train Epoch: 0 [6%] || Loss: 0.18 || Time: 0.71s || Acc: 0.8075\r",
      "Train Epoch: 0 [6%] || Loss: 0.18 || Time: 0.71s || Acc: 0.8077\r",
      "Train Epoch: 0 [6%] || Loss: 0.18 || Time: 0.71s || Acc: 0.8079\r",
      "Train Epoch: 0 [6%] || Loss: 0.18 || Time: 0.72s || Acc: 0.8081\r",
      "Train Epoch: 0 [6%] || Loss: 0.18 || Time: 0.72s || Acc: 0.8082\r",
      "Train Epoch: 0 [6%] || Loss: 0.18 || Time: 0.72s || Acc: 0.8087\r",
      "Train Epoch: 0 [6%] || Loss: 0.18 || Time: 0.72s || Acc: 0.8090\r",
      "Train Epoch: 0 [6%] || Loss: 0.18 || Time: 0.72s || Acc: 0.8091\r",
      "Train Epoch: 0 [6%] || Loss: 0.18 || Time: 0.72s || Acc: 0.8093\r",
      "Train Epoch: 0 [6%] || Loss: 0.18 || Time: 0.72s || Acc: 0.8095\r",
      "Train Epoch: 0 [6%] || Loss: 0.18 || Time: 0.72s || Acc: 0.8095\r",
      "Train Epoch: 0 [6%] || Loss: 0.18 || Time: 0.73s || Acc: 0.8099\r",
      "Train Epoch: 0 [6%] || Loss: 0.18 || Time: 0.73s || Acc: 0.8101\r",
      "Train Epoch: 0 [6%] || Loss: 0.18 || Time: 0.73s || Acc: 0.8101\r",
      "Train Epoch: 0 [6%] || Loss: 0.18 || Time: 0.73s || Acc: 0.8102\r",
      "Train Epoch: 0 [6%] || Loss: 0.18 || Time: 0.73s || Acc: 0.8105\r",
      "Train Epoch: 0 [6%] || Loss: 0.18 || Time: 0.73s || Acc: 0.8106\r",
      "Train Epoch: 0 [6%] || Loss: 0.18 || Time: 0.73s || Acc: 0.8107\r",
      "Train Epoch: 0 [6%] || Loss: 0.18 || Time: 0.73s || Acc: 0.8111\r",
      "Train Epoch: 0 [6%] || Loss: 0.18 || Time: 0.74s || Acc: 0.8113\r",
      "Train Epoch: 0 [6%] || Loss: 0.18 || Time: 0.74s || Acc: 0.8113\r",
      "Train Epoch: 0 [6%] || Loss: 0.18 || Time: 0.74s || Acc: 0.8115\r",
      "Train Epoch: 0 [6%] || Loss: 0.18 || Time: 0.74s || Acc: 0.8117\r",
      "Train Epoch: 0 [6%] || Loss: 0.18 || Time: 0.74s || Acc: 0.8118\r",
      "Train Epoch: 0 [6%] || Loss: 0.18 || Time: 0.74s || Acc: 0.8120\r",
      "Train Epoch: 0 [6%] || Loss: 0.18 || Time: 0.74s || Acc: 0.8122\r",
      "Train Epoch: 0 [6%] || Loss: 0.17 || Time: 0.74s || Acc: 0.8122\r",
      "Train Epoch: 0 [6%] || Loss: 0.17 || Time: 0.75s || Acc: 0.8125\r",
      "Train Epoch: 0 [6%] || Loss: 0.17 || Time: 0.75s || Acc: 0.8127\r",
      "Train Epoch: 0 [6%] || Loss: 0.17 || Time: 0.75s || Acc: 0.8128\r",
      "Train Epoch: 0 [6%] || Loss: 0.17 || Time: 0.75s || Acc: 0.8131\r",
      "Train Epoch: 0 [6%] || Loss: 0.17 || Time: 0.75s || Acc: 0.8134\r",
      "Train Epoch: 0 [6%] || Loss: 0.17 || Time: 0.75s || Acc: 0.8134\r",
      "Train Epoch: 0 [6%] || Loss: 0.17 || Time: 0.75s || Acc: 0.8136\r",
      "Train Epoch: 0 [6%] || Loss: 0.17 || Time: 0.75s || Acc: 0.8139\r",
      "Train Epoch: 0 [6%] || Loss: 0.17 || Time: 0.76s || Acc: 0.8142\r",
      "Train Epoch: 0 [6%] || Loss: 0.17 || Time: 0.76s || Acc: 0.8144\r",
      "Train Epoch: 0 [6%] || Loss: 0.17 || Time: 0.76s || Acc: 0.8145\r",
      "Train Epoch: 0 [6%] || Loss: 0.17 || Time: 0.76s || Acc: 0.8146\r",
      "Train Epoch: 0 [6%] || Loss: 0.17 || Time: 0.76s || Acc: 0.8149\r",
      "Train Epoch: 0 [6%] || Loss: 0.17 || Time: 0.76s || Acc: 0.8150\r",
      "Train Epoch: 0 [6%] || Loss: 0.17 || Time: 0.76s || Acc: 0.8150\r",
      "Train Epoch: 0 [6%] || Loss: 0.17 || Time: 0.76s || Acc: 0.8151\r",
      "Train Epoch: 0 [6%] || Loss: 0.17 || Time: 0.77s || Acc: 0.8153\r",
      "Train Epoch: 0 [6%] || Loss: 0.17 || Time: 0.77s || Acc: 0.8154\r",
      "Train Epoch: 0 [6%] || Loss: 0.17 || Time: 0.77s || Acc: 0.8155\r",
      "Train Epoch: 0 [6%] || Loss: 0.17 || Time: 0.77s || Acc: 0.8157\r",
      "Train Epoch: 0 [6%] || Loss: 0.17 || Time: 0.77s || Acc: 0.8160\r",
      "Train Epoch: 0 [6%] || Loss: 0.17 || Time: 0.77s || Acc: 0.8161\r",
      "Train Epoch: 0 [6%] || Loss: 0.17 || Time: 0.77s || Acc: 0.8163\r",
      "Train Epoch: 0 [6%] || Loss: 0.17 || Time: 0.77s || Acc: 0.8168\r",
      "Train Epoch: 0 [6%] || Loss: 0.17 || Time: 0.78s || Acc: 0.8169\r",
      "Train Epoch: 0 [6%] || Loss: 0.17 || Time: 0.78s || Acc: 0.8170\r",
      "Train Epoch: 0 [6%] || Loss: 0.17 || Time: 0.78s || Acc: 0.8171\r",
      "Train Epoch: 0 [6%] || Loss: 0.17 || Time: 0.78s || Acc: 0.8174\r",
      "Train Epoch: 0 [6%] || Loss: 0.17 || Time: 0.78s || Acc: 0.8175\r",
      "Train Epoch: 0 [6%] || Loss: 0.17 || Time: 0.78s || Acc: 0.8176\r",
      "Train Epoch: 0 [6%] || Loss: 0.17 || Time: 0.78s || Acc: 0.8178\r",
      "Train Epoch: 0 [6%] || Loss: 0.17 || Time: 0.78s || Acc: 0.8182\r",
      "Train Epoch: 0 [6%] || Loss: 0.17 || Time: 0.79s || Acc: 0.8187\r",
      "Train Epoch: 0 [6%] || Loss: 0.17 || Time: 0.79s || Acc: 0.8191\r",
      "Train Epoch: 0 [6%] || Loss: 0.17 || Time: 0.79s || Acc: 0.8192\r",
      "Train Epoch: 0 [6%] || Loss: 0.17 || Time: 0.79s || Acc: 0.8194\r",
      "Train Epoch: 0 [6%] || Loss: 0.17 || Time: 0.79s || Acc: 0.8195\r",
      "Train Epoch: 0 [6%] || Loss: 0.17 || Time: 0.79s || Acc: 0.8197\r",
      "Train Epoch: 0 [6%] || Loss: 0.17 || Time: 0.79s || Acc: 0.8198\r",
      "Train Epoch: 0 [6%] || Loss: 0.17 || Time: 0.80s || Acc: 0.8199\r",
      "Train Epoch: 0 [6%] || Loss: 0.17 || Time: 0.80s || Acc: 0.8203\r",
      "Train Epoch: 0 [6%] || Loss: 0.17 || Time: 0.80s || Acc: 0.8204\r",
      "Train Epoch: 0 [6%] || Loss: 0.17 || Time: 0.80s || Acc: 0.8207\r",
      "Train Epoch: 0 [6%] || Loss: 0.17 || Time: 0.80s || Acc: 0.8210\r",
      "Train Epoch: 0 [6%] || Loss: 0.17 || Time: 0.80s || Acc: 0.8210\r",
      "Train Epoch: 0 [6%] || Loss: 0.17 || Time: 0.80s || Acc: 0.8211\r",
      "Train Epoch: 0 [6%] || Loss: 0.17 || Time: 0.80s || Acc: 0.8212\r",
      "Train Epoch: 0 [6%] || Loss: 0.17 || Time: 0.81s || Acc: 0.8213\r",
      "Train Epoch: 0 [6%] || Loss: 0.17 || Time: 0.81s || Acc: 0.8214\r",
      "Train Epoch: 0 [6%] || Loss: 0.17 || Time: 0.81s || Acc: 0.8216\r",
      "Train Epoch: 0 [6%] || Loss: 0.17 || Time: 0.81s || Acc: 0.8218\r",
      "Train Epoch: 0 [6%] || Loss: 0.17 || Time: 0.81s || Acc: 0.8220\r",
      "Train Epoch: 0 [6%] || Loss: 0.17 || Time: 0.81s || Acc: 0.8221\r",
      "Train Epoch: 0 [6%] || Loss: 0.17 || Time: 0.81s || Acc: 0.8222\r",
      "Train Epoch: 0 [6%] || Loss: 0.17 || Time: 0.81s || Acc: 0.8224\r",
      "Train Epoch: 0 [6%] || Loss: 0.17 || Time: 0.82s || Acc: 0.8225\r",
      "Train Epoch: 0 [6%] || Loss: 0.17 || Time: 0.82s || Acc: 0.8226\r",
      "Train Epoch: 0 [6%] || Loss: 0.17 || Time: 0.82s || Acc: 0.8230\r",
      "Train Epoch: 0 [6%] || Loss: 0.17 || Time: 0.82s || Acc: 0.8230\r",
      "Train Epoch: 0 [7%] || Loss: 0.17 || Time: 0.82s || Acc: 0.8231\r",
      "Train Epoch: 0 [7%] || Loss: 0.17 || Time: 0.82s || Acc: 0.8232\r",
      "Train Epoch: 0 [7%] || Loss: 0.17 || Time: 0.82s || Acc: 0.8233\r",
      "Train Epoch: 0 [7%] || Loss: 0.17 || Time: 0.83s || Acc: 0.8233\r",
      "Train Epoch: 0 [7%] || Loss: 0.17 || Time: 0.83s || Acc: 0.8235\r",
      "Train Epoch: 0 [7%] || Loss: 0.17 || Time: 0.83s || Acc: 0.8237\r",
      "Train Epoch: 0 [7%] || Loss: 0.17 || Time: 0.83s || Acc: 0.8238\r",
      "Train Epoch: 0 [7%] || Loss: 0.17 || Time: 0.83s || Acc: 0.8239\r",
      "Train Epoch: 0 [7%] || Loss: 0.17 || Time: 0.83s || Acc: 0.8242\r",
      "Train Epoch: 0 [7%] || Loss: 0.17 || Time: 0.83s || Acc: 0.8244\r",
      "Train Epoch: 0 [7%] || Loss: 0.17 || Time: 0.83s || Acc: 0.8244\r",
      "Train Epoch: 0 [7%] || Loss: 0.17 || Time: 0.84s || Acc: 0.8245\r",
      "Train Epoch: 0 [7%] || Loss: 0.17 || Time: 0.84s || Acc: 0.8246\r",
      "Train Epoch: 0 [7%] || Loss: 0.17 || Time: 0.84s || Acc: 0.8247\r",
      "Train Epoch: 0 [7%] || Loss: 0.17 || Time: 0.84s || Acc: 0.8249\r",
      "Train Epoch: 0 [7%] || Loss: 0.16 || Time: 0.84s || Acc: 0.8249\r",
      "Train Epoch: 0 [7%] || Loss: 0.16 || Time: 0.84s || Acc: 0.8249\r"
     ]
    },
    {
     "name": "stdout",
     "output_type": "stream",
     "text": [
      "Train Epoch: 0 [7%] || Loss: 0.16 || Time: 0.84s || Acc: 0.8250\r",
      "Train Epoch: 0 [7%] || Loss: 0.16 || Time: 0.85s || Acc: 0.8253\r",
      "Train Epoch: 0 [7%] || Loss: 0.16 || Time: 0.86s || Acc: 0.8254\r",
      "Train Epoch: 0 [7%] || Loss: 0.16 || Time: 0.86s || Acc: 0.8256\r",
      "Train Epoch: 0 [7%] || Loss: 0.16 || Time: 0.86s || Acc: 0.8257\r",
      "Train Epoch: 0 [7%] || Loss: 0.16 || Time: 0.86s || Acc: 0.8259\r",
      "Train Epoch: 0 [7%] || Loss: 0.16 || Time: 0.87s || Acc: 0.8265\r",
      "Train Epoch: 0 [7%] || Loss: 0.16 || Time: 0.87s || Acc: 0.8267\r",
      "Train Epoch: 0 [7%] || Loss: 0.16 || Time: 0.87s || Acc: 0.8270\r",
      "Train Epoch: 0 [7%] || Loss: 0.16 || Time: 0.87s || Acc: 0.8271\r",
      "Train Epoch: 0 [7%] || Loss: 0.16 || Time: 0.87s || Acc: 0.8273\r",
      "Train Epoch: 0 [7%] || Loss: 0.16 || Time: 0.87s || Acc: 0.8274\r",
      "Train Epoch: 0 [7%] || Loss: 0.16 || Time: 0.87s || Acc: 0.8276\r",
      "Train Epoch: 0 [7%] || Loss: 0.16 || Time: 0.88s || Acc: 0.8277\r",
      "Train Epoch: 0 [7%] || Loss: 0.16 || Time: 0.88s || Acc: 0.8278\r",
      "Train Epoch: 0 [7%] || Loss: 0.16 || Time: 0.88s || Acc: 0.8280\r",
      "Train Epoch: 0 [7%] || Loss: 0.16 || Time: 0.88s || Acc: 0.8281\r",
      "Train Epoch: 0 [7%] || Loss: 0.16 || Time: 0.88s || Acc: 0.8282\r",
      "Train Epoch: 0 [7%] || Loss: 0.16 || Time: 0.88s || Acc: 0.8291\r",
      "Train Epoch: 0 [7%] || Loss: 0.16 || Time: 0.88s || Acc: 0.8295\r",
      "Train Epoch: 0 [7%] || Loss: 0.16 || Time: 0.89s || Acc: 0.8295\r",
      "Train Epoch: 0 [7%] || Loss: 0.16 || Time: 0.89s || Acc: 0.8296\r",
      "Train Epoch: 0 [7%] || Loss: 0.16 || Time: 0.89s || Acc: 0.8296\r",
      "Train Epoch: 0 [7%] || Loss: 0.16 || Time: 0.89s || Acc: 0.8297\r",
      "Train Epoch: 0 [7%] || Loss: 0.16 || Time: 0.89s || Acc: 0.8300\r",
      "Train Epoch: 0 [7%] || Loss: 0.16 || Time: 0.89s || Acc: 0.8301\r",
      "Train Epoch: 0 [7%] || Loss: 0.16 || Time: 0.89s || Acc: 0.8303\r",
      "Train Epoch: 0 [7%] || Loss: 0.16 || Time: 0.89s || Acc: 0.8306\r",
      "Train Epoch: 0 [7%] || Loss: 0.16 || Time: 0.90s || Acc: 0.8308\r",
      "Train Epoch: 0 [7%] || Loss: 0.16 || Time: 0.90s || Acc: 0.8308\r",
      "Train Epoch: 0 [7%] || Loss: 0.16 || Time: 0.90s || Acc: 0.8309\r",
      "Train Epoch: 0 [7%] || Loss: 0.16 || Time: 0.90s || Acc: 0.8309\r",
      "Train Epoch: 0 [7%] || Loss: 0.16 || Time: 0.90s || Acc: 0.8312\r",
      "Train Epoch: 0 [7%] || Loss: 0.16 || Time: 0.90s || Acc: 0.8314\r",
      "Train Epoch: 0 [7%] || Loss: 0.16 || Time: 0.90s || Acc: 0.8315\r",
      "Train Epoch: 0 [7%] || Loss: 0.16 || Time: 0.90s || Acc: 0.8316\r",
      "Train Epoch: 0 [7%] || Loss: 0.16 || Time: 0.91s || Acc: 0.8318\r",
      "Train Epoch: 0 [7%] || Loss: 0.16 || Time: 0.91s || Acc: 0.8318\r",
      "Train Epoch: 0 [7%] || Loss: 0.16 || Time: 0.91s || Acc: 0.8319\r",
      "Train Epoch: 0 [7%] || Loss: 0.16 || Time: 0.91s || Acc: 0.8320\r",
      "Train Epoch: 0 [7%] || Loss: 0.16 || Time: 0.91s || Acc: 0.8321\r",
      "Train Epoch: 0 [7%] || Loss: 0.16 || Time: 0.91s || Acc: 0.8322\r",
      "Train Epoch: 0 [7%] || Loss: 0.16 || Time: 0.91s || Acc: 0.8323\r",
      "Train Epoch: 0 [7%] || Loss: 0.16 || Time: 0.91s || Acc: 0.8326\r",
      "Train Epoch: 0 [7%] || Loss: 0.16 || Time: 0.92s || Acc: 0.8327\r",
      "Train Epoch: 0 [7%] || Loss: 0.16 || Time: 0.92s || Acc: 0.8327\r",
      "Train Epoch: 0 [7%] || Loss: 0.16 || Time: 0.92s || Acc: 0.8332\r",
      "Train Epoch: 0 [7%] || Loss: 0.16 || Time: 0.92s || Acc: 0.8332\r",
      "Train Epoch: 0 [7%] || Loss: 0.16 || Time: 0.92s || Acc: 0.8333\r",
      "Train Epoch: 0 [7%] || Loss: 0.16 || Time: 0.92s || Acc: 0.8334\r",
      "Train Epoch: 0 [7%] || Loss: 0.16 || Time: 0.92s || Acc: 0.8335\r",
      "Train Epoch: 0 [7%] || Loss: 0.16 || Time: 0.92s || Acc: 0.8335\r",
      "Train Epoch: 0 [7%] || Loss: 0.16 || Time: 0.93s || Acc: 0.8336\r",
      "Train Epoch: 0 [7%] || Loss: 0.16 || Time: 0.93s || Acc: 0.8338\r",
      "Train Epoch: 0 [7%] || Loss: 0.16 || Time: 0.93s || Acc: 0.8340\r",
      "Train Epoch: 0 [7%] || Loss: 0.16 || Time: 0.93s || Acc: 0.8342\r",
      "Train Epoch: 0 [7%] || Loss: 0.16 || Time: 0.93s || Acc: 0.8343\r",
      "Train Epoch: 0 [7%] || Loss: 0.16 || Time: 0.93s || Acc: 0.8345\r",
      "Train Epoch: 0 [7%] || Loss: 0.16 || Time: 0.93s || Acc: 0.8346\r",
      "Train Epoch: 0 [7%] || Loss: 0.16 || Time: 0.93s || Acc: 0.8347\r",
      "Train Epoch: 0 [7%] || Loss: 0.16 || Time: 0.94s || Acc: 0.8347\r",
      "Train Epoch: 0 [7%] || Loss: 0.16 || Time: 0.94s || Acc: 0.8348\r",
      "Train Epoch: 0 [7%] || Loss: 0.16 || Time: 0.94s || Acc: 0.8349\r",
      "Train Epoch: 0 [7%] || Loss: 0.16 || Time: 0.94s || Acc: 0.8349\r",
      "Train Epoch: 0 [7%] || Loss: 0.16 || Time: 0.94s || Acc: 0.8350\r",
      "Train Epoch: 0 [7%] || Loss: 0.16 || Time: 0.94s || Acc: 0.8351\r",
      "Train Epoch: 0 [7%] || Loss: 0.16 || Time: 0.94s || Acc: 0.8353\r",
      "Train Epoch: 0 [7%] || Loss: 0.16 || Time: 0.94s || Acc: 0.8354\r",
      "Train Epoch: 0 [7%] || Loss: 0.16 || Time: 0.95s || Acc: 0.8354\r",
      "Train Epoch: 0 [8%] || Loss: 0.16 || Time: 0.95s || Acc: 0.8355\r",
      "Train Epoch: 0 [8%] || Loss: 0.16 || Time: 0.95s || Acc: 0.8359\r",
      "Train Epoch: 0 [8%] || Loss: 0.16 || Time: 0.95s || Acc: 0.8360\r",
      "Train Epoch: 0 [8%] || Loss: 0.16 || Time: 0.95s || Acc: 0.8362\r",
      "Train Epoch: 0 [8%] || Loss: 0.16 || Time: 0.95s || Acc: 0.8363\r",
      "Train Epoch: 0 [8%] || Loss: 0.16 || Time: 0.95s || Acc: 0.8364\r",
      "Train Epoch: 0 [8%] || Loss: 0.16 || Time: 0.96s || Acc: 0.8365\r",
      "Train Epoch: 0 [8%] || Loss: 0.16 || Time: 0.96s || Acc: 0.8365\r",
      "Train Epoch: 0 [8%] || Loss: 0.16 || Time: 0.96s || Acc: 0.8368\r",
      "Train Epoch: 0 [8%] || Loss: 0.16 || Time: 0.96s || Acc: 0.8370\r",
      "Train Epoch: 0 [8%] || Loss: 0.16 || Time: 0.96s || Acc: 0.8370\r",
      "Train Epoch: 0 [8%] || Loss: 0.16 || Time: 0.96s || Acc: 0.8372\r",
      "Train Epoch: 0 [8%] || Loss: 0.16 || Time: 0.96s || Acc: 0.8373\r",
      "Train Epoch: 0 [8%] || Loss: 0.16 || Time: 0.96s || Acc: 0.8374\r",
      "Train Epoch: 0 [8%] || Loss: 0.16 || Time: 0.97s || Acc: 0.8374\r",
      "Train Epoch: 0 [8%] || Loss: 0.16 || Time: 0.97s || Acc: 0.8374\r",
      "Train Epoch: 0 [8%] || Loss: 0.16 || Time: 0.97s || Acc: 0.8376\r",
      "Train Epoch: 0 [8%] || Loss: 0.16 || Time: 0.97s || Acc: 0.8377\r",
      "Train Epoch: 0 [8%] || Loss: 0.15 || Time: 0.97s || Acc: 0.8379\r",
      "Train Epoch: 0 [8%] || Loss: 0.15 || Time: 0.97s || Acc: 0.8381\r",
      "Train Epoch: 0 [8%] || Loss: 0.15 || Time: 0.97s || Acc: 0.8381\r",
      "Train Epoch: 0 [8%] || Loss: 0.15 || Time: 0.97s || Acc: 0.8383\r",
      "Train Epoch: 0 [8%] || Loss: 0.15 || Time: 0.98s || Acc: 0.8385\r",
      "Train Epoch: 0 [8%] || Loss: 0.15 || Time: 0.98s || Acc: 0.8386\r",
      "Train Epoch: 0 [8%] || Loss: 0.15 || Time: 0.98s || Acc: 0.8388\r",
      "Train Epoch: 0 [8%] || Loss: 0.15 || Time: 0.98s || Acc: 0.8389\r",
      "Train Epoch: 0 [8%] || Loss: 0.15 || Time: 0.98s || Acc: 0.8391\r",
      "Train Epoch: 0 [8%] || Loss: 0.15 || Time: 0.98s || Acc: 0.8394\r",
      "Train Epoch: 0 [8%] || Loss: 0.15 || Time: 0.98s || Acc: 0.8394\r",
      "Train Epoch: 0 [8%] || Loss: 0.15 || Time: 0.98s || Acc: 0.8394\r",
      "Train Epoch: 0 [8%] || Loss: 0.15 || Time: 0.99s || Acc: 0.8396\r",
      "Train Epoch: 0 [8%] || Loss: 0.15 || Time: 0.99s || Acc: 0.8397\r",
      "Train Epoch: 0 [8%] || Loss: 0.15 || Time: 0.99s || Acc: 0.8398\r",
      "Train Epoch: 0 [8%] || Loss: 0.15 || Time: 0.99s || Acc: 0.8398\r",
      "Train Epoch: 0 [8%] || Loss: 0.15 || Time: 0.99s || Acc: 0.8401\r",
      "Train Epoch: 0 [8%] || Loss: 0.15 || Time: 0.99s || Acc: 0.8404\r",
      "Train Epoch: 0 [8%] || Loss: 0.15 || Time: 0.99s || Acc: 0.8406\r",
      "Train Epoch: 0 [8%] || Loss: 0.15 || Time: 1.00s || Acc: 0.8408\r",
      "Train Epoch: 0 [8%] || Loss: 0.15 || Time: 1.00s || Acc: 0.8409\r",
      "Train Epoch: 0 [8%] || Loss: 0.15 || Time: 1.00s || Acc: 0.8410\r",
      "Train Epoch: 0 [8%] || Loss: 0.15 || Time: 1.00s || Acc: 0.8412\r",
      "Train Epoch: 0 [8%] || Loss: 0.15 || Time: 1.00s || Acc: 0.8412\r",
      "Train Epoch: 0 [8%] || Loss: 0.15 || Time: 1.00s || Acc: 0.8413\r",
      "Train Epoch: 0 [8%] || Loss: 0.15 || Time: 1.00s || Acc: 0.8413\r",
      "Train Epoch: 0 [8%] || Loss: 0.15 || Time: 1.00s || Acc: 0.8416\r",
      "Train Epoch: 0 [8%] || Loss: 0.15 || Time: 1.01s || Acc: 0.8418\r",
      "Train Epoch: 0 [8%] || Loss: 0.15 || Time: 1.01s || Acc: 0.8418\r",
      "Train Epoch: 0 [8%] || Loss: 0.15 || Time: 1.01s || Acc: 0.8422\r",
      "Train Epoch: 0 [8%] || Loss: 0.15 || Time: 1.01s || Acc: 0.8423\r",
      "Train Epoch: 0 [8%] || Loss: 0.15 || Time: 1.01s || Acc: 0.8424\r",
      "Train Epoch: 0 [8%] || Loss: 0.15 || Time: 1.01s || Acc: 0.8425\r",
      "Train Epoch: 0 [8%] || Loss: 0.15 || Time: 1.01s || Acc: 0.8425\r",
      "Train Epoch: 0 [8%] || Loss: 0.15 || Time: 1.01s || Acc: 0.8427\r",
      "Train Epoch: 0 [8%] || Loss: 0.15 || Time: 1.02s || Acc: 0.8428\r",
      "Train Epoch: 0 [8%] || Loss: 0.15 || Time: 1.02s || Acc: 0.8429\r",
      "Train Epoch: 0 [8%] || Loss: 0.15 || Time: 1.02s || Acc: 0.8431\r",
      "Train Epoch: 0 [8%] || Loss: 0.15 || Time: 1.02s || Acc: 0.8432\r",
      "Train Epoch: 0 [8%] || Loss: 0.15 || Time: 1.02s || Acc: 0.8434\r",
      "Train Epoch: 0 [8%] || Loss: 0.15 || Time: 1.02s || Acc: 0.8435\r",
      "Train Epoch: 0 [8%] || Loss: 0.15 || Time: 1.02s || Acc: 0.8437\r",
      "Train Epoch: 0 [8%] || Loss: 0.15 || Time: 1.03s || Acc: 0.8438\r",
      "Train Epoch: 0 [8%] || Loss: 0.15 || Time: 1.03s || Acc: 0.8439\r",
      "Train Epoch: 0 [8%] || Loss: 0.15 || Time: 1.03s || Acc: 0.8442\r",
      "Train Epoch: 0 [8%] || Loss: 0.15 || Time: 1.03s || Acc: 0.8443\r",
      "Train Epoch: 0 [8%] || Loss: 0.15 || Time: 1.03s || Acc: 0.8445\r",
      "Train Epoch: 0 [8%] || Loss: 0.15 || Time: 1.03s || Acc: 0.8445\r",
      "Train Epoch: 0 [8%] || Loss: 0.15 || Time: 1.03s || Acc: 0.8451\r",
      "Train Epoch: 0 [8%] || Loss: 0.15 || Time: 1.04s || Acc: 0.8454\r",
      "Train Epoch: 0 [8%] || Loss: 0.15 || Time: 1.04s || Acc: 0.8454\r",
      "Train Epoch: 0 [8%] || Loss: 0.15 || Time: 1.04s || Acc: 0.8455\r",
      "Train Epoch: 0 [8%] || Loss: 0.15 || Time: 1.04s || Acc: 0.8458\r",
      "Train Epoch: 0 [8%] || Loss: 0.15 || Time: 1.04s || Acc: 0.8458\r",
      "Train Epoch: 0 [8%] || Loss: 0.15 || Time: 1.04s || Acc: 0.8461\r",
      "Train Epoch: 0 [8%] || Loss: 0.15 || Time: 1.04s || Acc: 0.8460\r",
      "Train Epoch: 0 [8%] || Loss: 0.15 || Time: 1.05s || Acc: 0.8461\r"
     ]
    },
    {
     "name": "stdout",
     "output_type": "stream",
     "text": [
      "Train Epoch: 0 [8%] || Loss: 0.15 || Time: 1.05s || Acc: 0.8462\r",
      "Train Epoch: 0 [8%] || Loss: 0.15 || Time: 1.06s || Acc: 0.8462\r",
      "Train Epoch: 0 [8%] || Loss: 0.15 || Time: 1.06s || Acc: 0.8463\r",
      "Train Epoch: 0 [8%] || Loss: 0.15 || Time: 1.06s || Acc: 0.8464\r",
      "Train Epoch: 0 [8%] || Loss: 0.15 || Time: 1.07s || Acc: 0.8466\r",
      "Train Epoch: 0 [8%] || Loss: 0.15 || Time: 1.07s || Acc: 0.8466\r",
      "Train Epoch: 0 [8%] || Loss: 0.15 || Time: 1.07s || Acc: 0.8470\r",
      "Train Epoch: 0 [8%] || Loss: 0.15 || Time: 1.07s || Acc: 0.8470\r",
      "Train Epoch: 0 [8%] || Loss: 0.15 || Time: 1.07s || Acc: 0.8471\r",
      "Train Epoch: 0 [8%] || Loss: 0.15 || Time: 1.08s || Acc: 0.8471\r",
      "Train Epoch: 0 [8%] || Loss: 0.15 || Time: 1.08s || Acc: 0.8472\r",
      "Train Epoch: 0 [8%] || Loss: 0.15 || Time: 1.08s || Acc: 0.8473\r",
      "Train Epoch: 0 [9%] || Loss: 0.15 || Time: 1.08s || Acc: 0.8473\r",
      "Train Epoch: 0 [9%] || Loss: 0.15 || Time: 1.08s || Acc: 0.8474\r",
      "Train Epoch: 0 [9%] || Loss: 0.15 || Time: 1.08s || Acc: 0.8475\r",
      "Train Epoch: 0 [9%] || Loss: 0.15 || Time: 1.08s || Acc: 0.8476\r",
      "Train Epoch: 0 [9%] || Loss: 0.15 || Time: 1.09s || Acc: 0.8477\r",
      "Train Epoch: 0 [9%] || Loss: 0.15 || Time: 1.09s || Acc: 0.8477\r",
      "Train Epoch: 0 [9%] || Loss: 0.15 || Time: 1.09s || Acc: 0.8478\r",
      "Train Epoch: 0 [9%] || Loss: 0.15 || Time: 1.09s || Acc: 0.8479\r",
      "Train Epoch: 0 [9%] || Loss: 0.15 || Time: 1.09s || Acc: 0.8480\r",
      "Train Epoch: 0 [9%] || Loss: 0.15 || Time: 1.09s || Acc: 0.8482\r",
      "Train Epoch: 0 [9%] || Loss: 0.15 || Time: 1.09s || Acc: 0.8482\r",
      "Train Epoch: 0 [9%] || Loss: 0.15 || Time: 1.09s || Acc: 0.8483\r",
      "Train Epoch: 0 [9%] || Loss: 0.15 || Time: 1.10s || Acc: 0.8484\r",
      "Train Epoch: 0 [9%] || Loss: 0.15 || Time: 1.10s || Acc: 0.8485\r",
      "Train Epoch: 0 [9%] || Loss: 0.15 || Time: 1.10s || Acc: 0.8486\r",
      "Train Epoch: 0 [9%] || Loss: 0.15 || Time: 1.10s || Acc: 0.8487\r",
      "Train Epoch: 0 [9%] || Loss: 0.15 || Time: 1.10s || Acc: 0.8488\r",
      "Train Epoch: 0 [9%] || Loss: 0.15 || Time: 1.10s || Acc: 0.8489\r",
      "Train Epoch: 0 [9%] || Loss: 0.15 || Time: 1.10s || Acc: 0.8490\r",
      "Train Epoch: 0 [9%] || Loss: 0.15 || Time: 1.11s || Acc: 0.8491\r",
      "Train Epoch: 0 [9%] || Loss: 0.15 || Time: 1.11s || Acc: 0.8491\r",
      "Train Epoch: 0 [9%] || Loss: 0.15 || Time: 1.11s || Acc: 0.8492\r",
      "Train Epoch: 0 [9%] || Loss: 0.15 || Time: 1.11s || Acc: 0.8493\r",
      "Train Epoch: 0 [9%] || Loss: 0.15 || Time: 1.11s || Acc: 0.8495\r",
      "Train Epoch: 0 [9%] || Loss: 0.15 || Time: 1.11s || Acc: 0.8496\r",
      "Train Epoch: 0 [9%] || Loss: 0.15 || Time: 1.11s || Acc: 0.8497\r",
      "Train Epoch: 0 [9%] || Loss: 0.15 || Time: 1.12s || Acc: 0.8499\r",
      "Train Epoch: 0 [9%] || Loss: 0.15 || Time: 1.12s || Acc: 0.8500\r",
      "Train Epoch: 0 [9%] || Loss: 0.15 || Time: 1.12s || Acc: 0.8501\r",
      "Train Epoch: 0 [9%] || Loss: 0.15 || Time: 1.12s || Acc: 0.8501\r",
      "Train Epoch: 0 [9%] || Loss: 0.15 || Time: 1.12s || Acc: 0.8503\r",
      "Train Epoch: 0 [9%] || Loss: 0.15 || Time: 1.12s || Acc: 0.8508\r",
      "Train Epoch: 0 [9%] || Loss: 0.15 || Time: 1.12s || Acc: 0.8509\r",
      "Train Epoch: 0 [9%] || Loss: 0.15 || Time: 1.12s || Acc: 0.8509\r",
      "Train Epoch: 0 [9%] || Loss: 0.15 || Time: 1.13s || Acc: 0.8509\r",
      "Train Epoch: 0 [9%] || Loss: 0.15 || Time: 1.13s || Acc: 0.8510\r",
      "Train Epoch: 0 [9%] || Loss: 0.15 || Time: 1.13s || Acc: 0.8512\r",
      "Train Epoch: 0 [9%] || Loss: 0.15 || Time: 1.13s || Acc: 0.8513\r",
      "Train Epoch: 0 [9%] || Loss: 0.15 || Time: 1.13s || Acc: 0.8514\r",
      "Train Epoch: 0 [9%] || Loss: 0.14 || Time: 1.13s || Acc: 0.8514\r",
      "Train Epoch: 0 [9%] || Loss: 0.14 || Time: 1.13s || Acc: 0.8516\r",
      "Train Epoch: 0 [9%] || Loss: 0.14 || Time: 1.13s || Acc: 0.8517\r",
      "Train Epoch: 0 [9%] || Loss: 0.14 || Time: 1.14s || Acc: 0.8519\r",
      "Train Epoch: 0 [9%] || Loss: 0.14 || Time: 1.14s || Acc: 0.8520\r",
      "Train Epoch: 0 [9%] || Loss: 0.14 || Time: 1.14s || Acc: 0.8523\r",
      "Train Epoch: 0 [9%] || Loss: 0.14 || Time: 1.14s || Acc: 0.8524\r",
      "Train Epoch: 0 [9%] || Loss: 0.14 || Time: 1.14s || Acc: 0.8526\r",
      "Train Epoch: 0 [9%] || Loss: 0.14 || Time: 1.14s || Acc: 0.8527\r",
      "Train Epoch: 0 [9%] || Loss: 0.14 || Time: 1.14s || Acc: 0.8528\r",
      "Train Epoch: 0 [9%] || Loss: 0.14 || Time: 1.15s || Acc: 0.8529\r",
      "Train Epoch: 0 [9%] || Loss: 0.14 || Time: 1.15s || Acc: 0.8529\r",
      "Train Epoch: 0 [9%] || Loss: 0.14 || Time: 1.15s || Acc: 0.8530\r",
      "Train Epoch: 0 [9%] || Loss: 0.14 || Time: 1.15s || Acc: 0.8531\r",
      "Train Epoch: 0 [9%] || Loss: 0.14 || Time: 1.15s || Acc: 0.8531\r",
      "Train Epoch: 0 [9%] || Loss: 0.14 || Time: 1.15s || Acc: 0.8533\r",
      "Train Epoch: 0 [9%] || Loss: 0.14 || Time: 1.15s || Acc: 0.8534\r",
      "Train Epoch: 0 [9%] || Loss: 0.14 || Time: 1.15s || Acc: 0.8534\r",
      "Train Epoch: 0 [9%] || Loss: 0.14 || Time: 1.16s || Acc: 0.8537\r",
      "Train Epoch: 0 [9%] || Loss: 0.14 || Time: 1.16s || Acc: 0.8538\r",
      "Train Epoch: 0 [9%] || Loss: 0.14 || Time: 1.16s || Acc: 0.8539\r",
      "Train Epoch: 0 [9%] || Loss: 0.14 || Time: 1.16s || Acc: 0.8540\r",
      "Train Epoch: 0 [9%] || Loss: 0.14 || Time: 1.16s || Acc: 0.8540\r",
      "Train Epoch: 0 [9%] || Loss: 0.14 || Time: 1.16s || Acc: 0.8541\r",
      "Train Epoch: 0 [9%] || Loss: 0.14 || Time: 1.16s || Acc: 0.8542\r",
      "Train Epoch: 0 [9%] || Loss: 0.14 || Time: 1.16s || Acc: 0.8544\r",
      "Train Epoch: 0 [9%] || Loss: 0.14 || Time: 1.17s || Acc: 0.8545\r",
      "Train Epoch: 0 [9%] || Loss: 0.14 || Time: 1.17s || Acc: 0.8546\r",
      "Train Epoch: 0 [9%] || Loss: 0.14 || Time: 1.17s || Acc: 0.8548\r",
      "Train Epoch: 0 [9%] || Loss: 0.14 || Time: 1.17s || Acc: 0.8550\r",
      "Train Epoch: 0 [9%] || Loss: 0.14 || Time: 1.17s || Acc: 0.8550\r",
      "Train Epoch: 0 [9%] || Loss: 0.14 || Time: 1.17s || Acc: 0.8551\r",
      "Train Epoch: 0 [9%] || Loss: 0.14 || Time: 1.17s || Acc: 0.8553\r",
      "Train Epoch: 0 [9%] || Loss: 0.14 || Time: 1.18s || Acc: 0.8554\r",
      "Train Epoch: 0 [9%] || Loss: 0.14 || Time: 1.18s || Acc: 0.8555\r",
      "Train Epoch: 0 [9%] || Loss: 0.14 || Time: 1.18s || Acc: 0.8556\r",
      "Train Epoch: 0 [9%] || Loss: 0.14 || Time: 1.18s || Acc: 0.8556\r",
      "Train Epoch: 0 [9%] || Loss: 0.14 || Time: 1.18s || Acc: 0.8558\r",
      "Train Epoch: 0 [9%] || Loss: 0.14 || Time: 1.18s || Acc: 0.8558\r",
      "Train Epoch: 0 [9%] || Loss: 0.14 || Time: 1.18s || Acc: 0.8559\r",
      "Train Epoch: 0 [9%] || Loss: 0.14 || Time: 1.18s || Acc: 0.8561\r",
      "Train Epoch: 0 [9%] || Loss: 0.14 || Time: 1.19s || Acc: 0.8561\r",
      "Train Epoch: 0 [9%] || Loss: 0.14 || Time: 1.19s || Acc: 0.8562\r",
      "Train Epoch: 0 [9%] || Loss: 0.14 || Time: 1.19s || Acc: 0.8563\r",
      "Train Epoch: 0 [9%] || Loss: 0.14 || Time: 1.19s || Acc: 0.8564\r",
      "Train Epoch: 0 [9%] || Loss: 0.14 || Time: 1.19s || Acc: 0.8566\r",
      "Train Epoch: 0 [9%] || Loss: 0.14 || Time: 1.19s || Acc: 0.8567\r",
      "Train Epoch: 0 [9%] || Loss: 0.14 || Time: 1.19s || Acc: 0.8567\r",
      "Train Epoch: 0 [10%] || Loss: 0.14 || Time: 1.19s || Acc: 0.8568\r",
      "Train Epoch: 0 [10%] || Loss: 0.14 || Time: 1.20s || Acc: 0.8569\r",
      "Train Epoch: 0 [10%] || Loss: 0.14 || Time: 1.20s || Acc: 0.8569\r",
      "Train Epoch: 0 [10%] || Loss: 0.14 || Time: 1.20s || Acc: 0.8570\r",
      "Train Epoch: 0 [10%] || Loss: 0.14 || Time: 1.20s || Acc: 0.8576\r",
      "Train Epoch: 0 [10%] || Loss: 0.14 || Time: 1.20s || Acc: 0.8577\r",
      "Train Epoch: 0 [10%] || Loss: 0.14 || Time: 1.20s || Acc: 0.8578\r",
      "Train Epoch: 0 [10%] || Loss: 0.14 || Time: 1.20s || Acc: 0.8578\r",
      "Train Epoch: 0 [10%] || Loss: 0.14 || Time: 1.21s || Acc: 0.8579\r",
      "Train Epoch: 0 [10%] || Loss: 0.14 || Time: 1.21s || Acc: 0.8580\r",
      "Train Epoch: 0 [10%] || Loss: 0.14 || Time: 1.21s || Acc: 0.8580\r",
      "Train Epoch: 0 [10%] || Loss: 0.14 || Time: 1.21s || Acc: 0.8581\r",
      "Train Epoch: 0 [10%] || Loss: 0.14 || Time: 1.21s || Acc: 0.8583\r",
      "Train Epoch: 0 [10%] || Loss: 0.14 || Time: 1.21s || Acc: 0.8584\r",
      "Train Epoch: 0 [10%] || Loss: 0.14 || Time: 1.21s || Acc: 0.8585\r",
      "Train Epoch: 0 [10%] || Loss: 0.14 || Time: 1.21s || Acc: 0.8586\r",
      "Train Epoch: 0 [10%] || Loss: 0.14 || Time: 1.22s || Acc: 0.8587\r",
      "Train Epoch: 0 [10%] || Loss: 0.14 || Time: 1.22s || Acc: 0.8589\r",
      "Train Epoch: 0 [10%] || Loss: 0.14 || Time: 1.22s || Acc: 0.8589\r",
      "Train Epoch: 0 [10%] || Loss: 0.14 || Time: 1.22s || Acc: 0.8589\r",
      "Train Epoch: 0 [10%] || Loss: 0.14 || Time: 1.22s || Acc: 0.8591\r",
      "Train Epoch: 0 [10%] || Loss: 0.14 || Time: 1.23s || Acc: 0.8591\r",
      "Train Epoch: 0 [10%] || Loss: 0.14 || Time: 1.23s || Acc: 0.8592\r",
      "Train Epoch: 0 [10%] || Loss: 0.14 || Time: 1.23s || Acc: 0.8593\r",
      "Train Epoch: 0 [10%] || Loss: 0.14 || Time: 1.23s || Acc: 0.8593\r",
      "Train Epoch: 0 [10%] || Loss: 0.14 || Time: 1.23s || Acc: 0.8594\r",
      "Train Epoch: 0 [10%] || Loss: 0.14 || Time: 1.23s || Acc: 0.8595\r",
      "Train Epoch: 0 [10%] || Loss: 0.14 || Time: 1.24s || Acc: 0.8597\r",
      "Train Epoch: 0 [10%] || Loss: 0.14 || Time: 1.24s || Acc: 0.8598\r",
      "Train Epoch: 0 [10%] || Loss: 0.14 || Time: 1.24s || Acc: 0.8598\r",
      "Train Epoch: 0 [10%] || Loss: 0.14 || Time: 1.24s || Acc: 0.8600\r",
      "Train Epoch: 0 [10%] || Loss: 0.14 || Time: 1.24s || Acc: 0.8601\r",
      "Train Epoch: 0 [10%] || Loss: 0.14 || Time: 1.25s || Acc: 0.8601\r",
      "Train Epoch: 0 [10%] || Loss: 0.14 || Time: 1.25s || Acc: 0.8602\r"
     ]
    },
    {
     "name": "stdout",
     "output_type": "stream",
     "text": [
      "Train Epoch: 0 [10%] || Loss: 0.14 || Time: 1.25s || Acc: 0.8603\r",
      "Train Epoch: 0 [10%] || Loss: 0.14 || Time: 1.25s || Acc: 0.8604\r",
      "Train Epoch: 0 [10%] || Loss: 0.14 || Time: 1.25s || Acc: 0.8606\r",
      "Train Epoch: 0 [10%] || Loss: 0.14 || Time: 1.26s || Acc: 0.8606\r",
      "Train Epoch: 0 [10%] || Loss: 0.14 || Time: 1.26s || Acc: 0.8606\r",
      "Train Epoch: 0 [10%] || Loss: 0.14 || Time: 1.26s || Acc: 0.8608\r",
      "Train Epoch: 0 [10%] || Loss: 0.14 || Time: 1.26s || Acc: 0.8609\r",
      "Train Epoch: 0 [10%] || Loss: 0.14 || Time: 1.26s || Acc: 0.8610\r",
      "Train Epoch: 0 [10%] || Loss: 0.14 || Time: 1.27s || Acc: 0.8610\r",
      "Train Epoch: 0 [10%] || Loss: 0.14 || Time: 1.27s || Acc: 0.8611\r",
      "Train Epoch: 0 [10%] || Loss: 0.14 || Time: 1.27s || Acc: 0.8611\r",
      "Train Epoch: 0 [10%] || Loss: 0.14 || Time: 1.28s || Acc: 0.8613\r",
      "Train Epoch: 0 [10%] || Loss: 0.14 || Time: 1.28s || Acc: 0.8613\r",
      "Train Epoch: 0 [10%] || Loss: 0.14 || Time: 1.28s || Acc: 0.8614\r",
      "Train Epoch: 0 [10%] || Loss: 0.14 || Time: 1.29s || Acc: 0.8616\r",
      "Train Epoch: 0 [10%] || Loss: 0.14 || Time: 1.29s || Acc: 0.8616\r",
      "Train Epoch: 0 [10%] || Loss: 0.14 || Time: 1.29s || Acc: 0.8617\r",
      "Train Epoch: 0 [10%] || Loss: 0.14 || Time: 1.29s || Acc: 0.8618\r",
      "Train Epoch: 0 [10%] || Loss: 0.14 || Time: 1.29s || Acc: 0.8619\r",
      "Train Epoch: 0 [10%] || Loss: 0.14 || Time: 1.29s || Acc: 0.8620\r",
      "Train Epoch: 0 [10%] || Loss: 0.14 || Time: 1.30s || Acc: 0.8621\r",
      "Train Epoch: 0 [10%] || Loss: 0.14 || Time: 1.30s || Acc: 0.8622\r",
      "Train Epoch: 0 [10%] || Loss: 0.14 || Time: 1.30s || Acc: 0.8623\r",
      "Train Epoch: 0 [10%] || Loss: 0.14 || Time: 1.30s || Acc: 0.8623\r",
      "Train Epoch: 0 [10%] || Loss: 0.14 || Time: 1.30s || Acc: 0.8624\r",
      "Train Epoch: 0 [10%] || Loss: 0.14 || Time: 1.30s || Acc: 0.8625\r",
      "Train Epoch: 0 [10%] || Loss: 0.14 || Time: 1.30s || Acc: 0.8625\r",
      "Train Epoch: 0 [10%] || Loss: 0.14 || Time: 1.30s || Acc: 0.8626\r",
      "Train Epoch: 0 [10%] || Loss: 0.14 || Time: 1.31s || Acc: 0.8627\r",
      "Train Epoch: 0 [10%] || Loss: 0.14 || Time: 1.31s || Acc: 0.8627\r",
      "Train Epoch: 0 [10%] || Loss: 0.14 || Time: 1.31s || Acc: 0.8629\r",
      "Train Epoch: 0 [10%] || Loss: 0.14 || Time: 1.31s || Acc: 0.8630\r",
      "Train Epoch: 0 [10%] || Loss: 0.14 || Time: 1.31s || Acc: 0.8630\r",
      "Train Epoch: 0 [10%] || Loss: 0.14 || Time: 1.31s || Acc: 0.8631\r",
      "Train Epoch: 0 [10%] || Loss: 0.14 || Time: 1.31s || Acc: 0.8632\r",
      "Train Epoch: 0 [10%] || Loss: 0.14 || Time: 1.32s || Acc: 0.8636\r",
      "Train Epoch: 0 [10%] || Loss: 0.14 || Time: 1.32s || Acc: 0.8636\r",
      "Train Epoch: 0 [10%] || Loss: 0.14 || Time: 1.32s || Acc: 0.8637\r",
      "Train Epoch: 0 [10%] || Loss: 0.14 || Time: 1.32s || Acc: 0.8638\r",
      "Train Epoch: 0 [10%] || Loss: 0.14 || Time: 1.32s || Acc: 0.8638\r",
      "Train Epoch: 0 [10%] || Loss: 0.14 || Time: 1.32s || Acc: 0.8639\r",
      "Train Epoch: 0 [10%] || Loss: 0.14 || Time: 1.32s || Acc: 0.8639\r",
      "Train Epoch: 0 [10%] || Loss: 0.14 || Time: 1.32s || Acc: 0.8640\r",
      "Train Epoch: 0 [10%] || Loss: 0.14 || Time: 1.33s || Acc: 0.8642\r",
      "Train Epoch: 0 [10%] || Loss: 0.14 || Time: 1.33s || Acc: 0.8643\r",
      "Train Epoch: 0 [10%] || Loss: 0.14 || Time: 1.33s || Acc: 0.8645\r",
      "Train Epoch: 0 [10%] || Loss: 0.14 || Time: 1.33s || Acc: 0.8645\r",
      "Train Epoch: 0 [10%] || Loss: 0.14 || Time: 1.33s || Acc: 0.8648\r",
      "Train Epoch: 0 [10%] || Loss: 0.14 || Time: 1.33s || Acc: 0.8648\r",
      "Train Epoch: 0 [10%] || Loss: 0.13 || Time: 1.33s || Acc: 0.8649\r",
      "Train Epoch: 0 [10%] || Loss: 0.13 || Time: 1.33s || Acc: 0.8651\r",
      "Train Epoch: 0 [10%] || Loss: 0.13 || Time: 1.34s || Acc: 0.8652\r",
      "Train Epoch: 0 [10%] || Loss: 0.13 || Time: 1.34s || Acc: 0.8653\r",
      "Train Epoch: 0 [11%] || Loss: 0.13 || Time: 1.34s || Acc: 0.8653\r",
      "Train Epoch: 0 [11%] || Loss: 0.13 || Time: 1.34s || Acc: 0.8655\r",
      "Train Epoch: 0 [11%] || Loss: 0.13 || Time: 1.34s || Acc: 0.8656\r",
      "Train Epoch: 0 [11%] || Loss: 0.13 || Time: 1.34s || Acc: 0.8658\r",
      "Train Epoch: 0 [11%] || Loss: 0.13 || Time: 1.34s || Acc: 0.8659\r",
      "Train Epoch: 0 [11%] || Loss: 0.13 || Time: 1.34s || Acc: 0.8659\r",
      "Train Epoch: 0 [11%] || Loss: 0.13 || Time: 1.35s || Acc: 0.8660\r",
      "Train Epoch: 0 [11%] || Loss: 0.13 || Time: 1.35s || Acc: 0.8660\r",
      "Train Epoch: 0 [11%] || Loss: 0.13 || Time: 1.35s || Acc: 0.8661\r",
      "Train Epoch: 0 [11%] || Loss: 0.13 || Time: 1.35s || Acc: 0.8663\r",
      "Train Epoch: 0 [11%] || Loss: 0.13 || Time: 1.35s || Acc: 0.8663\r",
      "Train Epoch: 0 [11%] || Loss: 0.13 || Time: 1.35s || Acc: 0.8664\r",
      "Train Epoch: 0 [11%] || Loss: 0.13 || Time: 1.35s || Acc: 0.8665\r",
      "Train Epoch: 0 [11%] || Loss: 0.13 || Time: 1.35s || Acc: 0.8666\r",
      "Train Epoch: 0 [11%] || Loss: 0.13 || Time: 1.36s || Acc: 0.8666\r",
      "Train Epoch: 0 [11%] || Loss: 0.13 || Time: 1.36s || Acc: 0.8667\r",
      "Train Epoch: 0 [11%] || Loss: 0.13 || Time: 1.36s || Acc: 0.8668\r",
      "Train Epoch: 0 [11%] || Loss: 0.13 || Time: 1.36s || Acc: 0.8669\r",
      "Train Epoch: 0 [11%] || Loss: 0.13 || Time: 1.36s || Acc: 0.8671\r",
      "Train Epoch: 0 [11%] || Loss: 0.13 || Time: 1.36s || Acc: 0.8671\r",
      "Train Epoch: 0 [11%] || Loss: 0.13 || Time: 1.36s || Acc: 0.8671\r",
      "Train Epoch: 0 [11%] || Loss: 0.13 || Time: 1.36s || Acc: 0.8672\r",
      "Train Epoch: 0 [11%] || Loss: 0.13 || Time: 1.37s || Acc: 0.8673\r",
      "Train Epoch: 0 [11%] || Loss: 0.13 || Time: 1.37s || Acc: 0.8673\r",
      "Train Epoch: 0 [11%] || Loss: 0.13 || Time: 1.37s || Acc: 0.8674\r",
      "Train Epoch: 0 [11%] || Loss: 0.13 || Time: 1.37s || Acc: 0.8675\r",
      "Train Epoch: 0 [11%] || Loss: 0.13 || Time: 1.37s || Acc: 0.8676\r",
      "Train Epoch: 0 [11%] || Loss: 0.13 || Time: 1.37s || Acc: 0.8676\r",
      "Train Epoch: 0 [11%] || Loss: 0.13 || Time: 1.37s || Acc: 0.8678\r",
      "Train Epoch: 0 [11%] || Loss: 0.13 || Time: 1.37s || Acc: 0.8679\r",
      "Train Epoch: 0 [11%] || Loss: 0.13 || Time: 1.38s || Acc: 0.8680\r",
      "Train Epoch: 0 [11%] || Loss: 0.13 || Time: 1.38s || Acc: 0.8680\r",
      "Train Epoch: 0 [11%] || Loss: 0.13 || Time: 1.38s || Acc: 0.8681\r",
      "Train Epoch: 0 [11%] || Loss: 0.13 || Time: 1.38s || Acc: 0.8684\r",
      "Train Epoch: 0 [11%] || Loss: 0.13 || Time: 1.38s || Acc: 0.8685\r",
      "Train Epoch: 0 [11%] || Loss: 0.13 || Time: 1.38s || Acc: 0.8686\r",
      "Train Epoch: 0 [11%] || Loss: 0.13 || Time: 1.38s || Acc: 0.8687\r",
      "Train Epoch: 0 [11%] || Loss: 0.13 || Time: 1.39s || Acc: 0.8688\r",
      "Train Epoch: 0 [11%] || Loss: 0.13 || Time: 1.39s || Acc: 0.8689\r",
      "Train Epoch: 0 [11%] || Loss: 0.13 || Time: 1.39s || Acc: 0.8689\r",
      "Train Epoch: 0 [11%] || Loss: 0.13 || Time: 1.39s || Acc: 0.8690\r",
      "Train Epoch: 0 [11%] || Loss: 0.13 || Time: 1.39s || Acc: 0.8691\r",
      "Train Epoch: 0 [11%] || Loss: 0.13 || Time: 1.39s || Acc: 0.8692\r",
      "Train Epoch: 0 [11%] || Loss: 0.13 || Time: 1.39s || Acc: 0.8693\r",
      "Train Epoch: 0 [11%] || Loss: 0.13 || Time: 1.39s || Acc: 0.8693\r",
      "Train Epoch: 0 [11%] || Loss: 0.13 || Time: 1.40s || Acc: 0.8694\r",
      "Train Epoch: 0 [11%] || Loss: 0.13 || Time: 1.40s || Acc: 0.8695\r",
      "Train Epoch: 0 [11%] || Loss: 0.13 || Time: 1.40s || Acc: 0.8695\r",
      "Train Epoch: 0 [11%] || Loss: 0.13 || Time: 1.40s || Acc: 0.8696\r",
      "Train Epoch: 0 [11%] || Loss: 0.13 || Time: 1.40s || Acc: 0.8698\r",
      "Train Epoch: 0 [11%] || Loss: 0.13 || Time: 1.40s || Acc: 0.8698\r",
      "Train Epoch: 0 [11%] || Loss: 0.13 || Time: 1.40s || Acc: 0.8699\r",
      "Train Epoch: 0 [11%] || Loss: 0.13 || Time: 1.40s || Acc: 0.8700\r",
      "Train Epoch: 0 [11%] || Loss: 0.13 || Time: 1.41s || Acc: 0.8701\r",
      "Train Epoch: 0 [11%] || Loss: 0.13 || Time: 1.41s || Acc: 0.8702\r",
      "Train Epoch: 0 [11%] || Loss: 0.13 || Time: 1.41s || Acc: 0.8702\r",
      "Train Epoch: 0 [11%] || Loss: 0.13 || Time: 1.41s || Acc: 0.8704\r",
      "Train Epoch: 0 [11%] || Loss: 0.13 || Time: 1.41s || Acc: 0.8705\r",
      "Train Epoch: 0 [11%] || Loss: 0.13 || Time: 1.41s || Acc: 0.8705\r",
      "Train Epoch: 0 [11%] || Loss: 0.13 || Time: 1.41s || Acc: 0.8706\r",
      "Train Epoch: 0 [11%] || Loss: 0.13 || Time: 1.41s || Acc: 0.8707\r",
      "Train Epoch: 0 [11%] || Loss: 0.13 || Time: 1.42s || Acc: 0.8707\r",
      "Train Epoch: 0 [11%] || Loss: 0.13 || Time: 1.42s || Acc: 0.8708\r",
      "Train Epoch: 0 [11%] || Loss: 0.13 || Time: 1.42s || Acc: 0.8708\r",
      "Train Epoch: 0 [11%] || Loss: 0.13 || Time: 1.42s || Acc: 0.8709\r",
      "Train Epoch: 0 [11%] || Loss: 0.13 || Time: 1.42s || Acc: 0.8710\r",
      "Train Epoch: 0 [11%] || Loss: 0.13 || Time: 1.42s || Acc: 0.8710\r",
      "Train Epoch: 0 [11%] || Loss: 0.13 || Time: 1.42s || Acc: 0.8711\r",
      "Train Epoch: 0 [11%] || Loss: 0.13 || Time: 1.42s || Acc: 0.8711\r",
      "Train Epoch: 0 [11%] || Loss: 0.13 || Time: 1.43s || Acc: 0.8712\r",
      "Train Epoch: 0 [11%] || Loss: 0.13 || Time: 1.43s || Acc: 0.8713\r",
      "Train Epoch: 0 [11%] || Loss: 0.13 || Time: 1.43s || Acc: 0.8713\r",
      "Train Epoch: 0 [11%] || Loss: 0.13 || Time: 1.43s || Acc: 0.8715\r",
      "Train Epoch: 0 [11%] || Loss: 0.13 || Time: 1.43s || Acc: 0.8715\r",
      "Train Epoch: 0 [11%] || Loss: 0.13 || Time: 1.43s || Acc: 0.8715\r",
      "Train Epoch: 0 [11%] || Loss: 0.13 || Time: 1.43s || Acc: 0.8716\r",
      "Train Epoch: 0 [11%] || Loss: 0.13 || Time: 1.43s || Acc: 0.8716\r",
      "Train Epoch: 0 [11%] || Loss: 0.13 || Time: 1.44s || Acc: 0.8717\r",
      "Train Epoch: 0 [11%] || Loss: 0.13 || Time: 1.44s || Acc: 0.8717\r",
      "Train Epoch: 0 [11%] || Loss: 0.13 || Time: 1.44s || Acc: 0.8718\r",
      "Train Epoch: 0 [11%] || Loss: 0.13 || Time: 1.44s || Acc: 0.8719\r",
      "Train Epoch: 0 [11%] || Loss: 0.13 || Time: 1.44s || Acc: 0.8719\r",
      "Train Epoch: 0 [11%] || Loss: 0.13 || Time: 1.44s || Acc: 0.8719\r",
      "Train Epoch: 0 [11%] || Loss: 0.13 || Time: 1.44s || Acc: 0.8720\r",
      "Train Epoch: 0 [11%] || Loss: 0.13 || Time: 1.44s || Acc: 0.8720\r",
      "Train Epoch: 0 [11%] || Loss: 0.13 || Time: 1.45s || Acc: 0.8721\r",
      "Train Epoch: 0 [12%] || Loss: 0.13 || Time: 1.45s || Acc: 0.8723\r",
      "Train Epoch: 0 [12%] || Loss: 0.13 || Time: 1.45s || Acc: 0.8723\r",
      "Train Epoch: 0 [12%] || Loss: 0.13 || Time: 1.45s || Acc: 0.8724\r"
     ]
    },
    {
     "name": "stdout",
     "output_type": "stream",
     "text": [
      "Train Epoch: 0 [100%] || Loss: 0.04 || Time: 14.07s || Acc: 0.9563\n",
      "Val Epoch: 0 || Loss: 0.03 || Time: 1.74s || Acc: 0.9703\n",
      "Train Epoch: 1 [100%] || Loss: 0.03 || Time: 16.24s || Acc: 0.9696\n",
      "Val Epoch: 1 || Loss: 0.03 || Time: 1.42s || Acc: 0.9690\n",
      "Train Epoch: 2 [100%] || Loss: 0.03 || Time: 13.09s || Acc: 0.9696\n",
      "Val Epoch: 2 || Loss: 0.03 || Time: 1.36s || Acc: 0.9692\n",
      "Train Epoch: 3 [100%] || Loss: 0.03 || Time: 14.10s || Acc: 0.9695\n",
      "Val Epoch: 3 || Loss: 0.03 || Time: 1.49s || Acc: 0.9704\n",
      "Train Epoch: 4 [100%] || Loss: 0.03 || Time: 14.78s || Acc: 0.9696\n",
      "Val Epoch: 4 || Loss: 0.03 || Time: 1.52s || Acc: 0.9693\n",
      "Train Epoch: 5 [100%] || Loss: 0.03 || Time: 14.07s || Acc: 0.9698\n",
      "Val Epoch: 5 || Loss: 0.03 || Time: 1.43s || Acc: 0.9700\n",
      "Train Epoch: 6 [100%] || Loss: 0.03 || Time: 14.43s || Acc: 0.9698\n",
      "Val Epoch: 6 || Loss: 0.03 || Time: 1.53s || Acc: 0.9698\n",
      "Train Epoch: 7 [100%] || Loss: 0.03 || Time: 14.21s || Acc: 0.9698\n",
      "Val Epoch: 7 || Loss: 0.03 || Time: 1.40s || Acc: 0.9700\n",
      "Train Epoch: 8 [100%] || Loss: 0.03 || Time: 18.39s || Acc: 0.9697\n",
      "Val Epoch: 8 || Loss: 0.03 || Time: 1.61s || Acc: 0.9703\n",
      "Train Epoch: 9 [16%] || Loss: 0.03 || Time: 2.98s || Acc: 0.9698\r"
     ]
    },
    {
     "ename": "KeyboardInterrupt",
     "evalue": "",
     "output_type": "error",
     "traceback": [
      "\u001b[0;31m---------------------------------------------------------------------------\u001b[0m",
      "\u001b[0;31mKeyboardInterrupt\u001b[0m                         Traceback (most recent call last)",
      "\u001b[0;32m<ipython-input-154-7543ff876315>\u001b[0m in \u001b[0;36m<module>\u001b[0;34m\u001b[0m\n\u001b[1;32m      1\u001b[0m \u001b[0;32mfor\u001b[0m \u001b[0mi\u001b[0m \u001b[0;32min\u001b[0m \u001b[0mrange\u001b[0m\u001b[0;34m(\u001b[0m\u001b[0;36m10\u001b[0m\u001b[0;34m)\u001b[0m\u001b[0;34m:\u001b[0m\u001b[0;34m\u001b[0m\u001b[0;34m\u001b[0m\u001b[0m\n\u001b[0;32m----> 2\u001b[0;31m     \u001b[0mtrain_denoiser\u001b[0m\u001b[0;34m(\u001b[0m\u001b[0mi\u001b[0m\u001b[0;34m)\u001b[0m\u001b[0;34m\u001b[0m\u001b[0;34m\u001b[0m\u001b[0m\n\u001b[0m\u001b[1;32m      3\u001b[0m     \u001b[0mval_denoiser\u001b[0m\u001b[0;34m(\u001b[0m\u001b[0mi\u001b[0m\u001b[0;34m)\u001b[0m\u001b[0;34m\u001b[0m\u001b[0;34m\u001b[0m\u001b[0m\n",
      "\u001b[0;32m<ipython-input-150-b20c61f84e43>\u001b[0m in \u001b[0;36mtrain_denoiser\u001b[0;34m(epoch)\u001b[0m\n\u001b[1;32m     21\u001b[0m         \u001b[0my\u001b[0m \u001b[0;34m=\u001b[0m \u001b[0mdenoiser\u001b[0m\u001b[0;34m(\u001b[0m\u001b[0mx_onehot\u001b[0m\u001b[0;34m.\u001b[0m\u001b[0mcuda\u001b[0m\u001b[0;34m(\u001b[0m\u001b[0;34m)\u001b[0m\u001b[0;34m)\u001b[0m\u001b[0;34m.\u001b[0m\u001b[0mcpu\u001b[0m\u001b[0;34m(\u001b[0m\u001b[0;34m)\u001b[0m\u001b[0;34m\u001b[0m\u001b[0;34m\u001b[0m\u001b[0m\n\u001b[1;32m     22\u001b[0m         \u001b[0mloss\u001b[0m \u001b[0;34m=\u001b[0m \u001b[0mF\u001b[0m\u001b[0;34m.\u001b[0m\u001b[0mcross_entropy\u001b[0m\u001b[0;34m(\u001b[0m\u001b[0my\u001b[0m\u001b[0;34m,\u001b[0m \u001b[0mt\u001b[0m\u001b[0;34m)\u001b[0m\u001b[0;34m\u001b[0m\u001b[0;34m\u001b[0m\u001b[0m\n\u001b[0;32m---> 23\u001b[0;31m         \u001b[0mloss\u001b[0m\u001b[0;34m.\u001b[0m\u001b[0mbackward\u001b[0m\u001b[0;34m(\u001b[0m\u001b[0;34m)\u001b[0m\u001b[0;34m\u001b[0m\u001b[0;34m\u001b[0m\u001b[0m\n\u001b[0m\u001b[1;32m     24\u001b[0m         \u001b[0mtrain_loss\u001b[0m \u001b[0;34m+=\u001b[0m \u001b[0mloss\u001b[0m\u001b[0;34m.\u001b[0m\u001b[0mitem\u001b[0m\u001b[0;34m(\u001b[0m\u001b[0;34m)\u001b[0m\u001b[0;34m/\u001b[0m\u001b[0mlen\u001b[0m\u001b[0;34m(\u001b[0m\u001b[0mdata\u001b[0m\u001b[0;34m)\u001b[0m\u001b[0;34m\u001b[0m\u001b[0;34m\u001b[0m\u001b[0m\n\u001b[1;32m     25\u001b[0m         \u001b[0moptimizer\u001b[0m\u001b[0;34m.\u001b[0m\u001b[0mstep\u001b[0m\u001b[0;34m(\u001b[0m\u001b[0;34m)\u001b[0m\u001b[0;34m\u001b[0m\u001b[0;34m\u001b[0m\u001b[0m\n",
      "\u001b[0;32m~/.local/lib/python3.7/site-packages/torch/tensor.py\u001b[0m in \u001b[0;36mbackward\u001b[0;34m(self, gradient, retain_graph, create_graph)\u001b[0m\n\u001b[1;32m    148\u001b[0m                 \u001b[0mproducts\u001b[0m\u001b[0;34m.\u001b[0m \u001b[0mDefaults\u001b[0m \u001b[0mto\u001b[0m\u001b[0;31m \u001b[0m\u001b[0;31m`\u001b[0m\u001b[0;31m`\u001b[0m\u001b[0;32mFalse\u001b[0m\u001b[0;31m`\u001b[0m\u001b[0;31m`\u001b[0m\u001b[0;34m.\u001b[0m\u001b[0;34m\u001b[0m\u001b[0;34m\u001b[0m\u001b[0m\n\u001b[1;32m    149\u001b[0m         \"\"\"\n\u001b[0;32m--> 150\u001b[0;31m         \u001b[0mtorch\u001b[0m\u001b[0;34m.\u001b[0m\u001b[0mautograd\u001b[0m\u001b[0;34m.\u001b[0m\u001b[0mbackward\u001b[0m\u001b[0;34m(\u001b[0m\u001b[0mself\u001b[0m\u001b[0;34m,\u001b[0m \u001b[0mgradient\u001b[0m\u001b[0;34m,\u001b[0m \u001b[0mretain_graph\u001b[0m\u001b[0;34m,\u001b[0m \u001b[0mcreate_graph\u001b[0m\u001b[0;34m)\u001b[0m\u001b[0;34m\u001b[0m\u001b[0;34m\u001b[0m\u001b[0m\n\u001b[0m\u001b[1;32m    151\u001b[0m \u001b[0;34m\u001b[0m\u001b[0m\n\u001b[1;32m    152\u001b[0m     \u001b[0;32mdef\u001b[0m \u001b[0mregister_hook\u001b[0m\u001b[0;34m(\u001b[0m\u001b[0mself\u001b[0m\u001b[0;34m,\u001b[0m \u001b[0mhook\u001b[0m\u001b[0;34m)\u001b[0m\u001b[0;34m:\u001b[0m\u001b[0;34m\u001b[0m\u001b[0;34m\u001b[0m\u001b[0m\n",
      "\u001b[0;32m~/.local/lib/python3.7/site-packages/torch/autograd/__init__.py\u001b[0m in \u001b[0;36mbackward\u001b[0;34m(tensors, grad_tensors, retain_graph, create_graph, grad_variables)\u001b[0m\n\u001b[1;32m     97\u001b[0m     Variable._execution_engine.run_backward(\n\u001b[1;32m     98\u001b[0m         \u001b[0mtensors\u001b[0m\u001b[0;34m,\u001b[0m \u001b[0mgrad_tensors\u001b[0m\u001b[0;34m,\u001b[0m \u001b[0mretain_graph\u001b[0m\u001b[0;34m,\u001b[0m \u001b[0mcreate_graph\u001b[0m\u001b[0;34m,\u001b[0m\u001b[0;34m\u001b[0m\u001b[0;34m\u001b[0m\u001b[0m\n\u001b[0;32m---> 99\u001b[0;31m         allow_unreachable=True)  # allow_unreachable flag\n\u001b[0m\u001b[1;32m    100\u001b[0m \u001b[0;34m\u001b[0m\u001b[0m\n\u001b[1;32m    101\u001b[0m \u001b[0;34m\u001b[0m\u001b[0m\n",
      "\u001b[0;31mKeyboardInterrupt\u001b[0m: "
     ]
    }
   ],
   "source": [
    "for i in range(10):\n",
    "    train_denoiser(i)\n",
    "    val_denoiser(i)"
   ]
  }
 ],
 "metadata": {
  "kernelspec": {
   "display_name": "Python 3",
   "language": "python",
   "name": "python3"
  },
  "language_info": {
   "codemirror_mode": {
    "name": "ipython",
    "version": 3
   },
   "file_extension": ".py",
   "mimetype": "text/x-python",
   "name": "python",
   "nbconvert_exporter": "python",
   "pygments_lexer": "ipython3",
   "version": "3.7.4"
  },
  "latex_envs": {
   "LaTeX_envs_menu_present": true,
   "autoclose": false,
   "autocomplete": true,
   "bibliofile": "biblio.bib",
   "cite_by": "apalike",
   "current_citInitial": 1,
   "eqLabelWithNumbers": true,
   "eqNumInitial": 1,
   "hotkeys": {
    "equation": "Ctrl-E",
    "itemize": "Ctrl-I"
   },
   "labels_anchors": false,
   "latex_user_defs": false,
   "report_style_numbering": false,
   "user_envs_cfg": false
  },
  "toc": {
   "base_numbering": 1,
   "nav_menu": {
    "height": "144px",
    "width": "160px"
   },
   "number_sections": true,
   "sideBar": true,
   "skip_h1_title": false,
   "title_cell": "Table of Contents",
   "title_sidebar": "Contents",
   "toc_cell": false,
   "toc_position": {},
   "toc_section_display": true,
   "toc_window_display": false
  },
  "varInspector": {
   "cols": {
    "lenName": 16,
    "lenType": 16,
    "lenVar": 40
   },
   "kernels_config": {
    "python": {
     "delete_cmd_postfix": "",
     "delete_cmd_prefix": "del ",
     "library": "var_list.py",
     "varRefreshCmd": "print(var_dic_list())"
    },
    "r": {
     "delete_cmd_postfix": ") ",
     "delete_cmd_prefix": "rm(",
     "library": "var_list.r",
     "varRefreshCmd": "cat(var_dic_list()) "
    }
   },
   "types_to_exclude": [
    "module",
    "function",
    "builtin_function_or_method",
    "instance",
    "_Feature"
   ],
   "window_display": false
  }
 },
 "nbformat": 4,
 "nbformat_minor": 2
}
