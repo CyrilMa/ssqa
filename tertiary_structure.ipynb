{
 "cells": [
  {
   "cell_type": "code",
   "execution_count": 5,
   "metadata": {},
   "outputs": [],
   "source": [
    "import pandas as pd\n",
    "import matplotlib.pyplot as plt\n",
    "from scipy.spatial.distance import pdist, squareform\n",
    "import seaborn as sns\n",
    "import numpy as np\n",
    "DATA = \"/home/cyril/Documents/These/data/proteinnet\""
   ]
  },
  {
   "cell_type": "markdown",
   "metadata": {},
   "source": [
    "## Data"
   ]
  },
  {
   "cell_type": "code",
   "execution_count": 6,
   "metadata": {},
   "outputs": [],
   "source": [
    "import pandas as pd\n",
    "from scipy.sparse import csr_matrix\n",
    "AA = [4, 6, 7, 8, 9, 10, 11, 12, 13, 14, 15, 16, 18, 19, 20, 21, 22, 24, 25, 27]\n",
    "\n",
    "def np_onehot(a, shape):\n",
    "    if shape[0]  == -1:\n",
    "        shape = (len(a), shape[1])\n",
    "    onehot = np.zeros(shape)\n",
    "    onehot[np.arange(len(a)), a] = 1\n",
    "    return onehot\n",
    "\n",
    "def sparse_distance(x, mask, max_dist = 8):\n",
    "    mask = np.where(np.array(mask))[0]\n",
    "    contactmap = squareform(pdist(np.array(x)[mask]))\n",
    "    contactmap = (max_dist - contactmap) * (contactmap < max_dist)\n",
    "    return csr_matrix(contactmap)\n",
    "\n",
    "class TrainData(object):\n",
    "    def __init__(self, file, size = 512):\n",
    "        self.primary, self.cm, self.length, self.mask = [], [], [], []\n",
    "        for i in range(1, 100):\n",
    "            df = pd.read_json(f\"{DATA}/contact_map_train_{i}.json\")\n",
    "            df[\"length\"] = df.primary.apply(lambda x : len(x))\n",
    "            df = df[df.length < size]\n",
    "            self.length += list(df.length)\n",
    "            self.primary += list(df.apply(lambda x : np_onehot(x[\"primary\"], (-1, 28))[np.where(np.array(x[\"mask\"]))[0]][:, AA], axis=1))\n",
    "            self.cm += list(df.apply(lambda x : sparse_distance(x[\"tertiary\"], x[\"mask\"]), axis = 1))\n",
    "            del df\n",
    "            \n",
    "    def __len__(self):\n",
    "        return len(self.primary)\n",
    "    \n",
    "    def __getitem__(self, i):\n",
    "        return self.primary[i], self.cm[i], self.length[i]\n",
    "    \n",
    "class ValData(object):\n",
    "    def __init__(self, file, size = 512):\n",
    "        self.primary, self.cm, self.length, self.mask = [], [], [], []\n",
    "        df = pd.read_json(f\"{DATA}/contact_map_valid.json\")\n",
    "        df[\"length\"] = df.primary.apply(lambda x : len(x))\n",
    "        df = df[df.length < size]\n",
    "        self.length += list(df.length)\n",
    "        self.primary += list(df.apply(lambda x : np_onehot(x[\"primary\"], (-1, 28))[np.where(np.array(x[\"mask\"]))[0]][:, AA], axis=1))\n",
    "        self.tertiary += list(df.apply(lambda x : sparse_distance(x[\"tertiary\"], x[\"mask\"]), axis = 1))\n",
    "        self.cm += list(df.apply(lambda x : sparse_distance(x[\"tertiary\"], x[\"mask\"]), axis = 1))\n",
    "        del df\n",
    "            \n",
    "    def __len__(self):\n",
    "        return len(self.primary)\n",
    "    \n",
    "    def __getitem__(self, i):\n",
    "        return self.primary[i], self.cm[i], self.length[i]"
   ]
  },
  {
   "cell_type": "code",
   "execution_count": 4,
   "metadata": {},
   "outputs": [
    {
     "ename": "AttributeError",
     "evalue": "'ValData' object has no attribute 'tertiary'",
     "output_type": "error",
     "traceback": [
      "\u001b[0;31m---------------------------------------------------------------------------\u001b[0m",
      "\u001b[0;31mAttributeError\u001b[0m                            Traceback (most recent call last)",
      "\u001b[0;32m<ipython-input-4-120eaefdaadc>\u001b[0m in \u001b[0;36m<module>\u001b[0;34m\u001b[0m\n\u001b[1;32m      2\u001b[0m \u001b[0mtrain_loader\u001b[0m \u001b[0;34m=\u001b[0m \u001b[0mDataLoader\u001b[0m\u001b[0;34m(\u001b[0m\u001b[0mtraining_set\u001b[0m\u001b[0;34m,\u001b[0m \u001b[0mshuffle\u001b[0m \u001b[0;34m=\u001b[0m \u001b[0;32mTrue\u001b[0m\u001b[0;34m)\u001b[0m\u001b[0;34m\u001b[0m\u001b[0;34m\u001b[0m\u001b[0m\n\u001b[1;32m      3\u001b[0m \u001b[0;34m\u001b[0m\u001b[0m\n\u001b[0;32m----> 4\u001b[0;31m \u001b[0mvalidation_set\u001b[0m \u001b[0;34m=\u001b[0m \u001b[0mValData\u001b[0m\u001b[0;34m(\u001b[0m\u001b[0;34mf\"{DATA}/contact_map_valid.json\"\u001b[0m\u001b[0;34m)\u001b[0m\u001b[0;34m\u001b[0m\u001b[0;34m\u001b[0m\u001b[0m\n\u001b[0m\u001b[1;32m      5\u001b[0m \u001b[0mval_loader\u001b[0m \u001b[0;34m=\u001b[0m \u001b[0mDataLoader\u001b[0m\u001b[0;34m(\u001b[0m\u001b[0mvalidation_set\u001b[0m\u001b[0;34m,\u001b[0m \u001b[0mshuffle\u001b[0m \u001b[0;34m=\u001b[0m \u001b[0;32mTrue\u001b[0m\u001b[0;34m)\u001b[0m\u001b[0;34m\u001b[0m\u001b[0;34m\u001b[0m\u001b[0m\n",
      "\u001b[0;32m<ipython-input-3-06377ca48c5f>\u001b[0m in \u001b[0;36m__init__\u001b[0;34m(self, file, size)\u001b[0m\n\u001b[1;32m     42\u001b[0m         \u001b[0mself\u001b[0m\u001b[0;34m.\u001b[0m\u001b[0mlength\u001b[0m \u001b[0;34m+=\u001b[0m \u001b[0mlist\u001b[0m\u001b[0;34m(\u001b[0m\u001b[0mdf\u001b[0m\u001b[0;34m.\u001b[0m\u001b[0mlength\u001b[0m\u001b[0;34m)\u001b[0m\u001b[0;34m\u001b[0m\u001b[0;34m\u001b[0m\u001b[0m\n\u001b[1;32m     43\u001b[0m         \u001b[0mself\u001b[0m\u001b[0;34m.\u001b[0m\u001b[0mprimary\u001b[0m \u001b[0;34m+=\u001b[0m \u001b[0mlist\u001b[0m\u001b[0;34m(\u001b[0m\u001b[0mdf\u001b[0m\u001b[0;34m.\u001b[0m\u001b[0mapply\u001b[0m\u001b[0;34m(\u001b[0m\u001b[0;32mlambda\u001b[0m \u001b[0mx\u001b[0m \u001b[0;34m:\u001b[0m \u001b[0mnp_onehot\u001b[0m\u001b[0;34m(\u001b[0m\u001b[0mx\u001b[0m\u001b[0;34m[\u001b[0m\u001b[0;34m\"primary\"\u001b[0m\u001b[0;34m]\u001b[0m\u001b[0;34m,\u001b[0m \u001b[0;34m(\u001b[0m\u001b[0;34m-\u001b[0m\u001b[0;36m1\u001b[0m\u001b[0;34m,\u001b[0m \u001b[0;36m28\u001b[0m\u001b[0;34m)\u001b[0m\u001b[0;34m)\u001b[0m\u001b[0;34m[\u001b[0m\u001b[0mnp\u001b[0m\u001b[0;34m.\u001b[0m\u001b[0mwhere\u001b[0m\u001b[0;34m(\u001b[0m\u001b[0mnp\u001b[0m\u001b[0;34m.\u001b[0m\u001b[0marray\u001b[0m\u001b[0;34m(\u001b[0m\u001b[0mx\u001b[0m\u001b[0;34m[\u001b[0m\u001b[0;34m\"mask\"\u001b[0m\u001b[0;34m]\u001b[0m\u001b[0;34m)\u001b[0m\u001b[0;34m)\u001b[0m\u001b[0;34m[\u001b[0m\u001b[0;36m0\u001b[0m\u001b[0;34m]\u001b[0m\u001b[0;34m]\u001b[0m\u001b[0;34m[\u001b[0m\u001b[0;34m:\u001b[0m\u001b[0;34m,\u001b[0m \u001b[0mAA\u001b[0m\u001b[0;34m]\u001b[0m\u001b[0;34m,\u001b[0m \u001b[0maxis\u001b[0m\u001b[0;34m=\u001b[0m\u001b[0;36m1\u001b[0m\u001b[0;34m)\u001b[0m\u001b[0;34m)\u001b[0m\u001b[0;34m\u001b[0m\u001b[0;34m\u001b[0m\u001b[0m\n\u001b[0;32m---> 44\u001b[0;31m         \u001b[0mself\u001b[0m\u001b[0;34m.\u001b[0m\u001b[0mtertiary\u001b[0m \u001b[0;34m+=\u001b[0m \u001b[0mlist\u001b[0m\u001b[0;34m(\u001b[0m\u001b[0mdf\u001b[0m\u001b[0;34m.\u001b[0m\u001b[0mapply\u001b[0m\u001b[0;34m(\u001b[0m\u001b[0;32mlambda\u001b[0m \u001b[0mx\u001b[0m \u001b[0;34m:\u001b[0m \u001b[0msparse_distance\u001b[0m\u001b[0;34m(\u001b[0m\u001b[0mx\u001b[0m\u001b[0;34m[\u001b[0m\u001b[0;34m\"tertiary\"\u001b[0m\u001b[0;34m]\u001b[0m\u001b[0;34m,\u001b[0m \u001b[0mx\u001b[0m\u001b[0;34m[\u001b[0m\u001b[0;34m\"mask\"\u001b[0m\u001b[0;34m]\u001b[0m\u001b[0;34m)\u001b[0m\u001b[0;34m,\u001b[0m \u001b[0maxis\u001b[0m \u001b[0;34m=\u001b[0m \u001b[0;36m1\u001b[0m\u001b[0;34m)\u001b[0m\u001b[0;34m)\u001b[0m\u001b[0;34m\u001b[0m\u001b[0;34m\u001b[0m\u001b[0m\n\u001b[0m\u001b[1;32m     45\u001b[0m         \u001b[0mself\u001b[0m\u001b[0;34m.\u001b[0m\u001b[0mcm\u001b[0m \u001b[0;34m+=\u001b[0m \u001b[0mlist\u001b[0m\u001b[0;34m(\u001b[0m\u001b[0mdf\u001b[0m\u001b[0;34m.\u001b[0m\u001b[0mapply\u001b[0m\u001b[0;34m(\u001b[0m\u001b[0;32mlambda\u001b[0m \u001b[0mx\u001b[0m \u001b[0;34m:\u001b[0m \u001b[0msparse_distance\u001b[0m\u001b[0;34m(\u001b[0m\u001b[0mx\u001b[0m\u001b[0;34m[\u001b[0m\u001b[0;34m\"tertiary\"\u001b[0m\u001b[0;34m]\u001b[0m\u001b[0;34m,\u001b[0m \u001b[0mx\u001b[0m\u001b[0;34m[\u001b[0m\u001b[0;34m\"mask\"\u001b[0m\u001b[0;34m]\u001b[0m\u001b[0;34m)\u001b[0m\u001b[0;34m,\u001b[0m \u001b[0maxis\u001b[0m \u001b[0;34m=\u001b[0m \u001b[0;36m1\u001b[0m\u001b[0;34m)\u001b[0m\u001b[0;34m)\u001b[0m\u001b[0;34m\u001b[0m\u001b[0;34m\u001b[0m\u001b[0m\n\u001b[1;32m     46\u001b[0m         \u001b[0;32mdel\u001b[0m \u001b[0mdf\u001b[0m\u001b[0;34m\u001b[0m\u001b[0;34m\u001b[0m\u001b[0m\n",
      "\u001b[0;31mAttributeError\u001b[0m: 'ValData' object has no attribute 'tertiary'"
     ]
    }
   ],
   "source": [
    "training_set = TrainData(f\"{DATA}/contact_map_train.json\")\n",
    "train_loader = DataLoader(training_set, shuffle = True)\n",
    "\n",
    "validation_set = ValData(f\"{DATA}/contact_map_valid.json\")\n",
    "val_loader = DataLoader(validation_set, shuffle = True)"
   ]
  },
  {
   "cell_type": "markdown",
   "metadata": {},
   "source": [
    "## Model"
   ]
  },
  {
   "cell_type": "code",
   "execution_count": 18,
   "metadata": {},
   "outputs": [],
   "source": [
    "import torch\n",
    "from torch_geometric.nn import VGAE, GMMConv\n",
    "from torch import nn, optim"
   ]
  },
  {
   "cell_type": "code",
   "execution_count": 19,
   "metadata": {},
   "outputs": [],
   "source": [
    "class Encoder(nn.Module):\n",
    "    def __init__(self, in_channels = 20, out_channels = 8, N = 128, bias=True):\n",
    "        super(Encoder, self).__init__()\n",
    "        self.in_channels, self.out_channels = in_channels, out_channels\n",
    "        self.conv1 = GMMConv(in_channels, 100, 1, 8)\n",
    "        self.conv2 = GMMConv(100, 100, 1, 8)\n",
    "        self.conv3 = GMMConv(100, 100, 1, 8)\n",
    "        self.conv4 = GMMConv(100, out_channels, 1, 8)\n",
    "        \n",
    "    def forward(self, x):\n",
    "        h = self.conv1(x)\n",
    "        h = self.conv2(h)\n",
    "        h = self.conv3(h)\n",
    "        h = self.conv4(h)\n",
    "        return h"
   ]
  },
  {
   "cell_type": "code",
   "execution_count": 20,
   "metadata": {},
   "outputs": [
    {
     "data": {
      "text/plain": [
       "VGAE(\n",
       "  (encoder): Encoder(\n",
       "    (conv1): GMMConv(20, 100)\n",
       "    (conv2): GMMConv(100, 100)\n",
       "    (conv3): GMMConv(100, 100)\n",
       "    (conv4): GMMConv(100, 8)\n",
       "  )\n",
       "  (decoder): InnerProductDecoder()\n",
       ")"
      ]
     },
     "execution_count": 20,
     "metadata": {},
     "output_type": "execute_result"
    }
   ],
   "source": [
    "device = torch.device('cpu')\n",
    "\n",
    "encoder = Encoder()\n",
    "model = VGAE(encoder).float()\n",
    "\n",
    "optimizer = optim.Adam(model.parameters(), lr=0.01)\n",
    "model"
   ]
  },
  {
   "cell_type": "code",
   "execution_count": null,
   "metadata": {},
   "outputs": [],
   "source": [
    "from sklearn.metrics import confusion_matrix\n",
    "\n",
    "def hinge_loss(model, x, y, m = 1):\n",
    "    e = -model(x)\n",
    "    e_bar = torch.min(e+y*1e9, 1, keepdim=True).values.view(e.size(0), 1, \n",
    "                                                                 e.size(-1))\n",
    "    loss = F.relu(m+(e-e_bar)*y)[:,:,10:-10]\n",
    "    return loss.sum()/(e.size(0))\n",
    "\n",
    "\n",
    "def aa_acc(x, recon_x):\n",
    "    r\"\"\"\n",
    "    Evaluate the ratio of amino acids retrieved in the reconstructed sequences\n",
    "\n",
    "    Args:\n",
    "        x (torch.Tensor): true sequence(s)\n",
    "        recon_x (torch.Tensor): reconstructed sequence(s)\n",
    "    \"\"\"\n",
    "    x = x[:, :, 10:-10]\n",
    "    recon_x = recon_x[:,:,10:-10]\n",
    "    empty = torch.max(x, 1)[0].view(-1)\n",
    "    x = torch.argmax(x, 1).view(-1)\n",
    "    recon_x = torch.argmax(recon_x, 1).view(-1)\n",
    "    return (((x==recon_x) * (empty!=0)).int().sum().item())/((empty!=0).int().sum().item())\n",
    "\n",
    "\n",
    "def train(epoch):\n",
    "    mean_loss, mean_reg, mean_acc = 0, 0, 0\n",
    "    model.train()\n",
    "    for batch_idx, data in enumerate(train_loader):\n",
    "        x = data[0].float().permute(0, 2, 1).to(device)\n",
    "        s = data[1].float().permute(0, 2, 1).to(device)\n",
    "        length = data[2].int().to(device)\n",
    "        # Optimization\n",
    "        optimizer.zero_grad()\n",
    "        loss = hinge_loss(model, x, s)\n",
    "        loss.backward()\n",
    "        optimizer.step()\n",
    "#         print(d_0[\"visible\"].argmax(-1)[0], d_f[\"visible\"].argmax(-1)[0])\n",
    "        acc = aa_acc(s, model(x))\n",
    "\n",
    "        del x; del s\n",
    "        # Metrics\n",
    "        mean_loss = (mean_loss*batch_idx + loss.item())/ (batch_idx+1)\n",
    "        mean_acc = (mean_acc*batch_idx + acc)/ (batch_idx+1)\n",
    "        m, s = int(time.time()-start)//60, int(time.time()-start)%60\n",
    "        print(f'''Train Epoch: {epoch} [{int(100*batch_idx/len(train_loader))}%] || Time: {m} min {s} || Loss: {mean_loss:.3f} || Acc: {mean_acc:.3f}''', end=\"\\r\")\n",
    "    \n",
    "def val(epoch):\n",
    "    mean_loss, mean_reg, mean_acc = 0, 0, 0\n",
    "    model.eval()\n",
    "    cm = np.zeros((8,8))\n",
    "    for batch_idx, data in enumerate(val_loader):\n",
    "        x = data[0].float().permute(0, 2, 1).to(device)\n",
    "        s = data[1].float().permute(0, 2, 1).to(device)\n",
    "        \n",
    "        # Optimization\n",
    "        loss = hinge_loss(model, x, s)\n",
    "        acc = aa_acc(s, model(x))\n",
    "        \n",
    "        cm += confusion_matrix(s.argmax(1).view(-1), \n",
    "                         model(x).argmax(1).view(-1), labels = [0,1,2,3,4,5,6,7])\n",
    "        # Metrics\n",
    "        mean_loss = (mean_loss*batch_idx + loss.item())/ (batch_idx+1)\n",
    "        mean_acc = (mean_acc*batch_idx + acc)/ (batch_idx+1)\n",
    "        \n",
    "\n",
    "        m, s = int(time.time()-start)//60, int(time.time()-start)%60\n",
    "        print(f'''Val: {epoch} [{int(100*batch_idx/len(val_loader))}%] || Time: {m} min {s} || Loss: {mean_loss:.3f} ''', end=\"\\r\")\n",
    "    \n",
    "    print(f'''Val: {epoch} [100%] || Time: {m} min {s} || Loss: {mean_loss:.3f} || Acc: {mean_acc:.3f}           ''')\n",
    "    cm = (np.array(cm.T, dtype=np.float)/np.sum(cm, 1)).T\n",
    "    print(cm)"
   ]
  }
 ],
 "metadata": {
  "kernelspec": {
   "display_name": "Python 3",
   "language": "python",
   "name": "python3"
  },
  "language_info": {
   "codemirror_mode": {
    "name": "ipython",
    "version": 3
   },
   "file_extension": ".py",
   "mimetype": "text/x-python",
   "name": "python",
   "nbconvert_exporter": "python",
   "pygments_lexer": "ipython3",
   "version": "3.7.6"
  }
 },
 "nbformat": 4,
 "nbformat_minor": 4
}
