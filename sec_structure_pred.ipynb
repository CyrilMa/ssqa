{
 "cells": [
  {
   "cell_type": "code",
   "execution_count": null,
   "metadata": {
    "ExecuteTime": {
     "end_time": "2020-02-27T17:07:43.100526Z",
     "start_time": "2020-02-27T17:07:43.096273Z"
    }
   },
   "outputs": [],
   "source": [
    "import warnings\n",
    "warnings.filterwarnings(\"ignore\")"
   ]
  },
  {
   "cell_type": "code",
   "execution_count": 2,
   "metadata": {
    "ExecuteTime": {
     "end_time": "2020-02-27T17:07:44.337771Z",
     "start_time": "2020-02-27T17:07:43.689070Z"
    }
   },
   "outputs": [
    {
     "data": {
      "text/plain": [
       "True"
      ]
     },
     "execution_count": 2,
     "metadata": {},
     "output_type": "execute_result"
    }
   ],
   "source": [
    "import numpy as np\n",
    "import time\n",
    "import pandas as pd\n",
    "import pickle\n",
    "\n",
    "import matplotlib.pyplot as plt\n",
    "import seaborn as sns\n",
    "\n",
    "import torch\n",
    "from torch.utils.data import DataLoader\n",
    "from torch import nn, optim\n",
    "from torch.nn import functional as F\n",
    "\n",
    "from structure.data import HMM_Data\n",
    "from structure.model import ResBlock, ConvBlock, ConvNet, HmmConvNet, LSTMNet\n",
    "from structure.utils import *\n",
    "\n",
    "from config import DATA\n",
    "\n",
    "torch.cuda.is_available()"
   ]
  },
  {
   "cell_type": "markdown",
   "metadata": {},
   "source": [
    "## Data and Model"
   ]
  },
  {
   "cell_type": "code",
   "execution_count": 38,
   "metadata": {
    "ExecuteTime": {
     "end_time": "2020-02-27T17:07:49.311494Z",
     "start_time": "2020-02-27T17:07:49.309191Z"
    }
   },
   "outputs": [],
   "source": [
    "AMINO_ACIDS = 'ACDEFGHIKLMNPQRSTVWY'"
   ]
  },
  {
   "cell_type": "code",
   "execution_count": 39,
   "metadata": {
    "ExecuteTime": {
     "end_time": "2020-02-27T17:07:50.039232Z",
     "start_time": "2020-02-27T17:07:50.037211Z"
    }
   },
   "outputs": [],
   "source": [
    "DATA = \"/home/malbranke/data/\"\n",
    "DATASET = \"PF00397\""
   ]
  },
  {
   "cell_type": "code",
   "execution_count": 40,
   "metadata": {},
   "outputs": [],
   "source": [
    "class LSTMNet(nn.Module):\n",
    "    def __init__(self, in_channels, out_channels=100, N=128, bias=True):\n",
    "        super(LSTMNet, self).__init__()\n",
    "        self.in_channels, self.out_channels = in_channels, out_channels\n",
    "        self.conv1 = ResBlock(in_channels, 32, 129)\n",
    "        self.conv2 = ResBlock(32, 32, 257)\n",
    "        self.lstm1 = nn.LSTM(input_size=32+in_channels,\n",
    "                             hidden_size=1024,\n",
    "                             num_layers=1,\n",
    "                             bias=True,\n",
    "                             bidirectional=True)\n",
    "        self.lstm2 = nn.LSTM(input_size=2048,\n",
    "                             hidden_size=1024,\n",
    "                             num_layers=1,\n",
    "                             bias=True,\n",
    "                             bidirectional=True)\n",
    "        self.conv_other = ConvBlock(nn.Conv1d, None, None,\n",
    "                                    2048, 9, 1,\n",
    "                                    stride=1, padding=0, dilation=1)\n",
    "        self.conv_ss8 = ConvBlock(nn.Conv1d, None, None,\n",
    "\n",
    "                                  2048, 8, 1,\n",
    "                                  stride=1, padding=0, dilation=1)\n",
    "        self.conv_ss3 = ConvBlock(nn.Conv1d, None, None,\n",
    "                                  2048, 3, 1,\n",
    "                                  stride=1, padding=0, dilation=1)\n",
    "\n",
    "\n",
    "    def forward(self, x, is_empty = None):\n",
    "        B,_,N = x.size()\n",
    "        if is_empty is None:\n",
    "            is_empty = (x.max().values != 0).int().view(B, 1, N)\n",
    "        h = self.conv1(x)\n",
    "        h = self.conv2(h)\n",
    "        h = torch.cat([x, h], 1)\n",
    "        h = h.permute(2, 0, 1)\n",
    "        h = self.lstm1(h)[0]\n",
    "        h = self.lstm2(h)[0].permute(1, 2, 0)\n",
    "\n",
    "        h_other = self.conv_other(h)*is_empty\n",
    "        h_ss8 = self.conv_ss8(h)*is_empty\n",
    "        h_ss3 = self.conv_ss3(h)*is_empty\n",
    "        return h_other, h_ss8, h_ss3\n"
   ]
  },
  {
   "cell_type": "code",
   "execution_count": 59,
   "metadata": {},
   "outputs": [],
   "source": [
    "def collate_sequences(data):\n",
    "    batch_size = len(data)\n",
    "    lengths = []\n",
    "    for x,t in data:\n",
    "        lengths.append(len(x))\n",
    "    max_length = max(lengths)\n",
    "    primary = torch.zeros(batch_size, max_length, 50) \n",
    "    target = torch.zeros(batch_size, max_length, 11)\n",
    "    for i, ((x,t),l) in enumerate(zip(data, lengths)):\n",
    "        primary[i, :l] = torch.tensor(x)\n",
    "        target[i, :l] = torch.tensor(t)\n",
    "    is_empty = (primary.max(-1).values != 0).int().view(*primary.size()[:-1], 1)\n",
    "    return primary, target, is_empty"
   ]
  },
  {
   "cell_type": "code",
   "execution_count": 60,
   "metadata": {
    "ExecuteTime": {
     "end_time": "2020-02-27T15:56:49.403410Z",
     "start_time": "2020-02-27T15:56:47.359617Z"
    }
   },
   "outputs": [],
   "source": [
    "train_dataset = HMM_Data(f\"{DATA}/secondary_structure/training_set\")\n",
    "train_loader = DataLoader(train_dataset, batch_size = 15, collate_fn = collate_sequences,\n",
    "                        shuffle = True, drop_last=True)"
   ]
  },
  {
   "cell_type": "code",
   "execution_count": 71,
   "metadata": {
    "ExecuteTime": {
     "end_time": "2020-02-27T16:00:07.105120Z",
     "start_time": "2020-02-27T16:00:01.583632Z"
    }
   },
   "outputs": [],
   "source": [
    "val_dataset = HMM_Data(f\"{DATA}/secondary_structure/validation_set\")\n",
    "val_loader = DataLoader(val_dataset, batch_size = 15, collate_fn = collate_sequences,\n",
    "                        shuffle=False, drop_last=False)"
   ]
  },
  {
   "cell_type": "code",
   "execution_count": 82,
   "metadata": {
    "ExecuteTime": {
     "end_time": "2020-02-27T17:09:04.152056Z",
     "start_time": "2020-02-27T17:09:01.857232Z"
    },
    "scrolled": true
   },
   "outputs": [
    {
     "data": {
      "text/plain": [
       "LSTMNet(\n",
       "  (conv1): ResBlock(\n",
       "    (conv_1): ConvBlock(\n",
       "      (conv): Conv1d(50, 32, kernel_size=(129,), stride=(1,), padding=(64,))\n",
       "      (activation): LeakyReLU(negative_slope=0.2)\n",
       "      (normalization): BatchNorm1d(32, eps=1e-05, momentum=0.1, affine=True, track_running_stats=True)\n",
       "    )\n",
       "    (conv2): ConvBlock(\n",
       "      (conv): Conv1d(50, 32, kernel_size=(1,), stride=(1,))\n",
       "      (normalization): BatchNorm1d(32, eps=1e-05, momentum=0.1, affine=True, track_running_stats=True)\n",
       "    )\n",
       "  )\n",
       "  (conv2): ResBlock(\n",
       "    (conv_1): ConvBlock(\n",
       "      (conv): Conv1d(32, 32, kernel_size=(257,), stride=(1,), padding=(128,))\n",
       "      (activation): LeakyReLU(negative_slope=0.2)\n",
       "      (normalization): BatchNorm1d(32, eps=1e-05, momentum=0.1, affine=True, track_running_stats=True)\n",
       "    )\n",
       "    (conv2): ConvBlock(\n",
       "      (conv): Conv1d(32, 32, kernel_size=(1,), stride=(1,))\n",
       "      (normalization): BatchNorm1d(32, eps=1e-05, momentum=0.1, affine=True, track_running_stats=True)\n",
       "    )\n",
       "  )\n",
       "  (lstm1): LSTM(82, 1024, bidirectional=True)\n",
       "  (lstm2): LSTM(2048, 1024, bidirectional=True)\n",
       "  (conv_other): ConvBlock(\n",
       "    (conv): Conv1d(2048, 9, kernel_size=(1,), stride=(1,))\n",
       "  )\n",
       "  (conv_ss8): ConvBlock(\n",
       "    (conv): Conv1d(2048, 8, kernel_size=(1,), stride=(1,))\n",
       "  )\n",
       "  (conv_ss3): ConvBlock(\n",
       "    (conv): Conv1d(2048, 3, kernel_size=(1,), stride=(1,))\n",
       "  )\n",
       ")"
      ]
     },
     "execution_count": 82,
     "metadata": {},
     "output_type": "execute_result"
    }
   ],
   "source": [
    "qx = 50\n",
    "# del model\n",
    "device = torch.device('cuda')\n",
    "\n",
    "# del model\n",
    "model = LSTMNet(qx)\n",
    "model = model.to(device)\n",
    "optimizer = optim.Adam(model.parameters(), lr=0.001)\n",
    "# model.load_state_dict(torch.load(f\"{DATA}/secondary_structure/model_40feats.h5\"))\n",
    "start = time.time()\n",
    "\n",
    "model"
   ]
  },
  {
   "cell_type": "markdown",
   "metadata": {},
   "source": [
    "## Train"
   ]
  },
  {
   "cell_type": "code",
   "execution_count": 81,
   "metadata": {
    "ExecuteTime": {
     "end_time": "2020-02-27T16:00:41.276513Z",
     "start_time": "2020-02-27T16:00:41.245284Z"
    }
   },
   "outputs": [],
   "source": [
    "def train(epoch):\n",
    "    n_res, mean_ss3, mean_ss8, mean_box, mean_other, mean_loss, mean_ss3_acc, mean_ss8_acc = 0,0,0,0,0,0,0,0\n",
    "    model.train()\n",
    "    for batch_idx, (x,t,is_empty) in enumerate(train_loader):\n",
    "        x = x.float().permute(0, 2, 1).to(device)\n",
    "        t = t.float().permute(0, 2, 1).to(device)\n",
    "        is_empty = is_empty.float().permute(0, 2, 1).to(device)\n",
    "        B,_,N = x.size()\n",
    "\n",
    "        optimizer.zero_grad()\n",
    "        p_other, p_ss8, p_ss3 = model(x, is_empty)\n",
    "        p_other, p_ss8, p_ss3 = p_other.cpu(), p_ss8.cpu(), p_ss3.cpu()\n",
    "        x, t, is_empty = x.cpu(), t.cpu(), is_empty.cpu()\n",
    "        \n",
    "        ss3_acc = ((p_ss3.argmax(1) == t[:,-1])*is_empty[:,0]).int().sum()/is_empty[:,0].sum()\n",
    "        ss8_acc = ((p_ss8.argmax(1) == t[:,-2])*is_empty[:,0]).int().sum()/is_empty[:,0].sum()\n",
    "        ss3_loss = F.cross_entropy(p_ss3, t[:,-1].long())\n",
    "        ss8_loss = F.cross_entropy(p_ss8, t[:,-2].long())\n",
    "        other_loss = F.mse_loss(p_other, t[:,:9])/1500\n",
    "\n",
    "        loss = ss3_loss + ss8_loss + other_loss\n",
    "        loss.backward()\n",
    "        optimizer.step()\n",
    "        \n",
    "        del x\n",
    "        mean_ss3 = (mean_ss3*batch_idx + ss3_loss.item())/ (batch_idx+1)\n",
    "        mean_ss8 = (mean_ss8*batch_idx + ss8_loss.item())/ (batch_idx+1)\n",
    "        mean_other = (mean_other*batch_idx + other_loss.item())/ (batch_idx+1)\n",
    "        mean_loss = (mean_loss*batch_idx + loss.item())/ (batch_idx+1)\n",
    "        mean_ss3_acc = (mean_ss3_acc*n_res + N*ss3_acc.item())/ (n_res+N)\n",
    "        mean_ss8_acc = (mean_ss8_acc*n_res + N*ss8_acc.item())/ (n_res+N)\n",
    "        n_res += N\n",
    "        m, s = int(time.time()-start)//60, int(time.time()-start)%60\n",
    "        print(f'''Train Epoch: {epoch} [{int(100*batch_idx/len(train_loader))}%] || Time: {m} min {s} || SS3 Acc: {mean_ss3_acc:.3f} || SS8 Acc : {mean_ss8_acc:.3f} || Loss: {mean_loss:.3f} || SS3 Loss: {mean_ss3:.3f} || SS8 Loss: {mean_ss8:.3f} || Other Loss: {mean_other:.3f}'''\n",
    "              , end=\"\\r\")\n",
    "    m, s = int(time.time()-start)//60, int(time.time()-start)%60\n",
    "    print(f'''Train Epoch: {epoch} [100%] || Time: {m} min {s}  || SS3 Acc: {mean_ss3_acc:.3f} || SS8 Acc : {mean_ss8_acc:.3f} || Loss: {mean_loss:.3f} || SS3 Loss: {mean_ss3:.3f} || SS8 Loss: {mean_ss8:.3f} || Other Loss: {mean_other:.3f}''')"
   ]
  },
  {
   "cell_type": "code",
   "execution_count": 78,
   "metadata": {
    "ExecuteTime": {
     "end_time": "2020-02-27T15:57:00.179975Z",
     "start_time": "2020-02-27T15:57:00.148891Z"
    }
   },
   "outputs": [],
   "source": [
    "import math\n",
    "def val(epoch, thres = 0.5):\n",
    "    mean_ss3_acc, mean_ss8_acc, n_res = 0,0,0\n",
    "    model.eval()\n",
    "    predictions, predictions2 = [],[]\n",
    "    for batch_idx, (x,t,is_empty) in enumerate(val_loader):\n",
    "        x = x.float().permute(0, 2, 1).to(device)\n",
    "        t = t.float().permute(0, 2, 1).to(device)\n",
    "        is_empty = is_empty.float().permute(0, 2, 1).to(device)\n",
    "        B,_,N = x.size()\n",
    "\n",
    "        optimizer.zero_grad()\n",
    "        p_other, p_ss8, p_ss3 = model(x, is_empty)\n",
    "        p_other, p_ss8, p_ss3 = p_other.cpu(), p_ss8.cpu(), p_ss3.cpu()\n",
    "        x, t, is_empty = x.cpu(), t.cpu(), is_empty.cpu()\n",
    "        \n",
    "        p_ss3 = F.softmax(p_ss3,1)\n",
    "        p = p_ss3.detach()\n",
    "        \n",
    "        predictions.append(p.argmax(1).numpy()[0])\n",
    "        n = is_empty[:,0].sum()\n",
    "        ss3_acc = ((p.argmax(1) == t[:,-1])*is_empty[:,0]).int().sum()/n\n",
    "        ss8_acc = ((p_ss8.argmax(1) == t[:,-2])*is_empty[:,0]).int().sum()/n\n",
    "        mean_ss3_acc = (mean_ss3_acc*n_res + n*ss3_acc.item())/ (n_res+n)\n",
    "        mean_ss8_acc = (mean_ss8_acc*n_res + n*ss8_acc.item())/ (n_res+n)\n",
    "        n_res += n\n",
    "        m, s = int(time.time()-start)//60, int(time.time()-start)%60\n",
    "        print(f'''Val Epoch: {epoch} [{int(100*batch_idx/len(val_loader))}%] || Time: {m} min {s} ||| SS3 Acc: {mean_ss3_acc:.3f} || SS8 Acc: {mean_ss8_acc:.3f}''', end=\"\\r\")\n",
    "    print(f'''Val Epoch: {epoch} [100%] || Time: {m} min {s} || SS3 Acc: {mean_ss3_acc:.3f} || SS8 Acc: {mean_ss8_acc:.3f}''')\n",
    "    return mean_ss3_acc, predictions, predictions2"
   ]
  },
  {
   "cell_type": "markdown",
   "metadata": {},
   "source": [
    "## Validate"
   ]
  },
  {
   "cell_type": "code",
   "execution_count": null,
   "metadata": {},
   "outputs": [
    {
     "name": "stdout",
     "output_type": "stream",
     "text": [
      "Train Epoch: 0 [100%] || Time: 7 min 4  || SS3 Acc: 0.761 || SS8 Acc : 0.629 || Loss: 2.978 || SS3 Loss: 0.867 || SS8 Loss: 1.625 || Other Loss: 0.486\n",
      "Val Epoch: 0 [100%] || Time: 8 min 10 || SS3 Acc: 0.809 || SS8 Acc: 0.678\n",
      "Train Epoch: 1 [100%] || Time: 15 min 13  || SS3 Acc: 0.821 || SS8 Acc : 0.701 || Loss: 2.634 || SS3 Loss: 0.810 || SS8 Loss: 1.536 || Other Loss: 0.289\n",
      "Val Epoch: 1 [100%] || Time: 16 min 18 || SS3 Acc: 0.828 || SS8 Acc: 0.714\n",
      "Train Epoch: 2 [100%] || Time: 23 min 20  || SS3 Acc: 0.836 || SS8 Acc : 0.721 || Loss: 2.569 || SS3 Loss: 0.791 || SS8 Loss: 1.505 || Other Loss: 0.273\n",
      "Val Epoch: 2 [100%] || Time: 24 min 26 || SS3 Acc: 0.835 || SS8 Acc: 0.719\n",
      "Train Epoch: 3 [100%] || Time: 31 min 29  || SS3 Acc: 0.850 || SS8 Acc : 0.738 || Loss: 2.525 || SS3 Loss: 0.779 || SS8 Loss: 1.485 || Other Loss: 0.260\n",
      "Val Epoch: 3 [100%] || Time: 32 min 34 || SS3 Acc: 0.843 || SS8 Acc: 0.731\n",
      "Train Epoch: 4 [100%] || Time: 39 min 35  || SS3 Acc: 0.862 || SS8 Acc : 0.753 || Loss: 2.480 || SS3 Loss: 0.765 || SS8 Loss: 1.463 || Other Loss: 0.252\n",
      "Val Epoch: 4 [100%] || Time: 40 min 41 || SS3 Acc: 0.843 || SS8 Acc: 0.732\n",
      "Train Epoch: 5 [100%] || Time: 47 min 41  || SS3 Acc: 0.876 || SS8 Acc : 0.771 || Loss: 2.429 || SS3 Loss: 0.748 || SS8 Loss: 1.436 || Other Loss: 0.245\n",
      "Val Epoch: 5 [100%] || Time: 48 min 46 || SS3 Acc: 0.848 || SS8 Acc: 0.736\n",
      "Train Epoch: 6 [100%] || Time: 55 min 46  || SS3 Acc: 0.891 || SS8 Acc : 0.791 || Loss: 2.378 || SS3 Loss: 0.731 || SS8 Loss: 1.409 || Other Loss: 0.237\n",
      "Val Epoch: 6 [100%] || Time: 56 min 51 || SS3 Acc: 0.845 || SS8 Acc: 0.736\n",
      "Train Epoch: 7 [100%] || Time: 63 min 50  || SS3 Acc: 0.851 || SS8 Acc : 0.741 || Loss: 2.519 || SS3 Loss: 0.774 || SS8 Loss: 1.476 || Other Loss: 0.269\n",
      "Val Epoch: 7 [100%] || Time: 64 min 55 || SS3 Acc: 0.824 || SS8 Acc: 0.707\n",
      "Train Epoch: 8 [100%] || Time: 71 min 55  || SS3 Acc: 0.846 || SS8 Acc : 0.732 || Loss: 2.531 || SS3 Loss: 0.778 || SS8 Loss: 1.484 || Other Loss: 0.268\n",
      "Val Epoch: 8 [100%] || Time: 73 min 1 || SS3 Acc: 0.829 || SS8 Acc: 0.7133\n",
      "Train Epoch: 9 [100%] || Time: 80 min 1  || SS3 Acc: 0.865 || SS8 Acc : 0.755 || Loss: 2.478 || SS3 Loss: 0.762 || SS8 Loss: 1.463 || Other Loss: 0.253\n",
      "Val Epoch: 9 [100%] || Time: 81 min 7 || SS3 Acc: 0.834 || SS8 Acc: 0.7209\n",
      "Train Epoch: 10 [100%] || Time: 88 min 9  || SS3 Acc: 0.873 || SS8 Acc : 0.765 || Loss: 2.448 || SS3 Loss: 0.752 || SS8 Loss: 1.447 || Other Loss: 0.249\n",
      "Val Epoch: 10 [100%] || Time: 89 min 14 || SS3 Acc: 0.835 || SS8 Acc: 0.721\n",
      "Train Epoch: 11 [100%] || Time: 96 min 13  || SS3 Acc: 0.887 || SS8 Acc : 0.782 || Loss: 2.400 || SS3 Loss: 0.736 || SS8 Loss: 1.422 || Other Loss: 0.241\n",
      "Val Epoch: 11 [100%] || Time: 97 min 18 || SS3 Acc: 0.836 || SS8 Acc: 0.722\n",
      "Train Epoch: 12 [100%] || Time: 104 min 18  || SS3 Acc: 0.897 || SS8 Acc : 0.795 || Loss: 2.368 || SS3 Loss: 0.726 || SS8 Loss: 1.407 || Other Loss: 0.234\n",
      "Val Epoch: 12 [100%] || Time: 105 min 24 || SS3 Acc: 0.832 || SS8 Acc: 0.719\n",
      "Train Epoch: 13 [100%] || Time: 112 min 43  || SS3 Acc: 0.902 || SS8 Acc : 0.800 || Loss: 2.351 || SS3 Loss: 0.721 || SS8 Loss: 1.399 || Other Loss: 0.231\n",
      "Val Epoch: 13 [100%] || Time: 114 min 45 || SS3 Acc: 0.831 || SS8 Acc: 0.718\n",
      "Train Epoch: 14 [100%] || Time: 127 min 34  || SS3 Acc: 0.908 || SS8 Acc : 0.809 || Loss: 2.323 || SS3 Loss: 0.712 || SS8 Loss: 1.384 || Other Loss: 0.228\n",
      "Val Epoch: 14 [100%] || Time: 129 min 34 || SS3 Acc: 0.831 || SS8 Acc: 0.718\n",
      "Train Epoch: 15 [100%] || Time: 136 min 36  || SS3 Acc: 0.816 || SS8 Acc : 0.700 || Loss: 2.621 || SS3 Loss: 0.806 || SS8 Loss: 1.525 || Other Loss: 0.289\n",
      "Val Epoch: 15 [100%] || Time: 137 min 42 || SS3 Acc: 0.807 || SS8 Acc: 0.683\n",
      "Train Epoch: 16 [100%] || Time: 144 min 40  || SS3 Acc: 0.814 || SS8 Acc : 0.694 || Loss: 2.634 || SS3 Loss: 0.811 || SS8 Loss: 1.534 || Other Loss: 0.289\n",
      "Val Epoch: 16 [100%] || Time: 145 min 46 || SS3 Acc: 0.818 || SS8 Acc: 0.698\n",
      "Train Epoch: 17 [55%] || Time: 149 min 37 || SS3 Acc: 0.829 || SS8 Acc : 0.712 || Loss: 2.585 || SS3 Loss: 0.795 || SS8 Loss: 1.511 || Other Loss: 0.279\r"
     ]
    }
   ],
   "source": [
    "max_acc = 0\n",
    "for i in range(50):\n",
    "    train(i)\n",
    "    mean_ss3_acc, _, _ = val(i)\n",
    "    if mean_ss3_acc > max_acc:\n",
    "        torch.save(model.state_dict(), f\"{DATA}/secondary_structure/lstm_50feats.h5\")\n",
    "        max_acc = mean_ss3_acc"
   ]
  },
  {
   "cell_type": "code",
   "execution_count": 150,
   "metadata": {},
   "outputs": [
    {
     "name": "stdout",
     "output_type": "stream",
     "text": [
      "Val Epoch: 0 [100%] || Time: 174 min 23 || SS3 Acc: 0.818\n"
     ]
    }
   ],
   "source": [
    "preds, gt = val(0)"
   ]
  },
  {
   "cell_type": "code",
   "execution_count": 152,
   "metadata": {},
   "outputs": [],
   "source": [
    "f = [torch.log(s[s_bar.long(), torch.arange(s.size(-1))]).sum()/s.size(-1) for s, s_bar in zip(preds, gt)]"
   ]
  },
  {
   "cell_type": "code",
   "execution_count": 153,
   "metadata": {},
   "outputs": [],
   "source": [
    "confusion = [1/s.size(-1)* sum(torch.log(1+sum(C2[si_bar, j]*si[j]/si[si_bar] for j in range(3) if j != si_bar)) for si, si_bar in zip(s.t(), s_bar))  for s, s_bar in zip(preds, gt)]"
   ]
  },
  {
   "cell_type": "code",
   "execution_count": 154,
   "metadata": {},
   "outputs": [],
   "source": [
    "logA = np.log(0.818)\n",
    "logA = [1/s.size(-1)* sum(np.log(C[si_bar, si_bar]) for si, si_bar in zip(s.t(), s_bar))  for s, s_bar in zip(preds, gt)]"
   ]
  },
  {
   "cell_type": "code",
   "execution_count": 155,
   "metadata": {},
   "outputs": [],
   "source": [
    "var = torch.exp(torch.tensor(f)+torch.tensor(logA)+torch.tensor(confusion)) - torch.exp(torch.tensor(f))"
   ]
  },
  {
   "cell_type": "code",
   "execution_count": 156,
   "metadata": {},
   "outputs": [
    {
     "data": {
      "text/plain": [
       "(array([  2.,   1.,   0.,   0.,   0.,   0.,   0.,   0.,   0.,   1.,   0.,\n",
       "          0.,   0.,   0.,   1.,   2.,   0.,   0.,   1.,   0.,   0.,   1.,\n",
       "          2.,   4.,   1.,   3.,   7.,  14.,   8.,  25.,  26.,  34.,  40.,\n",
       "         59.,  69.,  70.,  81., 103., 100., 109., 119., 107., 121., 106.,\n",
       "         95.,  94.,  96.,  67.,  74.,  59.,  56.,  59.,  32.,  36.,  33.,\n",
       "         30.,  17.,  29.,  23.,  19.,  15.,  16.,  13.,   7.,   9.,   2.,\n",
       "          7.,   6.,   3.,   7.,   7.,   8.,   3.,   2.,   4.,   1.,   3.,\n",
       "          1.,   0.,   0.,   3.,   2.,   0.,   2.,   1.,   1.,   1.,   2.,\n",
       "          2.,   0.,   2.,   1.,   1.,   0.,   0.,   0.,   0.,   1.,   0.,\n",
       "          1.]),\n",
       " array([-0.23235669, -0.22824871, -0.22414073, -0.22003275, -0.21592477,\n",
       "        -0.21181678, -0.2077088 , -0.20360082, -0.19949284, -0.19538486,\n",
       "        -0.19127688, -0.1871689 , -0.18306092, -0.17895294, -0.17484496,\n",
       "        -0.17073698, -0.166629  , -0.16252102, -0.15841304, -0.15430506,\n",
       "        -0.15019708, -0.1460891 , -0.14198112, -0.13787314, -0.13376516,\n",
       "        -0.12965718, -0.1255492 , -0.12144122, -0.11733324, -0.11322526,\n",
       "        -0.10911728, -0.1050093 , -0.10090132, -0.09679334, -0.09268536,\n",
       "        -0.08857738, -0.0844694 , -0.08036142, -0.07625344, -0.07214546,\n",
       "        -0.06803748, -0.0639295 , -0.05982152, -0.05571353, -0.05160555,\n",
       "        -0.04749757, -0.04338959, -0.03928161, -0.03517363, -0.03106565,\n",
       "        -0.02695767, -0.02284969, -0.01874171, -0.01463373, -0.01052575,\n",
       "        -0.00641777, -0.00230979,  0.00179819,  0.00590617,  0.01001415,\n",
       "         0.01412213,  0.01823011,  0.02233809,  0.02644607,  0.03055405,\n",
       "         0.03466203,  0.03877001,  0.04287799,  0.04698597,  0.05109395,\n",
       "         0.05520193,  0.05930991,  0.06341789,  0.06752587,  0.07163385,\n",
       "         0.07574183,  0.07984981,  0.08395779,  0.08806577,  0.09217375,\n",
       "         0.09628174,  0.10038972,  0.1044977 ,  0.10860568,  0.11271366,\n",
       "         0.11682164,  0.12092962,  0.1250376 ,  0.12914558,  0.13325356,\n",
       "         0.13736154,  0.14146952,  0.1455775 ,  0.14968548,  0.15379346,\n",
       "         0.15790144,  0.16200942,  0.1661174 ,  0.17022538,  0.17433336,\n",
       "         0.17844134]),\n",
       " <a list of 100 Patch objects>)"
      ]
     },
     "execution_count": 156,
     "metadata": {},
     "output_type": "execute_result"
    },
    {
     "data": {
      "image/png": "[encoded data removed]",
      "text/plain": [
       "<Figure size 432x288 with 1 Axes>"
      ]
     },
     "metadata": {
      "needs_background": "light"
     },
     "output_type": "display_data"
    }
   ],
   "source": [
    "plt.hist(var, bins = 100)"
   ]
  },
  {
   "cell_type": "code",
   "execution_count": 45,
   "metadata": {},
   "outputs": [],
   "source": [
    "from sklearn.metrics import confusion_matrix"
   ]
  },
  {
   "cell_type": "code",
   "execution_count": 48,
   "metadata": {},
   "outputs": [
    {
     "data": {
      "text/plain": [
       "array([[0.88861309, 0.0216662 , 0.11537582],\n",
       "       [0.01268228, 0.81835337, 0.12601533],\n",
       "       [0.09870462, 0.15998043, 0.75860885]])"
      ]
     },
     "execution_count": 48,
     "metadata": {},
     "output_type": "execute_result"
    }
   ],
   "source": [
    "C = confusion_matrix(gt, preds, normalize = \"pred\")\n",
    "C"
   ]
  },
  {
   "cell_type": "code",
   "execution_count": 99,
   "metadata": {},
   "outputs": [],
   "source": [
    "C2 = C.copy()\n",
    "for i in range(3):\n",
    "    C2[i,:] /= C2[i,i]"
   ]
  },
  {
   "cell_type": "code",
   "execution_count": 100,
   "metadata": {},
   "outputs": [
    {
     "data": {
      "text/plain": [
       "array([[1.        , 0.02438204, 0.12983808],\n",
       "       [0.01549732, 1.        , 0.15398645],\n",
       "       [0.13011267, 0.21088658, 1.        ]])"
      ]
     },
     "execution_count": 100,
     "metadata": {},
     "output_type": "execute_result"
    }
   ],
   "source": [
    "C2"
   ]
  },
  {
   "cell_type": "markdown",
   "metadata": {},
   "source": [
    "### Run"
   ]
  },
  {
   "cell_type": "code",
   "execution_count": null,
   "metadata": {
    "ExecuteTime": {
     "end_time": "2020-02-27T16:04:14.029149Z",
     "start_time": "2020-02-27T16:00:44.671083Z"
    },
    "scrolled": true
   },
   "outputs": [
    {
     "name": "stdout",
     "output_type": "stream",
     "text": [
      "Train Epoch: 0 [100%] || Time: 12 min 51  || SS3 Acc: 0.843 || Loss: 0.360 \n",
      "Val Epoch: 0 [100%] || Time: 12 min 57 || SS3 Acc: 0.813\n",
      "Train Epoch: 1 [100%] || Time: 14 min 23  || SS3 Acc: 0.848 || Loss: 0.344 \n",
      "Val Epoch: 1 [100%] || Time: 14 min 30 || SS3 Acc: 0.815\n",
      "Train Epoch: 2 [100%] || Time: 15 min 55  || SS3 Acc: 0.852 || Loss: 0.330 \n",
      "Val Epoch: 2 [100%] || Time: 16 min 1 || SS3 Acc: 0.8178\n",
      "Train Epoch: 3 [94%] || Time: 17 min 19 || SS3 Acc: 0.857 || Loss: 0.314\r"
     ]
    }
   ],
   "source": [
    "for i in range(50):\n",
    "    train(i)\n",
    "    val(i)"
   ]
  },
  {
   "cell_type": "code",
   "execution_count": 13,
   "metadata": {
    "ExecuteTime": {
     "end_time": "2020-02-27T16:04:33.109296Z",
     "start_time": "2020-02-27T16:04:33.075584Z"
    }
   },
   "outputs": [],
   "source": [
    "torch.save(model.state_dict(), f\"{DATA}/secondary_structure/model_40feats.h5\")"
   ]
  },
  {
   "cell_type": "code",
   "execution_count": 50,
   "metadata": {},
   "outputs": [
    {
     "data": {
      "text/plain": [
       "tensor([   0,    0,    2,  ..., 3243, 3322, 3503])"
      ]
     },
     "execution_count": 50,
     "metadata": {},
     "output_type": "execute_result"
    }
   ],
   "source": [
    "from random import shuffle\n",
    "\n",
    "idxs = torch.tensor(range((len(train_dataset))))\n",
    "shuffle(idxs)\n",
    "idxs"
   ]
  },
  {
   "cell_type": "markdown",
   "metadata": {},
   "source": [
    "## Test/Use"
   ]
  },
  {
   "cell_type": "code",
   "execution_count": null,
   "metadata": {},
   "outputs": [],
   "source": []
  },
  {
   "cell_type": "code",
   "execution_count": 8,
   "metadata": {
    "ExecuteTime": {
     "end_time": "2020-02-27T17:09:04.228292Z",
     "start_time": "2020-02-27T17:09:04.224119Z"
    }
   },
   "outputs": [],
   "source": [
    "def test(epoch, thres = 0.5):\n",
    "    mean_ss3_acc, mean_ss8_acc, n_res = 0,0,0\n",
    "    model.eval()\n",
    "#     denoiser.eval()\n",
    "    predictions = []\n",
    "    for batch_idx, data in enumerate(test_loader):\n",
    "#         if batch_idx == 300:\n",
    "#             break\n",
    "        x = data.float().permute(0, 2, 1).to(device)[:,:40]\n",
    "        B,_,N = x.size()\n",
    "\n",
    "        optimizer.zero_grad()\n",
    "        p_other, p_ss8, p_ss3 = model(x)\n",
    "        p_other, p_ss8, p_ss3 = p_other.cpu(), p_ss8.cpu(), p_ss3.cpu()\n",
    "        x = x.cpu()\n",
    "        \n",
    "        p_ss3 = F.softmax(p_ss3,1)\n",
    "        p_ss8 = F.softmax(p_ss8,1)\n",
    "        predictions.append(p_ss3[0].permute(1,0).detach().numpy())\n",
    "\n",
    "    return predictions"
   ]
  },
  {
   "cell_type": "code",
   "execution_count": 9,
   "metadata": {
    "ExecuteTime": {
     "end_time": "2020-02-27T17:11:43.320201Z",
     "start_time": "2020-02-27T17:09:04.293016Z"
    }
   },
   "outputs": [],
   "source": [
    "potentials = test(0)"
   ]
  },
  {
   "cell_type": "code",
   "execution_count": 13,
   "metadata": {
    "ExecuteTime": {
     "end_time": "2020-02-27T13:38:45.347879Z",
     "start_time": "2020-02-27T13:38:45.340189Z"
    }
   },
   "outputs": [
    {
     "data": {
      "text/plain": [
       "54025"
      ]
     },
     "execution_count": 13,
     "metadata": {},
     "output_type": "execute_result"
    }
   ],
   "source": [
    "len(potentials)"
   ]
  },
  {
   "cell_type": "markdown",
   "metadata": {},
   "source": [
    "## Vizualize"
   ]
  },
  {
   "cell_type": "code",
   "execution_count": 23,
   "metadata": {
    "ExecuteTime": {
     "end_time": "2020-02-27T16:05:48.105528Z",
     "start_time": "2020-02-27T16:05:48.083755Z"
    }
   },
   "outputs": [],
   "source": [
    "colors = [(0.7,0.2,0), \n",
    "          (0.7,0.2,0.4), \n",
    "          (0.7,0.2,0.8), \n",
    "          (0,1,0), \n",
    "          (0.7,1,0), \n",
    "          (0,0,1), \n",
    "          (0,0.4,1), \n",
    "          (0,0.8,1)]\n",
    "\n",
    "def to_seq(p, size):\n",
    "    seq = np.ones(size, dtype = int)*2\n",
    "    for bbox in p.numpy().T[::-1]:\n",
    "        seq[bbox[0]: bbox[1]] = bbox[2]\n",
    "    return seq\n",
    "\n",
    "def overlap_to_one(x, p):\n",
    "    x = x.expand(x.size(0), p.size(-1))\n",
    "    inter_low = torch.max(x[0], p[0]).float()\n",
    "    inter_high = torch.min(x[1], p[1]).float()\n",
    "    union_low = torch.min(x[0], p[0]).float()\n",
    "    union_high = torch.max(x[1], p[1]).float()\n",
    "    return torch.clamp((inter_high - inter_low),min = 0)\n",
    "\n",
    "def to_map(pot, k):\n",
    "    mapping = np.ones((pot.shape[0],3))\n",
    "    r,g,b = colors[k]\n",
    "    p = pot[:,k]\n",
    "    mapping[:,0] = r*p\n",
    "    mapping[:,1] = g*p\n",
    "    mapping[:,2] = b*p\n",
    "    return mapping"
   ]
  },
  {
   "cell_type": "code",
   "execution_count": 26,
   "metadata": {
    "ExecuteTime": {
     "end_time": "2020-02-27T16:06:10.998076Z",
     "start_time": "2020-02-27T16:06:08.712972Z"
    }
   },
   "outputs": [
    {
     "data": {
      "image/png": "[encoded data removed]",
      "text/plain": [
       "<Figure size 720x216 with 1 Axes>"
      ]
     },
     "metadata": {
      "needs_background": "light"
     },
     "output_type": "display_data"
    },
    {
     "data": {
      "image/png": "[encoded data removed]",
      "text/plain": [
       "<Figure size 720x216 with 1 Axes>"
      ]
     },
     "metadata": {
      "needs_background": "light"
     },
     "output_type": "display_data"
    },
    {
     "data": {
      "image/png": "[encoded data removed]",
      "text/plain": [
       "<Figure size 720x216 with 1 Axes>"
      ]
     },
     "metadata": {
      "needs_background": "light"
     },
     "output_type": "display_data"
    },
    {
     "data": {
      "image/png": "[encoded data removed]",
      "text/plain": [
       "<Figure size 720x216 with 1 Axes>"
      ]
     },
     "metadata": {
      "needs_background": "light"
     },
     "output_type": "display_data"
    },
    {
     "data": {
      "image/png": "[encoded data removed]",
      "text/plain": [
       "<Figure size 720x216 with 1 Axes>"
      ]
     },
     "metadata": {
      "needs_background": "light"
     },
     "output_type": "display_data"
    },
    {
     "data": {
      "image/png": "[encoded data removed]",
      "text/plain": [
       "<Figure size 720x216 with 1 Axes>"
      ]
     },
     "metadata": {
      "needs_background": "light"
     },
     "output_type": "display_data"
    },
    {
     "data": {
      "image/png": "[encoded data removed]",
      "text/plain": [
       "<Figure size 720x216 with 1 Axes>"
      ]
     },
     "metadata": {
      "needs_background": "light"
     },
     "output_type": "display_data"
    },
    {
     "data": {
      "image/png": "[encoded data removed]",
      "text/plain": [
       "<Figure size 720x216 with 1 Axes>"
      ]
     },
     "metadata": {
      "needs_background": "light"
     },
     "output_type": "display_data"
    },
    {
     "data": {
      "image/png": "[encoded data removed]",
      "text/plain": [
       "<Figure size 720x216 with 1 Axes>"
      ]
     },
     "metadata": {
      "needs_background": "light"
     },
     "output_type": "display_data"
    },
    {
     "data": {
      "image/png": "[encoded data removed]",
      "text/plain": [
       "<Figure size 720x216 with 1 Axes>"
      ]
     },
     "metadata": {
      "needs_background": "light"
     },
     "output_type": "display_data"
    },
    {
     "data": {
      "image/png": "[encoded data removed]",
      "text/plain": [
       "<Figure size 720x216 with 1 Axes>"
      ]
     },
     "metadata": {
      "needs_background": "light"
     },
     "output_type": "display_data"
    },
    {
     "data": {
      "image/png": "[encoded data removed]",
      "text/plain": [
       "<Figure size 720x216 with 1 Axes>"
      ]
     },
     "metadata": {
      "needs_background": "light"
     },
     "output_type": "display_data"
    },
    {
     "data": {
      "image/png": "[encoded data removed]",
      "text/plain": [
       "<Figure size 720x216 with 1 Axes>"
      ]
     },
     "metadata": {
      "needs_background": "light"
     },
     "output_type": "display_data"
    },
    {
     "data": {
      "image/png": "[encoded data removed]",
      "text/plain": [
       "<Figure size 720x216 with 1 Axes>"
      ]
     },
     "metadata": {
      "needs_background": "light"
     },
     "output_type": "display_data"
    },
    {
     "data": {
      "image/png": "[encoded data removed]",
      "text/plain": [
       "<Figure size 720x216 with 1 Axes>"
      ]
     },
     "metadata": {
      "needs_background": "light"
     },
     "output_type": "display_data"
    },
    {
     "data": {
      "image/png": "[encoded data removed]",
      "text/plain": [
       "<Figure size 720x216 with 1 Axes>"
      ]
     },
     "metadata": {
      "needs_background": "light"
     },
     "output_type": "display_data"
    },
    {
     "data": {
      "image/png": "[encoded data removed]",
      "text/plain": [
       "<Figure size 720x216 with 1 Axes>"
      ]
     },
     "metadata": {
      "needs_background": "light"
     },
     "output_type": "display_data"
    },
    {
     "data": {
      "image/png": "[encoded data removed]",
      "text/plain": [
       "<Figure size 720x216 with 1 Axes>"
      ]
     },
     "metadata": {
      "needs_background": "light"
     },
     "output_type": "display_data"
    },
    {
     "data": {
      "image/png": "[encoded data removed]",
      "text/plain": [
       "<Figure size 720x216 with 1 Axes>"
      ]
     },
     "metadata": {
      "needs_background": "light"
     },
     "output_type": "display_data"
    },
    {
     "data": {
      "image/png": "[encoded data removed]",
      "text/plain": [
       "<Figure size 720x216 with 1 Axes>"
      ]
     },
     "metadata": {
      "needs_background": "light"
     },
     "output_type": "display_data"
    }
   ],
   "source": [
    "SIZE = 64\n",
    "\n",
    "for i in range(20):\n",
    "#     gt = np.array(val_dataset[i][2][:,-1],dtype=int)\n",
    "    N = potentials[i].shape[0]\n",
    "    q, r = N//SIZE, N%SIZE\n",
    "    j = 0\n",
    "    for j in range(q):\n",
    "        fig = plt.figure(figsize=(10,3))\n",
    "        p = potentials[i][SIZE*j:SIZE*(j+1)]\n",
    "        mapping = np.array([to_map(p,i) for i in range(3)])\n",
    "        plt.xticks(list(range(0,SIZE,20)), list(range(SIZE*j,SIZE*(j+1),20)))\n",
    "        plt.yticks([0,1,2],[\"alpha\", \"beta\", \"coil\"])\n",
    "        plt.imshow(mapping)\n",
    "\n",
    "    fig = plt.figure(figsize=(10,3))\n",
    "    p = np.pad(potentials[i][-r:], ((0,SIZE-r),(0,0)))\n",
    "    mapping = np.array([to_map(p,i) for i in range(3)])\n",
    "    plt.xticks(list(range(0,SIZE,20)), list(range(SIZE*j,SIZE*(j+1),20)))\n",
    "    plt.yticks([0,1,2],[\"alpha\", \"beta\", \"coil\"])\n",
    "    plt.imshow(mapping)\n"
   ]
  },
  {
   "cell_type": "code",
   "execution_count": 10,
   "metadata": {
    "ExecuteTime": {
     "end_time": "2020-02-27T17:18:10.255878Z",
     "start_time": "2020-02-27T17:18:08.907744Z"
    }
   },
   "outputs": [],
   "source": [
    "pickle.dump(potentials, open(f\"{DATA}/{DATASET}/ss3_spec.pkl\", \"wb\"))"
   ]
  },
  {
   "cell_type": "code",
   "execution_count": 17,
   "metadata": {
    "ExecuteTime": {
     "end_time": "2020-02-27T13:41:19.334557Z",
     "start_time": "2020-02-27T13:41:19.327154Z"
    }
   },
   "outputs": [
    {
     "data": {
      "text/plain": [
       "54025"
      ]
     },
     "execution_count": 17,
     "metadata": {},
     "output_type": "execute_result"
    }
   ],
   "source": [
    "len(potentials)"
   ]
  },
  {
   "cell_type": "markdown",
   "metadata": {
    "heading_collapsed": true
   },
   "source": [
    "## Denoiser"
   ]
  },
  {
   "cell_type": "code",
   "execution_count": 149,
   "metadata": {
    "hidden": true
   },
   "outputs": [],
   "source": [
    "from secondary_structure.model import ResBlock, leaky_relu, ConvBlock\n",
    "\n",
    "class Denoiser(nn.Module):\n",
    "    def __init__(self):\n",
    "        super(Denoiser, self).__init__()\n",
    "\n",
    "        self.conv1 = ConvBlock(nn.Conv1d, None, None, \n",
    "                                3, 3, 257,\n",
    "                                stride=1, padding=128, bias=True)\n",
    "#         self.conv2 = ConvBlock(nn.Conv1d, leaky_relu, nn.BatchNorm1d, \n",
    "#                                 32, 64, 129,\n",
    "#                                 stride=1, padding=64, bias=True)  \n",
    "#         self.conv3 = ConvBlock(nn.Conv1d, leaky_relu, nn.BatchNorm1d, \n",
    "#                         64, 3, 129,\n",
    "#                         stride=1, padding=64, bias=True)        \n",
    "\n",
    "        \n",
    "\n",
    "    def forward(self, x):\n",
    "        h = self.conv1(x)\n",
    "#         h = self.conv2(h)\n",
    "#         h = self.conv3(h)\n",
    "        return h"
   ]
  },
  {
   "cell_type": "code",
   "execution_count": 150,
   "metadata": {
    "hidden": true
   },
   "outputs": [],
   "source": [
    "def seq_acc(pred, target):\n",
    "    return (pred.argmax(1) == target).sum()\n",
    "\n",
    "def train_denoiser(epoch):\n",
    "    start = time.time()\n",
    "    denoiser.train()\n",
    "    train_loss, train_acc, n_res = 0, 0, 0\n",
    "    for batch_idx, data in enumerate(train_loader):\n",
    "        t = data[2].float().permute(0, 2, 1)[:, -1].long()\n",
    "        B,N = t.size()\n",
    "        \n",
    "        x = t.clone().view(1,1,-1)\n",
    "        perm = torch.randperm(N)\n",
    "        idx = perm[:N//10]\n",
    "        changes = torch.randint(2, size = (N//10,))\n",
    "        x[0,0,idx] = changes\n",
    "        x_onehot = torch.zeros(B,3,N)\n",
    "        x_onehot[0, x[0,0], torch.arange(N)] = 1\n",
    "        \n",
    "        optimizer.zero_grad()\n",
    "        y = denoiser(x_onehot.cuda()).cpu()\n",
    "        loss = F.cross_entropy(y, t)\n",
    "        loss.backward()\n",
    "        train_loss += loss.item()/len(data)\n",
    "        optimizer.step()\n",
    "        \n",
    "        acc = seq_acc(y, t).float()\n",
    "        train_acc = (train_acc * n_res + acc)/(n_res+N)\n",
    "        n_res += N\n",
    "        print(f'''Train Epoch: {epoch} [{100. * batch_idx / len(train_loader):.0f}%] || Loss: {train_loss/(batch_idx+1):.2f} || Time: {time.time()-start:.2f}s || Acc: {train_acc:.4f}''', end=\"\\r\")\n",
    "        \n",
    "    print(f'''Train Epoch: {epoch} [100%] || Loss: {train_loss/(batch_idx+1):.2f} || Time: {time.time()-start:.2f}s || Acc: {train_acc:.4f}''')\n",
    "    \n",
    "def val_denoiser(epoch):\n",
    "    start = time.time()\n",
    "    denoiser.eval()\n",
    "    val_loss, val_acc, n_res = 0, 0, 0\n",
    "    for batch_idx, data in enumerate(val_loader):\n",
    "        t = data[2].float().permute(0, 2, 1)[:, -1].long()\n",
    "        B,N = t.size()\n",
    "        \n",
    "        x = t.clone().view(1,1,-1)\n",
    "        perm = torch.randperm(N)\n",
    "        idx = perm[:N//10]\n",
    "        changes = torch.randint(2, size = (N//10,))\n",
    "        x[0,0,idx] = changes\n",
    "        x_onehot = torch.zeros(B,3,N)\n",
    "        x_onehot[0, x[0,0], torch.arange(N)] = 1\n",
    "                \n",
    "        y = denoiser(x_onehot.cuda()).cpu()\n",
    "        loss = F.cross_entropy(y, t)\n",
    "\n",
    "        val_loss += loss.item()/len(data)\n",
    "        acc = seq_acc(y, t).float()\n",
    "        val_acc = (val_acc * n_res + acc)/(n_res+N)\n",
    "        n_res += N\n",
    "    print(f'''Val Epoch: {epoch} || Loss: {val_loss/(batch_idx+1):.2f} || Time: {time.time()-start:.2f}s || Acc: {val_acc:.4f}''')\n"
   ]
  },
  {
   "cell_type": "code",
   "execution_count": 153,
   "metadata": {
    "hidden": true
   },
   "outputs": [
    {
     "data": {
      "text/plain": [
       "Denoiser(\n",
       "  (conv1): ConvBlock(\n",
       "    (conv): Conv1d(3, 3, kernel_size=(257,), stride=(1,), padding=(128,))\n",
       "  )\n",
       ")"
      ]
     },
     "execution_count": 153,
     "metadata": {},
     "output_type": "execute_result"
    }
   ],
   "source": [
    "N, qx, qs, h = 128, 50, 3, 8\n",
    "# del model\n",
    "device = torch.device('cuda')\n",
    "\n",
    "# del model\n",
    "denoiser = Denoiser()\n",
    "denoiser = denoiser.to(device)\n",
    "optimizer = optim.Adam(denoiser.parameters(), lr=0.001)\n",
    "start = time.time()\n",
    "\n",
    "denoiser"
   ]
  },
  {
   "cell_type": "code",
   "execution_count": 154,
   "metadata": {
    "hidden": true
   },
   "outputs": [
    {
     "name": "stdout",
     "output_type": "stream",
     "text": [
      "Train Epoch: 0 [100%] || Loss: 0.04 || Time: 14.07s || Acc: 0.9563\n",
      "Val Epoch: 0 || Loss: 0.03 || Time: 1.74s || Acc: 0.9703\n",
      "Train Epoch: 1 [100%] || Loss: 0.03 || Time: 16.24s || Acc: 0.9696\n",
      "Val Epoch: 1 || Loss: 0.03 || Time: 1.42s || Acc: 0.9690\n",
      "Train Epoch: 2 [100%] || Loss: 0.03 || Time: 13.09s || Acc: 0.9696\n",
      "Val Epoch: 2 || Loss: 0.03 || Time: 1.36s || Acc: 0.9692\n",
      "Train Epoch: 3 [100%] || Loss: 0.03 || Time: 14.10s || Acc: 0.9695\n",
      "Val Epoch: 3 || Loss: 0.03 || Time: 1.49s || Acc: 0.9704\n",
      "Train Epoch: 4 [100%] || Loss: 0.03 || Time: 14.78s || Acc: 0.9696\n",
      "Val Epoch: 4 || Loss: 0.03 || Time: 1.52s || Acc: 0.9693\n",
      "Train Epoch: 5 [100%] || Loss: 0.03 || Time: 14.07s || Acc: 0.9698\n",
      "Val Epoch: 5 || Loss: 0.03 || Time: 1.43s || Acc: 0.9700\n",
      "Train Epoch: 6 [100%] || Loss: 0.03 || Time: 14.43s || Acc: 0.9698\n",
      "Val Epoch: 6 || Loss: 0.03 || Time: 1.53s || Acc: 0.9698\n",
      "Train Epoch: 7 [100%] || Loss: 0.03 || Time: 14.21s || Acc: 0.9698\n",
      "Val Epoch: 7 || Loss: 0.03 || Time: 1.40s || Acc: 0.9700\n",
      "Train Epoch: 8 [100%] || Loss: 0.03 || Time: 18.39s || Acc: 0.9697\n",
      "Val Epoch: 8 || Loss: 0.03 || Time: 1.61s || Acc: 0.9703\n",
      "Train Epoch: 9 [16%] || Loss: 0.03 || Time: 2.98s || Acc: 0.9698\r"
     ]
    },
    {
     "ename": "KeyboardInterrupt",
     "evalue": "",
     "output_type": "error",
     "traceback": [
      "\u001b[0;31m---------------------------------------------------------------------------\u001b[0m",
      "\u001b[0;31mKeyboardInterrupt\u001b[0m                         Traceback (most recent call last)",
      "\u001b[0;32m<ipython-input-154-7543ff876315>\u001b[0m in \u001b[0;36m<module>\u001b[0;34m\u001b[0m\n\u001b[1;32m      1\u001b[0m \u001b[0;32mfor\u001b[0m \u001b[0mi\u001b[0m \u001b[0;32min\u001b[0m \u001b[0mrange\u001b[0m\u001b[0;34m(\u001b[0m\u001b[0;36m10\u001b[0m\u001b[0;34m)\u001b[0m\u001b[0;34m:\u001b[0m\u001b[0;34m\u001b[0m\u001b[0;34m\u001b[0m\u001b[0m\n\u001b[0;32m----> 2\u001b[0;31m     \u001b[0mtrain_denoiser\u001b[0m\u001b[0;34m(\u001b[0m\u001b[0mi\u001b[0m\u001b[0;34m)\u001b[0m\u001b[0;34m\u001b[0m\u001b[0;34m\u001b[0m\u001b[0m\n\u001b[0m\u001b[1;32m      3\u001b[0m     \u001b[0mval_denoiser\u001b[0m\u001b[0;34m(\u001b[0m\u001b[0mi\u001b[0m\u001b[0;34m)\u001b[0m\u001b[0;34m\u001b[0m\u001b[0;34m\u001b[0m\u001b[0m\n",
      "\u001b[0;32m<ipython-input-150-b20c61f84e43>\u001b[0m in \u001b[0;36mtrain_denoiser\u001b[0;34m(epoch)\u001b[0m\n\u001b[1;32m     21\u001b[0m         \u001b[0my\u001b[0m \u001b[0;34m=\u001b[0m \u001b[0mdenoiser\u001b[0m\u001b[0;34m(\u001b[0m\u001b[0mx_onehot\u001b[0m\u001b[0;34m.\u001b[0m\u001b[0mcuda\u001b[0m\u001b[0;34m(\u001b[0m\u001b[0;34m)\u001b[0m\u001b[0;34m)\u001b[0m\u001b[0;34m.\u001b[0m\u001b[0mcpu\u001b[0m\u001b[0;34m(\u001b[0m\u001b[0;34m)\u001b[0m\u001b[0;34m\u001b[0m\u001b[0;34m\u001b[0m\u001b[0m\n\u001b[1;32m     22\u001b[0m         \u001b[0mloss\u001b[0m \u001b[0;34m=\u001b[0m \u001b[0mF\u001b[0m\u001b[0;34m.\u001b[0m\u001b[0mcross_entropy\u001b[0m\u001b[0;34m(\u001b[0m\u001b[0my\u001b[0m\u001b[0;34m,\u001b[0m \u001b[0mt\u001b[0m\u001b[0;34m)\u001b[0m\u001b[0;34m\u001b[0m\u001b[0;34m\u001b[0m\u001b[0m\n\u001b[0;32m---> 23\u001b[0;31m         \u001b[0mloss\u001b[0m\u001b[0;34m.\u001b[0m\u001b[0mbackward\u001b[0m\u001b[0;34m(\u001b[0m\u001b[0;34m)\u001b[0m\u001b[0;34m\u001b[0m\u001b[0;34m\u001b[0m\u001b[0m\n\u001b[0m\u001b[1;32m     24\u001b[0m         \u001b[0mtrain_loss\u001b[0m \u001b[0;34m+=\u001b[0m \u001b[0mloss\u001b[0m\u001b[0;34m.\u001b[0m\u001b[0mitem\u001b[0m\u001b[0;34m(\u001b[0m\u001b[0;34m)\u001b[0m\u001b[0;34m/\u001b[0m\u001b[0mlen\u001b[0m\u001b[0;34m(\u001b[0m\u001b[0mdata\u001b[0m\u001b[0;34m)\u001b[0m\u001b[0;34m\u001b[0m\u001b[0;34m\u001b[0m\u001b[0m\n\u001b[1;32m     25\u001b[0m         \u001b[0moptimizer\u001b[0m\u001b[0;34m.\u001b[0m\u001b[0mstep\u001b[0m\u001b[0;34m(\u001b[0m\u001b[0;34m)\u001b[0m\u001b[0;34m\u001b[0m\u001b[0;34m\u001b[0m\u001b[0m\n",
      "\u001b[0;32m~/.local/lib/python3.7/site-packages/torch/tensor.py\u001b[0m in \u001b[0;36mbackward\u001b[0;34m(self, gradient, retain_graph, create_graph)\u001b[0m\n\u001b[1;32m    148\u001b[0m                 \u001b[0mproducts\u001b[0m\u001b[0;34m.\u001b[0m \u001b[0mDefaults\u001b[0m \u001b[0mto\u001b[0m\u001b[0;31m \u001b[0m\u001b[0;31m`\u001b[0m\u001b[0;31m`\u001b[0m\u001b[0;32mFalse\u001b[0m\u001b[0;31m`\u001b[0m\u001b[0;31m`\u001b[0m\u001b[0;34m.\u001b[0m\u001b[0;34m\u001b[0m\u001b[0;34m\u001b[0m\u001b[0m\n\u001b[1;32m    149\u001b[0m         \"\"\"\n\u001b[0;32m--> 150\u001b[0;31m         \u001b[0mtorch\u001b[0m\u001b[0;34m.\u001b[0m\u001b[0mautograd\u001b[0m\u001b[0;34m.\u001b[0m\u001b[0mbackward\u001b[0m\u001b[0;34m(\u001b[0m\u001b[0mself\u001b[0m\u001b[0;34m,\u001b[0m \u001b[0mgradient\u001b[0m\u001b[0;34m,\u001b[0m \u001b[0mretain_graph\u001b[0m\u001b[0;34m,\u001b[0m \u001b[0mcreate_graph\u001b[0m\u001b[0;34m)\u001b[0m\u001b[0;34m\u001b[0m\u001b[0;34m\u001b[0m\u001b[0m\n\u001b[0m\u001b[1;32m    151\u001b[0m \u001b[0;34m\u001b[0m\u001b[0m\n\u001b[1;32m    152\u001b[0m     \u001b[0;32mdef\u001b[0m \u001b[0mregister_hook\u001b[0m\u001b[0;34m(\u001b[0m\u001b[0mself\u001b[0m\u001b[0;34m,\u001b[0m \u001b[0mhook\u001b[0m\u001b[0;34m)\u001b[0m\u001b[0;34m:\u001b[0m\u001b[0;34m\u001b[0m\u001b[0;34m\u001b[0m\u001b[0m\n",
      "\u001b[0;32m~/.local/lib/python3.7/site-packages/torch/autograd/__init__.py\u001b[0m in \u001b[0;36mbackward\u001b[0;34m(tensors, grad_tensors, retain_graph, create_graph, grad_variables)\u001b[0m\n\u001b[1;32m     97\u001b[0m     Variable._execution_engine.run_backward(\n\u001b[1;32m     98\u001b[0m         \u001b[0mtensors\u001b[0m\u001b[0;34m,\u001b[0m \u001b[0mgrad_tensors\u001b[0m\u001b[0;34m,\u001b[0m \u001b[0mretain_graph\u001b[0m\u001b[0;34m,\u001b[0m \u001b[0mcreate_graph\u001b[0m\u001b[0;34m,\u001b[0m\u001b[0;34m\u001b[0m\u001b[0;34m\u001b[0m\u001b[0m\n\u001b[0;32m---> 99\u001b[0;31m         allow_unreachable=True)  # allow_unreachable flag\n\u001b[0m\u001b[1;32m    100\u001b[0m \u001b[0;34m\u001b[0m\u001b[0m\n\u001b[1;32m    101\u001b[0m \u001b[0;34m\u001b[0m\u001b[0m\n",
      "\u001b[0;31mKeyboardInterrupt\u001b[0m: "
     ]
    }
   ],
   "source": [
    "for i in range(10):\n",
    "    train_denoiser(i)\n",
    "    val_denoiser(i)"
   ]
  }
 ],
 "metadata": {
  "kernelspec": {
   "display_name": "Python 3",
   "language": "python",
   "name": "python3"
  },
  "language_info": {
   "codemirror_mode": {
    "name": "ipython",
    "version": 3
   },
   "file_extension": ".py",
   "mimetype": "text/x-python",
   "name": "python",
   "nbconvert_exporter": "python",
   "pygments_lexer": "ipython3",
   "version": "3.8.3"
  },
  "latex_envs": {
   "LaTeX_envs_menu_present": true,
   "autoclose": false,
   "autocomplete": true,
   "bibliofile": "biblio.bib",
   "cite_by": "apalike",
   "current_citInitial": 1,
   "eqLabelWithNumbers": true,
   "eqNumInitial": 1,
   "hotkeys": {
    "equation": "Ctrl-E",
    "itemize": "Ctrl-I"
   },
   "labels_anchors": false,
   "latex_user_defs": false,
   "report_style_numbering": false,
   "user_envs_cfg": false
  },
  "toc": {
   "base_numbering": 1,
   "nav_menu": {
    "height": "144px",
    "width": "160px"
   },
   "number_sections": true,
   "sideBar": true,
   "skip_h1_title": false,
   "title_cell": "Table of Contents",
   "title_sidebar": "Contents",
   "toc_cell": false,
   "toc_position": {},
   "toc_section_display": true,
   "toc_window_display": false
  },
  "varInspector": {
   "cols": {
    "lenName": 16,
    "lenType": 16,
    "lenVar": 40
   },
   "kernels_config": {
    "python": {
     "delete_cmd_postfix": "",
     "delete_cmd_prefix": "del ",
     "library": "var_list.py",
     "varRefreshCmd": "print(var_dic_list())"
    },
    "r": {
     "delete_cmd_postfix": ") ",
     "delete_cmd_prefix": "rm(",
     "library": "var_list.r",
     "varRefreshCmd": "cat(var_dic_list()) "
    }
   },
   "types_to_exclude": [
    "module",
    "function",
    "builtin_function_or_method",
    "instance",
    "_Feature"
   ],
   "window_display": false
  }
 },
 "nbformat": 4,
 "nbformat_minor": 4
}
