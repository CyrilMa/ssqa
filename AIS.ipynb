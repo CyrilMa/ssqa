{
 "cells": [
  {
   "cell_type": "code",
   "execution_count": null,
   "metadata": {},
   "outputs": [],
   "source": [
    "import numpy as np\n",
    "import scipy.stats as st\n",
    "import matplotlib.pyplot as plt\n",
    "\n",
    "\n",
    "\n",
    "\n",
    "# Proposal distribution: 1/Z * f_n\n",
    "p_n = st.norm(0, 1)\n",
    "\n",
    "x = np.arange(-10, 5, 0.1)\n",
    "\n",
    "n_inter = 50  # num of intermediate dists\n",
    "betas = np.linspace(0, 1, n_inter)\n",
    "\n",
    "# Sampling\n",
    "n_samples = 100\n",
    "samples = np.zeros(n_samples)\n",
    "weights = np.zeros(n_samples)\n",
    "\n",
    "for t in range(n_samples):\n",
    "    # Sample initial point from q(x)\n",
    "    x = p_n.rvs()\n",
    "    w = 1\n",
    "\n",
    "    for n in range(1, len(betas)):\n",
    "        # Transition\n",
    "        x = T(x, lambda x: f_j(x, betas[n]), n_steps=5)\n",
    "\n",
    "        # Compute weight in log space (log-sum):\n",
    "        # w *= f_{n-1}(x_{n-1}) / f_n(x_{n-1})\n",
    "        w += np.log(f_j(x, betas[n])) - np.log(f_j(x, betas[n-1]))\n",
    "\n",
    "    samples[t] = x\n",
    "    weights[t] = np.exp(w)  # Transform back using exp\n"
   ]
  },
  {
   "cell_type": "code",
   "execution_count": 3,
   "metadata": {},
   "outputs": [],
   "source": [
    "import torch\n",
    "import torch.nn as nn\n",
    "import torch.nn.functional as F"
   ]
  },
  {
   "cell_type": "code",
   "execution_count": 6,
   "metadata": {
    "scrolled": true
   },
   "outputs": [],
   "source": []
  },
  {
   "cell_type": "code",
   "execution_count": 7,
   "metadata": {},
   "outputs": [],
   "source": [
    "from torch.distributions.one_hot_categorical import OneHotCategorical\n",
    "\n"
   ]
  },
  {
   "cell_type": "code",
   "execution_count": 14,
   "metadata": {
    "scrolled": true
   },
   "outputs": [],
   "source": [
    "sample = distrib.sample((20,))"
   ]
  },
  {
   "cell_type": "code",
   "execution_count": 26,
   "metadata": {},
   "outputs": [],
   "source": []
  },
  {
   "cell_type": "code",
   "execution_count": 27,
   "metadata": {},
   "outputs": [],
   "source": [
    "def f_n(x):\n",
    "    return F.linear(sample, W)"
   ]
  },
  {
   "cell_type": "code",
   "execution_count": 63,
   "metadata": {},
   "outputs": [],
   "source": [
    "p_0 = F.softmax(torch.randn(31,21),1).view(-1)\n",
    "W = torch.rand((31*21,31*21))\n",
    "distrib = OneHotCategorical(p_0.view(31,21))\n",
    "log_p_0 = torch.log(p_0)\n",
    "\n",
    "def log_f0(x):\n",
    "    return (log_p_0*x).sum(-1)\n",
    "\n",
    "def log_fn(x):\n",
    "    return F.linear(x, W).sum(-1)\n",
    "\n",
    "def log_fj(x, beta):\n",
    "    return log_f0(x) * beta + log_fn(x)*(1-beta)\n",
    "\n",
    "def T(x, f, n_steps=10):\n",
    "    for t in range(n_steps):\n",
    "        x_prime = x + torch.randn_like(x)\n",
    "        a = f(x_prime) - f(x)\n",
    "        idx = torch.where(torch.log(torch.rand_like(a)) < a)\n",
    "        x[idx] = x_prime[idx]\n",
    "    return x\n",
    "\n",
    "n_inter = 2000  # num of intermediate dists\n",
    "betas = torch.linspace(0, 1, n_inter)\n",
    "\n",
    "# Sampling\n",
    "n_samples = 100\n",
    "samples = distrib.sample((n_samples,)).view(n_samples, -1)\n",
    "weights = torch.zeros(n_samples)\n",
    "\n",
    "last_beta = 0.\n",
    "for beta in betas[1:]:\n",
    "    # Transition\n",
    "    samples = T(samples, lambda x: log_fj(x, beta), n_steps=5)\n",
    "\n",
    "    # Compute weight in log space (log-sum):\n",
    "    weights += log_fj(samples, beta) - log_fj(samples, last_beta)\n",
    "    last_beta = beta"
   ]
  },
  {
   "cell_type": "code",
   "execution_count": 56,
   "metadata": {},
   "outputs": [
    {
     "ename": "AttributeError",
     "evalue": "module 'torch.nn.functional' has no attribute 'sum'",
     "output_type": "error",
     "traceback": [
      "\u001b[0;31m---------------------------------------------------------------------------\u001b[0m",
      "\u001b[0;31mAttributeError\u001b[0m                            Traceback (most recent call last)",
      "\u001b[0;32m<ipython-input-56-78d2f34ebf60>\u001b[0m in \u001b[0;36m<module>\u001b[0;34m\u001b[0m\n\u001b[0;32m----> 1\u001b[0;31m \u001b[0mF\u001b[0m\u001b[0;34m.\u001b[0m\u001b[0msum\u001b[0m\u001b[0;34m(\u001b[0m\u001b[0mlog_p_0\u001b[0m\u001b[0;34m*\u001b[0m\u001b[0mx\u001b[0m\u001b[0;34m)\u001b[0m\u001b[0;34m\u001b[0m\u001b[0;34m\u001b[0m\u001b[0m\n\u001b[0m",
      "\u001b[0;31mAttributeError\u001b[0m: module 'torch.nn.functional' has no attribute 'sum'"
     ]
    }
   ],
   "source": [
    "F.sum(log_p_0*x)"
   ]
  },
  {
   "cell_type": "code",
   "execution_count": 74,
   "metadata": {},
   "outputs": [],
   "source": []
  },
  {
   "cell_type": "code",
   "execution_count": 75,
   "metadata": {},
   "outputs": [
    {
     "data": {
      "text/plain": [
       "tensor([-16946082., -17002200., -16474005., -16618410., -16947744., -17127642.,\n",
       "        -16503876., -16539582., -16958064., -16785836., -17095802., -16795840.,\n",
       "        -16499058., -16773774., -16525460., -16561337., -16678338., -16709349.,\n",
       "        -16737122., -16643770., -16933270., -17033604., -16943240., -17071156.,\n",
       "        -16446879., -17065806., -16755993., -16871228., -17059512., -16767165.,\n",
       "        -16990088., -16652168., -16428339., -16884848., -16870760., -16867574.,\n",
       "        -16582169., -16995146., -16849628., -16790010., -16883712., -16201873.,\n",
       "        -16762177., -16676338., -16392031., -16616135., -16577959., -16436741.,\n",
       "        -16182006., -16888576., -16525746., -16415147., -17437320., -16670569.,\n",
       "        -16021310., -17118796., -16555226., -16632096., -16239332., -16252348.,\n",
       "        -16528051., -16620051., -16260128., -16425049., -17111796., -16408548.,\n",
       "        -17194714., -16988550., -16396600., -16678232., -16593203., -16318747.,\n",
       "        -16673906., -16979738., -16762642., -16724323., -17021068., -16650022.,\n",
       "        -16507358., -16674195., -16889156., -16986216., -16421870., -17094234.,\n",
       "        -16893676., -16195962., -16265146., -16747067., -16485283., -16474460.,\n",
       "        -16819186., -16758851., -16994852., -16891448., -16782196., -16461431.,\n",
       "        -16729913., -17200574., -16508508., -16675967.])"
      ]
     },
     "execution_count": 75,
     "metadata": {},
     "output_type": "execute_result"
    }
   ],
   "source": [
    "class AIS(object):\n",
    "    def __init__(self, log_distrib_0, log_distrib_n, n_inter = 2000, n_samples = 20):\n",
    "        self."
   ]
  }
 ],
 "metadata": {
  "kernelspec": {
   "display_name": "Python 3",
   "language": "python",
   "name": "python3"
  },
  "language_info": {
   "codemirror_mode": {
    "name": "ipython",
    "version": 3
   },
   "file_extension": ".py",
   "mimetype": "text/x-python",
   "name": "python",
   "nbconvert_exporter": "python",
   "pygments_lexer": "ipython3",
   "version": "3.7.4"
  }
 },
 "nbformat": 4,
 "nbformat_minor": 2
}
